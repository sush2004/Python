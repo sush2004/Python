{
  "nbformat": 4,
  "nbformat_minor": 0,
  "metadata": {
    "colab": {
      "name": "Chemble_use_case.ipynb",
      "provenance": [],
      "collapsed_sections": [],
      "authorship_tag": "ABX9TyMZf09jYZ9MKI0mAHE5KVPr",
      "include_colab_link": true
    },
    "kernelspec": {
      "name": "python3",
      "display_name": "Python 3"
    }
  },
  "cells": [
    {
      "cell_type": "markdown",
      "metadata": {
        "id": "view-in-github",
        "colab_type": "text"
      },
      "source": [
        "<a href=\"https://colab.research.google.com/github/sush2004/Python/blob/main/Chemble_use_case.ipynb\" target=\"_parent\"><img src=\"https://colab.research.google.com/assets/colab-badge.svg\" alt=\"Open In Colab\"/></a>"
      ]
    },
    {
      "cell_type": "code",
      "metadata": {
        "id": "yJsW6Iai6VXu"
      },
      "source": [
        "from PIL import Image\r\n",
        "import requests\r\n",
        "%pylab inline\r\n",
        "import matplotlib.pyplot as plt\r\n",
        "import matplotlib.image as mpimg\r\n",
        "\r\n",
        "A= \"https://www.ebi.ac.uk/chembl/api/data/image/\"\r\n",
        "name = input(\"Enter chem name\")\r\n",
        "url = A + name + \".svg\"\r\n",
        "print(url)\r\n",
        "open(url)"
      ],
      "execution_count": null,
      "outputs": []
    },
    {
      "cell_type": "code",
      "metadata": {
        "id": "SCuoQA_49Zm6"
      },
      "source": [
        "!pip install matplotlib"
      ],
      "execution_count": null,
      "outputs": []
    },
    {
      "cell_type": "markdown",
      "metadata": {
        "id": "Lq2b7omSXswI"
      },
      "source": [
        "# **1.1. Search molecule by synonym**"
      ]
    },
    {
      "cell_type": "code",
      "metadata": {
        "id": "538PLftGLoxK"
      },
      "source": [
        "from chembl_webresource_client.new_client import new_client\r\n",
        "import pandas as pd\r\n",
        "molecule = new_client.molecule\r\n",
        "res = molecule.search('viagra')\r\n",
        "res"
      ],
      "execution_count": null,
      "outputs": []
    },
    {
      "cell_type": "code",
      "metadata": {
        "id": "s-QD92yeLtGy"
      },
      "source": [
        "!pip install chembl-webresource-client\r\n",
        "!pip install pandas \r\n",
        "!pip install cairosvg"
      ],
      "execution_count": null,
      "outputs": []
    },
    {
      "cell_type": "markdown",
      "metadata": {
        "id": "lc-AbniOr_kS"
      },
      "source": [
        "# **7. Find compounds similar to given SMILES query with similarity threshold of 85%:**"
      ]
    },
    {
      "cell_type": "code",
      "metadata": {
        "id": "JS5A9-v9cWaO"
      },
      "source": [
        "from chembl_webresource_client.new_client import new_client\r\n",
        "import pandas as pd\r\n",
        "similarity = new_client.similarity\r\n",
        "res = similarity.filter(smiles=\"CO[C@@H](CCC#C\\C=C/CCCC(C)CCCCC=C)C(=O)[O-]\", similarity=85)\r\n",
        "res=pd.DataFrame(res)\r\n",
        "res"
      ],
      "execution_count": null,
      "outputs": []
    },
    {
      "cell_type": "markdown",
      "metadata": {
        "id": "oQ-FB9MSgsr9"
      },
      "source": [
        "# **21. Get all approved drugs:**"
      ]
    },
    {
      "cell_type": "code",
      "metadata": {
        "id": "Ry7ctqz8ecOT"
      },
      "source": [
        "import pandas as pd\r\n",
        "from chembl_webresource_client.new_client import new_client\r\n",
        "molecule = new_client.molecule\r\n",
        "approved_drugs = molecule.filter(max_phase=4)\r\n",
        "res=pd.DataFrame(approved_drugs)\r\n",
        "res.to_csv('approved_drugs')"
      ],
      "execution_count": 3,
      "outputs": []
    },
    {
      "cell_type": "markdown",
      "metadata": {
        "id": "y2zYw3ZDghUP"
      },
      "source": [
        "# **22. Get approved drugs for disease**\r\n",
        "\r\n",
        "\r\n",
        "\r\n",
        "\r\n"
      ]
    },
    {
      "cell_type": "code",
      "metadata": {
        "colab": {
          "base_uri": "https://localhost:8080/",
          "height": 106
        },
        "id": "3u_MYzwKgQgx",
        "outputId": "7031f99f-7121-4254-95b2-8ec708155fb0"
      },
      "source": [
        "from chembl_webresource_client.new_client import new_client\r\n",
        "import pandas as pd\r\n",
        "drug_indication = new_client.drug_indication\r\n",
        "molecules = new_client.molecule\r\n",
        "lung_cancer_ind = drug_indication.filter(efo_term__icontains=\"LUNG CARCINOMA\")\r\n",
        "lung_cancer_mols = molecules.filter(molecule_chembl_id__in=[x['molecule_chembl_id'] for x in lung_cancer_ind])\r\n",
        "res=pd.DataFrame(lung_cancer_mols)\r\n",
        "res =res[['atc_classifications','first_approval','molecule_chembl_id','pref_name']]\r\n",
        "res.head(2)\r\n"
      ],
      "execution_count": 46,
      "outputs": [
        {
          "output_type": "execute_result",
          "data": {
            "text/html": [
              "<div>\n",
              "<style scoped>\n",
              "    .dataframe tbody tr th:only-of-type {\n",
              "        vertical-align: middle;\n",
              "    }\n",
              "\n",
              "    .dataframe tbody tr th {\n",
              "        vertical-align: top;\n",
              "    }\n",
              "\n",
              "    .dataframe thead th {\n",
              "        text-align: right;\n",
              "    }\n",
              "</style>\n",
              "<table border=\"1\" class=\"dataframe\">\n",
              "  <thead>\n",
              "    <tr style=\"text-align: right;\">\n",
              "      <th></th>\n",
              "      <th>atc_classifications</th>\n",
              "      <th>first_approval</th>\n",
              "      <th>molecule_chembl_id</th>\n",
              "      <th>pref_name</th>\n",
              "    </tr>\n",
              "  </thead>\n",
              "  <tbody>\n",
              "    <tr>\n",
              "      <th>0</th>\n",
              "      <td>[L04AA10, S01XA23]</td>\n",
              "      <td>1999.0</td>\n",
              "      <td>CHEMBL413</td>\n",
              "      <td>SIROLIMUS</td>\n",
              "    </tr>\n",
              "    <tr>\n",
              "      <th>1</th>\n",
              "      <td>[L01DB03]</td>\n",
              "      <td>1999.0</td>\n",
              "      <td>CHEMBL417</td>\n",
              "      <td>EPIRUBICIN</td>\n",
              "    </tr>\n",
              "  </tbody>\n",
              "</table>\n",
              "</div>"
            ],
            "text/plain": [
              "  atc_classifications  first_approval molecule_chembl_id   pref_name\n",
              "0  [L04AA10, S01XA23]          1999.0          CHEMBL413   SIROLIMUS\n",
              "1           [L01DB03]          1999.0          CHEMBL417  EPIRUBICIN"
            ]
          },
          "metadata": {
            "tags": []
          },
          "execution_count": 46
        }
      ]
    },
    {
      "cell_type": "markdown",
      "metadata": {
        "id": "6SlxYWvUqoIB"
      },
      "source": [
        "# **13. Get a single molecule by ChEMBL ID:**"
      ]
    },
    {
      "cell_type": "code",
      "metadata": {
        "id": "0RX5X8_XoWHI"
      },
      "source": [
        "from chembl_webresource_client.new_client import new_client\r\n",
        "import pandas as pd\r\n",
        "molecule = new_client.molecule\r\n",
        "res = molecule.get('res')\r\n",
        "res=pd.DataFrame(res)\r\n",
        "res.head()\r\n"
      ],
      "execution_count": null,
      "outputs": []
    },
    {
      "cell_type": "markdown",
      "metadata": {
        "id": "jKTfCqQdslqf"
      },
      "source": [
        "# **19. Obtain the pChEMBL value for compound:**"
      ]
    },
    {
      "cell_type": "code",
      "metadata": {
        "id": "s8-S4MZ3sRhs"
      },
      "source": [
        "import pandas as pd\r\n",
        "from chembl_webresource_client.new_client import new_client\r\n",
        "activities = new_client.activity\r\n",
        "res = activities.filter(molecule_chembl_id=\"CHEMBL25\", pchembl_value__isnull=False)\r\n",
        "res=pd.DataFrame(res)\r\n",
        "res.head()"
      ],
      "execution_count": null,
      "outputs": []
    },
    {
      "cell_type": "markdown",
      "metadata": {
        "id": "juA9a52-p6tD"
      },
      "source": [
        "# **10. Perform substructure search using SMILES:**"
      ]
    },
    {
      "cell_type": "code",
      "metadata": {
        "id": "_eQ74arGponF"
      },
      "source": [
        "from chembl_webresource_client.new_client import new_client\r\n",
        "import pandas as pd\r\n",
        "substructure = new_client.substructure\r\n",
        "res = substructure.filter(smiles=\"CN(CCCN)c1cccc2ccccc12\")\r\n",
        "res=pd.DataFrame(res)\r\n",
        "res.head()"
      ],
      "execution_count": null,
      "outputs": []
    },
    {
      "cell_type": "markdown",
      "metadata": {
        "id": "eulHgluO0Btf"
      },
      "source": [
        "# **26.Return molecules with molecular weight <= 300: (in daltons unit)**\r\n"
      ]
    },
    {
      "cell_type": "code",
      "metadata": {
        "id": "qoDC8r2qzNXF"
      },
      "source": [
        "from chembl_webresource_client.new_client import new_client\r\n",
        "import pandas as pd\r\n",
        "molecule = new_client.molecule\r\n",
        "light_molecules = molecule.filter(molecule_properties__mw_freebase__lte=300)\r\n",
        "res=pd.DataFrame(light_molecules)\r\n",
        "res.head(2)"
      ],
      "execution_count": null,
      "outputs": []
    },
    {
      "cell_type": "markdown",
      "metadata": {
        "id": "aGOA9d770jo-"
      },
      "source": [
        "# **33.Get drug name by approval year:**"
      ]
    },
    {
      "cell_type": "code",
      "metadata": {
        "id": "WQ-6yz2yzvzB"
      },
      "source": [
        "from chembl_webresource_client.new_client import new_client\r\n",
        "import pandas as pd\r\n",
        "drug = new_client.drug\r\n",
        "res = drug.filter(usan_stem=\"-azosin\")\r\n",
        "res=pd.DataFrame(res)\r\n",
        "res.head()"
      ],
      "execution_count": null,
      "outputs": []
    },
    {
      "cell_type": "markdown",
      "metadata": {
        "id": "qdiSimuI2bUR"
      },
      "source": [
        "# **34.Get tissue by BTO ID:**"
      ]
    },
    {
      "cell_type": "code",
      "metadata": {
        "colab": {
          "base_uri": "https://localhost:8080/",
          "height": 77
        },
        "id": "L1sI8lVM17jP",
        "outputId": "bd85adf6-a6b5-4a42-dbf3-c4a15f143ebf"
      },
      "source": [
        "from chembl_webresource_client.new_client import new_client\r\n",
        "import pandas as pd\r\n",
        "tissue = new_client.tissue\r\n",
        "res = tissue.filter(bto_id=\"BTO:0001073\")\r\n",
        "res=pd.DataFrame(res)\r\n",
        "res"
      ],
      "execution_count": 53,
      "outputs": [
        {
          "output_type": "execute_result",
          "data": {
            "text/html": [
              "<div>\n",
              "<style scoped>\n",
              "    .dataframe tbody tr th:only-of-type {\n",
              "        vertical-align: middle;\n",
              "    }\n",
              "\n",
              "    .dataframe tbody tr th {\n",
              "        vertical-align: top;\n",
              "    }\n",
              "\n",
              "    .dataframe thead th {\n",
              "        text-align: right;\n",
              "    }\n",
              "</style>\n",
              "<table border=\"1\" class=\"dataframe\">\n",
              "  <thead>\n",
              "    <tr style=\"text-align: right;\">\n",
              "      <th></th>\n",
              "      <th>bto_id</th>\n",
              "      <th>caloha_id</th>\n",
              "      <th>efo_id</th>\n",
              "      <th>pref_name</th>\n",
              "      <th>tissue_chembl_id</th>\n",
              "      <th>uberon_id</th>\n",
              "    </tr>\n",
              "  </thead>\n",
              "  <tbody>\n",
              "    <tr>\n",
              "      <th>0</th>\n",
              "      <td>BTO:0001073</td>\n",
              "      <td>TS-0798</td>\n",
              "      <td>EFO:0000857</td>\n",
              "      <td>Pituitary gland</td>\n",
              "      <td>CHEMBL3638173</td>\n",
              "      <td>UBERON:0000007</td>\n",
              "    </tr>\n",
              "  </tbody>\n",
              "</table>\n",
              "</div>"
            ],
            "text/plain": [
              "        bto_id caloha_id  ... tissue_chembl_id       uberon_id\n",
              "0  BTO:0001073   TS-0798  ...    CHEMBL3638173  UBERON:0000007\n",
              "\n",
              "[1 rows x 6 columns]"
            ]
          },
          "metadata": {
            "tags": []
          },
          "execution_count": 53
        }
      ]
    },
    {
      "cell_type": "markdown",
      "metadata": {
        "id": "Gg6zpIHq2wer"
      },
      "source": [
        "# **35. Get tissue by Caloha id:**"
      ]
    },
    {
      "cell_type": "code",
      "metadata": {
        "colab": {
          "base_uri": "https://localhost:8080/",
          "height": 77
        },
        "id": "dMBJmB-_2myy",
        "outputId": "3adb958f-a641-4fda-b0a6-1cc7568c149a"
      },
      "source": [
        "from chembl_webresource_client.new_client import new_client\r\n",
        "import pandas as pd\r\n",
        "tissue = new_client.tissue\r\n",
        "res = tissue.filter(caloha_id=\"TS-0490\")\r\n",
        "res=pd.DataFrame(res)\r\n",
        "res"
      ],
      "execution_count": 54,
      "outputs": [
        {
          "output_type": "execute_result",
          "data": {
            "text/html": [
              "<div>\n",
              "<style scoped>\n",
              "    .dataframe tbody tr th:only-of-type {\n",
              "        vertical-align: middle;\n",
              "    }\n",
              "\n",
              "    .dataframe tbody tr th {\n",
              "        vertical-align: top;\n",
              "    }\n",
              "\n",
              "    .dataframe thead th {\n",
              "        text-align: right;\n",
              "    }\n",
              "</style>\n",
              "<table border=\"1\" class=\"dataframe\">\n",
              "  <thead>\n",
              "    <tr style=\"text-align: right;\">\n",
              "      <th></th>\n",
              "      <th>bto_id</th>\n",
              "      <th>caloha_id</th>\n",
              "      <th>efo_id</th>\n",
              "      <th>pref_name</th>\n",
              "      <th>tissue_chembl_id</th>\n",
              "      <th>uberon_id</th>\n",
              "    </tr>\n",
              "  </thead>\n",
              "  <tbody>\n",
              "    <tr>\n",
              "      <th>0</th>\n",
              "      <td>BTO:0000648</td>\n",
              "      <td>TS-0490</td>\n",
              "      <td>EFO:0000834</td>\n",
              "      <td>Intestine</td>\n",
              "      <td>CHEMBL3638176</td>\n",
              "      <td>UBERON:0000160</td>\n",
              "    </tr>\n",
              "  </tbody>\n",
              "</table>\n",
              "</div>"
            ],
            "text/plain": [
              "        bto_id caloha_id  ... tissue_chembl_id       uberon_id\n",
              "0  BTO:0000648   TS-0490  ...    CHEMBL3638176  UBERON:0000160\n",
              "\n",
              "[1 rows x 6 columns]"
            ]
          },
          "metadata": {
            "tags": []
          },
          "execution_count": 54
        }
      ]
    },
    {
      "cell_type": "markdown",
      "metadata": {
        "id": "MQJnyQlA6Hdg"
      },
      "source": [
        "# **36. Get tissue by Uberon id:**"
      ]
    },
    {
      "cell_type": "code",
      "metadata": {
        "colab": {
          "base_uri": "https://localhost:8080/",
          "height": 77
        },
        "id": "3AMKb6JR5261",
        "outputId": "8524efc7-56e0-42be-bcb3-c8e767305e2b"
      },
      "source": [
        "from chembl_webresource_client.new_client import new_client\r\n",
        "import pandas as pd\r\n",
        "tissue = new_client.tissue\r\n",
        "res = tissue.filter(uberon_id=\"UBERON:0000173\")\r\n",
        "res=pd.DataFrame(res)\r\n",
        "res"
      ],
      "execution_count": 57,
      "outputs": [
        {
          "output_type": "execute_result",
          "data": {
            "text/html": [
              "<div>\n",
              "<style scoped>\n",
              "    .dataframe tbody tr th:only-of-type {\n",
              "        vertical-align: middle;\n",
              "    }\n",
              "\n",
              "    .dataframe tbody tr th {\n",
              "        vertical-align: top;\n",
              "    }\n",
              "\n",
              "    .dataframe thead th {\n",
              "        text-align: right;\n",
              "    }\n",
              "</style>\n",
              "<table border=\"1\" class=\"dataframe\">\n",
              "  <thead>\n",
              "    <tr style=\"text-align: right;\">\n",
              "      <th></th>\n",
              "      <th>bto_id</th>\n",
              "      <th>caloha_id</th>\n",
              "      <th>efo_id</th>\n",
              "      <th>pref_name</th>\n",
              "      <th>tissue_chembl_id</th>\n",
              "      <th>uberon_id</th>\n",
              "    </tr>\n",
              "  </thead>\n",
              "  <tbody>\n",
              "    <tr>\n",
              "      <th>0</th>\n",
              "      <td>BTO:0000068</td>\n",
              "      <td>TS-0034</td>\n",
              "      <td>None</td>\n",
              "      <td>Amniotic fluid</td>\n",
              "      <td>CHEMBL3638177</td>\n",
              "      <td>UBERON:0000173</td>\n",
              "    </tr>\n",
              "  </tbody>\n",
              "</table>\n",
              "</div>"
            ],
            "text/plain": [
              "        bto_id caloha_id  ... tissue_chembl_id       uberon_id\n",
              "0  BTO:0000068   TS-0034  ...    CHEMBL3638177  UBERON:0000173\n",
              "\n",
              "[1 rows x 6 columns]"
            ]
          },
          "metadata": {
            "tags": []
          },
          "execution_count": 57
        }
      ]
    },
    {
      "cell_type": "markdown",
      "metadata": {
        "id": "RQ9qD53R6b0x"
      },
      "source": [
        "# **37. Get tissue by name:**"
      ]
    },
    {
      "cell_type": "code",
      "metadata": {
        "id": "di8SwEhL6QMb"
      },
      "source": [
        "from chembl_webresource_client.new_client import new_client\r\n",
        "import pandas as pd\r\n",
        "tissue = new_client.tissue\r\n",
        "res = tissue.filter(pref_name__istartswith='blood')\r\n",
        "res=pd.DataFrame(res)\r\n",
        "res"
      ],
      "execution_count": null,
      "outputs": []
    },
    {
      "cell_type": "markdown",
      "metadata": {
        "id": "nEZe9s7y5Apv"
      },
      "source": [
        "# **38. Search documents for cytokine:**  # need more research"
      ]
    },
    {
      "cell_type": "code",
      "metadata": {
        "colab": {
          "base_uri": "https://localhost:8080/"
        },
        "id": "9k5GK1Oa421I",
        "outputId": "668288f9-f5c0-4b8b-bd89-957fa206fc76"
      },
      "source": [
        "from chembl_webresource_client.new_client import new_client\r\n",
        "document = new_client.document\r\n",
        "res = document.search('cytokine')\r\n",
        "res"
      ],
      "execution_count": 55,
      "outputs": [
        {
          "output_type": "execute_result",
          "data": {
            "text/plain": [
              "[{'abstract': 'Tripterine and closely related triterpenoid derivatives as IL-1 beta release inhibitors are discussed.', 'authors': 'Huang FC, Chan WK, Moriarty KJ, Zhang DC, Chang MN, He W, Yu KT, Zilberstein A.', 'doc_type': 'PUBLICATION', 'document_chembl_id': 'CHEMBL1130892', 'doi': '10.1016/s0960-894x(98)00331-x', 'doi_chembl': None, 'first_page': '1883', 'issue': '14', 'journal': 'Bioorg. Med. Chem. Lett.', 'journal_full_title': 'Bioorganic & medicinal chemistry letters.', 'last_page': '1886', 'patent_id': None, 'pubmed_id': 9873452, 'score': 15.0, 'src_id': 1, 'title': 'Novel cytokine release inhibitors. Part I: Triterpenes.', 'volume': '8', 'year': 1998}, {'abstract': 'Steroidal derivatives as IL-1 beta release inhibitors are discussed.', 'authors': 'He W, Huang FC, Morytko M, Jariwala N, Yu KT.', 'doc_type': 'PUBLICATION', 'document_chembl_id': 'CHEMBL1130623', 'doi': '10.1016/s0960-894x(98)00521-6', 'doi_chembl': None, 'first_page': '2825', 'issue': '20', 'journal': 'Bioorg. Med. Chem. Lett.', 'journal_full_title': 'Bioorganic & medicinal chemistry letters.', 'last_page': '2828', 'patent_id': None, 'pubmed_id': 9873630, 'score': 15.0, 'src_id': 1, 'title': 'Novel cytokine release inhibitors. Part II: Steroids.', 'volume': '8', 'year': 1998}, {'abstract': 'We describe herein the synthesis and biological activity of two indoloazepines that are structurally related to the marine sponge metabolite hymenialdisine. The natural product hymenialdisine was found to be a potent inhibitor of interleukin-2 (IC(50) = 2.4 microM) and tumor necrosis factor alpha (IC(50) = 1.4 microM) production. One of the hymenialdisine derived indoloazepines was found to also inhibit interleukin-2 (IC(50) = 3.5 microM) and tumor necrosis factor alpha (IC(50) = 8.2 microM) production.', 'authors': 'Sharma V, Lansdell TA, Jin G, Tepe JJ.', 'doc_type': 'PUBLICATION', 'document_chembl_id': 'CHEMBL1148362', 'doi': '10.1021/jm040013d', 'doi_chembl': None, 'first_page': '3700', 'issue': '14', 'journal': 'J. Med. Chem.', 'journal_full_title': 'Journal of medicinal chemistry.', 'last_page': '3703', 'patent_id': None, 'pubmed_id': 15214798, 'score': 15.0, 'src_id': 1, 'title': 'Inhibition of cytokine production by hymenialdisine derivatives.', 'volume': '47', 'year': 2004}, {'abstract': 'Huisgen [3+2] dipolar cycloaddition of 6″-azido-6″-deoxy-α-galactosyl ceramide 11 with a range of alkynes (or a benzyne precursor) yielded a series of triazole-containing α-galactosyl ceramide (α-GalCer) analogues in high yield. These α-GalCer analogues and the precursor azide 11 were tested for their ability to activate iNKT cells and stimulate IL-2 cytokine secretion in vitro, and IFN-γ and IL-4 cytokine secretion in vivo. Some of these analogues, specifically 11, 12b, 12f and 13, were more potent IL-2 stimulators than the prototypical CD1d agonist, α-GalCer 1. In terms of any cytokine bias, most of the triazole-containing analogues exhibited a small Th2 cytokine-biasing response relative to that shown by α-GalCer 1. In contrast, the cycloaddition precursor, namely azide 11, provided a small Th1 cytokine-biasing response.', 'authors': 'Jervis PJ, Graham LM, Foster EL, Cox LR, Porcelli SA, Besra GS.', 'doc_type': 'PUBLICATION', 'document_chembl_id': 'CHEMBL2057201', 'doi': '10.1016/j.bmcl.2012.05.009', 'doi_chembl': None, 'first_page': '4348', 'issue': '13', 'journal': 'Bioorg. Med. Chem. Lett.', 'journal_full_title': 'Bioorganic & medicinal chemistry letters.', 'last_page': '4352', 'patent_id': None, 'pubmed_id': 22652050, 'score': 15.0, 'src_id': 1, 'title': 'New CD1d agonists: synthesis and biological activity of 6″-triazole-substituted α-galactosyl ceramides.', 'volume': '22', 'year': 2012}, '...(remaining elements truncated)...']"
            ]
          },
          "metadata": {
            "tags": []
          },
          "execution_count": 55
        }
      ]
    },
    {
      "cell_type": "code",
      "metadata": {
        "id": "tqZn8AK320IU"
      },
      "source": [
        ""
      ],
      "execution_count": null,
      "outputs": []
    },
    {
      "cell_type": "code",
      "metadata": {
        "colab": {
          "base_uri": "https://localhost:8080/"
        },
        "id": "CsQnY0sfNtBo",
        "outputId": "77ac8813-e20b-45e4-fdca-3c8af71e70ac"
      },
      "source": [
        "from chembl_webresource_client.new_client import *\r\n",
        "import pandas as pd\r\n",
        "import cairosvg\r\n",
        "import os\r\n",
        "\r\n",
        "molecule = new_client.molecule\r\n",
        "res = molecule.search('Paracetamole')\r\n",
        "res = pd.DataFrame(res)\r\n",
        "\r\n",
        "res =res[['molecule_chembl_id','pref_name','molecule_structures']]\r\n",
        "\r\n",
        "res= res.astype({'molecule_structures': str})\r\n",
        "#res.info() \r\n",
        "res['molecule_structures'] = res['molecule_structures'].astype('string')\r\n",
        "res['molecule_structures'][0]\r\n",
        "res['molecule_structures'] = res['molecule_structures'].apply(lambda x: (x.split(\":\")[1]).split(\",\")[0])\r\n",
        "res\r\n",
        "for x in res.values:\r\n",
        "  url = \"https://www.ebi.ac.uk/chembl/api/data/image/\" + x[0] + \".svg\"\r\n",
        "  mol_str = x[0] + \".png\"\r\n",
        "  print(url)\r\n"
      ],
      "execution_count": 87,
      "outputs": [
        {
          "output_type": "stream",
          "text": [
            "https://www.ebi.ac.uk/chembl/api/data/image/CHEMBL112.svg\n",
            "https://www.ebi.ac.uk/chembl/api/data/image/CHEMBL3544802.svg\n",
            "https://www.ebi.ac.uk/chembl/api/data/image/CHEMBL1647.svg\n"
          ],
          "name": "stdout"
        }
      ]
    },
    {
      "cell_type": "code",
      "metadata": {
        "id": "MEg16-_vWBaO"
      },
      "source": [
        "import pandas as pd\r\n",
        "molecule = new_client.molecule\r\n",
        "res = molecule.search('Paracetamole')\r\n",
        "res = pd.DataFrame(res)\r\n",
        "res =res[['molecule_chembl_id''pref_name','molecule_structures']]\r\n",
        "res= res.astype({'molecule_structures': str})\r\n",
        "res['molecule_structures'] = res['molecule_structures'].astype('string')\r\n",
        "res['molecule_structures']\r\n",
        "\r\n",
        "res['molecule_structures'] = res['molecule_structures'].apply(lambda x: (x.split(\":\")[1]).split(\",\")[0])\r\n",
        "\r\n",
        "for x in res.values:\r\n",
        "  print('Id : {} , Name : {} , Structure : {}'.format(x[0], x[1], x[2]))"
      ],
      "execution_count": null,
      "outputs": []
    },
    {
      "cell_type": "code",
      "metadata": {
        "id": "PBBT_tZ7zjzY"
      },
      "source": [
        "import cairosvg\r\n",
        "from PIL import Image\r\n",
        "import requests\r\n",
        "from io import BytesIO\r\n",
        "\r\n",
        "url = \"https://www.ebi.ac.uk/chembl/api/data/image/\" + \"CHEMBL1584351\" + \".svg\"\r\n",
        "cairosvg.svg2png(url=url, write_to=\"CHEMBL1584351.jpg\")\r\n",
        "aux_im = Image.open('CHEMBL1584351.jpg')\r\n",
        "aux_im\r\n"
      ],
      "execution_count": null,
      "outputs": []
    }
  ]
}