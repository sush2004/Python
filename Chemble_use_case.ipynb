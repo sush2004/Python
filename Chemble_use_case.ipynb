{
  "nbformat": 4,
  "nbformat_minor": 0,
  "metadata": {
    "colab": {
      "name": "Chemble_use_case.ipynb",
      "provenance": [],
      "collapsed_sections": [],
      "authorship_tag": "ABX9TyN1IqJlrY9zPW3TJQwDNP16",
      "include_colab_link": true
    },
    "kernelspec": {
      "name": "python3",
      "display_name": "Python 3"
    }
  },
  "cells": [
    {
      "cell_type": "markdown",
      "metadata": {
        "id": "view-in-github",
        "colab_type": "text"
      },
      "source": [
        "<a href=\"https://colab.research.google.com/github/sush2004/Python/blob/main/Chemble_use_case.ipynb\" target=\"_parent\"><img src=\"https://colab.research.google.com/assets/colab-badge.svg\" alt=\"Open In Colab\"/></a>"
      ]
    },
    {
      "cell_type": "code",
      "metadata": {
        "id": "9bnyBfUdtAWC"
      },
      "source": [
        "pip install requests"
      ],
      "execution_count": null,
      "outputs": []
    },
    {
      "cell_type": "code",
      "metadata": {
        "id": "2sjAd_Sr3mK3"
      },
      "source": [
        "import requests\r\n",
        "from bs4 import BeautifulSoup as BS\r\n",
        "import urllib.request\r\n",
        "url = \"https://www.ebi.ac.uk/chembl/g/#browse/compounds/filter/_metadata.compound_records.src_id%3A52\"\r\n",
        "response = requests.get(url)\r\n",
        "soup = BS(response.content, \"html.parser\")\r\n",
        "images = soup.find_all(\"svg\")\r\n",
        "number = 0\r\n",
        "for  image in images:\r\n",
        "\r\n"
      ],
      "execution_count": null,
      "outputs": []
    },
    {
      "cell_type": "code",
      "metadata": {
        "id": "yJsW6Iai6VXu"
      },
      "source": [
        "from PIL import Image\r\n",
        "import requests\r\n",
        "%pylab inline\r\n",
        "import matplotlib.pyplot as plt\r\n",
        "import matplotlib.image as mpimg\r\n",
        "\r\n",
        "A= \"https://www.ebi.ac.uk/chembl/api/data/image/\"\r\n",
        "name = input(\"Enter chem name\")\r\n",
        "url = A + name + \".svg\"\r\n",
        "print(url)\r\n",
        "open(url)"
      ],
      "execution_count": null,
      "outputs": []
    },
    {
      "cell_type": "code",
      "metadata": {
        "colab": {
          "base_uri": "https://localhost:8080/"
        },
        "id": "SCuoQA_49Zm6",
        "outputId": "ed483d95-6473-46ff-da73-054c406a04d6"
      },
      "source": [
        "!pip install matplotlib"
      ],
      "execution_count": null,
      "outputs": [
        {
          "output_type": "stream",
          "text": [
            "Requirement already satisfied: matplotlib in /usr/local/lib/python3.6/dist-packages (3.2.2)\n",
            "Requirement already satisfied: cycler>=0.10 in /usr/local/lib/python3.6/dist-packages (from matplotlib) (0.10.0)\n",
            "Requirement already satisfied: python-dateutil>=2.1 in /usr/local/lib/python3.6/dist-packages (from matplotlib) (2.8.1)\n",
            "Requirement already satisfied: numpy>=1.11 in /usr/local/lib/python3.6/dist-packages (from matplotlib) (1.19.5)\n",
            "Requirement already satisfied: kiwisolver>=1.0.1 in /usr/local/lib/python3.6/dist-packages (from matplotlib) (1.3.1)\n",
            "Requirement already satisfied: pyparsing!=2.0.4,!=2.1.2,!=2.1.6,>=2.0.1 in /usr/local/lib/python3.6/dist-packages (from matplotlib) (2.4.7)\n",
            "Requirement already satisfied: six in /usr/local/lib/python3.6/dist-packages (from cycler>=0.10->matplotlib) (1.15.0)\n"
          ],
          "name": "stdout"
        }
      ]
    },
    {
      "cell_type": "code",
      "metadata": {
        "id": "538PLftGLoxK"
      },
      "source": [
        "from chembl_webresource_client.new_client import new_client\r\n",
        "import pandas as pd\r\n",
        "molecule = new_client.molecule\r\n",
        "res = molecule.search('viagra')\r\n",
        "res"
      ],
      "execution_count": null,
      "outputs": []
    },
    {
      "cell_type": "code",
      "metadata": {
        "id": "6tW8Uc9BRQCw"
      },
      "source": [
        "!pip install chembl-webresource-client\r\n",
        "\r\n",
        "data = {'Month': ['January','February','March','April','May','June','July','August','September','October','November','December'],\r\n",
        "        'Days in Month': [31,28,31,30,31,30,31,31,30,31,30,31]}\r\n",
        "\r\n",
        "df = pd.DataFrame(data, columns = ['Month', 'Days in Month'])\r\n",
        "\r\n",
        "contain_values = df[df['Month'].str.contains('')]\r\n",
        "print (contain_values)"
      ],
      "execution_count": null,
      "outputs": []
    },
    {
      "cell_type": "code",
      "metadata": {
        "colab": {
          "base_uri": "https://localhost:8080/"
        },
        "id": "NG5MN8toQ5D5",
        "outputId": "1ab8b2bc-7035-46bf-e576-75fb4ef82c7e"
      },
      "source": [
        "pi"
      ],
      "execution_count": null,
      "outputs": [
        {
          "output_type": "stream",
          "text": [
            "0     CCCc1nn(C)c2\n",
            "1                 \n",
            "2                 \n",
            "Name: molecule_structures, dtype: object\n"
          ],
          "name": "stdout"
        }
      ]
    },
    {
      "cell_type": "code",
      "metadata": {
        "id": "s-QD92yeLtGy",
        "colab": {
          "base_uri": "https://localhost:8080/"
        },
        "outputId": "f143e70f-1c19-4b67-a819-440bed4a8ed7"
      },
      "source": [
        "!pip install chembl-webresource-client\r\n",
        "!pip install pandas \r\n",
        "!pip install cairosvg"
      ],
      "execution_count": 17,
      "outputs": [
        {
          "output_type": "stream",
          "text": [
            "Requirement already satisfied: chembl-webresource-client in /usr/local/lib/python3.6/dist-packages (0.10.2)\n",
            "Requirement already satisfied: urllib3 in /usr/local/lib/python3.6/dist-packages (from chembl-webresource-client) (1.24.3)\n",
            "Requirement already satisfied: requests-cache>=0.4.7 in /usr/local/lib/python3.6/dist-packages (from chembl-webresource-client) (0.5.2)\n",
            "Requirement already satisfied: easydict in /usr/local/lib/python3.6/dist-packages (from chembl-webresource-client) (1.9)\n",
            "Requirement already satisfied: requests>=2.18.4 in /usr/local/lib/python3.6/dist-packages (from chembl-webresource-client) (2.23.0)\n",
            "Requirement already satisfied: idna<3,>=2.5 in /usr/local/lib/python3.6/dist-packages (from requests>=2.18.4->chembl-webresource-client) (2.10)\n",
            "Requirement already satisfied: chardet<4,>=3.0.2 in /usr/local/lib/python3.6/dist-packages (from requests>=2.18.4->chembl-webresource-client) (3.0.4)\n",
            "Requirement already satisfied: certifi>=2017.4.17 in /usr/local/lib/python3.6/dist-packages (from requests>=2.18.4->chembl-webresource-client) (2020.12.5)\n",
            "Requirement already satisfied: pandas in /usr/local/lib/python3.6/dist-packages (1.1.5)\n",
            "Requirement already satisfied: numpy>=1.15.4 in /usr/local/lib/python3.6/dist-packages (from pandas) (1.19.5)\n",
            "Requirement already satisfied: python-dateutil>=2.7.3 in /usr/local/lib/python3.6/dist-packages (from pandas) (2.8.1)\n",
            "Requirement already satisfied: pytz>=2017.2 in /usr/local/lib/python3.6/dist-packages (from pandas) (2018.9)\n",
            "Requirement already satisfied: six>=1.5 in /usr/local/lib/python3.6/dist-packages (from python-dateutil>=2.7.3->pandas) (1.15.0)\n",
            "Requirement already satisfied: cairosvg in /usr/local/lib/python3.6/dist-packages (2.5.1)\n",
            "Requirement already satisfied: cssselect2 in /usr/local/lib/python3.6/dist-packages (from cairosvg) (0.4.1)\n",
            "Requirement already satisfied: tinycss2 in /usr/local/lib/python3.6/dist-packages (from cairosvg) (1.1.0)\n",
            "Requirement already satisfied: cairocffi in /usr/local/lib/python3.6/dist-packages (from cairosvg) (1.2.0)\n",
            "Requirement already satisfied: defusedxml in /usr/local/lib/python3.6/dist-packages (from cairosvg) (0.6.0)\n",
            "Requirement already satisfied: pillow in /usr/local/lib/python3.6/dist-packages (from cairosvg) (7.0.0)\n",
            "Requirement already satisfied: webencodings in /usr/local/lib/python3.6/dist-packages (from cssselect2->cairosvg) (0.5.1)\n",
            "Requirement already satisfied: cffi>=1.1.0 in /usr/local/lib/python3.6/dist-packages (from cairocffi->cairosvg) (1.14.4)\n",
            "Requirement already satisfied: pycparser in /usr/local/lib/python3.6/dist-packages (from cffi>=1.1.0->cairocffi->cairosvg) (2.20)\n"
          ],
          "name": "stdout"
        }
      ]
    },
    {
      "cell_type": "code",
      "metadata": {
        "colab": {
          "base_uri": "https://localhost:8080/"
        },
        "id": "JS5A9-v9cWaO",
        "outputId": "01c81c39-b416-4b08-ea27-c3b3086e2390"
      },
      "source": [
        "from chembl_webresource_client.new_client import new_client\r\n",
        "similarity = new_client.similarity\r\n",
        "res = similarity.filter(smiles=\"CO[C@@H](CCC#C\\C=C/CCCC(C)CCCCC=C)C(=O)[O-]\", similarity=85)\r\n",
        "res"
      ],
      "execution_count": 3,
      "outputs": [
        {
          "output_type": "execute_result",
          "data": {
            "text/plain": [
              "[{'atc_classifications': [], 'availability_type': -1, 'biotherapeutic': None, 'black_box_warning': 0, 'chebi_par_id': None, 'chirality': -1, 'cross_references': [], 'dosed_ingredient': False, 'first_approval': None, 'first_in_class': -1, 'helm_notation': None, 'indication_class': None, 'inorganic_flag': -1, 'max_phase': 0, 'molecule_chembl_id': 'CHEMBL477889', 'molecule_hierarchy': {'molecule_chembl_id': 'CHEMBL477889', 'parent_chembl_id': 'CHEMBL477888'}, 'molecule_properties': {'alogp': '4.98', 'aromatic_rings': 0, 'cx_logd': '2.88', 'cx_logp': '6.12', 'cx_most_apka': '3.84', 'cx_most_bpka': None, 'full_molformula': 'C20H31NaO3', 'full_mwt': '342.46', 'hba': 2, 'hba_lipinski': 3, 'hbd': 1, 'hbd_lipinski': 1, 'heavy_atoms': 23, 'molecular_species': 'ACID', 'mw_freebase': '320.47', 'mw_monoisotopic': '320.2351', 'num_lipinski_ro5_violations': 0, 'num_ro5_violations': 0, 'psa': '46.53', 'qed_weighted': '0.30', 'ro3_pass': 'N', 'rtb': 13}, 'molecule_structures': {'canonical_smiles': 'C=CCCCCC(C)CCC/C=C\\\\C#CCC[C@H](OC)C(=O)[O-].[Na+]', 'molfile': '\\n     RDKit          2D\\n\\n 24 22  0  0  0  0  0  0  0  0999 V2000\\n   -4.4083   -6.8417    0.0000 Na  0  0  0  0  0 15  0  0  0  0  0  0\\n   -1.9125   -6.9083    0.0000 C   0  0  0  0  0  0  0  0  0  0  0  0\\n   -1.9167   -6.0833    0.0000 O   0  0  0  0  0  0  0  0  0  0  0  0\\n   -1.2043   -5.6672    0.0000 C   0  0  0  0  0  0  0  0  0  0  0  0\\n   -1.1960   -7.3172    0.0000 C   0  0  0  0  0  0  0  0  0  0  0  0\\n   -2.6249   -7.3244    0.0000 C   0  0  0  0  0  0  0  0  0  0  0  0\\n   -3.3414   -6.9156    0.0000 O   0  0  0  0  0  0  0  0  0  0  0  0\\n   -2.6207   -8.1494    0.0000 O   0  0  0  0  0  0  0  0  0  0  0  0\\n   -0.4836   -6.9011    0.0000 C   0  0  0  0  0  0  0  0  0  0  0  0\\n    0.2330   -7.3100    0.0000 C   0  0  0  0  0  0  0  0  0  0  0  0\\n    0.9417   -7.7208    0.0000 C   0  0  0  0  0  0  0  0  0  0  0  0\\n    1.6554   -8.1346    0.0000 C   0  0  0  0  0  0  0  0  0  0  0  0\\n    2.3669   -7.7162    0.0000 C   0  0  0  0  0  0  0  0  0  0  0  0\\n    2.3673   -6.8912    0.0000 C   0  0  0  0  0  0  0  0  0  0  0  0\\n    1.6530   -6.4783    0.0000 C   0  0  0  0  0  0  0  0  0  0  0  0\\n    1.6535   -5.6533    0.0000 C   0  0  0  0  0  0  0  0  0  0  0  0\\n    0.9392   -5.2404    0.0000 C   0  0  0  0  0  0  0  0  0  0  0  0\\n    0.9396   -4.4154    0.0000 C   0  0  0  0  0  0  0  0  0  0  0  0\\n    0.2245   -5.6525    0.0000 C   0  0  0  0  0  0  0  0  0  0  0  0\\n    0.2254   -4.0025    0.0000 C   0  0  0  0  0  0  0  0  0  0  0  0\\n    0.2258   -3.1775    0.0000 C   0  0  0  0  0  0  0  0  0  0  0  0\\n   -0.4884   -2.7647    0.0000 C   0  0  0  0  0  0  0  0  0  0  0  0\\n   -0.4880   -1.9397    0.0000 C   0  0  0  0  0  0  0  0  0  0  0  0\\n   -1.2023   -1.5268    0.0000 C   0  0  0  0  0  0  0  0  0  0  0  0\\n 12 13  2  0\\n  6  7  1  0\\n 13 14  1  0\\n  3  4  1  0\\n 14 15  1  0\\n  6  8  2  0\\n 15 16  1  0\\n 16 17  1  0\\n  5  9  1  0\\n 17 18  1  0\\n  2  5  1  0\\n 17 19  1  0\\n  9 10  1  0\\n 18 20  1  0\\n  2  3  1  1\\n 20 21  1  0\\n 10 11  3  0\\n 21 22  1  0\\n  2  6  1  0\\n 22 23  1  0\\n 11 12  1  0\\n 23 24  2  0\\nM  CHG  2   1   1   7  -1\\nM  END\\n\\n> <chembl_id>\\nCHEMBL477889\\n\\n> <chembl_pref_name>\\nNone\\n\\n', 'standard_inchi': 'InChI=1S/C20H32O3.Na/c1-4-5-6-12-15-18(2)16-13-10-8-7-9-11-14-17-19(23-3)20(21)22;/h4,7-8,18-19H,1,5-6,10,12-17H2,2-3H3,(H,21,22);/q;+1/p-1/b8-7-;/t18?,19-;/m0./s1', 'standard_inchi_key': 'RLSXKIUQYFNFBI-PJZMSVRGSA-M'}, 'molecule_type': 'Small molecule', 'natural_product': -1, 'oral': False, 'parenteral': False, 'polymer_flag': False, 'pref_name': None, 'prodrug': -1, 'similarity': '85.4166686534881591796875', 'structure_type': 'MOL', 'therapeutic_flag': False, 'topical': False, 'usan_stem': None, 'usan_stem_definition': None, 'usan_substem': None, 'usan_year': None, 'withdrawn_class': None, 'withdrawn_country': None, 'withdrawn_flag': False, 'withdrawn_reason': None, 'withdrawn_year': None}, {'atc_classifications': [], 'availability_type': -1, 'biotherapeutic': None, 'black_box_warning': 0, 'chebi_par_id': None, 'chirality': -1, 'cross_references': [], 'dosed_ingredient': False, 'first_approval': None, 'first_in_class': -1, 'helm_notation': None, 'indication_class': None, 'inorganic_flag': -1, 'max_phase': 0, 'molecule_chembl_id': 'CHEMBL478779', 'molecule_hierarchy': {'molecule_chembl_id': 'CHEMBL478779', 'parent_chembl_id': 'CHEMBL478779'}, 'molecule_properties': {'alogp': '4.98', 'aromatic_rings': 0, 'cx_logd': '2.88', 'cx_logp': '6.12', 'cx_most_apka': '3.84', 'cx_most_bpka': None, 'full_molformula': 'C20H32O3', 'full_mwt': '320.47', 'hba': 2, 'hba_lipinski': 3, 'hbd': 1, 'hbd_lipinski': 1, 'heavy_atoms': 23, 'molecular_species': 'ACID', 'mw_freebase': '320.47', 'mw_monoisotopic': '320.2351', 'num_lipinski_ro5_violations': 0, 'num_ro5_violations': 0, 'psa': '46.53', 'qed_weighted': '0.30', 'ro3_pass': 'N', 'rtb': 13}, 'molecule_structures': {'canonical_smiles': 'C=CCCCCC(C)CCC/C=C/C#CCC[C@H](OC)C(=O)O', 'molfile': '\\n     RDKit          2D\\n\\n 23 22  0  0  0  0  0  0  0  0999 V2000\\n    7.8000   -6.7125    0.0000 C   0  0  0  0  0  0  0  0  0  0  0  0\\n    7.7958   -5.8875    0.0000 O   0  0  0  0  0  0  0  0  0  0  0  0\\n    8.5082   -5.4714    0.0000 C   0  0  0  0  0  0  0  0  0  0  0  0\\n    8.5165   -7.1214    0.0000 C   0  0  0  0  0  0  0  0  0  0  0  0\\n    7.0876   -7.1286    0.0000 C   0  0  0  0  0  0  0  0  0  0  0  0\\n    6.3711   -6.7197    0.0000 O   0  0  0  0  0  0  0  0  0  0  0  0\\n    7.0918   -7.9536    0.0000 O   0  0  0  0  0  0  0  0  0  0  0  0\\n    9.2289   -6.7053    0.0000 C   0  0  0  0  0  0  0  0  0  0  0  0\\n    9.9455   -7.1142    0.0000 C   0  0  0  0  0  0  0  0  0  0  0  0\\n   10.6542   -7.5250    0.0000 C   0  0  0  0  0  0  0  0  0  0  0  0\\n   11.3679   -7.9388    0.0000 C   0  0  0  0  0  0  0  0  0  0  0  0\\n   12.0831   -7.5275    0.0000 C   0  0  0  0  0  0  0  0  0  0  0  0\\n   12.7969   -7.9413    0.0000 C   0  0  0  0  0  0  0  0  0  0  0  0\\n   13.5120   -7.5300    0.0000 C   0  0  0  0  0  0  0  0  0  0  0  0\\n   14.2258   -7.9438    0.0000 C   0  0  0  0  0  0  0  0  0  0  0  0\\n   14.9410   -7.5325    0.0000 C   0  0  0  0  0  0  0  0  0  0  0  0\\n   15.6547   -7.9463    0.0000 C   0  0  0  0  0  0  0  0  0  0  0  0\\n   14.9424   -6.7075    0.0000 C   0  0  0  0  0  0  0  0  0  0  0  0\\n   16.3699   -7.5351    0.0000 C   0  0  0  0  0  0  0  0  0  0  0  0\\n   17.0837   -7.9488    0.0000 C   0  0  0  0  0  0  0  0  0  0  0  0\\n   17.7989   -7.5376    0.0000 C   0  0  0  0  0  0  0  0  0  0  0  0\\n   18.5126   -7.9513    0.0000 C   0  0  0  0  0  0  0  0  0  0  0  0\\n   19.2278   -7.5401    0.0000 C   0  0  0  0  0  0  0  0  0  0  0  0\\n 11 12  2  0\\n  1  2  1  1\\n 12 13  1  0\\n  5  7  2  0\\n 13 14  1  0\\n  1  4  1  0\\n 14 15  1  0\\n  4  8  1  0\\n 15 16  1  0\\n 16 17  1  0\\n  8  9  1  0\\n 16 18  1  0\\n  1  5  1  0\\n 17 19  1  0\\n  9 10  3  0\\n 19 20  1  0\\n  2  3  1  0\\n 20 21  1  0\\n 10 11  1  0\\n 21 22  1  0\\n  5  6  1  0\\n 22 23  2  0\\nM  END\\n\\n> <chembl_id>\\nCHEMBL478779\\n\\n> <chembl_pref_name>\\n(E)-STELLETTIC ACID B\\n\\n', 'standard_inchi': 'InChI=1S/C20H32O3/c1-4-5-6-12-15-18(2)16-13-10-8-7-9-11-14-17-19(23-3)20(21)22/h4,7-8,18-19H,1,5-6,10,12-17H2,2-3H3,(H,21,22)/b8-7+/t18?,19-/m0/s1', 'standard_inchi_key': 'KHBWVVURFCWYNT-QZEVDHHRSA-N'}, 'molecule_type': 'Small molecule', 'natural_product': -1, 'oral': False, 'parenteral': False, 'polymer_flag': False, 'pref_name': '(E)-STELLETTIC ACID B', 'prodrug': -1, 'similarity': '85.4166686534881591796875', 'structure_type': 'MOL', 'therapeutic_flag': False, 'topical': False, 'usan_stem': None, 'usan_stem_definition': None, 'usan_substem': None, 'usan_year': None, 'withdrawn_class': None, 'withdrawn_country': None, 'withdrawn_flag': False, 'withdrawn_reason': None, 'withdrawn_year': None}, {'atc_classifications': [], 'availability_type': -1, 'biotherapeutic': None, 'black_box_warning': 0, 'chebi_par_id': None, 'chirality': -1, 'cross_references': [], 'dosed_ingredient': False, 'first_approval': None, 'first_in_class': -1, 'helm_notation': None, 'indication_class': None, 'inorganic_flag': -1, 'max_phase': 0, 'molecule_chembl_id': 'CHEMBL477888', 'molecule_hierarchy': {'molecule_chembl_id': 'CHEMBL477888', 'parent_chembl_id': 'CHEMBL477888'}, 'molecule_properties': {'alogp': '4.98', 'aromatic_rings': 0, 'cx_logd': '2.88', 'cx_logp': '6.12', 'cx_most_apka': '3.84', 'cx_most_bpka': None, 'full_molformula': 'C20H32O3', 'full_mwt': '320.47', 'hba': 2, 'hba_lipinski': 3, 'hbd': 1, 'hbd_lipinski': 1, 'heavy_atoms': 23, 'molecular_species': 'ACID', 'mw_freebase': '320.47', 'mw_monoisotopic': '320.2351', 'num_lipinski_ro5_violations': 0, 'num_ro5_violations': 0, 'psa': '46.53', 'qed_weighted': '0.30', 'ro3_pass': 'N', 'rtb': 13}, 'molecule_structures': {'canonical_smiles': 'C=CCCCCC(C)CCC/C=C\\\\C#CCC[C@H](OC)C(=O)O', 'molfile': '\\n     RDKit          2D\\n\\n 23 22  0  0  0  0  0  0  0  0999 V2000\\n   -1.9125   -6.9083    0.0000 C   0  0  0  0  0  0  0  0  0  0  0  0\\n   -1.9167   -6.0833    0.0000 O   0  0  0  0  0  0  0  0  0  0  0  0\\n   -1.2043   -5.6672    0.0000 C   0  0  0  0  0  0  0  0  0  0  0  0\\n   -1.1960   -7.3172    0.0000 C   0  0  0  0  0  0  0  0  0  0  0  0\\n   -2.6249   -7.3244    0.0000 C   0  0  0  0  0  0  0  0  0  0  0  0\\n   -3.3414   -6.9156    0.0000 O   0  0  0  0  0  0  0  0  0  0  0  0\\n   -2.6207   -8.1494    0.0000 O   0  0  0  0  0  0  0  0  0  0  0  0\\n   -0.4836   -6.9011    0.0000 C   0  0  0  0  0  0  0  0  0  0  0  0\\n    0.2330   -7.3100    0.0000 C   0  0  0  0  0  0  0  0  0  0  0  0\\n    0.9417   -7.7208    0.0000 C   0  0  0  0  0  0  0  0  0  0  0  0\\n    1.6554   -8.1346    0.0000 C   0  0  0  0  0  0  0  0  0  0  0  0\\n    2.3669   -7.7162    0.0000 C   0  0  0  0  0  0  0  0  0  0  0  0\\n    2.3673   -6.8912    0.0000 C   0  0  0  0  0  0  0  0  0  0  0  0\\n    1.6530   -6.4783    0.0000 C   0  0  0  0  0  0  0  0  0  0  0  0\\n    1.6535   -5.6533    0.0000 C   0  0  0  0  0  0  0  0  0  0  0  0\\n    0.9392   -5.2404    0.0000 C   0  0  0  0  0  0  0  0  0  0  0  0\\n    0.9396   -4.4154    0.0000 C   0  0  0  0  0  0  0  0  0  0  0  0\\n    0.2245   -5.6525    0.0000 C   0  0  0  0  0  0  0  0  0  0  0  0\\n    0.2254   -4.0025    0.0000 C   0  0  0  0  0  0  0  0  0  0  0  0\\n    0.2258   -3.1775    0.0000 C   0  0  0  0  0  0  0  0  0  0  0  0\\n   -0.4884   -2.7647    0.0000 C   0  0  0  0  0  0  0  0  0  0  0  0\\n   -0.4880   -1.9397    0.0000 C   0  0  0  0  0  0  0  0  0  0  0  0\\n   -1.2023   -1.5268    0.0000 C   0  0  0  0  0  0  0  0  0  0  0  0\\n 11 12  2  0\\n  5  6  1  0\\n 12 13  1  0\\n  2  3  1  0\\n 13 14  1  0\\n  5  7  2  0\\n 14 15  1  0\\n 15 16  1  0\\n  4  8  1  0\\n 16 17  1  0\\n  1  4  1  0\\n 16 18  1  0\\n  8  9  1  0\\n 17 19  1  0\\n  1  2  1  1\\n 19 20  1  0\\n  9 10  3  0\\n 20 21  1  0\\n  1  5  1  0\\n 21 22  1  0\\n 10 11  1  0\\n 22 23  2  0\\nM  END\\n\\n> <chembl_id>\\nCHEMBL477888\\n\\n> <chembl_pref_name>\\nZ-STELLETTIC ACID B\\n\\n', 'standard_inchi': 'InChI=1S/C20H32O3/c1-4-5-6-12-15-18(2)16-13-10-8-7-9-11-14-17-19(23-3)20(21)22/h4,7-8,18-19H,1,5-6,10,12-17H2,2-3H3,(H,21,22)/b8-7-/t18?,19-/m0/s1', 'standard_inchi_key': 'KHBWVVURFCWYNT-YAALGORWSA-N'}, 'molecule_type': 'Small molecule', 'natural_product': -1, 'oral': False, 'parenteral': False, 'polymer_flag': False, 'pref_name': 'Z-STELLETTIC ACID B', 'prodrug': -1, 'similarity': '85.4166686534881591796875', 'structure_type': 'MOL', 'therapeutic_flag': False, 'topical': False, 'usan_stem': None, 'usan_stem_definition': None, 'usan_substem': None, 'usan_year': None, 'withdrawn_class': None, 'withdrawn_country': None, 'withdrawn_flag': False, 'withdrawn_reason': None, 'withdrawn_year': None}]"
            ]
          },
          "metadata": {
            "tags": []
          },
          "execution_count": 3
        }
      ]
    },
    {
      "cell_type": "markdown",
      "metadata": {
        "id": "oQ-FB9MSgsr9"
      },
      "source": [
        "**Get all approved drugs:**"
      ]
    },
    {
      "cell_type": "code",
      "metadata": {
        "colab": {
          "base_uri": "https://localhost:8080/",
          "height": 438
        },
        "id": "Ry7ctqz8ecOT",
        "outputId": "0c374e29-58b0-4b0a-abc3-f09d6ee0851e"
      },
      "source": [
        "import pandas as pd\r\n",
        "from chembl_webresource_client.new_client import new_client\r\n",
        "molecule = new_client.molecule\r\n",
        "approved_drugs = molecule.filter(max_phase=4)\r\n",
        "res=pd.DataFrame(approved_drugs)\r\n",
        "res.head(2)"
      ],
      "execution_count": 23,
      "outputs": [
        {
          "output_type": "error",
          "ename": "KeyboardInterrupt",
          "evalue": "ignored",
          "traceback": [
            "\u001b[0;31m---------------------------------------------------------------------------\u001b[0m",
            "\u001b[0;31mTypeError\u001b[0m                                 Traceback (most recent call last)",
            "\u001b[0;32m/usr/local/lib/python3.6/dist-packages/urllib3/connectionpool.py\u001b[0m in \u001b[0;36m_make_request\u001b[0;34m(self, conn, method, url, timeout, chunked, **httplib_request_kw)\u001b[0m\n\u001b[1;32m    376\u001b[0m             \u001b[0;32mtry\u001b[0m\u001b[0;34m:\u001b[0m  \u001b[0;31m# Python 2.7, use buffering of HTTP responses\u001b[0m\u001b[0;34m\u001b[0m\u001b[0;34m\u001b[0m\u001b[0m\n\u001b[0;32m--> 377\u001b[0;31m                 \u001b[0mhttplib_response\u001b[0m \u001b[0;34m=\u001b[0m \u001b[0mconn\u001b[0m\u001b[0;34m.\u001b[0m\u001b[0mgetresponse\u001b[0m\u001b[0;34m(\u001b[0m\u001b[0mbuffering\u001b[0m\u001b[0;34m=\u001b[0m\u001b[0;32mTrue\u001b[0m\u001b[0;34m)\u001b[0m\u001b[0;34m\u001b[0m\u001b[0;34m\u001b[0m\u001b[0m\n\u001b[0m\u001b[1;32m    378\u001b[0m             \u001b[0;32mexcept\u001b[0m \u001b[0mTypeError\u001b[0m\u001b[0;34m:\u001b[0m  \u001b[0;31m# Python 3\u001b[0m\u001b[0;34m\u001b[0m\u001b[0;34m\u001b[0m\u001b[0m\n",
            "\u001b[0;31mTypeError\u001b[0m: getresponse() got an unexpected keyword argument 'buffering'",
            "\nDuring handling of the above exception, another exception occurred:\n",
            "\u001b[0;31mKeyboardInterrupt\u001b[0m                         Traceback (most recent call last)",
            "\u001b[0;32m<ipython-input-23-fdf05f88e0c7>\u001b[0m in \u001b[0;36m<module>\u001b[0;34m()\u001b[0m\n\u001b[1;32m      3\u001b[0m \u001b[0mmolecule\u001b[0m \u001b[0;34m=\u001b[0m \u001b[0mnew_client\u001b[0m\u001b[0;34m.\u001b[0m\u001b[0mmolecule\u001b[0m\u001b[0;34m\u001b[0m\u001b[0;34m\u001b[0m\u001b[0m\n\u001b[1;32m      4\u001b[0m \u001b[0mapproved_drugs\u001b[0m \u001b[0;34m=\u001b[0m \u001b[0mmolecule\u001b[0m\u001b[0;34m.\u001b[0m\u001b[0mfilter\u001b[0m\u001b[0;34m(\u001b[0m\u001b[0mmax_phase\u001b[0m\u001b[0;34m=\u001b[0m\u001b[0;36m4\u001b[0m\u001b[0;34m)\u001b[0m\u001b[0;34m\u001b[0m\u001b[0;34m\u001b[0m\u001b[0m\n\u001b[0;32m----> 5\u001b[0;31m \u001b[0mres\u001b[0m\u001b[0;34m=\u001b[0m\u001b[0mpd\u001b[0m\u001b[0;34m.\u001b[0m\u001b[0mDataFrame\u001b[0m\u001b[0;34m(\u001b[0m\u001b[0mapproved_drugs\u001b[0m\u001b[0;34m)\u001b[0m\u001b[0;34m\u001b[0m\u001b[0;34m\u001b[0m\u001b[0m\n\u001b[0m\u001b[1;32m      6\u001b[0m \u001b[0mres\u001b[0m\u001b[0;34m.\u001b[0m\u001b[0mhead\u001b[0m\u001b[0;34m(\u001b[0m\u001b[0;36m2\u001b[0m\u001b[0;34m)\u001b[0m\u001b[0;34m\u001b[0m\u001b[0;34m\u001b[0m\u001b[0m\n",
            "\u001b[0;32m/usr/local/lib/python3.6/dist-packages/pandas/core/frame.py\u001b[0m in \u001b[0;36m__init__\u001b[0;34m(self, data, index, columns, dtype, copy)\u001b[0m\n\u001b[1;32m    500\u001b[0m         \u001b[0;32melif\u001b[0m \u001b[0misinstance\u001b[0m\u001b[0;34m(\u001b[0m\u001b[0mdata\u001b[0m\u001b[0;34m,\u001b[0m \u001b[0mabc\u001b[0m\u001b[0;34m.\u001b[0m\u001b[0mIterable\u001b[0m\u001b[0;34m)\u001b[0m \u001b[0;32mand\u001b[0m \u001b[0;32mnot\u001b[0m \u001b[0misinstance\u001b[0m\u001b[0;34m(\u001b[0m\u001b[0mdata\u001b[0m\u001b[0;34m,\u001b[0m \u001b[0;34m(\u001b[0m\u001b[0mstr\u001b[0m\u001b[0;34m,\u001b[0m \u001b[0mbytes\u001b[0m\u001b[0;34m)\u001b[0m\u001b[0;34m)\u001b[0m\u001b[0;34m:\u001b[0m\u001b[0;34m\u001b[0m\u001b[0;34m\u001b[0m\u001b[0m\n\u001b[1;32m    501\u001b[0m             \u001b[0;32mif\u001b[0m \u001b[0;32mnot\u001b[0m \u001b[0misinstance\u001b[0m\u001b[0;34m(\u001b[0m\u001b[0mdata\u001b[0m\u001b[0;34m,\u001b[0m \u001b[0;34m(\u001b[0m\u001b[0mabc\u001b[0m\u001b[0;34m.\u001b[0m\u001b[0mSequence\u001b[0m\u001b[0;34m,\u001b[0m \u001b[0mExtensionArray\u001b[0m\u001b[0;34m)\u001b[0m\u001b[0;34m)\u001b[0m\u001b[0;34m:\u001b[0m\u001b[0;34m\u001b[0m\u001b[0;34m\u001b[0m\u001b[0m\n\u001b[0;32m--> 502\u001b[0;31m                 \u001b[0mdata\u001b[0m \u001b[0;34m=\u001b[0m \u001b[0mlist\u001b[0m\u001b[0;34m(\u001b[0m\u001b[0mdata\u001b[0m\u001b[0;34m)\u001b[0m\u001b[0;34m\u001b[0m\u001b[0;34m\u001b[0m\u001b[0m\n\u001b[0m\u001b[1;32m    503\u001b[0m             \u001b[0;32mif\u001b[0m \u001b[0mlen\u001b[0m\u001b[0;34m(\u001b[0m\u001b[0mdata\u001b[0m\u001b[0;34m)\u001b[0m \u001b[0;34m>\u001b[0m \u001b[0;36m0\u001b[0m\u001b[0;34m:\u001b[0m\u001b[0;34m\u001b[0m\u001b[0;34m\u001b[0m\u001b[0m\n\u001b[1;32m    504\u001b[0m                 \u001b[0;32mif\u001b[0m \u001b[0mis_dataclass\u001b[0m\u001b[0;34m(\u001b[0m\u001b[0mdata\u001b[0m\u001b[0;34m[\u001b[0m\u001b[0;36m0\u001b[0m\u001b[0;34m]\u001b[0m\u001b[0;34m)\u001b[0m\u001b[0;34m:\u001b[0m\u001b[0;34m\u001b[0m\u001b[0;34m\u001b[0m\u001b[0m\n",
            "\u001b[0;32m/usr/local/lib/python3.6/dist-packages/chembl_webresource_client/query_set.py\u001b[0m in \u001b[0;36m__next__\u001b[0;34m(self)\u001b[0m\n\u001b[1;32m    125\u001b[0m \u001b[0;34m\u001b[0m\u001b[0m\n\u001b[1;32m    126\u001b[0m     \u001b[0;32mdef\u001b[0m \u001b[0m__next__\u001b[0m\u001b[0;34m(\u001b[0m\u001b[0mself\u001b[0m\u001b[0;34m)\u001b[0m\u001b[0;34m:\u001b[0m\u001b[0;34m\u001b[0m\u001b[0;34m\u001b[0m\u001b[0m\n\u001b[0;32m--> 127\u001b[0;31m         \u001b[0;32mreturn\u001b[0m \u001b[0mself\u001b[0m\u001b[0;34m.\u001b[0m\u001b[0mnext\u001b[0m\u001b[0;34m(\u001b[0m\u001b[0;34m)\u001b[0m\u001b[0;34m\u001b[0m\u001b[0;34m\u001b[0m\u001b[0m\n\u001b[0m\u001b[1;32m    128\u001b[0m \u001b[0;34m\u001b[0m\u001b[0m\n\u001b[1;32m    129\u001b[0m \u001b[0;31m#-----------------------------------------------------------------------------------------------------------------------\u001b[0m\u001b[0;34m\u001b[0m\u001b[0;34m\u001b[0m\u001b[0;34m\u001b[0m\u001b[0m\n",
            "\u001b[0;32m/usr/local/lib/python3.6/dist-packages/chembl_webresource_client/query_set.py\u001b[0m in \u001b[0;36mnext\u001b[0;34m(self)\u001b[0m\n\u001b[1;32m    113\u001b[0m             \u001b[0mself\u001b[0m\u001b[0;34m.\u001b[0m\u001b[0mchunk\u001b[0m \u001b[0;34m=\u001b[0m \u001b[0mself\u001b[0m\u001b[0;34m.\u001b[0m\u001b[0mquery\u001b[0m\u001b[0;34m.\u001b[0m\u001b[0mget_page\u001b[0m\u001b[0;34m(\u001b[0m\u001b[0;34m)\u001b[0m\u001b[0;34m\u001b[0m\u001b[0;34m\u001b[0m\u001b[0m\n\u001b[1;32m    114\u001b[0m         \u001b[0;32mif\u001b[0m \u001b[0;32mnot\u001b[0m \u001b[0mself\u001b[0m\u001b[0;34m.\u001b[0m\u001b[0mchunk\u001b[0m \u001b[0;32mor\u001b[0m \u001b[0mself\u001b[0m\u001b[0;34m.\u001b[0m\u001b[0mcurrent_index\u001b[0m \u001b[0;34m>=\u001b[0m \u001b[0mlen\u001b[0m\u001b[0;34m(\u001b[0m\u001b[0mself\u001b[0m\u001b[0;34m.\u001b[0m\u001b[0mchunk\u001b[0m\u001b[0;34m)\u001b[0m\u001b[0;34m:\u001b[0m\u001b[0;34m\u001b[0m\u001b[0;34m\u001b[0m\u001b[0m\n\u001b[0;32m--> 115\u001b[0;31m             \u001b[0mself\u001b[0m\u001b[0;34m.\u001b[0m\u001b[0mchunk\u001b[0m \u001b[0;34m=\u001b[0m \u001b[0mself\u001b[0m\u001b[0;34m.\u001b[0m\u001b[0mquery\u001b[0m\u001b[0;34m.\u001b[0m\u001b[0mnext_page\u001b[0m\u001b[0;34m(\u001b[0m\u001b[0;34m)\u001b[0m\u001b[0;34m\u001b[0m\u001b[0;34m\u001b[0m\u001b[0m\n\u001b[0m\u001b[1;32m    116\u001b[0m             \u001b[0;32mif\u001b[0m \u001b[0;32mnot\u001b[0m \u001b[0mself\u001b[0m\u001b[0;34m.\u001b[0m\u001b[0mchunk\u001b[0m\u001b[0;34m:\u001b[0m\u001b[0;34m\u001b[0m\u001b[0;34m\u001b[0m\u001b[0m\n\u001b[1;32m    117\u001b[0m                 \u001b[0;32mraise\u001b[0m \u001b[0mStopIteration\u001b[0m\u001b[0;34m\u001b[0m\u001b[0;34m\u001b[0m\u001b[0m\n",
            "\u001b[0;32m/usr/local/lib/python3.6/dist-packages/chembl_webresource_client/url_query.py\u001b[0m in \u001b[0;36mnext_page\u001b[0;34m(self)\u001b[0m\n\u001b[1;32m    434\u001b[0m         \u001b[0mstart\u001b[0m \u001b[0;34m=\u001b[0m \u001b[0mself\u001b[0m\u001b[0;34m.\u001b[0m\u001b[0mstart\u001b[0m\u001b[0;34m\u001b[0m\u001b[0;34m\u001b[0m\u001b[0m\n\u001b[1;32m    435\u001b[0m         \u001b[0mself\u001b[0m\u001b[0;34m.\u001b[0m\u001b[0mcurrent_index\u001b[0m \u001b[0;34m=\u001b[0m \u001b[0mint\u001b[0m\u001b[0;34m(\u001b[0m\u001b[0mstart\u001b[0m \u001b[0;34m+\u001b[0m \u001b[0mself\u001b[0m\u001b[0;34m.\u001b[0m\u001b[0mlimit\u001b[0m \u001b[0;34m*\u001b[0m \u001b[0;34m(\u001b[0m\u001b[0mself\u001b[0m\u001b[0;34m.\u001b[0m\u001b[0mcurrent_page\u001b[0m \u001b[0;34m+\u001b[0m \u001b[0;36m1\u001b[0m\u001b[0;34m)\u001b[0m\u001b[0;34m)\u001b[0m\u001b[0;34m\u001b[0m\u001b[0;34m\u001b[0m\u001b[0m\n\u001b[0;32m--> 436\u001b[0;31m         \u001b[0;32mreturn\u001b[0m \u001b[0mself\u001b[0m\u001b[0;34m.\u001b[0m\u001b[0mget_page\u001b[0m\u001b[0;34m(\u001b[0m\u001b[0;34m)\u001b[0m\u001b[0;34m\u001b[0m\u001b[0;34m\u001b[0m\u001b[0m\n\u001b[0m\u001b[1;32m    437\u001b[0m \u001b[0;34m\u001b[0m\u001b[0m\n\u001b[1;32m    438\u001b[0m \u001b[0;31m# ----------------------------------------------------------------------------------------------------------------------\u001b[0m\u001b[0;34m\u001b[0m\u001b[0;34m\u001b[0m\u001b[0;34m\u001b[0m\u001b[0m\n",
            "\u001b[0;32m/usr/local/lib/python3.6/dist-packages/chembl_webresource_client/url_query.py\u001b[0m in \u001b[0;36mget_page\u001b[0;34m(self)\u001b[0m\n\u001b[1;32m    389\u001b[0m             \u001b[0mdata\u001b[0m \u001b[0;34m=\u001b[0m \u001b[0mself\u001b[0m\u001b[0;34m.\u001b[0m\u001b[0m_prepare_url_params\u001b[0m\u001b[0;34m(\u001b[0m\u001b[0;34m)\u001b[0m\u001b[0;34m\u001b[0m\u001b[0;34m\u001b[0m\u001b[0m\n\u001b[1;32m    390\u001b[0m             \u001b[0;32mwith\u001b[0m \u001b[0mself\u001b[0m\u001b[0;34m.\u001b[0m\u001b[0m_get_session\u001b[0m\u001b[0;34m(\u001b[0m\u001b[0;34m)\u001b[0m \u001b[0;32mas\u001b[0m \u001b[0msession\u001b[0m\u001b[0;34m:\u001b[0m\u001b[0;34m\u001b[0m\u001b[0;34m\u001b[0m\u001b[0m\n\u001b[0;32m--> 391\u001b[0;31m                 \u001b[0mres\u001b[0m \u001b[0;34m=\u001b[0m \u001b[0msession\u001b[0m\u001b[0;34m.\u001b[0m\u001b[0mpost\u001b[0m\u001b[0;34m(\u001b[0m\u001b[0mself\u001b[0m\u001b[0;34m.\u001b[0m\u001b[0mbase_url\u001b[0m \u001b[0;34m+\u001b[0m \u001b[0;34m'.'\u001b[0m \u001b[0;34m+\u001b[0m \u001b[0mself\u001b[0m\u001b[0;34m.\u001b[0m\u001b[0mfrmt\u001b[0m\u001b[0;34m,\u001b[0m \u001b[0mjson\u001b[0m\u001b[0;34m=\u001b[0m\u001b[0mdata\u001b[0m\u001b[0;34m,\u001b[0m \u001b[0mtimeout\u001b[0m\u001b[0;34m=\u001b[0m\u001b[0mself\u001b[0m\u001b[0;34m.\u001b[0m\u001b[0mtimeout\u001b[0m\u001b[0;34m)\u001b[0m\u001b[0;34m\u001b[0m\u001b[0;34m\u001b[0m\u001b[0m\n\u001b[0m\u001b[1;32m    392\u001b[0m             \u001b[0mself\u001b[0m\u001b[0;34m.\u001b[0m\u001b[0mlogger\u001b[0m\u001b[0;34m.\u001b[0m\u001b[0minfo\u001b[0m\u001b[0;34m(\u001b[0m\u001b[0mres\u001b[0m\u001b[0;34m.\u001b[0m\u001b[0murl\u001b[0m\u001b[0;34m)\u001b[0m\u001b[0;34m\u001b[0m\u001b[0;34m\u001b[0m\u001b[0m\n\u001b[1;32m    393\u001b[0m             \u001b[0mself\u001b[0m\u001b[0;34m.\u001b[0m\u001b[0mlogger\u001b[0m\u001b[0;34m.\u001b[0m\u001b[0minfo\u001b[0m\u001b[0;34m(\u001b[0m\u001b[0mdata\u001b[0m\u001b[0;34m)\u001b[0m\u001b[0;34m\u001b[0m\u001b[0;34m\u001b[0m\u001b[0m\n",
            "\u001b[0;32m/usr/local/lib/python3.6/dist-packages/requests/sessions.py\u001b[0m in \u001b[0;36mpost\u001b[0;34m(self, url, data, json, **kwargs)\u001b[0m\n\u001b[1;32m    576\u001b[0m         \"\"\"\n\u001b[1;32m    577\u001b[0m \u001b[0;34m\u001b[0m\u001b[0m\n\u001b[0;32m--> 578\u001b[0;31m         \u001b[0;32mreturn\u001b[0m \u001b[0mself\u001b[0m\u001b[0;34m.\u001b[0m\u001b[0mrequest\u001b[0m\u001b[0;34m(\u001b[0m\u001b[0;34m'POST'\u001b[0m\u001b[0;34m,\u001b[0m \u001b[0murl\u001b[0m\u001b[0;34m,\u001b[0m \u001b[0mdata\u001b[0m\u001b[0;34m=\u001b[0m\u001b[0mdata\u001b[0m\u001b[0;34m,\u001b[0m \u001b[0mjson\u001b[0m\u001b[0;34m=\u001b[0m\u001b[0mjson\u001b[0m\u001b[0;34m,\u001b[0m \u001b[0;34m**\u001b[0m\u001b[0mkwargs\u001b[0m\u001b[0;34m)\u001b[0m\u001b[0;34m\u001b[0m\u001b[0;34m\u001b[0m\u001b[0m\n\u001b[0m\u001b[1;32m    579\u001b[0m \u001b[0;34m\u001b[0m\u001b[0m\n\u001b[1;32m    580\u001b[0m     \u001b[0;32mdef\u001b[0m \u001b[0mput\u001b[0m\u001b[0;34m(\u001b[0m\u001b[0mself\u001b[0m\u001b[0;34m,\u001b[0m \u001b[0murl\u001b[0m\u001b[0;34m,\u001b[0m \u001b[0mdata\u001b[0m\u001b[0;34m=\u001b[0m\u001b[0;32mNone\u001b[0m\u001b[0;34m,\u001b[0m \u001b[0;34m**\u001b[0m\u001b[0mkwargs\u001b[0m\u001b[0;34m)\u001b[0m\u001b[0;34m:\u001b[0m\u001b[0;34m\u001b[0m\u001b[0;34m\u001b[0m\u001b[0m\n",
            "\u001b[0;32m/usr/local/lib/python3.6/dist-packages/requests_cache/core.py\u001b[0m in \u001b[0;36mrequest\u001b[0;34m(self, method, url, params, data, **kwargs)\u001b[0m\n\u001b[1;32m    134\u001b[0m             \u001b[0m_normalize_parameters\u001b[0m\u001b[0;34m(\u001b[0m\u001b[0mparams\u001b[0m\u001b[0;34m)\u001b[0m\u001b[0;34m,\u001b[0m\u001b[0;34m\u001b[0m\u001b[0;34m\u001b[0m\u001b[0m\n\u001b[1;32m    135\u001b[0m             \u001b[0m_normalize_parameters\u001b[0m\u001b[0;34m(\u001b[0m\u001b[0mdata\u001b[0m\u001b[0;34m)\u001b[0m\u001b[0;34m,\u001b[0m\u001b[0;34m\u001b[0m\u001b[0;34m\u001b[0m\u001b[0m\n\u001b[0;32m--> 136\u001b[0;31m             \u001b[0;34m**\u001b[0m\u001b[0mkwargs\u001b[0m\u001b[0;34m\u001b[0m\u001b[0;34m\u001b[0m\u001b[0m\n\u001b[0m\u001b[1;32m    137\u001b[0m         )\n\u001b[1;32m    138\u001b[0m         \u001b[0;32mif\u001b[0m \u001b[0mself\u001b[0m\u001b[0;34m.\u001b[0m\u001b[0m_is_cache_disabled\u001b[0m\u001b[0;34m:\u001b[0m\u001b[0;34m\u001b[0m\u001b[0;34m\u001b[0m\u001b[0m\n",
            "\u001b[0;32m/usr/local/lib/python3.6/dist-packages/requests/sessions.py\u001b[0m in \u001b[0;36mrequest\u001b[0;34m(self, method, url, params, data, headers, cookies, files, auth, timeout, allow_redirects, proxies, hooks, stream, verify, cert, json)\u001b[0m\n\u001b[1;32m    528\u001b[0m         }\n\u001b[1;32m    529\u001b[0m         \u001b[0msend_kwargs\u001b[0m\u001b[0;34m.\u001b[0m\u001b[0mupdate\u001b[0m\u001b[0;34m(\u001b[0m\u001b[0msettings\u001b[0m\u001b[0;34m)\u001b[0m\u001b[0;34m\u001b[0m\u001b[0;34m\u001b[0m\u001b[0m\n\u001b[0;32m--> 530\u001b[0;31m         \u001b[0mresp\u001b[0m \u001b[0;34m=\u001b[0m \u001b[0mself\u001b[0m\u001b[0;34m.\u001b[0m\u001b[0msend\u001b[0m\u001b[0;34m(\u001b[0m\u001b[0mprep\u001b[0m\u001b[0;34m,\u001b[0m \u001b[0;34m**\u001b[0m\u001b[0msend_kwargs\u001b[0m\u001b[0;34m)\u001b[0m\u001b[0;34m\u001b[0m\u001b[0;34m\u001b[0m\u001b[0m\n\u001b[0m\u001b[1;32m    531\u001b[0m \u001b[0;34m\u001b[0m\u001b[0m\n\u001b[1;32m    532\u001b[0m         \u001b[0;32mreturn\u001b[0m \u001b[0mresp\u001b[0m\u001b[0;34m\u001b[0m\u001b[0;34m\u001b[0m\u001b[0m\n",
            "\u001b[0;32m/usr/local/lib/python3.6/dist-packages/requests_cache/core.py\u001b[0m in \u001b[0;36msend\u001b[0;34m(self, request, **kwargs)\u001b[0m\n\u001b[1;32m    107\u001b[0m \u001b[0;34m\u001b[0m\u001b[0m\n\u001b[1;32m    108\u001b[0m         \u001b[0;32mif\u001b[0m \u001b[0mresponse\u001b[0m \u001b[0;32mis\u001b[0m \u001b[0;32mNone\u001b[0m\u001b[0;34m:\u001b[0m\u001b[0;34m\u001b[0m\u001b[0;34m\u001b[0m\u001b[0m\n\u001b[0;32m--> 109\u001b[0;31m             \u001b[0;32mreturn\u001b[0m \u001b[0msend_request_and_cache_response\u001b[0m\u001b[0;34m(\u001b[0m\u001b[0;34m)\u001b[0m\u001b[0;34m\u001b[0m\u001b[0;34m\u001b[0m\u001b[0m\n\u001b[0m\u001b[1;32m    110\u001b[0m \u001b[0;34m\u001b[0m\u001b[0m\n\u001b[1;32m    111\u001b[0m         \u001b[0;32mif\u001b[0m \u001b[0mself\u001b[0m\u001b[0;34m.\u001b[0m\u001b[0m_cache_expire_after\u001b[0m \u001b[0;32mis\u001b[0m \u001b[0;32mnot\u001b[0m \u001b[0;32mNone\u001b[0m\u001b[0;34m:\u001b[0m\u001b[0;34m\u001b[0m\u001b[0;34m\u001b[0m\u001b[0m\n",
            "\u001b[0;32m/usr/local/lib/python3.6/dist-packages/requests_cache/core.py\u001b[0m in \u001b[0;36msend_request_and_cache_response\u001b[0;34m()\u001b[0m\n\u001b[1;32m     95\u001b[0m \u001b[0;34m\u001b[0m\u001b[0m\n\u001b[1;32m     96\u001b[0m         \u001b[0;32mdef\u001b[0m \u001b[0msend_request_and_cache_response\u001b[0m\u001b[0;34m(\u001b[0m\u001b[0;34m)\u001b[0m\u001b[0;34m:\u001b[0m\u001b[0;34m\u001b[0m\u001b[0;34m\u001b[0m\u001b[0m\n\u001b[0;32m---> 97\u001b[0;31m             \u001b[0mresponse\u001b[0m \u001b[0;34m=\u001b[0m \u001b[0msuper\u001b[0m\u001b[0;34m(\u001b[0m\u001b[0mCachedSession\u001b[0m\u001b[0;34m,\u001b[0m \u001b[0mself\u001b[0m\u001b[0;34m)\u001b[0m\u001b[0;34m.\u001b[0m\u001b[0msend\u001b[0m\u001b[0;34m(\u001b[0m\u001b[0mrequest\u001b[0m\u001b[0;34m,\u001b[0m \u001b[0;34m**\u001b[0m\u001b[0mkwargs\u001b[0m\u001b[0;34m)\u001b[0m\u001b[0;34m\u001b[0m\u001b[0;34m\u001b[0m\u001b[0m\n\u001b[0m\u001b[1;32m     98\u001b[0m             \u001b[0;32mif\u001b[0m \u001b[0mresponse\u001b[0m\u001b[0;34m.\u001b[0m\u001b[0mstatus_code\u001b[0m \u001b[0;32min\u001b[0m \u001b[0mself\u001b[0m\u001b[0;34m.\u001b[0m\u001b[0m_cache_allowable_codes\u001b[0m\u001b[0;34m:\u001b[0m\u001b[0;34m\u001b[0m\u001b[0;34m\u001b[0m\u001b[0m\n\u001b[1;32m     99\u001b[0m                 \u001b[0mself\u001b[0m\u001b[0;34m.\u001b[0m\u001b[0mcache\u001b[0m\u001b[0;34m.\u001b[0m\u001b[0msave_response\u001b[0m\u001b[0;34m(\u001b[0m\u001b[0mcache_key\u001b[0m\u001b[0;34m,\u001b[0m \u001b[0mresponse\u001b[0m\u001b[0;34m)\u001b[0m\u001b[0;34m\u001b[0m\u001b[0;34m\u001b[0m\u001b[0m\n",
            "\u001b[0;32m/usr/local/lib/python3.6/dist-packages/requests/sessions.py\u001b[0m in \u001b[0;36msend\u001b[0;34m(self, request, **kwargs)\u001b[0m\n\u001b[1;32m    641\u001b[0m \u001b[0;34m\u001b[0m\u001b[0m\n\u001b[1;32m    642\u001b[0m         \u001b[0;31m# Send the request\u001b[0m\u001b[0;34m\u001b[0m\u001b[0;34m\u001b[0m\u001b[0;34m\u001b[0m\u001b[0m\n\u001b[0;32m--> 643\u001b[0;31m         \u001b[0mr\u001b[0m \u001b[0;34m=\u001b[0m \u001b[0madapter\u001b[0m\u001b[0;34m.\u001b[0m\u001b[0msend\u001b[0m\u001b[0;34m(\u001b[0m\u001b[0mrequest\u001b[0m\u001b[0;34m,\u001b[0m \u001b[0;34m**\u001b[0m\u001b[0mkwargs\u001b[0m\u001b[0;34m)\u001b[0m\u001b[0;34m\u001b[0m\u001b[0;34m\u001b[0m\u001b[0m\n\u001b[0m\u001b[1;32m    644\u001b[0m \u001b[0;34m\u001b[0m\u001b[0m\n\u001b[1;32m    645\u001b[0m         \u001b[0;31m# Total elapsed time of the request (approximately)\u001b[0m\u001b[0;34m\u001b[0m\u001b[0;34m\u001b[0m\u001b[0;34m\u001b[0m\u001b[0m\n",
            "\u001b[0;32m/usr/local/lib/python3.6/dist-packages/requests/adapters.py\u001b[0m in \u001b[0;36msend\u001b[0;34m(self, request, stream, timeout, verify, cert, proxies)\u001b[0m\n\u001b[1;32m    447\u001b[0m                     \u001b[0mdecode_content\u001b[0m\u001b[0;34m=\u001b[0m\u001b[0;32mFalse\u001b[0m\u001b[0;34m,\u001b[0m\u001b[0;34m\u001b[0m\u001b[0;34m\u001b[0m\u001b[0m\n\u001b[1;32m    448\u001b[0m                     \u001b[0mretries\u001b[0m\u001b[0;34m=\u001b[0m\u001b[0mself\u001b[0m\u001b[0;34m.\u001b[0m\u001b[0mmax_retries\u001b[0m\u001b[0;34m,\u001b[0m\u001b[0;34m\u001b[0m\u001b[0;34m\u001b[0m\u001b[0m\n\u001b[0;32m--> 449\u001b[0;31m                     \u001b[0mtimeout\u001b[0m\u001b[0;34m=\u001b[0m\u001b[0mtimeout\u001b[0m\u001b[0;34m\u001b[0m\u001b[0;34m\u001b[0m\u001b[0m\n\u001b[0m\u001b[1;32m    450\u001b[0m                 )\n\u001b[1;32m    451\u001b[0m \u001b[0;34m\u001b[0m\u001b[0m\n",
            "\u001b[0;32m/usr/local/lib/python3.6/dist-packages/urllib3/connectionpool.py\u001b[0m in \u001b[0;36murlopen\u001b[0;34m(self, method, url, body, headers, retries, redirect, assert_same_host, timeout, pool_timeout, release_conn, chunked, body_pos, **response_kw)\u001b[0m\n\u001b[1;32m    598\u001b[0m                                                   \u001b[0mtimeout\u001b[0m\u001b[0;34m=\u001b[0m\u001b[0mtimeout_obj\u001b[0m\u001b[0;34m,\u001b[0m\u001b[0;34m\u001b[0m\u001b[0;34m\u001b[0m\u001b[0m\n\u001b[1;32m    599\u001b[0m                                                   \u001b[0mbody\u001b[0m\u001b[0;34m=\u001b[0m\u001b[0mbody\u001b[0m\u001b[0;34m,\u001b[0m \u001b[0mheaders\u001b[0m\u001b[0;34m=\u001b[0m\u001b[0mheaders\u001b[0m\u001b[0;34m,\u001b[0m\u001b[0;34m\u001b[0m\u001b[0;34m\u001b[0m\u001b[0m\n\u001b[0;32m--> 600\u001b[0;31m                                                   chunked=chunked)\n\u001b[0m\u001b[1;32m    601\u001b[0m \u001b[0;34m\u001b[0m\u001b[0m\n\u001b[1;32m    602\u001b[0m             \u001b[0;31m# If we're going to release the connection in ``finally:``, then\u001b[0m\u001b[0;34m\u001b[0m\u001b[0;34m\u001b[0m\u001b[0;34m\u001b[0m\u001b[0m\n",
            "\u001b[0;32m/usr/local/lib/python3.6/dist-packages/urllib3/connectionpool.py\u001b[0m in \u001b[0;36m_make_request\u001b[0;34m(self, conn, method, url, timeout, chunked, **httplib_request_kw)\u001b[0m\n\u001b[1;32m    378\u001b[0m             \u001b[0;32mexcept\u001b[0m \u001b[0mTypeError\u001b[0m\u001b[0;34m:\u001b[0m  \u001b[0;31m# Python 3\u001b[0m\u001b[0;34m\u001b[0m\u001b[0;34m\u001b[0m\u001b[0m\n\u001b[1;32m    379\u001b[0m                 \u001b[0;32mtry\u001b[0m\u001b[0;34m:\u001b[0m\u001b[0;34m\u001b[0m\u001b[0;34m\u001b[0m\u001b[0m\n\u001b[0;32m--> 380\u001b[0;31m                     \u001b[0mhttplib_response\u001b[0m \u001b[0;34m=\u001b[0m \u001b[0mconn\u001b[0m\u001b[0;34m.\u001b[0m\u001b[0mgetresponse\u001b[0m\u001b[0;34m(\u001b[0m\u001b[0;34m)\u001b[0m\u001b[0;34m\u001b[0m\u001b[0;34m\u001b[0m\u001b[0m\n\u001b[0m\u001b[1;32m    381\u001b[0m                 \u001b[0;32mexcept\u001b[0m \u001b[0mException\u001b[0m \u001b[0;32mas\u001b[0m \u001b[0me\u001b[0m\u001b[0;34m:\u001b[0m\u001b[0;34m\u001b[0m\u001b[0;34m\u001b[0m\u001b[0m\n\u001b[1;32m    382\u001b[0m                     \u001b[0;31m# Remove the TypeError from the exception chain in Python 3;\u001b[0m\u001b[0;34m\u001b[0m\u001b[0;34m\u001b[0m\u001b[0;34m\u001b[0m\u001b[0m\n",
            "\u001b[0;32m/usr/lib/python3.6/http/client.py\u001b[0m in \u001b[0;36mgetresponse\u001b[0;34m(self)\u001b[0m\n\u001b[1;32m   1371\u001b[0m         \u001b[0;32mtry\u001b[0m\u001b[0;34m:\u001b[0m\u001b[0;34m\u001b[0m\u001b[0;34m\u001b[0m\u001b[0m\n\u001b[1;32m   1372\u001b[0m             \u001b[0;32mtry\u001b[0m\u001b[0;34m:\u001b[0m\u001b[0;34m\u001b[0m\u001b[0;34m\u001b[0m\u001b[0m\n\u001b[0;32m-> 1373\u001b[0;31m                 \u001b[0mresponse\u001b[0m\u001b[0;34m.\u001b[0m\u001b[0mbegin\u001b[0m\u001b[0;34m(\u001b[0m\u001b[0;34m)\u001b[0m\u001b[0;34m\u001b[0m\u001b[0;34m\u001b[0m\u001b[0m\n\u001b[0m\u001b[1;32m   1374\u001b[0m             \u001b[0;32mexcept\u001b[0m \u001b[0mConnectionError\u001b[0m\u001b[0;34m:\u001b[0m\u001b[0;34m\u001b[0m\u001b[0;34m\u001b[0m\u001b[0m\n\u001b[1;32m   1375\u001b[0m                 \u001b[0mself\u001b[0m\u001b[0;34m.\u001b[0m\u001b[0mclose\u001b[0m\u001b[0;34m(\u001b[0m\u001b[0;34m)\u001b[0m\u001b[0;34m\u001b[0m\u001b[0;34m\u001b[0m\u001b[0m\n",
            "\u001b[0;32m/usr/lib/python3.6/http/client.py\u001b[0m in \u001b[0;36mbegin\u001b[0;34m(self)\u001b[0m\n\u001b[1;32m    309\u001b[0m         \u001b[0;31m# read until we get a non-100 response\u001b[0m\u001b[0;34m\u001b[0m\u001b[0;34m\u001b[0m\u001b[0;34m\u001b[0m\u001b[0m\n\u001b[1;32m    310\u001b[0m         \u001b[0;32mwhile\u001b[0m \u001b[0;32mTrue\u001b[0m\u001b[0;34m:\u001b[0m\u001b[0;34m\u001b[0m\u001b[0;34m\u001b[0m\u001b[0m\n\u001b[0;32m--> 311\u001b[0;31m             \u001b[0mversion\u001b[0m\u001b[0;34m,\u001b[0m \u001b[0mstatus\u001b[0m\u001b[0;34m,\u001b[0m \u001b[0mreason\u001b[0m \u001b[0;34m=\u001b[0m \u001b[0mself\u001b[0m\u001b[0;34m.\u001b[0m\u001b[0m_read_status\u001b[0m\u001b[0;34m(\u001b[0m\u001b[0;34m)\u001b[0m\u001b[0;34m\u001b[0m\u001b[0;34m\u001b[0m\u001b[0m\n\u001b[0m\u001b[1;32m    312\u001b[0m             \u001b[0;32mif\u001b[0m \u001b[0mstatus\u001b[0m \u001b[0;34m!=\u001b[0m \u001b[0mCONTINUE\u001b[0m\u001b[0;34m:\u001b[0m\u001b[0;34m\u001b[0m\u001b[0;34m\u001b[0m\u001b[0m\n\u001b[1;32m    313\u001b[0m                 \u001b[0;32mbreak\u001b[0m\u001b[0;34m\u001b[0m\u001b[0;34m\u001b[0m\u001b[0m\n",
            "\u001b[0;32m/usr/lib/python3.6/http/client.py\u001b[0m in \u001b[0;36m_read_status\u001b[0;34m(self)\u001b[0m\n\u001b[1;32m    270\u001b[0m \u001b[0;34m\u001b[0m\u001b[0m\n\u001b[1;32m    271\u001b[0m     \u001b[0;32mdef\u001b[0m \u001b[0m_read_status\u001b[0m\u001b[0;34m(\u001b[0m\u001b[0mself\u001b[0m\u001b[0;34m)\u001b[0m\u001b[0;34m:\u001b[0m\u001b[0;34m\u001b[0m\u001b[0;34m\u001b[0m\u001b[0m\n\u001b[0;32m--> 272\u001b[0;31m         \u001b[0mline\u001b[0m \u001b[0;34m=\u001b[0m \u001b[0mstr\u001b[0m\u001b[0;34m(\u001b[0m\u001b[0mself\u001b[0m\u001b[0;34m.\u001b[0m\u001b[0mfp\u001b[0m\u001b[0;34m.\u001b[0m\u001b[0mreadline\u001b[0m\u001b[0;34m(\u001b[0m\u001b[0m_MAXLINE\u001b[0m \u001b[0;34m+\u001b[0m \u001b[0;36m1\u001b[0m\u001b[0;34m)\u001b[0m\u001b[0;34m,\u001b[0m \u001b[0;34m\"iso-8859-1\"\u001b[0m\u001b[0;34m)\u001b[0m\u001b[0;34m\u001b[0m\u001b[0;34m\u001b[0m\u001b[0m\n\u001b[0m\u001b[1;32m    273\u001b[0m         \u001b[0;32mif\u001b[0m \u001b[0mlen\u001b[0m\u001b[0;34m(\u001b[0m\u001b[0mline\u001b[0m\u001b[0;34m)\u001b[0m \u001b[0;34m>\u001b[0m \u001b[0m_MAXLINE\u001b[0m\u001b[0;34m:\u001b[0m\u001b[0;34m\u001b[0m\u001b[0;34m\u001b[0m\u001b[0m\n\u001b[1;32m    274\u001b[0m             \u001b[0;32mraise\u001b[0m \u001b[0mLineTooLong\u001b[0m\u001b[0;34m(\u001b[0m\u001b[0;34m\"status line\"\u001b[0m\u001b[0;34m)\u001b[0m\u001b[0;34m\u001b[0m\u001b[0;34m\u001b[0m\u001b[0m\n",
            "\u001b[0;32m/usr/lib/python3.6/socket.py\u001b[0m in \u001b[0;36mreadinto\u001b[0;34m(self, b)\u001b[0m\n\u001b[1;32m    584\u001b[0m         \u001b[0;32mwhile\u001b[0m \u001b[0;32mTrue\u001b[0m\u001b[0;34m:\u001b[0m\u001b[0;34m\u001b[0m\u001b[0;34m\u001b[0m\u001b[0m\n\u001b[1;32m    585\u001b[0m             \u001b[0;32mtry\u001b[0m\u001b[0;34m:\u001b[0m\u001b[0;34m\u001b[0m\u001b[0;34m\u001b[0m\u001b[0m\n\u001b[0;32m--> 586\u001b[0;31m                 \u001b[0;32mreturn\u001b[0m \u001b[0mself\u001b[0m\u001b[0;34m.\u001b[0m\u001b[0m_sock\u001b[0m\u001b[0;34m.\u001b[0m\u001b[0mrecv_into\u001b[0m\u001b[0;34m(\u001b[0m\u001b[0mb\u001b[0m\u001b[0;34m)\u001b[0m\u001b[0;34m\u001b[0m\u001b[0;34m\u001b[0m\u001b[0m\n\u001b[0m\u001b[1;32m    587\u001b[0m             \u001b[0;32mexcept\u001b[0m \u001b[0mtimeout\u001b[0m\u001b[0;34m:\u001b[0m\u001b[0;34m\u001b[0m\u001b[0;34m\u001b[0m\u001b[0m\n\u001b[1;32m    588\u001b[0m                 \u001b[0mself\u001b[0m\u001b[0;34m.\u001b[0m\u001b[0m_timeout_occurred\u001b[0m \u001b[0;34m=\u001b[0m \u001b[0;32mTrue\u001b[0m\u001b[0;34m\u001b[0m\u001b[0;34m\u001b[0m\u001b[0m\n",
            "\u001b[0;32m/usr/lib/python3.6/ssl.py\u001b[0m in \u001b[0;36mrecv_into\u001b[0;34m(self, buffer, nbytes, flags)\u001b[0m\n\u001b[1;32m   1010\u001b[0m                   \u001b[0;34m\"non-zero flags not allowed in calls to recv_into() on %s\"\u001b[0m \u001b[0;34m%\u001b[0m\u001b[0;34m\u001b[0m\u001b[0;34m\u001b[0m\u001b[0m\n\u001b[1;32m   1011\u001b[0m                   self.__class__)\n\u001b[0;32m-> 1012\u001b[0;31m             \u001b[0;32mreturn\u001b[0m \u001b[0mself\u001b[0m\u001b[0;34m.\u001b[0m\u001b[0mread\u001b[0m\u001b[0;34m(\u001b[0m\u001b[0mnbytes\u001b[0m\u001b[0;34m,\u001b[0m \u001b[0mbuffer\u001b[0m\u001b[0;34m)\u001b[0m\u001b[0;34m\u001b[0m\u001b[0;34m\u001b[0m\u001b[0m\n\u001b[0m\u001b[1;32m   1013\u001b[0m         \u001b[0;32melse\u001b[0m\u001b[0;34m:\u001b[0m\u001b[0;34m\u001b[0m\u001b[0;34m\u001b[0m\u001b[0m\n\u001b[1;32m   1014\u001b[0m             \u001b[0;32mreturn\u001b[0m \u001b[0msocket\u001b[0m\u001b[0;34m.\u001b[0m\u001b[0mrecv_into\u001b[0m\u001b[0;34m(\u001b[0m\u001b[0mself\u001b[0m\u001b[0;34m,\u001b[0m \u001b[0mbuffer\u001b[0m\u001b[0;34m,\u001b[0m \u001b[0mnbytes\u001b[0m\u001b[0;34m,\u001b[0m \u001b[0mflags\u001b[0m\u001b[0;34m)\u001b[0m\u001b[0;34m\u001b[0m\u001b[0;34m\u001b[0m\u001b[0m\n",
            "\u001b[0;32m/usr/lib/python3.6/ssl.py\u001b[0m in \u001b[0;36mread\u001b[0;34m(self, len, buffer)\u001b[0m\n\u001b[1;32m    872\u001b[0m             \u001b[0;32mraise\u001b[0m \u001b[0mValueError\u001b[0m\u001b[0;34m(\u001b[0m\u001b[0;34m\"Read on closed or unwrapped SSL socket.\"\u001b[0m\u001b[0;34m)\u001b[0m\u001b[0;34m\u001b[0m\u001b[0;34m\u001b[0m\u001b[0m\n\u001b[1;32m    873\u001b[0m         \u001b[0;32mtry\u001b[0m\u001b[0;34m:\u001b[0m\u001b[0;34m\u001b[0m\u001b[0;34m\u001b[0m\u001b[0m\n\u001b[0;32m--> 874\u001b[0;31m             \u001b[0;32mreturn\u001b[0m \u001b[0mself\u001b[0m\u001b[0;34m.\u001b[0m\u001b[0m_sslobj\u001b[0m\u001b[0;34m.\u001b[0m\u001b[0mread\u001b[0m\u001b[0;34m(\u001b[0m\u001b[0mlen\u001b[0m\u001b[0;34m,\u001b[0m \u001b[0mbuffer\u001b[0m\u001b[0;34m)\u001b[0m\u001b[0;34m\u001b[0m\u001b[0;34m\u001b[0m\u001b[0m\n\u001b[0m\u001b[1;32m    875\u001b[0m         \u001b[0;32mexcept\u001b[0m \u001b[0mSSLError\u001b[0m \u001b[0;32mas\u001b[0m \u001b[0mx\u001b[0m\u001b[0;34m:\u001b[0m\u001b[0;34m\u001b[0m\u001b[0;34m\u001b[0m\u001b[0m\n\u001b[1;32m    876\u001b[0m             \u001b[0;32mif\u001b[0m \u001b[0mx\u001b[0m\u001b[0;34m.\u001b[0m\u001b[0margs\u001b[0m\u001b[0;34m[\u001b[0m\u001b[0;36m0\u001b[0m\u001b[0;34m]\u001b[0m \u001b[0;34m==\u001b[0m \u001b[0mSSL_ERROR_EOF\u001b[0m \u001b[0;32mand\u001b[0m \u001b[0mself\u001b[0m\u001b[0;34m.\u001b[0m\u001b[0msuppress_ragged_eofs\u001b[0m\u001b[0;34m:\u001b[0m\u001b[0;34m\u001b[0m\u001b[0;34m\u001b[0m\u001b[0m\n",
            "\u001b[0;32m/usr/lib/python3.6/ssl.py\u001b[0m in \u001b[0;36mread\u001b[0;34m(self, len, buffer)\u001b[0m\n\u001b[1;32m    629\u001b[0m         \"\"\"\n\u001b[1;32m    630\u001b[0m         \u001b[0;32mif\u001b[0m \u001b[0mbuffer\u001b[0m \u001b[0;32mis\u001b[0m \u001b[0;32mnot\u001b[0m \u001b[0;32mNone\u001b[0m\u001b[0;34m:\u001b[0m\u001b[0;34m\u001b[0m\u001b[0;34m\u001b[0m\u001b[0m\n\u001b[0;32m--> 631\u001b[0;31m             \u001b[0mv\u001b[0m \u001b[0;34m=\u001b[0m \u001b[0mself\u001b[0m\u001b[0;34m.\u001b[0m\u001b[0m_sslobj\u001b[0m\u001b[0;34m.\u001b[0m\u001b[0mread\u001b[0m\u001b[0;34m(\u001b[0m\u001b[0mlen\u001b[0m\u001b[0;34m,\u001b[0m \u001b[0mbuffer\u001b[0m\u001b[0;34m)\u001b[0m\u001b[0;34m\u001b[0m\u001b[0;34m\u001b[0m\u001b[0m\n\u001b[0m\u001b[1;32m    632\u001b[0m         \u001b[0;32melse\u001b[0m\u001b[0;34m:\u001b[0m\u001b[0;34m\u001b[0m\u001b[0;34m\u001b[0m\u001b[0m\n\u001b[1;32m    633\u001b[0m             \u001b[0mv\u001b[0m \u001b[0;34m=\u001b[0m \u001b[0mself\u001b[0m\u001b[0;34m.\u001b[0m\u001b[0m_sslobj\u001b[0m\u001b[0;34m.\u001b[0m\u001b[0mread\u001b[0m\u001b[0;34m(\u001b[0m\u001b[0mlen\u001b[0m\u001b[0;34m)\u001b[0m\u001b[0;34m\u001b[0m\u001b[0;34m\u001b[0m\u001b[0m\n",
            "\u001b[0;31mKeyboardInterrupt\u001b[0m: "
          ]
        }
      ]
    },
    {
      "cell_type": "markdown",
      "metadata": {
        "id": "y2zYw3ZDghUP"
      },
      "source": [
        "**Get approved drugs for disease**\r\n",
        "\r\n",
        "\r\n",
        "\r\n"
      ]
    },
    {
      "cell_type": "code",
      "metadata": {
        "colab": {
          "base_uri": "https://localhost:8080/",
          "height": 194
        },
        "id": "3u_MYzwKgQgx",
        "outputId": "fbd1caaf-38b4-449a-fe1a-91aacfc5c728"
      },
      "source": [
        "from chembl_webresource_client.new_client import new_client\r\n",
        "import pandas as pd\r\n",
        "drug_indication = new_client.drug_indication\r\n",
        "molecules = new_client.molecule\r\n",
        "lung_cancer_ind = drug_indication.filter(efo_term__icontains=\"LUNG CARCINOMA\")\r\n",
        "lung_cancer_mols = molecules.filter(molecule_chembl_id__in=[x['molecule_chembl_id'] for x in lung_cancer_ind])\r\n",
        "res=pd.DataFrame(lung_cancer_mols)\r\n",
        "res.head(2)"
      ],
      "execution_count": 25,
      "outputs": [
        {
          "output_type": "execute_result",
          "data": {
            "text/html": [
              "<div>\n",
              "<style scoped>\n",
              "    .dataframe tbody tr th:only-of-type {\n",
              "        vertical-align: middle;\n",
              "    }\n",
              "\n",
              "    .dataframe tbody tr th {\n",
              "        vertical-align: top;\n",
              "    }\n",
              "\n",
              "    .dataframe thead th {\n",
              "        text-align: right;\n",
              "    }\n",
              "</style>\n",
              "<table border=\"1\" class=\"dataframe\">\n",
              "  <thead>\n",
              "    <tr style=\"text-align: right;\">\n",
              "      <th></th>\n",
              "      <th>atc_classifications</th>\n",
              "      <th>availability_type</th>\n",
              "      <th>biotherapeutic</th>\n",
              "      <th>black_box_warning</th>\n",
              "      <th>chebi_par_id</th>\n",
              "      <th>chirality</th>\n",
              "      <th>cross_references</th>\n",
              "      <th>dosed_ingredient</th>\n",
              "      <th>first_approval</th>\n",
              "      <th>first_in_class</th>\n",
              "      <th>helm_notation</th>\n",
              "      <th>indication_class</th>\n",
              "      <th>inorganic_flag</th>\n",
              "      <th>max_phase</th>\n",
              "      <th>molecule_chembl_id</th>\n",
              "      <th>molecule_hierarchy</th>\n",
              "      <th>molecule_properties</th>\n",
              "      <th>molecule_structures</th>\n",
              "      <th>molecule_synonyms</th>\n",
              "      <th>molecule_type</th>\n",
              "      <th>natural_product</th>\n",
              "      <th>oral</th>\n",
              "      <th>parenteral</th>\n",
              "      <th>polymer_flag</th>\n",
              "      <th>pref_name</th>\n",
              "      <th>prodrug</th>\n",
              "      <th>structure_type</th>\n",
              "      <th>therapeutic_flag</th>\n",
              "      <th>topical</th>\n",
              "      <th>usan_stem</th>\n",
              "      <th>usan_stem_definition</th>\n",
              "      <th>usan_substem</th>\n",
              "      <th>usan_year</th>\n",
              "      <th>withdrawn_class</th>\n",
              "      <th>withdrawn_country</th>\n",
              "      <th>withdrawn_flag</th>\n",
              "      <th>withdrawn_reason</th>\n",
              "      <th>withdrawn_year</th>\n",
              "    </tr>\n",
              "  </thead>\n",
              "  <tbody>\n",
              "    <tr>\n",
              "      <th>0</th>\n",
              "      <td>[L04AA10, S01XA23]</td>\n",
              "      <td>1.0</td>\n",
              "      <td>None</td>\n",
              "      <td>1</td>\n",
              "      <td>9168.0</td>\n",
              "      <td>1</td>\n",
              "      <td>[{'xref_id': 'sirolimus', 'xref_name': 'siroli...</td>\n",
              "      <td>True</td>\n",
              "      <td>1999.0</td>\n",
              "      <td>0</td>\n",
              "      <td>None</td>\n",
              "      <td>Immunosuppressant</td>\n",
              "      <td>0</td>\n",
              "      <td>4</td>\n",
              "      <td>CHEMBL413</td>\n",
              "      <td>{'molecule_chembl_id': 'CHEMBL413', 'parent_ch...</td>\n",
              "      <td>{'alogp': '6.18', 'aromatic_rings': 0, 'cx_log...</td>\n",
              "      <td>{'canonical_smiles': 'CO[C@H]1C[C@@H]2CC[C@@H]...</td>\n",
              "      <td>[{'molecule_synonym': 'AY-22989', 'syn_type': ...</td>\n",
              "      <td>Small molecule</td>\n",
              "      <td>1</td>\n",
              "      <td>True</td>\n",
              "      <td>False</td>\n",
              "      <td>False</td>\n",
              "      <td>SIROLIMUS</td>\n",
              "      <td>0</td>\n",
              "      <td>MOL</td>\n",
              "      <td>True</td>\n",
              "      <td>False</td>\n",
              "      <td>-imus</td>\n",
              "      <td>immunosuppressives: immunosuppressant, rapamyc...</td>\n",
              "      <td>-imus (-rolimus)</td>\n",
              "      <td>1993.0</td>\n",
              "      <td>None</td>\n",
              "      <td>None</td>\n",
              "      <td>False</td>\n",
              "      <td>None</td>\n",
              "      <td>NaN</td>\n",
              "    </tr>\n",
              "    <tr>\n",
              "      <th>1</th>\n",
              "      <td>[L01DB03]</td>\n",
              "      <td>1.0</td>\n",
              "      <td>None</td>\n",
              "      <td>1</td>\n",
              "      <td>47898.0</td>\n",
              "      <td>1</td>\n",
              "      <td>[{'xref_id': 'epirubicin%20hydrochloride', 'xr...</td>\n",
              "      <td>False</td>\n",
              "      <td>1999.0</td>\n",
              "      <td>0</td>\n",
              "      <td>None</td>\n",
              "      <td>Antineoplastic</td>\n",
              "      <td>0</td>\n",
              "      <td>4</td>\n",
              "      <td>CHEMBL417</td>\n",
              "      <td>{'molecule_chembl_id': 'CHEMBL417', 'parent_ch...</td>\n",
              "      <td>{'alogp': '0.00', 'aromatic_rings': 2, 'cx_log...</td>\n",
              "      <td>{'canonical_smiles': 'COc1cccc2c1C(=O)c1c(O)c3...</td>\n",
              "      <td>[{'molecule_synonym': 'Ellence', 'syn_type': '...</td>\n",
              "      <td>Small molecule</td>\n",
              "      <td>1</td>\n",
              "      <td>False</td>\n",
              "      <td>True</td>\n",
              "      <td>False</td>\n",
              "      <td>EPIRUBICIN</td>\n",
              "      <td>0</td>\n",
              "      <td>MOL</td>\n",
              "      <td>True</td>\n",
              "      <td>False</td>\n",
              "      <td>-rubicin</td>\n",
              "      <td>antineoplastic antibiotics (daunorubicin type)</td>\n",
              "      <td>-rubicin</td>\n",
              "      <td>1984.0</td>\n",
              "      <td>None</td>\n",
              "      <td>None</td>\n",
              "      <td>False</td>\n",
              "      <td>None</td>\n",
              "      <td>NaN</td>\n",
              "    </tr>\n",
              "  </tbody>\n",
              "</table>\n",
              "</div>"
            ],
            "text/plain": [
              "  atc_classifications  availability_type  ... withdrawn_reason  withdrawn_year\n",
              "0  [L04AA10, S01XA23]                1.0  ...             None             NaN\n",
              "1           [L01DB03]                1.0  ...             None             NaN\n",
              "\n",
              "[2 rows x 38 columns]"
            ]
          },
          "metadata": {
            "tags": []
          },
          "execution_count": 25
        }
      ]
    },
    {
      "cell_type": "code",
      "metadata": {
        "colab": {
          "base_uri": "https://localhost:8080/"
        },
        "id": "CsQnY0sfNtBo",
        "outputId": "77ac8813-e20b-45e4-fdca-3c8af71e70ac"
      },
      "source": [
        "from chembl_webresource_client.new_client import *\r\n",
        "import pandas as pd\r\n",
        "import cairosvg\r\n",
        "import os\r\n",
        "\r\n",
        "molecule = new_client.molecule\r\n",
        "res = molecule.search('Paracetamole')\r\n",
        "res = pd.DataFrame(res)\r\n",
        "\r\n",
        "res =res[['molecule_chembl_id','pref_name','molecule_structures']]\r\n",
        "\r\n",
        "res= res.astype({'molecule_structures': str})\r\n",
        "#res.info() \r\n",
        "res['molecule_structures'] = res['molecule_structures'].astype('string')\r\n",
        "res['molecule_structures'][0]\r\n",
        "res['molecule_structures'] = res['molecule_structures'].apply(lambda x: (x.split(\":\")[1]).split(\",\")[0])\r\n",
        "res\r\n",
        "for x in res.values:\r\n",
        "  url = \"https://www.ebi.ac.uk/chembl/api/data/image/\" + x[0] + \".svg\"\r\n",
        "  mol_str = x[0] + \".png\"\r\n",
        "  print(url)\r\n"
      ],
      "execution_count": 87,
      "outputs": [
        {
          "output_type": "stream",
          "text": [
            "https://www.ebi.ac.uk/chembl/api/data/image/CHEMBL112.svg\n",
            "https://www.ebi.ac.uk/chembl/api/data/image/CHEMBL3544802.svg\n",
            "https://www.ebi.ac.uk/chembl/api/data/image/CHEMBL1647.svg\n"
          ],
          "name": "stdout"
        }
      ]
    },
    {
      "cell_type": "code",
      "metadata": {
        "colab": {
          "base_uri": "https://localhost:8080/",
          "height": 136
        },
        "id": "B9e6CNAgY_O6",
        "outputId": "2dfcbcc6-a9fa-49c8-a138-6824b507ba55"
      },
      "source": [
        "molecule = new_client.molecule\r\n",
        "res = molecule.search('Paracetamole')\r\n",
        "res = pd.DataFrame(res)\r\n",
        "\r\n",
        "res =res[['molecule_chembl_id','pref_name','molecule_structures']]\r\n",
        "\r\n",
        "res= res.astype({'molecule_structures': str})\r\n",
        "#res.info() \r\n",
        "res['molecule_structures'] = res['molecule_structures'].astype('string')\r\n",
        "res['molecule_structures'][0]\r\n",
        "res['molecule_structures'] = res['molecule_structures'].apply(lambda x: (x.split(\":\")[1]).split(\",\")[0])\r\n",
        "res"
      ],
      "execution_count": 86,
      "outputs": [
        {
          "output_type": "execute_result",
          "data": {
            "text/html": [
              "<div>\n",
              "<style scoped>\n",
              "    .dataframe tbody tr th:only-of-type {\n",
              "        vertical-align: middle;\n",
              "    }\n",
              "\n",
              "    .dataframe tbody tr th {\n",
              "        vertical-align: top;\n",
              "    }\n",
              "\n",
              "    .dataframe thead th {\n",
              "        text-align: right;\n",
              "    }\n",
              "</style>\n",
              "<table border=\"1\" class=\"dataframe\">\n",
              "  <thead>\n",
              "    <tr style=\"text-align: right;\">\n",
              "      <th></th>\n",
              "      <th>molecule_chembl_id</th>\n",
              "      <th>pref_name</th>\n",
              "      <th>molecule_structures</th>\n",
              "    </tr>\n",
              "  </thead>\n",
              "  <tbody>\n",
              "    <tr>\n",
              "      <th>0</th>\n",
              "      <td>CHEMBL112</td>\n",
              "      <td>ACETAMINOPHEN</td>\n",
              "      <td>'CC(=O)Nc1ccc(O)cc1'</td>\n",
              "    </tr>\n",
              "    <tr>\n",
              "      <th>1</th>\n",
              "      <td>CHEMBL3544802</td>\n",
              "      <td>None</td>\n",
              "      <td>'CC(=O)Nc1ccc(OS(=O)(=O)O)cc1'</td>\n",
              "    </tr>\n",
              "    <tr>\n",
              "      <th>2</th>\n",
              "      <td>CHEMBL1647</td>\n",
              "      <td>ACETAMINOPHEN GLUCURONIDE</td>\n",
              "      <td>'CC(=O)Nc1ccc(O[C@@H]2O[C@H](C(=O)O)[C@@H](O)...</td>\n",
              "    </tr>\n",
              "  </tbody>\n",
              "</table>\n",
              "</div>"
            ],
            "text/plain": [
              "  molecule_chembl_id  ...                                molecule_structures\n",
              "0          CHEMBL112  ...                               'CC(=O)Nc1ccc(O)cc1'\n",
              "1      CHEMBL3544802  ...                     'CC(=O)Nc1ccc(OS(=O)(=O)O)cc1'\n",
              "2         CHEMBL1647  ...   'CC(=O)Nc1ccc(O[C@@H]2O[C@H](C(=O)O)[C@@H](O)...\n",
              "\n",
              "[3 rows x 3 columns]"
            ]
          },
          "metadata": {
            "tags": []
          },
          "execution_count": 86
        }
      ]
    },
    {
      "cell_type": "code",
      "metadata": {
        "id": "MEg16-_vWBaO"
      },
      "source": [
        "import pandas as pd\r\n",
        "molecule = new_client.molecule\r\n",
        "res = molecule.search('Paracetamole')\r\n",
        "res = pd.DataFrame(res)\r\n",
        "res =res[['molecule_chembl_id''pref_name','molecule_structures']]\r\n",
        "res= res.astype({'molecule_structures': str})\r\n",
        "res['molecule_structures'] = res['molecule_structures'].astype('string')\r\n",
        "res['molecule_structures']\r\n",
        "\r\n",
        "res['molecule_structures'] = res['molecule_structures'].apply(lambda x: (x.split(\":\")[1]).split(\",\")[0])\r\n",
        "\r\n",
        "for x in res.values:\r\n",
        "  print('Id : {} , Name : {} , Structure : {}'.format(x[0], x[1], x[2]))"
      ],
      "execution_count": null,
      "outputs": []
    },
    {
      "cell_type": "code",
      "metadata": {
        "id": "kG_dQ2pWTQeq"
      },
      "source": [
        "def func1(row):\r\n",
        "    return pd.Series((row['molecule_structures'].split(':')[1]).split[','][0])"
      ],
      "execution_count": null,
      "outputs": []
    },
    {
      "cell_type": "code",
      "metadata": {
        "colab": {
          "base_uri": "https://localhost:8080/"
        },
        "id": "0TeK6qjQUQlF",
        "outputId": "6e4f712d-eb18-4004-bd4c-dfa44a57455e"
      },
      "source": [
        "molecule = new_client.molecule\r\n",
        "res = molecule.search('Paracetamol')\r\n",
        "res = pd.DataFrame(res)\r\n",
        "res =res[['pref_name','molecule_structures']]\r\n",
        "res= res.astype({'molecule_structures': str})\r\n",
        "#res.info() \r\n",
        "res['molecule_structures'] = res['molecule_structures'].astype('string')\r\n",
        "res=res['molecule_structures'][0]\r\n",
        "\r\n",
        "\r\n",
        "x = txt.split(\": \")\r\n",
        "\r\n",
        "print(x)"
      ],
      "execution_count": null,
      "outputs": [
        {
          "output_type": "stream",
          "text": [
            "[\"{'canonical_smiles'\", \"'CC(=O)Nc1ccc(O)cc1', 'molfile'\", \"'\\\\n     RDKit          2D\\\\n\\\\n 11 11  0  0  0  0  0  0  0  0999 V2000\\\\n    1.5548   -3.6021    0.0000 C   0  0  0  0  0  0  0  0  0  0  0  0\\\\n    2.5951   -3.0039    0.0000 C   0  0  0  0  0  0  0  0  0  0  0  0\\\\n    3.6331   -3.6060    0.0000 O   0  0  0  0  0  0  0  0  0  0  0  0\\\\n    2.5973   -1.5031    0.0000 N   0  0  0  0  0  0  0  0  0  0  0  0\\\\n    1.2990   -0.7500    0.0000 C   0  0  0  0  0  0  0  0  0  0  0  0\\\\n    1.2990    0.7500    0.0000 C   0  0  0  0  0  0  0  0  0  0  0  0\\\\n    0.0000    1.5000    0.0000 C   0  0  0  0  0  0  0  0  0  0  0  0\\\\n   -1.2990    0.7500    0.0000 C   0  0  0  0  0  0  0  0  0  0  0  0\\\\n   -2.3383    1.3500    0.0000 O   0  0  0  0  0  0  0  0  0  0  0  0\\\\n   -1.2990   -0.7500    0.0000 C   0  0  0  0  0  0  0  0  0  0  0  0\\\\n    0.0000   -1.5000    0.0000 C   0  0  0  0  0  0  0  0  0  0  0  0\\\\n  1  2  1  0\\\\n  2  3  2  0\\\\n  2  4  1  0\\\\n  4  5  1  0\\\\n  5  6  2  0\\\\n  6  7  1  0\\\\n  7  8  2  0\\\\n  8  9  1  0\\\\n  8 10  1  0\\\\n 10 11  2  0\\\\n 11  5  1  0\\\\nM  END\\\\n\\\\n> <chembl_id>\\\\nCHEMBL112\\\\n\\\\n> <chembl_pref_name>\\\\nACETAMINOPHEN\\\\n\\\\n', 'standard_inchi'\", \"'InChI=1S/C8H9NO2/c1-6(10)9-7-2-4-8(11)5-3-7/h2-5,11H,1H3,(H,9,10)', 'standard_inchi_key'\", \"'RZVAJINKPMORJF-UHFFFAOYSA-N'}\"]\n"
          ],
          "name": "stdout"
        }
      ]
    },
    {
      "cell_type": "code",
      "metadata": {
        "id": "0pr6SZo3hRof"
      },
      "source": [
        "from chembl_webresource_client.new_client import new_client\r\n",
        "molecule = new_client.molecule\r\n",
        "res = molecule.search('ibuprofen')\r\n",
        "res[0]"
      ],
      "execution_count": null,
      "outputs": []
    },
    {
      "cell_type": "code",
      "metadata": {
        "id": "DO_mMw8vY8e-"
      },
      "source": [
        "#importing files\r\n",
        "from svglib.svglib import svg2rlg\r\n",
        "from reportlab.graphics import renderPDF, renderPM\r\n",
        "from pathlib import Path\r\n",
        "import requests\r\n",
        "from io import BytesIO\r\n",
        "import matplotlib.pyplot as plt\r\n",
        "\r\n",
        "#Address\r\n",
        "url=\"https://www.ebi.ac.uk/chembl/api/data/image/CHEMBL1584351.svg\"\r\n",
        "response = requests.get(url)\r\n",
        "image = Image.open(response)\r\n",
        "image\r\n",
        "#passing object \r\n",
        "drawing = svg2rlg(BytesIO(response.content))\r\n",
        "drawing\r\n",
        "renderPDF.drawToFile(drawing, \"file.pdf\")\r\n",
        "renderPM.drawToFile(drawing, \"file.png\", fmt=\"PNG\")\r\n",
        "\r\n"
      ],
      "execution_count": null,
      "outputs": []
    },
    {
      "cell_type": "code",
      "metadata": {
        "id": "PBBT_tZ7zjzY"
      },
      "source": [
        "import cairosvg\r\n",
        "from PIL import Image\r\n",
        "import requests\r\n",
        "from io import BytesIO\r\n",
        "\r\n",
        "url = \"https://www.ebi.ac.uk/chembl/api/data/image/\" + \"CHEMBL1584351\" + \".svg\"\r\n",
        "cairosvg.svg2png(url=url, write_to=\"CHEMBL1584351.jpg\")\r\n",
        "aux_im = Image.open('CHEMBL1584351.jpg')\r\n",
        "aux_im\r\n"
      ],
      "execution_count": null,
      "outputs": []
    },
    {
      "cell_type": "code",
      "metadata": {
        "colab": {
          "base_uri": "https://localhost:8080/",
          "height": 517
        },
        "id": "8FnzwgedH_qo",
        "outputId": "a6445926-cc7d-410b-8501-1adf2f05b101"
      },
      "source": [
        "import cairosvg\r\n",
        "from PIL import Image\r\n",
        "#import requests\r\n",
        "#from io import BytesIO\r\n",
        "\r\n",
        "a=cairosvg.svg2png(url=\"https://www.ebi.ac.uk/chembl/api/data/image/CHEMBL1584358.svg\", write_to=\"CHEMBL1584358.jpg\")\r\n",
        "aux_im = Image.open('CHEMBL1584358.jpg')\r\n",
        "aux_im\r\n",
        "#https://www.ebi.ac.uk/chembl/api/data/image/CHEMBL1584358.svg"
      ],
      "execution_count": 3,
      "outputs": [
        {
          "output_type": "execute_result",
          "data": {
            "image/png": "[encoded data removed]",
            "text/plain": [
              "<PIL.PngImagePlugin.PngImageFile image mode=RGBA size=500x500 at 0x7F47CACD7CF8>"
            ]
          },
          "metadata": {
            "tags": []
          },
          "execution_count": 3
        }
      ]
    },
    {
      "cell_type": "code",
      "metadata": {
        "id": "U2iFw4rs0E8l"
      },
      "source": [
        "import pyvips\r\n",
        "\r\n",
        "image = pyvips.Image.new_from_file(\"https://www.ebi.ac.uk/chembl/api/data/image/CHEMBL1584351.svg\", dpi=300)\r\n",
        "image.write_to_file(\"https://www.ebi.ac.uk/chembl/api/data/image/CHEMBL1584351.png\")\r\n",
        "\r\n",
        "cairosvg.svg2pdf(url='image.svg', write_to='image.pdf')"
      ],
      "execution_count": null,
      "outputs": []
    },
    {
      "cell_type": "code",
      "metadata": {
        "id": "i3th8SHh0V6t"
      },
      "source": [
        "!pip install pyvips"
      ],
      "execution_count": null,
      "outputs": []
    },
    {
      "cell_type": "code",
      "metadata": {
        "colab": {
          "base_uri": "https://localhost:8080/"
        },
        "id": "_cjvsFSozt2c",
        "outputId": "c41f2c57-6a40-44b0-917a-76f4a3064651"
      },
      "source": [
        "!pip install cairosvg"
      ],
      "execution_count": 2,
      "outputs": [
        {
          "output_type": "stream",
          "text": [
            "Collecting cairosvg\n",
            "\u001b[?25l  Downloading https://files.pythonhosted.org/packages/5c/a0/9900cf4556f5d55f09bd8c6c28454349235e77ac56f648a463fc0df0045b/CairoSVG-2.5.1-py3-none-any.whl (45kB)\n",
            "\r\u001b[K     |███████▏                        | 10kB 19.4MB/s eta 0:00:01\r\u001b[K     |██████████████▎                 | 20kB 15.6MB/s eta 0:00:01\r\u001b[K     |█████████████████████▌          | 30kB 13.7MB/s eta 0:00:01\r\u001b[K     |████████████████████████████▋   | 40kB 12.9MB/s eta 0:00:01\r\u001b[K     |████████████████████████████████| 51kB 4.6MB/s \n",
            "\u001b[?25hCollecting cssselect2\n",
            "  Downloading https://files.pythonhosted.org/packages/99/da/c86ec74495c69518720652f8aa8ab642d8af61a2098eede9db8b03d3c8b4/cssselect2-0.4.1-py3-none-any.whl\n",
            "Requirement already satisfied: defusedxml in /usr/local/lib/python3.6/dist-packages (from cairosvg) (0.6.0)\n",
            "Requirement already satisfied: pillow in /usr/local/lib/python3.6/dist-packages (from cairosvg) (7.0.0)\n",
            "Collecting cairocffi\n",
            "\u001b[?25l  Downloading https://files.pythonhosted.org/packages/84/ca/0bffed5116d21251469df200448667e90acaa5131edea869b44a3fbc73d0/cairocffi-1.2.0.tar.gz (70kB)\n",
            "\u001b[K     |████████████████████████████████| 71kB 6.6MB/s \n",
            "\u001b[?25hCollecting tinycss2\n",
            "  Downloading https://files.pythonhosted.org/packages/65/f7/63bf697a7c7257d304269b49f1be3dfe429856889e93963d6f5790d77d82/tinycss2-1.1.0-py3-none-any.whl\n",
            "Requirement already satisfied: webencodings in /usr/local/lib/python3.6/dist-packages (from cssselect2->cairosvg) (0.5.1)\n",
            "Requirement already satisfied: cffi>=1.1.0 in /usr/local/lib/python3.6/dist-packages (from cairocffi->cairosvg) (1.14.4)\n",
            "Requirement already satisfied: pycparser in /usr/local/lib/python3.6/dist-packages (from cffi>=1.1.0->cairocffi->cairosvg) (2.20)\n",
            "Building wheels for collected packages: cairocffi\n",
            "  Building wheel for cairocffi (setup.py) ... \u001b[?25l\u001b[?25hdone\n",
            "  Created wheel for cairocffi: filename=cairocffi-1.2.0-cp36-none-any.whl size=89552 sha256=237a1d49b1444d73e08b51c19f682c603a35a1b056bd92ac200377bac098b22a\n",
            "  Stored in directory: /root/.cache/pip/wheels/40/76/48/f1effadceea83b32e7d957dd0f92db4db8b537d7b72b4ef374\n",
            "Successfully built cairocffi\n",
            "Installing collected packages: tinycss2, cssselect2, cairocffi, cairosvg\n",
            "Successfully installed cairocffi-1.2.0 cairosvg-2.5.1 cssselect2-0.4.1 tinycss2-1.1.0\n"
          ],
          "name": "stdout"
        }
      ]
    },
    {
      "cell_type": "code",
      "metadata": {
        "id": "n66mBVHqy5yT"
      },
      "source": [
        "import io\r\n",
        "import requests\r\n",
        "from PIL import Image\r\n",
        "r = requests.get('https://www.bimbaylola.com/media/catalog/product/1/8/182BAC104_T2200_P_T_XX_1.jpg', stream=True)\r\n",
        "aux_im = Image.open(io.BytesIO(r.content))\r\n",
        "aux_im"
      ],
      "execution_count": null,
      "outputs": []
    },
    {
      "cell_type": "code",
      "metadata": {
        "id": "UpW7lEk3w-Gk"
      },
      "source": [
        "response = requests.get(\"https://i.imgur.com/ExdKOOz.png\")\r\n",
        "image_bytes = io.BytesIO(response.content)\r\n",
        "\r\n",
        "img = PIL.Image.open(image_bytes)\r\n",
        "img.show()"
      ],
      "execution_count": null,
      "outputs": []
    },
    {
      "cell_type": "code",
      "metadata": {
        "colab": {
          "base_uri": "https://localhost:8080/"
        },
        "id": "SZua0BivZBZv",
        "outputId": "73c112a8-316f-40a1-9a3e-04ac8118658b"
      },
      "source": [
        "!pip install svglib\r\n",
        "!pip install scikit-image"
      ],
      "execution_count": 65,
      "outputs": [
        {
          "output_type": "stream",
          "text": [
            "Requirement already satisfied: scikit-image in /usr/local/lib/python3.6/dist-packages (0.16.2)\n",
            "Requirement already satisfied: scipy>=0.19.0 in /usr/local/lib/python3.6/dist-packages (from scikit-image) (1.4.1)\n",
            "Requirement already satisfied: matplotlib!=3.0.0,>=2.0.0 in /usr/local/lib/python3.6/dist-packages (from scikit-image) (3.2.2)\n",
            "Requirement already satisfied: networkx>=2.0 in /usr/local/lib/python3.6/dist-packages (from scikit-image) (2.5)\n",
            "Requirement already satisfied: PyWavelets>=0.4.0 in /usr/local/lib/python3.6/dist-packages (from scikit-image) (1.1.1)\n",
            "Requirement already satisfied: pillow>=4.3.0 in /usr/local/lib/python3.6/dist-packages (from scikit-image) (7.0.0)\n",
            "Requirement already satisfied: imageio>=2.3.0 in /usr/local/lib/python3.6/dist-packages (from scikit-image) (2.4.1)\n",
            "Requirement already satisfied: numpy>=1.13.3 in /usr/local/lib/python3.6/dist-packages (from scipy>=0.19.0->scikit-image) (1.19.5)\n",
            "Requirement already satisfied: pyparsing!=2.0.4,!=2.1.2,!=2.1.6,>=2.0.1 in /usr/local/lib/python3.6/dist-packages (from matplotlib!=3.0.0,>=2.0.0->scikit-image) (2.4.7)\n",
            "Requirement already satisfied: kiwisolver>=1.0.1 in /usr/local/lib/python3.6/dist-packages (from matplotlib!=3.0.0,>=2.0.0->scikit-image) (1.3.1)\n",
            "Requirement already satisfied: python-dateutil>=2.1 in /usr/local/lib/python3.6/dist-packages (from matplotlib!=3.0.0,>=2.0.0->scikit-image) (2.8.1)\n",
            "Requirement already satisfied: cycler>=0.10 in /usr/local/lib/python3.6/dist-packages (from matplotlib!=3.0.0,>=2.0.0->scikit-image) (0.10.0)\n",
            "Requirement already satisfied: decorator>=4.3.0 in /usr/local/lib/python3.6/dist-packages (from networkx>=2.0->scikit-image) (4.4.2)\n",
            "Requirement already satisfied: six>=1.5 in /usr/local/lib/python3.6/dist-packages (from python-dateutil>=2.1->matplotlib!=3.0.0,>=2.0.0->scikit-image) (1.15.0)\n"
          ],
          "name": "stdout"
        }
      ]
    }
  ]
}