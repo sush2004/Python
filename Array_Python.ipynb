{
  "nbformat": 4,
  "nbformat_minor": 0,
  "metadata": {
    "colab": {
      "name": "Array_Python.ipynb",
      "provenance": [],
      "collapsed_sections": [
        "FRGF03Qdu8SL"
      ],
      "authorship_tag": "ABX9TyO5XeVYBWJPKiylscQnuU8A",
      "include_colab_link": true
    },
    "kernelspec": {
      "name": "python3",
      "display_name": "Python 3"
    }
  },
  "cells": [
    {
      "cell_type": "markdown",
      "metadata": {
        "id": "view-in-github",
        "colab_type": "text"
      },
      "source": [
        "<a href=\"https://colab.research.google.com/github/sush2004/Python/blob/main/Array_Python.ipynb\" target=\"_parent\"><img src=\"https://colab.research.google.com/assets/colab-badge.svg\" alt=\"Open In Colab\"/></a>"
      ]
    },
    {
      "cell_type": "markdown",
      "metadata": {
        "id": "jyfyoH72CwcQ"
      },
      "source": [
        "Print pyramid structure "
      ]
    },
    {
      "cell_type": "code",
      "metadata": {
        "id": "wWS12CTjArAT",
        "outputId": "1d4b22ab-e5d8-4d80-8b31-baf254da37d8",
        "colab": {
          "base_uri": "https://localhost:8080/"
        }
      },
      "source": [
        "for i in range(4):    # i can take value from 0 to 3\n",
        "    for j in range(i+1): # j will start taking value from 1 to 4\n",
        "     print(\" # \", end = \"\")\n",
        "     \n",
        "    print()"
      ],
      "execution_count": null,
      "outputs": [
        {
          "output_type": "stream",
          "text": [
            " # \n",
            " #  # \n",
            " #  #  # \n",
            " #  #  #  # \n"
          ],
          "name": "stdout"
        }
      ]
    },
    {
      "cell_type": "markdown",
      "metadata": {
        "id": "orXxxauhDNey"
      },
      "source": [
        "Print inverse Pyramid Structure"
      ]
    },
    {
      "cell_type": "code",
      "metadata": {
        "id": "LhTqW1YyC8cl",
        "outputId": "1a792c70-4523-4690-dc83-dbfa72bf778a",
        "colab": {
          "base_uri": "https://localhost:8080/"
        }
      },
      "source": [
        "for i in range(4):\n",
        "   for j in range(4-i):\n",
        "     print(\"# \", end=\"\")\n",
        "\n",
        "   print()"
      ],
      "execution_count": null,
      "outputs": [
        {
          "output_type": "stream",
          "text": [
            "# # # # \n",
            "# # # \n",
            "# # \n",
            "# \n"
          ],
          "name": "stdout"
        }
      ]
    },
    {
      "cell_type": "markdown",
      "metadata": {
        "id": "-iHpNTxgD0H1"
      },
      "source": [
        "Print number which is divisible by 6"
      ]
    },
    {
      "cell_type": "code",
      "metadata": {
        "id": "qf7Zga8VDaEG",
        "outputId": "c3b98d59-9f40-4bdf-8c9a-01ae6ed5d990",
        "colab": {
          "base_uri": "https://localhost:8080/"
        }
      },
      "source": [
        "nums = [31, 336, 56, 11, 96]  \n",
        "\n",
        "for i in nums:\n",
        "  if i % 6 == 0:\n",
        "    print(\"Number divisible by 6 is \", i)\n",
        "    break\n",
        "else:\n",
        "   print(\"Not found\")\n",
        "        "
      ],
      "execution_count": null,
      "outputs": [
        {
          "output_type": "stream",
          "text": [
            "Number divisible by 6 is  336\n"
          ],
          "name": "stdout"
        }
      ]
    },
    {
      "cell_type": "markdown",
      "metadata": {
        "id": "iNGOhO6SJhGt"
      },
      "source": [
        "Program to check whether a number is Prime or not"
      ]
    },
    {
      "cell_type": "code",
      "metadata": {
        "id": "1fRG9CLNJgNN",
        "outputId": "f40a4434-1d0b-4558-d807-0af183b49908",
        "colab": {
          "base_uri": "https://localhost:8080/"
        }
      },
      "source": [
        "num = int(input(\"Enter the number\"))  # taking user input\n",
        "for i in range(2, num):            # running for  loop from 2 to num-19\n",
        "  if num % i == 0:                \n",
        "    print(\"The number is not prime\")\n",
        "    break\n",
        "else:\n",
        "   print(\"The number is prime\")"
      ],
      "execution_count": null,
      "outputs": [
        {
          "output_type": "stream",
          "text": [
            "Enter the number7\n",
            "The number is prime\n"
          ],
          "name": "stdout"
        }
      ]
    },
    {
      "cell_type": "markdown",
      "metadata": {
        "id": "uMbGuddvOBYX"
      },
      "source": [
        "Program to print all Prime numbers in an Interval\n"
      ]
    },
    {
      "cell_type": "code",
      "metadata": {
        "id": "SO1s5MGgOAU-",
        "outputId": "4dedc628-8bbb-4be3-a952-1ce5cf4afbcf",
        "colab": {
          "base_uri": "https://localhost:8080/"
        }
      },
      "source": [
        "lower = 0\n",
        "upper = 10\n",
        "print(\"Prime number between\", lower, \"and\", upper, \"are:\")\n",
        "for num in range(lower, upper + 1):  # num can take value from 0 to 10\n",
        "  if num > 1:                       # 0 and 1 eliminated that means 2 to 10.\n",
        "    for i in range(2, num):           # i can take value from 2 to 9\n",
        "        if (num % i) == 0:\n",
        "          break\n",
        "    else:       \n",
        "        print(num)\n",
        "\n"
      ],
      "execution_count": null,
      "outputs": [
        {
          "output_type": "stream",
          "text": [
            "Prime number between 0 and 10 are:\n",
            "2\n",
            "3\n",
            "5\n",
            "7\n"
          ],
          "name": "stdout"
        }
      ]
    },
    {
      "cell_type": "markdown",
      "metadata": {
        "id": "u1DdzqDVavfM"
      },
      "source": [
        "Print square of number using for loop in array"
      ]
    },
    {
      "cell_type": "code",
      "metadata": {
        "id": "ZkHpYZEqZWqQ",
        "outputId": "fe0da964-7e24-4ebd-8469-b1f5a76517ed",
        "colab": {
          "base_uri": "https://localhost:8080/"
        }
      },
      "source": [
        "vals = array('i', [4,8,7,8,9])\n",
        "\n",
        "newArr = array(vals.typecode, (a*a for a in vals))\n",
        "\n",
        "for e in newArr:\n",
        "  print(e)"
      ],
      "execution_count": null,
      "outputs": [
        {
          "output_type": "stream",
          "text": [
            "16\n",
            "64\n",
            "49\n",
            "64\n",
            "81\n"
          ],
          "name": "stdout"
        }
      ]
    },
    {
      "cell_type": "code",
      "metadata": {
        "id": "cO3F514WaIqa",
        "outputId": "a1aaed12-9e6b-413b-f24b-a2f467f4988f",
        "colab": {
          "base_uri": "https://localhost:8080/"
        }
      },
      "source": [
        "vals = array('i', [4,8,7,8,9])\n",
        "newArr = array(vals.typecode, (a*a for a in vals))\n",
        "i = 0\n",
        "while i < len(newArr):\n",
        "  print(newArr[i])\n",
        "  i+=1"
      ],
      "execution_count": null,
      "outputs": [
        {
          "output_type": "stream",
          "text": [
            "16\n",
            "64\n",
            "49\n",
            "64\n",
            "81\n"
          ],
          "name": "stdout"
        }
      ]
    },
    {
      "cell_type": "markdown",
      "metadata": {
        "id": "Nk9eq_I5zSaH"
      },
      "source": [
        "Enter value in array and then search the index value of element of the array."
      ]
    },
    {
      "cell_type": "code",
      "metadata": {
        "id": "Y8XBFIYFpHLf",
        "outputId": "5361570e-1ed1-4518-a909-936a47af4c35",
        "colab": {
          "base_uri": "https://localhost:8080/"
        }
      },
      "source": [
        "arr = array('i', [])                            #declaring array\n",
        "n = int(input(\"Enter the length of the array\"))               # taking input from user\n",
        "for i in range(n):                              # using for inputting value.\n",
        "  x = int(input(\"Enter the next value\"))\n",
        "  arr.append(x)\n",
        "\n",
        "print(arr[0])           # printing value of array by fetching index\n",
        "\n",
        "val = int(input(\"Enter the value you need to search\"))  \n",
        "k = 0                             #setting counter\n",
        "for e in arr:                     \n",
        "  if e== val:\n",
        "    print(k)\n",
        "    \n",
        "  k+=1\n",
        "\n",
        "  #print(arr.index(val))"
      ],
      "execution_count": null,
      "outputs": [
        {
          "output_type": "stream",
          "text": [
            "Enter the length of the array5\n",
            "Enter the next value44\n",
            "Enter the next value99\n",
            "Enter the next value44\n",
            "Enter the next value66\n",
            "Enter the next value88\n",
            "44\n",
            "Enter the value you need to search44\n",
            "0\n",
            "2\n"
          ],
          "name": "stdout"
        }
      ]
    },
    {
      "cell_type": "markdown",
      "metadata": {
        "id": "UJ7FnAw_l1kZ"
      },
      "source": [
        "Concatenate two arrays"
      ]
    },
    {
      "cell_type": "code",
      "metadata": {
        "id": "ZIpjhikAvSGV",
        "outputId": "a9194083-98a8-48ed-c1c5-e90246955274",
        "colab": {
          "base_uri": "https://localhost:8080/"
        }
      },
      "source": [
        "from numpy import *\n",
        "arr1 = array([1, 2, 4, 6, 7])\n",
        "arr2 = array([2, 5,6, 3, 6])\n",
        "print(concatenate([arr1, arr2]))"
      ],
      "execution_count": null,
      "outputs": [
        {
          "output_type": "stream",
          "text": [
            "[1 2 4 6 7 2 5 6 3 6]\n"
          ],
          "name": "stdout"
        }
      ]
    },
    {
      "cell_type": "code",
      "metadata": {
        "id": "-9I8RgR3lzq0",
        "outputId": "46894d0a-1e30-498d-d4ec-e1fcead9a3c4",
        "colab": {
          "base_uri": "https://localhost:8080/"
        }
      },
      "source": [
        "arr1 = array([\n",
        "              [1,2,3,2,9,10],\n",
        "              [4,5,6,33,8,4]\n",
        "              ])\n",
        "print(arr1.ndim)     # tells the dimension \n",
        "print(arr1.shape)     # tells the structure of the array.\n",
        "print(arr1.size)      # tell the size\n",
        "arr2 = arr1.flatten()\n",
        "print(arr2)\n",
        "\n",
        "arr3 = arr2.reshape(2,2,3)\n",
        "print(arr3)"
      ],
      "execution_count": null,
      "outputs": [
        {
          "output_type": "stream",
          "text": [
            "2\n",
            "(2, 6)\n",
            "12\n",
            "[ 1  2  3  2  9 10  4  5  6 33  8  4]\n",
            "[[[ 1  2  3]\n",
            "  [ 2  9 10]]\n",
            "\n",
            " [[ 4  5  6]\n",
            "  [33  8  4]]]\n"
          ],
          "name": "stdout"
        }
      ]
    },
    {
      "cell_type": "code",
      "metadata": {
        "id": "WJavqZJ3jze_",
        "outputId": "932c8a3e-91ee-4f5f-82d3-7908c80cf7bd",
        "colab": {
          "base_uri": "https://localhost:8080/",
          "height": 195
        }
      },
      "source": [
        "\n"
      ],
      "execution_count": 33,
      "outputs": [
        {
          "output_type": "error",
          "ename": "NameError",
          "evalue": "ignored",
          "traceback": [
            "\u001b[0;31m---------------------------------------------------------------------------\u001b[0m",
            "\u001b[0;31mNameError\u001b[0m                                 Traceback (most recent call last)",
            "\u001b[0;32m<ipython-input-33-c6905cc00c08>\u001b[0m in \u001b[0;36m<module>\u001b[0;34m()\u001b[0m\n\u001b[1;32m      3\u001b[0m   \u001b[0mprint\u001b[0m\u001b[0;34m(\u001b[0m\u001b[0;34m\"x \"\u001b[0m\u001b[0;34m,\u001b[0m \u001b[0mx\u001b[0m\u001b[0;34m)\u001b[0m\u001b[0;34m\u001b[0m\u001b[0;34m\u001b[0m\u001b[0m\n\u001b[1;32m      4\u001b[0m \u001b[0;34m\u001b[0m\u001b[0m\n\u001b[0;32m----> 5\u001b[0;31m \u001b[0mupdate\u001b[0m\u001b[0;34m(\u001b[0m\u001b[0mx\u001b[0m\u001b[0;34m)\u001b[0m\u001b[0;34m\u001b[0m\u001b[0;34m\u001b[0m\u001b[0m\n\u001b[0m",
            "\u001b[0;31mNameError\u001b[0m: name 'x' is not defined"
          ]
        }
      ]
    },
    {
      "cell_type": "code",
      "metadata": {
        "id": "lo5P_1Ght2dw"
      },
      "source": [
        ""
      ],
      "execution_count": null,
      "outputs": []
    }
  ]
}