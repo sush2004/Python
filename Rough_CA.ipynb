{
  "nbformat": 4,
  "nbformat_minor": 0,
  "metadata": {
    "colab": {
      "name": "Untitled7.ipynb",
      "provenance": [],
      "authorship_tag": "ABX9TyPRxU2DphnsbZoeGQBcf3s4",
      "include_colab_link": true
    },
    "kernelspec": {
      "name": "python3",
      "display_name": "Python 3"
    }
  },
  "cells": [
    {
      "cell_type": "markdown",
      "metadata": {
        "id": "view-in-github",
        "colab_type": "text"
      },
      "source": [
        "<a href=\"https://colab.research.google.com/github/sush2004/Python/blob/main/Rough_CA.ipynb\" target=\"_parent\"><img src=\"https://colab.research.google.com/assets/colab-badge.svg\" alt=\"Open In Colab\"/></a>"
      ]
    },
    {
      "cell_type": "code",
      "metadata": {
        "colab": {
          "base_uri": "https://localhost:8080/"
        },
        "id": "K_MZ3dgaQ5gh",
        "outputId": "11154d81-c622-45f5-fdb9-8b8c5d30a395"
      },
      "source": [
        "def print_menu():\n",
        "    print('1. Print Phone Numbers')\n",
        "    print('2. Add a Phone Number')\n",
        "    print('3. Delete a Phone Number')\n",
        "    print('4. Lookup a Phone Number')\n",
        "    print('5. Quit')\n",
        "    print()\n",
        "\n",
        "numbers = {}\n",
        "menu_choice = 0\n",
        "print_menu()\n",
        "whil e menu_choice != 5:\n",
        "    menu_choice = int(input(\"Type in a number (1-5): \"))\n",
        "    if menu_choice == 1:\n",
        "        print(\"Telephone Numbers:\")\n",
        "        for x in numbers.keys():\n",
        "            print(\"Name: \", x, \"\\tNumber:\", numbers[x])\n",
        "        print()\n",
        "    elif menu_choice == 2:\n",
        "        print(\"Add Name and Number\")\n",
        "        name = input(\"Name: \")\n",
        "        phone = input(\"Number: \")\n",
        "        numbers[name] = phone\n",
        "    elif menu_choice == 3:\n",
        "        print(\"Delete Name and Number\")\n",
        "        name = input(\"Name: \")\n",
        "        if name in numbers:\n",
        "            del numbers[name]\n",
        "        else:\n",
        "            print(name, \"was not found\")\n",
        "    elif menu_choice == 4:\n",
        "        print(\"Lookup Number\")\n",
        "        name = input(\"Name: \")\n",
        "        if name in numbers:\n",
        "            print(\"The number is\", numbers[name])\n",
        "        else:\n",
        "            print(name, \"was not found\")\n",
        "    elif menu_choice != 5:\n",
        "        print_menu()"
      ],
      "execution_count": 3,
      "outputs": [
        {
          "output_type": "stream",
          "text": [
            "1. Print Phone Numbers\n",
            "2. Add a Phone Number\n",
            "3. Delete a Phone Number\n",
            "4. Lookup a Phone Number\n",
            "5. Quit\n",
            "\n",
            "Type in a number (1-5): 5\n"
          ],
          "name": "stdout"
        }
      ]
    },
    {
      "cell_type": "code",
      "metadata": {
        "colab": {
          "base_uri": "https://localhost:8080/",
          "height": 145
        },
        "id": "gbq8NGT8x9HS",
        "outputId": "86a7376b-72f0-47f5-eca4-5528664a50af"
      },
      "source": [
        "def general_find(criteria, term):\n",
        "  for entry in book:\n",
        "    if entry[criteria] == term:\n",
        "      return entry\n",
        "\n",
        "## This is just a convenience function and is not strictly necessary\n",
        "def find_by_name(name):\n",
        "  return general_find('name', name)\n",
        "\n",
        "## This uses nested functions, you could make to_initials a top-level function\n",
        "## if you think you'll use it again\n",
        "def find_by_initials(initials):\n",
        "  def to_initials(name):\n",
        "    return ''.join([i[0] for i in name.split(' ')])\n",
        "  for entry in book:\n",
        "    if to_initials(entry['name']) == initials:\n",
        "      return entry\n",
        "\n",
        "\n",
        "#############################################################################\n",
        "## Add and Remove\n",
        "#############################################################################\n",
        "\n",
        "def add_entry(entry):\n",
        "  \"\"\"Add an entry only if it is not an exact duplicate of another entry\"\"\"\n",
        "  if entry not in book:\n",
        "    book.append(entry)\n",
        "\n",
        "def remove_entry(entry):\n",
        "  \"\"\"Remove the given entry from book.  Use search functions to find the entry\n",
        "  \n",
        "  Example:\n",
        "  remove_entry(find_by_name('Mark Sanders'))\n",
        "  \"\"\"\n",
        "  book.remove(entry)\n",
        "\n",
        "\n",
        "#############################################################################\n",
        "## String to Entry\n",
        "#############################################################################\n",
        "\n",
        "def string_to_entry(s):\n",
        "  \"\"\"Accepts a string of the format: \"name = Mark Sanders | phone = 414-24...\"\n",
        "  and returns a dict {'name':'Mark Sanders', 'phone':'414-24...'}\"\"\"\n",
        "  tempList = s.split('|')\n",
        "  keyvalstrings = [tuple(i.split('=')) for i in tempList]\n",
        "  new_entry = {}\n",
        "  for key, val in keyvalstrings:\n",
        "    new_entry[key.strip()] = val.strip()\n",
        "  return new_entry\n",
        "\n",
        "\n",
        "#############################################################################\n",
        "## User Input\n",
        "#############################################################################\n",
        "\n",
        "def main_loop():\n",
        "  while True:\n",
        "    choice = raw_input(\"\"\")\n",
        "What's next:\n",
        "(q)  Quit\n",
        "(a)  Add new Entry\n",
        "(v)  View all Entries\n",
        "(s)  General Search\n",
        "(si) Search by Initials\n",
        "(sn) Search by Name\n",
        "\n",
        "    \n",
        "    if choice == 'q':\n",
        "      break\n",
        "    elif choice == 'a':\n",
        "      user_add_new()\n",
        "    elif choice == 'v':\n",
        "      print_book()\n",
        "    elif choice == 's':\n",
        "      user_general_find()\n",
        "    elif choice == 'si':\n",
        "      user_find_by_initials()\n",
        "    elif choice == 'sn':\n",
        "      user_find_by_name()\n",
        "    elif choice == 'g':\n",
        "      show_by_name()\n",
        "    else:\n",
        "      print(\"You entered something incorrectly, try again.\")"
      ],
      "execution_count": 16,
      "outputs": [
        {
          "output_type": "error",
          "ename": "SyntaxError",
          "evalue": "ignored",
          "traceback": [
            "\u001b[0;36m  File \u001b[0;32m\"<ipython-input-16-6560b6db225d>\"\u001b[0;36m, line \u001b[0;32m84\u001b[0m\n\u001b[0;31m    print(\"You entered something incorrectly, try again.\")\u001b[0m\n\u001b[0m                                                          \n^\u001b[0m\n\u001b[0;31mSyntaxError\u001b[0m\u001b[0;31m:\u001b[0m EOF while scanning triple-quoted string literal\n"
          ]
        }
      ]
    },
    {
      "cell_type": "code",
      "metadata": {
        "colab": {
          "base_uri": "https://localhost:8080/"
        },
        "id": "H_CTLGI7FHUD",
        "outputId": "6498ea72-fc93-45f3-d2c1-165890f878a6"
      },
      "source": [
        "def Payslip():\n",
        "  e_name = input(\"Enter employee name\")\n",
        "  e_num = input(\"Enter employee number\")\n",
        "  w_end = input(\"Enter week ending date\")  #date format look for\n",
        "  w_hrs = float(input(\"Enter number of hours worked\")) #No of working hours\n",
        "  h_rate = float(input(\"Enter rate per hour\"))           #hourly rate\n",
        "  o_rate = float(input(\"Enter overtime rate\")) \n",
        "  tax = float(input(\"Enter standard tax rate\"))\n",
        "  o_tax = float(input(\"Enter overtime tax rate\"))\n",
        "\n",
        "  print(\"{:40} PAYSLIP\".format(' '))\n",
        "  print(\"WEEK ENDING\", w_end)\n",
        "  print(\"Employee:\", e_name)\n",
        "  print(\"Empoyee Number:\", e_num)\n",
        "  print(\"{0:20} Earnings {1:12} Deductions\".format(' ',' '))\n",
        "  print(\"{0:20} Hours {1:2} Rate {2:1} Total\".format(' ',' ',' '))\n",
        "    \n",
        "  \n",
        "  if  w_hrs <= 37.50:\n",
        "        tot = w_hrs * h_rate #total pay calculation\n",
        "        t_tax = tot * (tax/100)    # tax on total income\n",
        "        t_ded = sum([t_tax])       # total deduction\n",
        "        net = tot - t_ded          # net pay calculation  \n",
        "\n",
        "        print(\"Hours (normal) {0:10} {1:8} {2:7} Tax @{3:3}% {4:3} \".format(w_hrs,h_rate,tot,tax,t_ded))\n",
        "        print(\"\\n{0:20} Total pay: {1:26}\".format(' ',tot))\n",
        "        print(\"{0:20} Total deductions: {1:19}\".format(' ',t_ded))\n",
        "        print(\"{0:20} Net pay: {1:28}\".format(' ', net))\n",
        "  else:\n",
        "        o_hrs = w_hrs - 37.50   #overtime hours calculation\n",
        "        w_pay = 37.5 * h_rate   # normal weekly pay\n",
        "        o_pay = o_hrs * (o_rate) #overtime pay calculation\n",
        "        tot = round(sum([w_pay,o_pay]),2) \n",
        "        w_pay_tax = round(w_pay*(tax/100),2) # tax on normal shift hours\n",
        "        o_pay_tax = round(o_pay*(o_tax/100),2) #tax on overtime shift hours\n",
        "        t_ded = round(sum([w_pay_tax,o_pay_tax]),2)\n",
        "        net = round(tot - t_ded,2)  #net pay calculation\n",
        "  \n",
        "        print(\"Hours (normal) {0:10} {1:8} {2:7} Tax @{3:3}% {4:3} \".format(37.50, h_rate,w_pay,tax,w_pay_tax))\n",
        "        print(\"Hours (overtime) {0:8} {1:8} {2:7} Tax @{3:3}% {4:3} \".format(o_hrs,o_rate,o_pay,o_tax,o_pay_tax))\n",
        "        print(\"\\n{0:20} Total pay: {1:27} \".format(' ',tot))\n",
        "        print(\"{0:20} Total deductions: {1:20}\".format(' ',t_ded))\n",
        "        print(\"{0:20} Net pay: {1:29}\".format(' ',net))\n",
        "  \n",
        "\n",
        "Payslip()"
      ],
      "execution_count": 19,
      "outputs": [
        {
          "output_type": "stream",
          "text": [
            "Enter employee namedgdfgfd\n",
            "Enter employee numberdfgdfgdfb\n",
            "Enter week ending date1/25/215\n",
            "Enter number of hours worked42.50\n",
            "Enter rate per hour10.50\n",
            "Enter overtime rate15.75\n",
            "Enter standard tax rate20\n",
            "Enter overtime tax rate50\n",
            "                                         PAYSLIP\n",
            "WEEK ENDING 1/25/215\n",
            "Employee: dgdfgfd\n",
            "Empoyee Number: dfgdfgdfb\n",
            "                     Earnings              Deductions\n",
            "                     Hours    Rate   Total\n",
            "Hours (normal)       37.5     10.5  393.75 Tax @20.0% 78.75 \n",
            "Hours (overtime)      5.0    15.75   78.75 Tax @50.0% 39.38 \n",
            "\n",
            "                     Total pay:                       472.5 \n",
            "                     Total deductions:               118.13\n",
            "                     Net pay:                        354.37\n"
          ],
          "name": "stdout"
        }
      ]
    },
    {
      "cell_type": "code",
      "metadata": {
        "colab": {
          "base_uri": "https://localhost:8080/"
        },
        "id": "1DtUxoOVi4We",
        "outputId": "06cfe190-fb5a-4e28-f311-fe38cb4f3e27"
      },
      "source": [
        "print(\"##########################\\nWELCOME TO THE DBS CONSOLE\\n##########################\")\n",
        "def split_domain():\n",
        "  text = input(\"Please enter your username:\")\n",
        "  if \"\\\\\" in r\"%r\" % text:\n",
        "    print(\"Domain: \", text.split(\"\\\\\")[0])\n",
        "    print(\"Username: \", text.split(\"\\\\\")[1])  \n",
        "  else:\n",
        "    print(\"Invalid format, Please enter again in correct pattern\")\n",
        "    split_domain()\n",
        "\n",
        "split_domain()\n",
        "\n"
      ],
      "execution_count": 11,
      "outputs": [
        {
          "output_type": "stream",
          "text": [
            "##########################\n",
            "WELCOME TO THE DBS CONSOLE\n",
            "##########################\n",
            "Please enter your username:sushant.\\rai\n",
            "Domain:  sushant.\n",
            "Username:  rai\n"
          ],
          "name": "stdout"
        }
      ]
    },
    {
      "cell_type": "code",
      "metadata": {
        "id": "y5dQI_x8elGh"
      },
      "source": [
        ""
      ],
      "execution_count": 10,
      "outputs": []
    }
  ]
}