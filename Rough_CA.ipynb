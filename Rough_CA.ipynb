{
  "nbformat": 4,
  "nbformat_minor": 0,
  "metadata": {
    "colab": {
      "name": "Rough_CA.ipynb",
      "provenance": [],
      "authorship_tag": "ABX9TyPTNgpCoXGPcYnY6Yw6KT8D",
      "include_colab_link": true
    },
    "kernelspec": {
      "name": "python3",
      "display_name": "Python 3"
    }
  },
  "cells": [
    {
      "cell_type": "markdown",
      "metadata": {
        "id": "view-in-github",
        "colab_type": "text"
      },
      "source": [
        "<a href=\"https://colab.research.google.com/github/sush2004/Python/blob/main/Rough_CA.ipynb\" target=\"_parent\"><img src=\"https://colab.research.google.com/assets/colab-badge.svg\" alt=\"Open In Colab\"/></a>"
      ]
    },
    {
      "cell_type": "code",
      "metadata": {
        "id": "aX7c3LIWp3bt",
        "colab": {
          "base_uri": "https://localhost:8080/"
        },
        "outputId": "6cd17645-4030-484b-82d6-4f3696a16630"
      },
      "source": [
        "def add_contact():\n",
        "  name = input(\"Name: \")\n",
        "  if name.title() in book:\n",
        "    print(\"The contact already exists :\",book[name.title()])\n",
        "  else:\n",
        "    while True:\n",
        "      phone = input(\"number: \")\n",
        "      try:\n",
        "        phone = int(phone)\n",
        "        if phone > 0:\n",
        "          book[name.title()] = phone\n",
        "          print(\"Contact has been added successfully to the phonebook\")\n",
        "        else:\n",
        "          print(\"that's not correct input, please try again :\")\n",
        "          continue\n",
        "      except:\n",
        "        print(\"please enter number/integer value.\")\n",
        "        continue\n",
        "      break\n",
        "      \n",
        "add_contact()  "
      ],
      "execution_count": null,
      "outputs": [
        {
          "output_type": "stream",
          "text": [
            "Name: sushant\n",
            "number: 1234\n",
            "Contact has been added successfully to the phonebook\n"
          ],
          "name": "stdout"
        }
      ]
    },
    {
      "cell_type": "code",
      "metadata": {
        "id": "Fu6RtZ32qDtw",
        "colab": {
          "base_uri": "https://localhost:8080/"
        },
        "outputId": "6c65c4aa-cf79-4a76-93de-8f79bde9ca23"
      },
      "source": [
        "print(book)\n",
        "def search_contact():\n",
        "  print(\"Search contact\")\n",
        "  print(\"\")\n",
        "  name = input(\"Name: \")\n",
        "  phone = input\n",
        "  if name.title() in book:\n",
        "    print(\"The number linked to the contact is\", book[name.title()])\n",
        "  else:\n",
        "    print(name.title(), \"was not found\")\n",
        "    while True:\n",
        "      option = input(\"Do you want add the contact? (yes/no)\")\n",
        "      try:\n",
        "        assert option.title() == 'Yes' or option.title() == 'No'\n",
        "      except:\n",
        "        print(\"please enter correct option(yes/no)\")\n",
        "        continue\n",
        "      break\n",
        "    if option.title() =='Yes':\n",
        "      add_contact()  \n",
        "    else:\n",
        "      print(\"Thank you for using phonebook\")\n",
        "search_contact()"
      ],
      "execution_count": null,
      "outputs": [
        {
          "output_type": "stream",
          "text": [
            "{'Sam': 12345, 'Ram': 23242}\n",
            "Search contact\n",
            "\n",
            "Name: mada\n",
            "Mada was not found\n",
            "Do you want add the contact? (yes/no)yes\n",
            "Name: sushant\n",
            "number: 12377\n",
            "Contact has been added successfully to the phonebook\n"
          ],
          "name": "stdout"
        }
      ]
    },
    {
      "cell_type": "code",
      "metadata": {
        "id": "M-pj7_uPqKBN"
      },
      "source": [
        "print(book)\n",
        "def update_contact():\n",
        "  print(\"Update contact\")\n",
        "  name = input(\"Name: \" )\n",
        "  if name.title() in book:\n",
        "    while True:\n",
        "      option = input(\"Do you want to update name(yes/no) :\")\n",
        "      try:\n",
        "        assert option.title() == 'Yes' or option.title() == 'No'                #\n",
        "      except:\n",
        "        print(\"please enter correct option(yes/no)\")\n",
        "        continue\n",
        "      break\n",
        "    if option.title() == 'Yes':                                                 #title() used for case sensitive user input\n",
        "      up_name = input(\"Enter new name for the contact\")                         #user inputting updated name in contact\n",
        "      book[up_name.title()] = book.pop(name.title())\n",
        "      print(\"{} has been updated in the phonebook\".format(up_name.title()))\n",
        "    else:\n",
        "      while True:\n",
        "        option = input(\"Do you want to update number(yes/no) :\")\n",
        "        try:\n",
        "          assert option.title() == 'Yes' or option.title() == 'No'\n",
        "        except:\n",
        "          print(\"please enter correct option(yes/no)\")\n",
        "          continue\n",
        "        break\n",
        "      if option.title() == 'Yes':\n",
        "          while True:\n",
        "            phone = int(input(\"Enter new phone number for the contact\"))\n",
        "            try:\n",
        "              phone = int(phone)\n",
        "              if phone > 0:\n",
        "                book.update({name.title():phone})\n",
        "                print(\"phone number for {} has been updated\".format(name.title()))\n",
        "              else:\n",
        "                print(\"that's not correct input, please try again :\")\n",
        "                continue\n",
        "            except:\n",
        "              print(\"please enter number/integer value.\")\n",
        "              continue\n",
        "            break\n",
        "      else:\n",
        "        print(\"Thank you for using phonebook\")\n",
        "     \n",
        "  else:\n",
        "    print(name, \"was not found\")\n",
        "update_contact()"
      ],
      "execution_count": null,
      "outputs": []
    },
    {
      "cell_type": "code",
      "metadata": {
        "id": "AS10KZoTp6IU",
        "colab": {
          "base_uri": "https://localhost:8080/"
        },
        "outputId": "0fec6f1d-2b8c-4801-86c0-b15e3f96587a"
      },
      "source": [
        "def add_contact():                                                              #defining function for add contact\n",
        "  print(\"Add contact\")\n",
        "  name = input(\"Name: \")\n",
        "  if phone in book:                                                      #condition to check it name already exists\n",
        "    print(\"The contact already exists :\",book[phone])                    #title() used for making first letter of word in upper case\n",
        "  else:\n",
        "    while True:\n",
        "      phone = input(\"number: \")\n",
        "      try:\n",
        "        phone = int(phone)\n",
        "        if phone > 0:                                                           #condition to check for positive integers\n",
        "          book[name.title()] = phone\n",
        "          print(\"{} has been added successfully to the phonebook\".format(name.title()))\n",
        "        else:\n",
        "          print(\"That's not correct input, please try again :\")\n",
        "          continue\n",
        "      except:\n",
        "        print(\"Please enter number/integer value.\")\n",
        "        continue\n",
        "      break\n",
        "         \n",
        "def delete_contact():                                                           #defining function to delete contact                                         \n",
        "  print(\"Delete contact\")\n",
        "  name = input(\"Name: \")\n",
        "  if name.title() in book:\n",
        "    del book[name.title()]\n",
        "    print(\"The contact has been deleted successfully\")\n",
        "  else:\n",
        "    print(name.title(), \"was not found in the phonebook\")\n",
        "\n",
        "def update_contact():                                                           #defining function for updating contact\n",
        "  print(\"Update contact\")\n",
        "  name = input(\"Name: \" )\n",
        "  if name.title() in book:\n",
        "    while True:\n",
        "      option = input(\"Do you want to update name(yes/no) :\")\n",
        "      try:\n",
        "        assert option.title() == 'Yes' or option.title() == 'No'                #limiting user choice to 'Yes' or 'No' by using assert keyword\n",
        "      except:\n",
        "        print(\"Please enter correct option(yes/no)\")\n",
        "        continue\n",
        "      break\n",
        "    if option.title() == 'Yes':                                                 \n",
        "      up_name = input(\"Enter new name for the contact\")                         #user inputting updated name in contact\n",
        "      book[up_name.title()] = book.pop(name.title())\n",
        "      print(\"{} has been updated in the phonebook\".format(up_name.title()))\n",
        "    else:\n",
        "      while True:\n",
        "        option = input(\"Do you want to update number(yes/no) :\")\n",
        "        try:\n",
        "          assert option.title() == 'Yes' or option.title() == 'No'\n",
        "        except:\n",
        "          print(\"Please enter correct option(yes/no)\")\n",
        "          continue\n",
        "        break\n",
        "      if option.title() == 'Yes':\n",
        "          while True:\n",
        "            phone = int(input(\"Enter new phone number for the contact\"))\n",
        "            try:\n",
        "              phone = int(phone)\n",
        "              if phone > 0:\n",
        "                book.update({name.title():phone})\n",
        "                print(\"Phone number for {} has been updated\".format(name.title()))\n",
        "              else:\n",
        "                print(\"That's not correct input, please try again :\")\n",
        "                continue\n",
        "            except:\n",
        "              print(\"Please enter number/integer value.\")\n",
        "              continue\n",
        "            break\n",
        "      else:\n",
        "        print(\"Thank you for using phonebook\")\n",
        "  else:\n",
        "    print(name.title(), \"was not found\")\n",
        "\n",
        "def search_contact():\n",
        "  print(\"Search contact\")\n",
        "  while True:\n",
        "    search = input(\"Do you want to search contact by name or number\")\n",
        "    try:\n",
        "      assert search.title() == \"Name\" or search.title() == \"Number\"\n",
        "      if search.title() =='Name':\n",
        "        name = input(\"Name: \")\n",
        "        #phone = input\n",
        "        if name.title() in book:\n",
        "          print(\"The number linked to the contact is\", book[name.title()])\n",
        "        else:\n",
        "          print(name.title(), \"was not found\")\n",
        "          while True:\n",
        "            option = input(\"Do you want add the contact? (yes/no)\")\n",
        "            try:\n",
        "              assert option.title() == 'Yes' or option.title() == 'No'\n",
        "            except:\n",
        "              print(\"please enter correct option(yes/no)\")\n",
        "              continue\n",
        "            break\n",
        "          if option.title() =='Yes':\n",
        "            add_contact()  \n",
        "          else:\n",
        "            print(\"Thank you for using phonebook\")  \n",
        "      elif search.title()=='Number':\n",
        "        while True:\n",
        "          phone = input(\"Number:\")\n",
        "          try:\n",
        "            phone = int(phone)\n",
        "            assert phone>0\n",
        "          except:\n",
        "            print(\"Please enter integer/Number:\") \n",
        "            continue\n",
        "          break \n",
        "        for key,value in book.items():                        #loop for searching value from dictionary\n",
        "          if value == phone:\n",
        "            print(\"Contact linked to the number is\", key)\n",
        "          else:\n",
        "            print(name.title(), \"was not found\")\n",
        "            while True:\n",
        "              option = input(\"Do you want add the contact? (yes/no)\")\n",
        "              try:\n",
        "                assert option.title() == 'Yes' or option.title() == 'No'\n",
        "              except:\n",
        "                print(\"please enter correct option(yes/no)\")\n",
        "                continue\n",
        "              break\n",
        "            if option.title() =='Yes':\n",
        "                add_contact()  \n",
        "            else:\n",
        "              print(\"Thank you for using phonebook\")     \n",
        "    except:\n",
        "      print(\"Please enter correct choice(Name/Number)\")\n",
        "      continue\n",
        "    break\n",
        "    \n",
        "def MYPY():                                                                     #defining main function of phonebook\n",
        "  print(\"###############################\\nMYPY PHONE BOOK \\n###############################\")\n",
        "  print('1. Add New Entry')\n",
        "  print('2. Delete Entry')\n",
        "  print('3. Update Entry')\n",
        "  print('4. Lookup Number')\n",
        "  print('5. Quit')\n",
        "book = {}\n",
        "MYPY()\n",
        "menu_choice = 0                                                                 #initializing variable\n",
        "while menu_choice!=5:  \n",
        "  while True:\n",
        "    menu_choice = input(\"Type in a number (1-5): \")\n",
        "    try:\n",
        "      menu_choice=int(menu_choice)\n",
        "      assert menu_choice in range(1,6)                                          #limiting user input between 1 to 5\n",
        "    except:\n",
        "      print('Enter integer value from (1-5)')\n",
        "      continue\n",
        "    break\n",
        "  if menu_choice == 1:                                                          #calling each function based on user input\n",
        "    add_contact()\n",
        "  elif menu_choice == 2:\n",
        "    delete_contact()\n",
        "  elif menu_choice == 3:\n",
        "    update_contact()\n",
        "  elif menu_choice == 4:\n",
        "    search_contact()\n",
        "  elif menu_choice == 5:\n",
        "    print(\"Thank you for using MYPY phone book system\")\n",
        "  elif menu_choice!=5:\n",
        "    MYPY()"
      ],
      "execution_count": null,
      "outputs": [
        {
          "output_type": "stream",
          "text": [
            "###############################\n",
            " MYPY PHONE BOOK \n",
            "###############################\n",
            "1. Add New Entry\n",
            "2. Delete Entry\n",
            "3. Update Entry\n",
            "4. Lookup Number\n",
            "5. Quit\n",
            "Type in a number (1-5): 1\n",
            "Add contact\n",
            "Name: sush\n",
            "number: 123\n",
            "Sush has been added successfully to the phonebook\n",
            "Type in a number (1-5): 4\n",
            "Search contact\n",
            "Do you want to search contact by name or numbernumber\n",
            "Number:123\n",
            "Type in a number (1-5): 5\n",
            "Thank you for using MYPY phone book system\n"
          ],
          "name": "stdout"
        }
      ]
    },
    {
      "cell_type": "code",
      "metadata": {
        "id": "ma1k9xUm9xXz",
        "colab": {
          "base_uri": "https://localhost:8080/"
        },
        "outputId": "4d52e3a5-dbc9-4aad-e0f3-bd62c1cd4fb4"
      },
      "source": [
        "print(book)                    # dictionary = {key:value}={phone:name} \n",
        "def delete_contact():\n",
        "  print(\"Delete contact\")\n",
        "  while True:\n",
        "    phone = input(\"Number: \")\n",
        "    try:\n",
        "      phone = int(phone) \n",
        "      if phone > 0:\n",
        "        break\n",
        "      else:\n",
        "        print(\"Please enter value greater than 0\")\n",
        "        continue\n",
        "    except:\n",
        "      print(\"Please enter integer/number value\")\n",
        "      continue\n",
        "    break\n",
        "  if phone in book:\n",
        "    del book[phone]\n",
        "    print(\"The contact has been deleted successfully\")\n",
        "  else:\n",
        "    print(phone, \"was not found in the phonebook\")\n",
        "  \n",
        "delete_contact()\n"
      ],
      "execution_count": 174,
      "outputs": [
        {
          "output_type": "stream",
          "text": [
            "{5555: 'Sush'}\n",
            "Delete contact\n",
            "Number: 5555\n",
            "The contact has been deleted successfully\n"
          ],
          "name": "stdout"
        }
      ]
    },
    {
      "cell_type": "code",
      "metadata": {
        "colab": {
          "base_uri": "https://localhost:8080/"
        },
        "id": "JGqkoYfGlviB",
        "outputId": "6e753098-b1d4-46ed-c898-7ee549fbe751"
      },
      "source": [
        "print(book)\r\n",
        "def add_contact():                                                             \r\n",
        "  print(\"Add contact\")\r\n",
        "  while True:\r\n",
        "    phone = input(\"Number\")\r\n",
        "    try:\r\n",
        "      phone = int(phone) \r\n",
        "      if phone>0:\r\n",
        "        break\r\n",
        "      else:\r\n",
        "        print(\"Please enter value greater than 0\")\r\n",
        "        continue\r\n",
        "    except:\r\n",
        "      print(\"That's not correct input, please try again :\")\r\n",
        "      continue\r\n",
        "    break\r\n",
        "  if phone in book:                                                     \r\n",
        "    print(\"The number already exists :\",book[phone]) \r\n",
        "  \r\n",
        "  else:\r\n",
        "    name = input(\"Name:\")\r\n",
        "    book[phone] = name.title()\r\n",
        "    print(\"{} has been saved suucessfully\".format(book[phone]))                         \r\n",
        "        \r\n",
        "add_contact()"
      ],
      "execution_count": 221,
      "outputs": [
        {
          "output_type": "stream",
          "text": [
            "{400: 'Ram', 123: 'Sushant'}\n",
            "Add contact\n",
            "Numberkk\n",
            "That's not correct input, please try again :\n",
            "Number-0\n",
            "Please enter value greater than 0\n",
            "Number-11\n",
            "Please enter value greater than 0\n",
            "Number400\n",
            "The number already exists : Ram\n"
          ],
          "name": "stdout"
        }
      ]
    },
    {
      "cell_type": "code",
      "metadata": {
        "colab": {
          "base_uri": "https://localhost:8080/"
        },
        "id": "_IErdIFRsbnE",
        "outputId": "6be6aaf4-0a5e-47f8-aaa2-3dea86f023fc"
      },
      "source": [
        "print(book)"
      ],
      "execution_count": 17,
      "outputs": [
        {
          "output_type": "stream",
          "text": [
            "{}\n"
          ],
          "name": "stdout"
        }
      ]
    },
    {
      "cell_type": "code",
      "metadata": {
        "id": "nBLIEKCHz5sh"
      },
      "source": [
        "def frequency():\n",
        "  print(\"###############################\\n Welcome to DBS Console \\n###############################\")\n",
        "  while True:                                                                   #validate input\n",
        "    len = input(\"Input the number of elements to be stored in the list :\")      #length of input\n",
        "    try: \n",
        "      len = int(len)\n",
        "      if len>0:\n",
        "        break\n",
        "      else:\n",
        "        print(\"please enter value greater than 0\")\n",
        "        continue\n",
        "      break\n",
        "    except:\n",
        "      print(\"please enter number/integer value.\\n\")\n",
        "      continue\n",
        "    break\n",
        "\n",
        "  print(\"Input {} elements in the list :\".format(len))\n",
        "  num_list = []                                                                 #declaring list\n",
        "\n",
        "  for i in range(len):                                                          #taking for loop upto the range of len\n",
        "    while True:\n",
        "      #num = map(int, input(\"element - {} : \".format(i)).split()) \n",
        "      try:\n",
        "        num = int(num)\n",
        "      except:\n",
        "        print(\"please enter number/integer value.\\n\")\n",
        "        continue\n",
        "      break                                   #put validation for integer\n",
        "    for x in num:    \n",
        "      num_list.append(x)\n",
        "      #else:\n",
        "        #print(\"please enter number/integer value.\\n\")\n",
        "        #break\n",
        "\n",
        "  print(\"\\nThe frequency of all elements of the list: \")\n",
        "\n",
        "  for count in set(num_list):\n",
        "    print(count, 'occurs', num_list.count(count), 'times')\n",
        "\n",
        "frequency()"
      ],
      "execution_count": null,
      "outputs": []
    },
    {
      "cell_type": "code",
      "metadata": {
        "colab": {
          "base_uri": "https://localhost:8080/"
        },
        "id": "lLjQ8mrNBdA5",
        "outputId": "fc8c4c43-c2dd-407c-d620-2a5d0aa0696a"
      },
      "source": [
        "def frequency():\n",
        "  print(\"####################################\\nWELCOME TO THE DBS SCHOOL\\n####################################\")\n",
        "  while True:                                                                   #validate input\n",
        "    len = input(\"Input the number of elements to be stored in the list :\")      #length of input\n",
        "    try: \n",
        "      len = int(len)\n",
        "      if len>0:\n",
        "        break\n",
        "      else:\n",
        "        print(\"Please enter value greater than 0\")\n",
        "        continue\n",
        "      break\n",
        "    except:\n",
        "      print(\"Please enter number/integer value.\\n\")\n",
        "      continue\n",
        "    break\n",
        "\n",
        "  print(\"Input {} elements in the list :\".format(len))\n",
        "  num_list = []                                                                 #declaring list\n",
        "\n",
        "  for i in range(len):                                                          #taking for loop upto the range of len\n",
        "    while True:\n",
        "      num = input(\"element - {} : \".format(i))\n",
        "      try:\n",
        "        num = int(num)\n",
        "      except:\n",
        "        print(\"Please enter number/integer value.\\n\")\n",
        "        continue\n",
        "      break\n",
        "    num_list.append(num)\n",
        "    \n",
        "  print(\"\\nThe frequency of all elements of the list: \")\n",
        "\n",
        "  for y in sorted(set(num_list)):\n",
        "    print(y, 'occurs', num_list.count(y), 'times')\n",
        "\n",
        "frequency()"
      ],
      "execution_count": null,
      "outputs": [
        {
          "output_type": "stream",
          "text": [
            "####################################\n",
            "WELCOME TO THE DBS SCHOOL\n",
            "####################################\n",
            "Input the number of elements to be stored in the list :6\n",
            "Input 6 elements in the list :\n",
            "element - 0 : \n",
            "Please enter number/integer value.\n",
            "\n",
            "element - 0 : 1\n",
            "element - 1 : 3\n",
            "element - 2 : -1\n",
            "element - 3 : 1\n",
            "element - 4 : 3\n",
            "element - 5 : -1\n",
            "\n",
            "The frequency of all elements of the list: \n",
            "-1 occurs 2 times\n",
            "1 occurs 2 times\n",
            "3 occurs 2 times\n"
          ],
          "name": "stdout"
        }
      ]
    },
    {
      "cell_type": "code",
      "metadata": {
        "colab": {
          "base_uri": "https://localhost:8080/"
        },
        "id": "QhelBnhkMG_J",
        "outputId": "df5233ed-775d-4faf-c801-db8c394ed45a"
      },
      "source": [
        "points = [1, 4, 2, 9, 7, 8, 9, 3, 1]\n",
        "x = points.count(1)\n",
        "print(x)"
      ],
      "execution_count": null,
      "outputs": [
        {
          "output_type": "stream",
          "text": [
            "2\n"
          ],
          "name": "stdout"
        }
      ]
    },
    {
      "cell_type": "code",
      "metadata": {
        "colab": {
          "base_uri": "https://localhost:8080/",
          "height": 656
        },
        "id": "ZtvABVZgVZp6",
        "outputId": "1367c2af-b5f2-4616-f1be-cea4b9431cac"
      },
      "source": [
        "print(book)\r\n",
        "def update_contact():                                                           #defining function for updating contact\r\n",
        "  print(\"Update contact\")\r\n",
        "  while True:\r\n",
        "    phone = input(\"Number: \" )\r\n",
        "    try:\r\n",
        "      phone=int(phone)\r\n",
        "      if phone>0:\r\n",
        "        break\r\n",
        "      else:\r\n",
        "        print(\"Please enter value greater than 0\")\r\n",
        "        continue\r\n",
        "    except: \r\n",
        "      print(\"That's not correct input, please try again :\")\r\n",
        "      continue\r\n",
        "    break\r\n",
        "  if phone in book:\r\n",
        "    while True:\r\n",
        "      option = input(\"Do you want to update number(yes/no) :\")\r\n",
        "      try:\r\n",
        "        assert option.title() == 'Yes' or option.title() == 'No'                #limiting user choice to 'Yes' or 'No' by using assert keyword\r\n",
        "      except:\r\n",
        "        print(\"Please enter correct option(yes/no):\")\r\n",
        "        continue \r\n",
        "      break\r\n",
        "    if option.title() == 'Yes':\r\n",
        "      while True:\r\n",
        "        phone = input(\"Enter new phone number for the contact: \")\r\n",
        "        try:\r\n",
        "          phone=int(phone)\r\n",
        "          if phone>0:\r\n",
        "            book.update({phone:name.title()})   \r\n",
        "            print(\"Phone number has been updated\")                                       # ?\r\n",
        "          else:\r\n",
        "            print(\"Please enter value greater than 0\")\r\n",
        "            continue\r\n",
        "        except: \r\n",
        "          print(\"That's not correct input, please try again :\")\r\n",
        "          continue\r\n",
        "        break                         #user inputting updated name in contact\r\n",
        "      #book.update({phone:name.title()})                                          # ?\r\n",
        "      #print(\"Phone number for {} has been updated\".format(name.title()))\r\n",
        "    else:\r\n",
        "      while True:\r\n",
        "        option = input(\"Do you want to update name(yes/no) :\")\r\n",
        "        try:\r\n",
        "          assert option.title() == 'Yes' or option.title() == 'No'\r\n",
        "        except:\r\n",
        "          print(\"Please enter correct option(yes/no)\")\r\n",
        "          continue\r\n",
        "        break\r\n",
        "      if option.title() == 'Yes':\r\n",
        "          name = input(\"Enter new name for the contact\")\r\n",
        "          book.update({phone:name.title()})\r\n",
        "          print(\"Phone number for {} has been updated\".format(name.title()))\r\n",
        "          #else:\r\n",
        "           #     print(\"That's not correct input, please try again :\")\r\n",
        "            #    continue\r\n",
        "            #except:\r\n",
        "             # print(\"Please enter number/integer value.\")\r\n",
        "             # continue\r\n",
        "            #break\r\n",
        "      else:\r\n",
        "        print(\"Thank you for using phonebook\")\r\n",
        "  else:\r\n",
        "    print(phone, \"was not found\")\r\n",
        "  \r\n",
        "update_contact()\r\n"
      ],
      "execution_count": 238,
      "outputs": [
        {
          "output_type": "stream",
          "text": [
            "{123: 'Sushant', 400: 'Ram'}\n",
            "Update contact\n",
            "Number: 123\n",
            "Do you want to update number(yes/no) :yes\n",
            "Enter new phone number for the contact: 333\n",
            "That's not correct input, please try again :\n",
            "Enter new phone number for the contact: 5\n",
            "That's not correct input, please try again :\n"
          ],
          "name": "stdout"
        },
        {
          "output_type": "error",
          "ename": "KeyboardInterrupt",
          "evalue": "ignored",
          "traceback": [
            "\u001b[0;31m---------------------------------------------------------------------------\u001b[0m",
            "\u001b[0;31mKeyboardInterrupt\u001b[0m                         Traceback (most recent call last)",
            "\u001b[0;32m/usr/local/lib/python3.6/dist-packages/ipykernel/kernelbase.py\u001b[0m in \u001b[0;36m_input_request\u001b[0;34m(self, prompt, ident, parent, password)\u001b[0m\n\u001b[1;32m    728\u001b[0m             \u001b[0;32mtry\u001b[0m\u001b[0;34m:\u001b[0m\u001b[0;34m\u001b[0m\u001b[0;34m\u001b[0m\u001b[0m\n\u001b[0;32m--> 729\u001b[0;31m                 \u001b[0mident\u001b[0m\u001b[0;34m,\u001b[0m \u001b[0mreply\u001b[0m \u001b[0;34m=\u001b[0m \u001b[0mself\u001b[0m\u001b[0;34m.\u001b[0m\u001b[0msession\u001b[0m\u001b[0;34m.\u001b[0m\u001b[0mrecv\u001b[0m\u001b[0;34m(\u001b[0m\u001b[0mself\u001b[0m\u001b[0;34m.\u001b[0m\u001b[0mstdin_socket\u001b[0m\u001b[0;34m,\u001b[0m \u001b[0;36m0\u001b[0m\u001b[0;34m)\u001b[0m\u001b[0;34m\u001b[0m\u001b[0;34m\u001b[0m\u001b[0m\n\u001b[0m\u001b[1;32m    730\u001b[0m             \u001b[0;32mexcept\u001b[0m \u001b[0mException\u001b[0m\u001b[0;34m:\u001b[0m\u001b[0;34m\u001b[0m\u001b[0;34m\u001b[0m\u001b[0m\n",
            "\u001b[0;32m/usr/local/lib/python3.6/dist-packages/jupyter_client/session.py\u001b[0m in \u001b[0;36mrecv\u001b[0;34m(self, socket, mode, content, copy)\u001b[0m\n\u001b[1;32m    802\u001b[0m         \u001b[0;32mtry\u001b[0m\u001b[0;34m:\u001b[0m\u001b[0;34m\u001b[0m\u001b[0;34m\u001b[0m\u001b[0m\n\u001b[0;32m--> 803\u001b[0;31m             \u001b[0mmsg_list\u001b[0m \u001b[0;34m=\u001b[0m \u001b[0msocket\u001b[0m\u001b[0;34m.\u001b[0m\u001b[0mrecv_multipart\u001b[0m\u001b[0;34m(\u001b[0m\u001b[0mmode\u001b[0m\u001b[0;34m,\u001b[0m \u001b[0mcopy\u001b[0m\u001b[0;34m=\u001b[0m\u001b[0mcopy\u001b[0m\u001b[0;34m)\u001b[0m\u001b[0;34m\u001b[0m\u001b[0;34m\u001b[0m\u001b[0m\n\u001b[0m\u001b[1;32m    804\u001b[0m         \u001b[0;32mexcept\u001b[0m \u001b[0mzmq\u001b[0m\u001b[0;34m.\u001b[0m\u001b[0mZMQError\u001b[0m \u001b[0;32mas\u001b[0m \u001b[0me\u001b[0m\u001b[0;34m:\u001b[0m\u001b[0;34m\u001b[0m\u001b[0;34m\u001b[0m\u001b[0m\n",
            "\u001b[0;32m/usr/local/lib/python3.6/dist-packages/zmq/sugar/socket.py\u001b[0m in \u001b[0;36mrecv_multipart\u001b[0;34m(self, flags, copy, track)\u001b[0m\n\u001b[1;32m    565\u001b[0m         \"\"\"\n\u001b[0;32m--> 566\u001b[0;31m         \u001b[0mparts\u001b[0m \u001b[0;34m=\u001b[0m \u001b[0;34m[\u001b[0m\u001b[0mself\u001b[0m\u001b[0;34m.\u001b[0m\u001b[0mrecv\u001b[0m\u001b[0;34m(\u001b[0m\u001b[0mflags\u001b[0m\u001b[0;34m,\u001b[0m \u001b[0mcopy\u001b[0m\u001b[0;34m=\u001b[0m\u001b[0mcopy\u001b[0m\u001b[0;34m,\u001b[0m \u001b[0mtrack\u001b[0m\u001b[0;34m=\u001b[0m\u001b[0mtrack\u001b[0m\u001b[0;34m)\u001b[0m\u001b[0;34m]\u001b[0m\u001b[0;34m\u001b[0m\u001b[0;34m\u001b[0m\u001b[0m\n\u001b[0m\u001b[1;32m    567\u001b[0m         \u001b[0;31m# have first part already, only loop while more to receive\u001b[0m\u001b[0;34m\u001b[0m\u001b[0;34m\u001b[0m\u001b[0;34m\u001b[0m\u001b[0m\n",
            "\u001b[0;32mzmq/backend/cython/socket.pyx\u001b[0m in \u001b[0;36mzmq.backend.cython.socket.Socket.recv\u001b[0;34m()\u001b[0m\n",
            "\u001b[0;32mzmq/backend/cython/socket.pyx\u001b[0m in \u001b[0;36mzmq.backend.cython.socket.Socket.recv\u001b[0;34m()\u001b[0m\n",
            "\u001b[0;32mzmq/backend/cython/socket.pyx\u001b[0m in \u001b[0;36mzmq.backend.cython.socket._recv_copy\u001b[0;34m()\u001b[0m\n",
            "\u001b[0;32m/usr/local/lib/python3.6/dist-packages/zmq/backend/cython/checkrc.pxd\u001b[0m in \u001b[0;36mzmq.backend.cython.checkrc._check_rc\u001b[0;34m()\u001b[0m\n",
            "\u001b[0;31mKeyboardInterrupt\u001b[0m: ",
            "\nDuring handling of the above exception, another exception occurred:\n",
            "\u001b[0;31mKeyboardInterrupt\u001b[0m                         Traceback (most recent call last)",
            "\u001b[0;32m<ipython-input-238-f130ba4976c1>\u001b[0m in \u001b[0;36m<module>\u001b[0;34m()\u001b[0m\n\u001b[1;32m     66\u001b[0m     \u001b[0mprint\u001b[0m\u001b[0;34m(\u001b[0m\u001b[0mphone\u001b[0m\u001b[0;34m,\u001b[0m \u001b[0;34m\"was not found\"\u001b[0m\u001b[0;34m)\u001b[0m\u001b[0;34m\u001b[0m\u001b[0;34m\u001b[0m\u001b[0m\n\u001b[1;32m     67\u001b[0m \u001b[0;34m\u001b[0m\u001b[0m\n\u001b[0;32m---> 68\u001b[0;31m \u001b[0mupdate_contact\u001b[0m\u001b[0;34m(\u001b[0m\u001b[0;34m)\u001b[0m\u001b[0;34m\u001b[0m\u001b[0;34m\u001b[0m\u001b[0m\n\u001b[0m",
            "\u001b[0;32m<ipython-input-238-f130ba4976c1>\u001b[0m in \u001b[0;36mupdate_contact\u001b[0;34m()\u001b[0m\n\u001b[1;32m     26\u001b[0m     \u001b[0;32mif\u001b[0m \u001b[0moption\u001b[0m\u001b[0;34m.\u001b[0m\u001b[0mtitle\u001b[0m\u001b[0;34m(\u001b[0m\u001b[0;34m)\u001b[0m \u001b[0;34m==\u001b[0m \u001b[0;34m'Yes'\u001b[0m\u001b[0;34m:\u001b[0m\u001b[0;34m\u001b[0m\u001b[0;34m\u001b[0m\u001b[0m\n\u001b[1;32m     27\u001b[0m       \u001b[0;32mwhile\u001b[0m \u001b[0;32mTrue\u001b[0m\u001b[0;34m:\u001b[0m\u001b[0;34m\u001b[0m\u001b[0;34m\u001b[0m\u001b[0m\n\u001b[0;32m---> 28\u001b[0;31m         \u001b[0mphone\u001b[0m \u001b[0;34m=\u001b[0m \u001b[0minput\u001b[0m\u001b[0;34m(\u001b[0m\u001b[0;34m\"Enter new phone number for the contact: \"\u001b[0m\u001b[0;34m)\u001b[0m\u001b[0;34m\u001b[0m\u001b[0;34m\u001b[0m\u001b[0m\n\u001b[0m\u001b[1;32m     29\u001b[0m         \u001b[0;32mtry\u001b[0m\u001b[0;34m:\u001b[0m\u001b[0;34m\u001b[0m\u001b[0;34m\u001b[0m\u001b[0m\n\u001b[1;32m     30\u001b[0m           \u001b[0mphone\u001b[0m\u001b[0;34m=\u001b[0m\u001b[0mint\u001b[0m\u001b[0;34m(\u001b[0m\u001b[0mphone\u001b[0m\u001b[0;34m)\u001b[0m\u001b[0;34m\u001b[0m\u001b[0;34m\u001b[0m\u001b[0m\n",
            "\u001b[0;32m/usr/local/lib/python3.6/dist-packages/ipykernel/kernelbase.py\u001b[0m in \u001b[0;36mraw_input\u001b[0;34m(self, prompt)\u001b[0m\n\u001b[1;32m    702\u001b[0m             \u001b[0mself\u001b[0m\u001b[0;34m.\u001b[0m\u001b[0m_parent_ident\u001b[0m\u001b[0;34m,\u001b[0m\u001b[0;34m\u001b[0m\u001b[0;34m\u001b[0m\u001b[0m\n\u001b[1;32m    703\u001b[0m             \u001b[0mself\u001b[0m\u001b[0;34m.\u001b[0m\u001b[0m_parent_header\u001b[0m\u001b[0;34m,\u001b[0m\u001b[0;34m\u001b[0m\u001b[0;34m\u001b[0m\u001b[0m\n\u001b[0;32m--> 704\u001b[0;31m             \u001b[0mpassword\u001b[0m\u001b[0;34m=\u001b[0m\u001b[0;32mFalse\u001b[0m\u001b[0;34m,\u001b[0m\u001b[0;34m\u001b[0m\u001b[0;34m\u001b[0m\u001b[0m\n\u001b[0m\u001b[1;32m    705\u001b[0m         )\n\u001b[1;32m    706\u001b[0m \u001b[0;34m\u001b[0m\u001b[0m\n",
            "\u001b[0;32m/usr/local/lib/python3.6/dist-packages/ipykernel/kernelbase.py\u001b[0m in \u001b[0;36m_input_request\u001b[0;34m(self, prompt, ident, parent, password)\u001b[0m\n\u001b[1;32m    732\u001b[0m             \u001b[0;32mexcept\u001b[0m \u001b[0mKeyboardInterrupt\u001b[0m\u001b[0;34m:\u001b[0m\u001b[0;34m\u001b[0m\u001b[0;34m\u001b[0m\u001b[0m\n\u001b[1;32m    733\u001b[0m                 \u001b[0;31m# re-raise KeyboardInterrupt, to truncate traceback\u001b[0m\u001b[0;34m\u001b[0m\u001b[0;34m\u001b[0m\u001b[0;34m\u001b[0m\u001b[0m\n\u001b[0;32m--> 734\u001b[0;31m                 \u001b[0;32mraise\u001b[0m \u001b[0mKeyboardInterrupt\u001b[0m\u001b[0;34m\u001b[0m\u001b[0;34m\u001b[0m\u001b[0m\n\u001b[0m\u001b[1;32m    735\u001b[0m             \u001b[0;32melse\u001b[0m\u001b[0;34m:\u001b[0m\u001b[0;34m\u001b[0m\u001b[0;34m\u001b[0m\u001b[0m\n\u001b[1;32m    736\u001b[0m                 \u001b[0;32mbreak\u001b[0m\u001b[0;34m\u001b[0m\u001b[0;34m\u001b[0m\u001b[0m\n",
            "\u001b[0;31mKeyboardInterrupt\u001b[0m: "
          ]
        }
      ]
    }
  ]
}