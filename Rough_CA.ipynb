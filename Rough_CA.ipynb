{
  "nbformat": 4,
  "nbformat_minor": 0,
  "metadata": {
    "colab": {
      "name": "Untitled11.ipynb",
      "provenance": [],
      "collapsed_sections": [],
      "authorship_tag": "ABX9TyNnX2A2S916Xw9DANEbwSLZ",
      "include_colab_link": true
    },
    "kernelspec": {
      "name": "python3",
      "display_name": "Python 3"
    }
  },
  "cells": [
    {
      "cell_type": "markdown",
      "metadata": {
        "id": "view-in-github",
        "colab_type": "text"
      },
      "source": [
        "<a href=\"https://colab.research.google.com/github/sush2004/Python/blob/main/Rough_CA.ipynb\" target=\"_parent\"><img src=\"https://colab.research.google.com/assets/colab-badge.svg\" alt=\"Open In Colab\"/></a>"
      ]
    },
    {
      "cell_type": "code",
      "metadata": {
        "id": "0i7Gs_TWeh-8"
      },
      "source": [
        "print(book)\n",
        "def add_contact():\n",
        "  name = input(\"Name: \")\n",
        "  if name.title() in book:\n",
        "    print(\"The contact already exists :\",book[name.title()])\n",
        "  else:\n",
        "    while True:\n",
        "      phone = input(\"number: \")\n",
        "      try:\n",
        "        phone = int(phone)\n",
        "        if phone > 0:\n",
        "          book[name.title()] = phone\n",
        "          print(\"Contact has been added successfully to the phonebook\")\n",
        "        else:\n",
        "          print(\"that's not correct input, please try again :\")\n",
        "          continue\n",
        "      except:\n",
        "        print(\"please enter number/integer value.\")\n",
        "        continue\n",
        "      break\n",
        "      \n",
        "add_contact()  \n"
      ],
      "execution_count": null,
      "outputs": []
    },
    {
      "cell_type": "code",
      "metadata": {
        "colab": {
          "base_uri": "https://localhost:8080/"
        },
        "id": "VNFBy8-1oF3Z",
        "outputId": "8b3c0244-127f-4b8b-befd-08b731c7b0a8"
      },
      "source": [
        "print(book)\n",
        "def search_contact():\n",
        "  print(\"Search contact\")\n",
        "  name = input(\"Name: \")\n",
        "  if name.title() in book:\n",
        "    print(\"The number linked to the contact is\", book[name.title()])\n",
        "  else:\n",
        "    print(name, \"was not found\") \n",
        "    a = input(\"Do you want add the contact? (yes/no)\")\n",
        "    if a.title() =='Yes':\n",
        "     add_contact()  \n",
        "    else:\n",
        "      print(\"Thank you for using phonebook\")\n",
        "search_contact()"
      ],
      "execution_count": null,
      "outputs": [
        {
          "output_type": "stream",
          "text": [
            "{'Sushant': 123456, 'Sdsf': 24234, 'Ram': 323, 'Sam': 5555555, 'Ramesh': 777777, '3432': 444444}\n",
            "Search contact\n",
            "Name: sush\n",
            "sush was not found\n",
            "Do you want add the contact? (yes/no)no\n",
            "Thank you for using phonebook\n"
          ],
          "name": "stdout"
        }
      ]
    },
    {
      "cell_type": "code",
      "metadata": {
        "colab": {
          "base_uri": "https://localhost:8080/"
        },
        "id": "LL7GUFKhr0Uh",
        "outputId": "f408181d-6a11-4e51-82db-d9b014221aad"
      },
      "source": [
        "def update_contact():\n",
        "  print(\"Update contact\")\n",
        "  name = input(\"Name: \" )\n",
        "  if name.title() in book:\n",
        "    option = input(\"Do you want to update name(yes/no) :\")\n",
        "    if option.title() == 'Yes':                                                 # title() used for case sensitive user input\n",
        "      up_name = input(\"Enter new name for the contact\")                         # user inputting updated name in contact\n",
        "      book[up_name.title()] = book.pop(name.title())\n",
        "      print(\"name for the contact has been updated\",book)\n",
        "    elif option.title() == 'No':                            \n",
        "      b = input(\"Do you want to update number(yes/no) :\")\n",
        "      if b.title() == 'Yes':\n",
        "        phone = int(input(\"Enter new phone number for the contact\"))\n",
        "        book.update({name:phone})\n",
        "        print(\"phone number for {} has been updated\".format(name))      \n",
        "      else:\n",
        "        print(\"Thank you for using phonebook\")\n",
        "    else:\n",
        "      option = input(\"please enter correct input again(yes/no) :\")\n",
        "      \n",
        "  else:\n",
        "    print(name, \"was not found\")\n",
        "\n",
        "update_contact()"
      ],
      "execution_count": null,
      "outputs": [
        {
          "output_type": "stream",
          "text": [
            "Update contact\n",
            "Name: ramesh\n",
            "Do you want to update name(yes/no) :1\n",
            "please enter correct input again(yes/no) :3\n"
          ],
          "name": "stdout"
        }
      ]
    },
    {
      "cell_type": "code",
      "metadata": {
        "colab": {
          "base_uri": "https://localhost:8080/"
        },
        "id": "5skngK27QypT",
        "outputId": "5fc9fa25-45ba-4b37-8161-ce23ddc02680"
      },
      "source": [
        "print(book)\n",
        "def update_contact():\n",
        "  print(\"Update contact\")\n",
        "  name = input(\"Name: \" )\n",
        "  if name.title() in book:\n",
        "    while True:\n",
        "      option = input(\"Do you want to update name(yes/no) :\")\n",
        "      try:\n",
        "        option == 'Yes' or option == 'No'\n",
        "      except:\n",
        "        print(\"please enter correct option(yes/no)\")\n",
        "        continue\n",
        "      break\n",
        "    if option.title() == 'Yes':                             # title() used for case sensitive user input\n",
        "      up_name = input(\"Enter new name for the contact\")    #user inputting updated name in contact\n",
        "      book[up_name.title()] = book.pop(name.title())\n",
        "      print(\"name for the contact has been updated\",book)\n",
        "    else:\n",
        "      b = input(\"Do you want to update number(yes/no) :\")\n",
        "      if b.title() == 'Yes':\n",
        "        phone = int(input(\"Enter new phone number for the contact\"))\n",
        "        book.update({name:phone})\n",
        "        print(\"phone number for {} has been updated\".format(name))      \n",
        "      else:\n",
        "        print(\"Thank you for using phonebook\")\n",
        "     \n",
        "  else:\n",
        "    print(name, \"was not found\")\n",
        "update_contact()"
      ],
      "execution_count": null,
      "outputs": [
        {
          "output_type": "stream",
          "text": [
            "{'Sam': 5555555, 'Ramesh': 777777, '3432': 444444, '2': 323}\n",
            "Update contact\n",
            "Name: ramesh\n",
            "Do you want to update name(yes/no) :1\n",
            "Do you want to update number(yes/no) :1\n",
            "Thank you for using phonebook\n"
          ],
          "name": "stdout"
        }
      ]
    }
  ]
}