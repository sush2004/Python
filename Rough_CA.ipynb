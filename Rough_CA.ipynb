{
  "nbformat": 4,
  "nbformat_minor": 0,
  "metadata": {
    "colab": {
      "name": "Rough_CA.ipynb",
      "provenance": [],
      "authorship_tag": "ABX9TyOq1eQqJend7STqggRD8th+",
      "include_colab_link": true
    },
    "kernelspec": {
      "name": "python3",
      "display_name": "Python 3"
    }
  },
  "cells": [
    {
      "cell_type": "markdown",
      "metadata": {
        "id": "view-in-github",
        "colab_type": "text"
      },
      "source": [
        "<a href=\"https://colab.research.google.com/github/sush2004/Python/blob/main/Rough_CA.ipynb\" target=\"_parent\"><img src=\"https://colab.research.google.com/assets/colab-badge.svg\" alt=\"Open In Colab\"/></a>"
      ]
    },
    {
      "cell_type": "code",
      "metadata": {
        "id": "aX7c3LIWp3bt"
      },
      "source": [
        "print(book)\n",
        "def add_contact():\n",
        "  name = input(\"Name: \")\n",
        "  if name.title() in book:\n",
        "    print(\"The contact already exists :\",book[name.title()])\n",
        "  else:\n",
        "    while True:\n",
        "      phone = input(\"number: \")\n",
        "      try:\n",
        "        phone = int(phone)\n",
        "        if phone > 0:\n",
        "          book[name.title()] = phone\n",
        "          print(\"Contact has been added successfully to the phonebook\")\n",
        "        else:\n",
        "          print(\"that's not correct input, please try again :\")\n",
        "          continue\n",
        "      except:\n",
        "        print(\"please enter number/integer value.\")\n",
        "        continue\n",
        "      break\n",
        "      \n",
        "add_contact()  "
      ],
      "execution_count": null,
      "outputs": []
    },
    {
      "cell_type": "code",
      "metadata": {
        "id": "Fu6RtZ32qDtw"
      },
      "source": [
        "print(book)\n",
        "def search_contact():\n",
        "  print(\"Search contact\")\n",
        "  name = input(\"Name: \")\n",
        "  if name.title() in book:\n",
        "    print(\"The number linked to the contact is\", book[name.title()])\n",
        "  else:\n",
        "    print(name, \"was not found\") \n",
        "    a = input(\"Do you want add the contact? (yes/no)\")\n",
        "    if a.title() =='Yes':\n",
        "     add_contact()  \n",
        "    else:\n",
        "      print(\"Thank you for using phonebook\")\n",
        "search_contact()"
      ],
      "execution_count": null,
      "outputs": []
    },
    {
      "cell_type": "code",
      "metadata": {
        "id": "e7q5XfeGqEmP"
      },
      "source": [
        "def update_contact():\n",
        "  print(\"Update contact\")\n",
        "  name = input(\"Name: \" )\n",
        "  if name.title() in book:\n",
        "    option = input(\"Do you want to update name(yes/no) :\")\n",
        "    if option.title() == 'Yes':                                                 # title() used for case sensitive user input\n",
        "      up_name = input(\"Enter new name for the contact\")                         # user inputting updated name in contact\n",
        "      book[up_name.title()] = book.pop(name.title())\n",
        "      print(\"name for the contact has been updated\",book)\n",
        "    elif option.title() == 'No':                            \n",
        "      b = input(\"Do you want to update number(yes/no) :\")\n",
        "      if b.title() == 'Yes':\n",
        "        phone = int(input(\"Enter new phone number for the contact\"))\n",
        "        book.update({name:phone})\n",
        "        print(\"phone number for {} has been updated\".format(name))      \n",
        "      else:\n",
        "        print(\"Thank you for using phonebook\")\n",
        "    else:\n",
        "      option = input(\"please enter correct input again(yes/no) :\")\n",
        "      \n",
        "  else:\n",
        "    print(name, \"was not found\")\n",
        "\n",
        "update_contact()"
      ],
      "execution_count": null,
      "outputs": []
    },
    {
      "cell_type": "code",
      "metadata": {
        "id": "M-pj7_uPqKBN"
      },
      "source": [
        "print(book)\n",
        "def update_contact():\n",
        "  print(\"Update contact\")\n",
        "  name = input(\"Name: \" )\n",
        "  if name.title() in book:\n",
        "    while True:\n",
        "      option = input(\"Do you want to update name(yes/no) :\")\n",
        "      try:\n",
        "        option == 'Yes' or option == 'No'\n",
        "      except:\n",
        "        print(\"please enter correct option(yes/no)\")\n",
        "        continue\n",
        "      break\n",
        "    if option.title() == 'Yes':                             # title() used for case sensitive user input\n",
        "      up_name = input(\"Enter new name for the contact\")    #user inputting updated name in contact\n",
        "      book[up_name.title()] = book.pop(name.title())\n",
        "      print(\"name for the contact has been updated\",book)\n",
        "    else:\n",
        "      b = input(\"Do you want to update number(yes/no) :\")\n",
        "      if b.title() == 'Yes':\n",
        "        phone = int(input(\"Enter new phone number for the contact\"))\n",
        "        book.update({name:phone})\n",
        "        print(\"phone number for {} has been updated\".format(name))      \n",
        "      else:\n",
        "        print(\"Thank you for using phonebook\")\n",
        "     \n",
        "  else:\n",
        "    print(name, \"was not found\")\n",
        "update_contact()"
      ],
      "execution_count": null,
      "outputs": []
    },
    {
      "cell_type": "code",
      "metadata": {
        "id": "AS10KZoTp6IU"
      },
      "source": [
        ""
      ],
      "execution_count": null,
      "outputs": []
    }
  ]
}