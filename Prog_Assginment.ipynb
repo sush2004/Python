{
  "nbformat": 4,
  "nbformat_minor": 0,
  "metadata": {
    "colab": {
      "name": "Untitled",
      "provenance": [],
      "collapsed_sections": [],
      "authorship_tag": "ABX9TyPMtFQojypF3DoPY32gekr1",
      "include_colab_link": true
    },
    "kernelspec": {
      "name": "python3",
      "display_name": "Python 3"
    }
  },
  "cells": [
    {
      "cell_type": "markdown",
      "metadata": {
        "id": "view-in-github",
        "colab_type": "text"
      },
      "source": [
        "<a href=\"https://colab.research.google.com/github/sush2004/Python/blob/main/Prog_Assginment.ipynb\" target=\"_parent\"><img src=\"https://colab.research.google.com/assets/colab-badge.svg\" alt=\"Open In Colab\"/></a>"
      ]
    },
    {
      "cell_type": "code",
      "metadata": {
        "id": "0mM_pfukcw8-",
        "colab": {
          "base_uri": "https://localhost:8080/"
        },
        "outputId": "63139adf-b3f5-4931-b92b-349c512425aa"
      },
      "source": [
        "def Payslip():\n",
        "  empname = input(\"Enter employee name\")\n",
        "  empnum = input(\"Enter employee number\")\n",
        "  weekend = int\n",
        "\n",
        "  print(\"Employee name is: \", empname)\n",
        "  print(\"Empoyee number is: \", empnum)\n",
        "Payslip()"
      ],
      "execution_count": 8,
      "outputs": [
        {
          "output_type": "stream",
          "text": [
            "Enter employee namesushant\n",
            "Enter employee number25\n",
            "Employee name is:  sushant\n",
            "Empoyee number is:  25\n"
          ],
          "name": "stdout"
        }
      ]
    }
  ]
}