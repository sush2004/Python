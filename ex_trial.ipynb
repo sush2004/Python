{
  "nbformat": 4,
  "nbformat_minor": 0,
  "metadata": {
    "colab": {
      "name": "ex_trial.ipynb",
      "provenance": [],
      "authorship_tag": "ABX9TyMTgyxn2IM5EypJ2/ex6RbS",
      "include_colab_link": true
    },
    "kernelspec": {
      "name": "python3",
      "display_name": "Python 3"
    }
  },
  "cells": [
    {
      "cell_type": "markdown",
      "metadata": {
        "id": "view-in-github",
        "colab_type": "text"
      },
      "source": [
        "<a href=\"https://colab.research.google.com/github/sush2004/Python/blob/main/ex_trial.ipynb\" target=\"_parent\"><img src=\"https://colab.research.google.com/assets/colab-badge.svg\" alt=\"Open In Colab\"/></a>"
      ]
    },
    {
      "cell_type": "code",
      "metadata": {
        "colab": {
          "base_uri": "https://localhost:8080/"
        },
        "id": "I3w4KGWSM84U",
        "outputId": "ae1834a3-1225-4a93-bc32-9cf043e20a56"
      },
      "source": [
        "def print_to_number():\r\n",
        "  i=1\r\n",
        "  while i<10:\r\n",
        "    print(\"i = \", i)\r\n",
        "    i=i+1\r\n",
        " \r\n",
        "print_to_number()"
      ],
      "execution_count": null,
      "outputs": [
        {
          "output_type": "stream",
          "text": [
            "i =  1\n",
            "i =  2\n",
            "i =  3\n",
            "i =  4\n",
            "i =  5\n",
            "i =  6\n",
            "i =  7\n",
            "i =  8\n",
            "i =  9\n"
          ],
          "name": "stdout"
        }
      ]
    },
    {
      "cell_type": "code",
      "metadata": {
        "colab": {
          "base_uri": "https://localhost:8080/"
        },
        "id": "G09CXYNON1lA",
        "outputId": "a9a42cfb-35f1-41ac-9c4a-a726b431e216"
      },
      "source": [
        "def sum():\r\n",
        "  i=1\r\n",
        "  num=int(input(\"Enter the max number\"))\r\n",
        "  for x in range(i,num):\r\n",
        "    add=x+i\r\n",
        "    print(add)\r\n",
        "sum()"
      ],
      "execution_count": null,
      "outputs": [
        {
          "output_type": "stream",
          "text": [
            "Enter the max number10\n",
            "2\n",
            "3\n",
            "4\n",
            "5\n",
            "6\n",
            "7\n",
            "8\n",
            "9\n",
            "10\n"
          ],
          "name": "stdout"
        }
      ]
    },
    {
      "cell_type": "code",
      "metadata": {
        "colab": {
          "base_uri": "https://localhost:8080/"
        },
        "id": "xiW8SzzmSG0w",
        "outputId": "5d8f3948-c797-47d9-d372-e9527aa561b7"
      },
      "source": [
        "class BankAccount():\r\n",
        "  interest_rate = 0.05\r\n",
        "\r\n",
        "  def detail(self,name,number,balance):\r\n",
        "    self.name=name\r\n",
        "    self.number=number\r\n",
        "    self.balance=balance\r\n",
        "\r\n",
        "  def deposit(self): \r\n",
        "      amount = float(input(\"Enter amount to be deposited: \")) \r\n",
        "      self.balance += amount \r\n",
        "      print(\"\\n Amount Deposited:\", amount)\r\n",
        "\r\n",
        "\r\n",
        "  def withdraw(self): \r\n",
        "      amount = float(input(\"Enter amount to be withdrawn: \")) \r\n",
        "      if self.balance >= amount: \r\n",
        "          self.balance -= amount \r\n",
        "          print(\"\\n You Withdrew:\", amount) \r\n",
        "      else: \r\n",
        "          print(\"\\n Insufficient balance\") \r\n",
        "\r\n",
        "  def add_interest(self,balance):\r\n",
        "    interest=balance*interest_rate\r\n",
        "    amount=balance+interest\r\n",
        "    print(\"\\n Available amount\", amount)\r\n",
        "  \r\n",
        "  def display(self): \r\n",
        "      print(\"\\n Net Available Balance=\",self.balance)\r\n",
        "\r\n",
        "        \r\n",
        "\r\n",
        "class StudentAccount():\r\n",
        "  def __init__(self,od_limit):\r\n",
        "    self.od_limit=od_limit\r\n",
        "\r\n",
        "b = BankAccount() \r\n",
        "b.detail('sushant',11,5)   \r\n",
        "b.deposit() \r\n",
        "b.withdraw() \r\n",
        "#b.add_interest()\r\n",
        "b.display()\r\n",
        "\r\n",
        "  \r\n",
        "  \r\n",
        "\r\n",
        " \r\n",
        "\r\n",
        "\r\n"
      ],
      "execution_count": null,
      "outputs": [
        {
          "output_type": "stream",
          "text": [
            "Enter amount to be deposited: 44\n",
            "\n",
            " Amount Deposited: 44.0\n",
            "Enter amount to be withdrawn: 89\n",
            "\n",
            " Insufficient balance\n",
            "\n",
            " Net Available Balance= 49.0\n"
          ],
          "name": "stdout"
        }
      ]
    },
    {
      "cell_type": "code",
      "metadata": {
        "colab": {
          "base_uri": "https://localhost:8080/"
        },
        "id": "E8PMGv5pVoqL",
        "outputId": "eb5c091c-8d57-49ac-95fa-bb4e854d5bb6"
      },
      "source": [
        "class Bank_Account: \r\n",
        "  def __init__(self): \r\n",
        "    self.balance=0\r\n",
        "    print(\"Hello!!! Welcome to the Deposit & Withdrawal Machine\") \r\n",
        "  \r\n",
        "    def deposit(self): \r\n",
        "        amount=float(input(\"Enter amount to be Deposited: \")) \r\n",
        "        self.balance += amount \r\n",
        "        print(\"\\n Amount Deposited:\",amount) \r\n",
        "  \r\n",
        "    def withdraw(self): \r\n",
        "        amount = float(input(\"Enter amount to be Withdrawn: \")) \r\n",
        "        if self.balance>=amount: \r\n",
        "            self.balance-=amount \r\n",
        "            print(\"\\n You Withdrew:\", amount) \r\n",
        "        else: \r\n",
        "            print(\"\\n Insufficient balance  \") \r\n",
        "  \r\n",
        "    def display(self): \r\n",
        "        print(\"\\n Net Available Balance=\",self.balance)\r\n",
        "         \r\n",
        "  \r\n",
        "s = Bank_Account() \r\n",
        "   \r\n",
        "s.deposit() \r\n",
        "s.withdraw() \r\n",
        "s.display() "
      ],
      "execution_count": null,
      "outputs": [
        {
          "output_type": "stream",
          "text": [
            "Hello!!! Welcome to the Deposit & Withdrawal Machine\n",
            "Enter amount to be Deposited: -10\n",
            "\n",
            " Amount Deposited: -10.0\n",
            "Enter amount to be Withdrawn: 1000\n",
            "\n",
            " Insufficient balance  \n",
            "\n",
            " Net Available Balance= -10.0\n"
          ],
          "name": "stdout"
        }
      ]
    }
  ]
}