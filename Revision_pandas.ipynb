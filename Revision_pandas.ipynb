{
  "nbformat": 4,
  "nbformat_minor": 0,
  "metadata": {
    "colab": {
      "name": "Revision_pandas.ipynb",
      "provenance": [],
      "authorship_tag": "ABX9TyOWP4QTpxRgm9pnVg9ewlHs",
      "include_colab_link": true
    },
    "kernelspec": {
      "name": "python3",
      "display_name": "Python 3"
    }
  },
  "cells": [
    {
      "cell_type": "markdown",
      "metadata": {
        "id": "view-in-github",
        "colab_type": "text"
      },
      "source": [
        "<a href=\"https://colab.research.google.com/github/sush2004/Python/blob/main/Revision_pandas.ipynb\" target=\"_parent\"><img src=\"https://colab.research.google.com/assets/colab-badge.svg\" alt=\"Open In Colab\"/></a>"
      ]
    },
    {
      "cell_type": "code",
      "metadata": {
        "id": "lNi2_2jfc2rw"
      },
      "source": [
        "import pandas as pd\r\n"
      ],
      "execution_count": 1,
      "outputs": []
    },
    {
      "cell_type": "code",
      "metadata": {
        "colab": {
          "base_uri": "https://localhost:8080/"
        },
        "id": "MYovdD_Vc8NK",
        "outputId": "3664dc51-bfb4-4da7-bde6-2c90f95ccaaf"
      },
      "source": [
        "df = pd.read_csv('Motors.csv')\r\n",
        "print(df)"
      ],
      "execution_count": 3,
      "outputs": [
        {
          "output_type": "stream",
          "text": [
            "    index      company   body-style  ...  horsepower  average-mileage    price\n",
            "0       0  alfa-romero  convertible  ...         111               21  13495.0\n",
            "1       1  alfa-romero  convertible  ...         111               21  16500.0\n",
            "2       2  alfa-romero    hatchback  ...         154               19  16500.0\n",
            "3       3         audi        sedan  ...         102               24  13950.0\n",
            "4       4         audi        sedan  ...         115               18  17450.0\n",
            "..    ...          ...          ...  ...         ...              ...      ...\n",
            "56     81   volkswagen        sedan  ...          85               27   7975.0\n",
            "57     82   volkswagen        sedan  ...          52               37   7995.0\n",
            "58     86   volkswagen        sedan  ...         100               26   9995.0\n",
            "59     87        volvo        sedan  ...         114               23  12940.0\n",
            "60     88        volvo        wagon  ...         114               23  13415.0\n",
            "\n",
            "[61 rows x 10 columns]\n"
          ],
          "name": "stdout"
        }
      ]
    },
    {
      "cell_type": "code",
      "metadata": {
        "colab": {
          "base_uri": "https://localhost:8080/",
          "height": 282
        },
        "id": "6Ki9QWfvdFes",
        "outputId": "20d3c1c5-cb64-47f2-c32d-d5afe5f24e9e"
      },
      "source": [
        "df.head()"
      ],
      "execution_count": 5,
      "outputs": [
        {
          "output_type": "execute_result",
          "data": {
            "text/html": [
              "<div>\n",
              "<style scoped>\n",
              "    .dataframe tbody tr th:only-of-type {\n",
              "        vertical-align: middle;\n",
              "    }\n",
              "\n",
              "    .dataframe tbody tr th {\n",
              "        vertical-align: top;\n",
              "    }\n",
              "\n",
              "    .dataframe thead th {\n",
              "        text-align: right;\n",
              "    }\n",
              "</style>\n",
              "<table border=\"1\" class=\"dataframe\">\n",
              "  <thead>\n",
              "    <tr style=\"text-align: right;\">\n",
              "      <th></th>\n",
              "      <th>index</th>\n",
              "      <th>company</th>\n",
              "      <th>body-style</th>\n",
              "      <th>wheel-base</th>\n",
              "      <th>length</th>\n",
              "      <th>engine-type</th>\n",
              "      <th>num-of-cylinders</th>\n",
              "      <th>horsepower</th>\n",
              "      <th>average-mileage</th>\n",
              "      <th>price</th>\n",
              "    </tr>\n",
              "  </thead>\n",
              "  <tbody>\n",
              "    <tr>\n",
              "      <th>0</th>\n",
              "      <td>0</td>\n",
              "      <td>alfa-romero</td>\n",
              "      <td>convertible</td>\n",
              "      <td>88.6</td>\n",
              "      <td>168.8</td>\n",
              "      <td>dohc</td>\n",
              "      <td>four</td>\n",
              "      <td>111</td>\n",
              "      <td>21</td>\n",
              "      <td>13495.0</td>\n",
              "    </tr>\n",
              "    <tr>\n",
              "      <th>1</th>\n",
              "      <td>1</td>\n",
              "      <td>alfa-romero</td>\n",
              "      <td>convertible</td>\n",
              "      <td>88.6</td>\n",
              "      <td>168.8</td>\n",
              "      <td>dohc</td>\n",
              "      <td>four</td>\n",
              "      <td>111</td>\n",
              "      <td>21</td>\n",
              "      <td>16500.0</td>\n",
              "    </tr>\n",
              "    <tr>\n",
              "      <th>2</th>\n",
              "      <td>2</td>\n",
              "      <td>alfa-romero</td>\n",
              "      <td>hatchback</td>\n",
              "      <td>94.5</td>\n",
              "      <td>171.2</td>\n",
              "      <td>ohcv</td>\n",
              "      <td>six</td>\n",
              "      <td>154</td>\n",
              "      <td>19</td>\n",
              "      <td>16500.0</td>\n",
              "    </tr>\n",
              "    <tr>\n",
              "      <th>3</th>\n",
              "      <td>3</td>\n",
              "      <td>audi</td>\n",
              "      <td>sedan</td>\n",
              "      <td>99.8</td>\n",
              "      <td>176.6</td>\n",
              "      <td>ohc</td>\n",
              "      <td>four</td>\n",
              "      <td>102</td>\n",
              "      <td>24</td>\n",
              "      <td>13950.0</td>\n",
              "    </tr>\n",
              "    <tr>\n",
              "      <th>4</th>\n",
              "      <td>4</td>\n",
              "      <td>audi</td>\n",
              "      <td>sedan</td>\n",
              "      <td>99.4</td>\n",
              "      <td>176.6</td>\n",
              "      <td>ohc</td>\n",
              "      <td>five</td>\n",
              "      <td>115</td>\n",
              "      <td>18</td>\n",
              "      <td>17450.0</td>\n",
              "    </tr>\n",
              "  </tbody>\n",
              "</table>\n",
              "</div>"
            ],
            "text/plain": [
              "   index      company   body-style  ...  horsepower  average-mileage    price\n",
              "0      0  alfa-romero  convertible  ...         111               21  13495.0\n",
              "1      1  alfa-romero  convertible  ...         111               21  16500.0\n",
              "2      2  alfa-romero    hatchback  ...         154               19  16500.0\n",
              "3      3         audi        sedan  ...         102               24  13950.0\n",
              "4      4         audi        sedan  ...         115               18  17450.0\n",
              "\n",
              "[5 rows x 10 columns]"
            ]
          },
          "metadata": {
            "tags": []
          },
          "execution_count": 5
        }
      ]
    },
    {
      "cell_type": "code",
      "metadata": {
        "colab": {
          "base_uri": "https://localhost:8080/",
          "height": 232
        },
        "id": "OOI6RibhdJwq",
        "outputId": "bf7c21f4-caed-499d-bc1e-1e6c396270ca"
      },
      "source": [
        "df.tail(5)"
      ],
      "execution_count": 6,
      "outputs": [
        {
          "output_type": "execute_result",
          "data": {
            "text/html": [
              "<div>\n",
              "<style scoped>\n",
              "    .dataframe tbody tr th:only-of-type {\n",
              "        vertical-align: middle;\n",
              "    }\n",
              "\n",
              "    .dataframe tbody tr th {\n",
              "        vertical-align: top;\n",
              "    }\n",
              "\n",
              "    .dataframe thead th {\n",
              "        text-align: right;\n",
              "    }\n",
              "</style>\n",
              "<table border=\"1\" class=\"dataframe\">\n",
              "  <thead>\n",
              "    <tr style=\"text-align: right;\">\n",
              "      <th></th>\n",
              "      <th>index</th>\n",
              "      <th>company</th>\n",
              "      <th>body-style</th>\n",
              "      <th>wheel-base</th>\n",
              "      <th>length</th>\n",
              "      <th>engine-type</th>\n",
              "      <th>num-of-cylinders</th>\n",
              "      <th>horsepower</th>\n",
              "      <th>average-mileage</th>\n",
              "      <th>price</th>\n",
              "    </tr>\n",
              "  </thead>\n",
              "  <tbody>\n",
              "    <tr>\n",
              "      <th>56</th>\n",
              "      <td>81</td>\n",
              "      <td>volkswagen</td>\n",
              "      <td>sedan</td>\n",
              "      <td>97.3</td>\n",
              "      <td>171.7</td>\n",
              "      <td>ohc</td>\n",
              "      <td>four</td>\n",
              "      <td>85</td>\n",
              "      <td>27</td>\n",
              "      <td>7975.0</td>\n",
              "    </tr>\n",
              "    <tr>\n",
              "      <th>57</th>\n",
              "      <td>82</td>\n",
              "      <td>volkswagen</td>\n",
              "      <td>sedan</td>\n",
              "      <td>97.3</td>\n",
              "      <td>171.7</td>\n",
              "      <td>ohc</td>\n",
              "      <td>four</td>\n",
              "      <td>52</td>\n",
              "      <td>37</td>\n",
              "      <td>7995.0</td>\n",
              "    </tr>\n",
              "    <tr>\n",
              "      <th>58</th>\n",
              "      <td>86</td>\n",
              "      <td>volkswagen</td>\n",
              "      <td>sedan</td>\n",
              "      <td>97.3</td>\n",
              "      <td>171.7</td>\n",
              "      <td>ohc</td>\n",
              "      <td>four</td>\n",
              "      <td>100</td>\n",
              "      <td>26</td>\n",
              "      <td>9995.0</td>\n",
              "    </tr>\n",
              "    <tr>\n",
              "      <th>59</th>\n",
              "      <td>87</td>\n",
              "      <td>volvo</td>\n",
              "      <td>sedan</td>\n",
              "      <td>104.3</td>\n",
              "      <td>188.8</td>\n",
              "      <td>ohc</td>\n",
              "      <td>four</td>\n",
              "      <td>114</td>\n",
              "      <td>23</td>\n",
              "      <td>12940.0</td>\n",
              "    </tr>\n",
              "    <tr>\n",
              "      <th>60</th>\n",
              "      <td>88</td>\n",
              "      <td>volvo</td>\n",
              "      <td>wagon</td>\n",
              "      <td>104.3</td>\n",
              "      <td>188.8</td>\n",
              "      <td>ohc</td>\n",
              "      <td>four</td>\n",
              "      <td>114</td>\n",
              "      <td>23</td>\n",
              "      <td>13415.0</td>\n",
              "    </tr>\n",
              "  </tbody>\n",
              "</table>\n",
              "</div>"
            ],
            "text/plain": [
              "    index     company body-style  ...  horsepower  average-mileage    price\n",
              "56     81  volkswagen      sedan  ...          85               27   7975.0\n",
              "57     82  volkswagen      sedan  ...          52               37   7995.0\n",
              "58     86  volkswagen      sedan  ...         100               26   9995.0\n",
              "59     87       volvo      sedan  ...         114               23  12940.0\n",
              "60     88       volvo      wagon  ...         114               23  13415.0\n",
              "\n",
              "[5 rows x 10 columns]"
            ]
          },
          "metadata": {
            "tags": []
          },
          "execution_count": 6
        }
      ]
    },
    {
      "cell_type": "code",
      "metadata": {
        "colab": {
          "base_uri": "https://localhost:8080/"
        },
        "id": "KJ7Q9wMwdPeE",
        "outputId": "1f869f10-2c16-4efd-9b41-b476a4365858"
      },
      "source": [
        "df=pd.read_csv('Motors.csv', na_values={'prices':['?', 'n.a'],\r\n",
        "'stroke':['?','n.a'],\r\n",
        "'horsepower':['?','n.a'],\r\n",
        "'peak-rpm':['?','n.a'],\r\n",
        "'average-mileage':['?','n.a']})\r\n",
        "print(df)"
      ],
      "execution_count": 9,
      "outputs": [
        {
          "output_type": "stream",
          "text": [
            "    index      company   body-style  ...  horsepower  average-mileage    price\n",
            "0       0  alfa-romero  convertible  ...         111               21  13495.0\n",
            "1       1  alfa-romero  convertible  ...         111               21  16500.0\n",
            "2       2  alfa-romero    hatchback  ...         154               19  16500.0\n",
            "3       3         audi        sedan  ...         102               24  13950.0\n",
            "4       4         audi        sedan  ...         115               18  17450.0\n",
            "..    ...          ...          ...  ...         ...              ...      ...\n",
            "56     81   volkswagen        sedan  ...          85               27   7975.0\n",
            "57     82   volkswagen        sedan  ...          52               37   7995.0\n",
            "58     86   volkswagen        sedan  ...         100               26   9995.0\n",
            "59     87        volvo        sedan  ...         114               23  12940.0\n",
            "60     88        volvo        wagon  ...         114               23  13415.0\n",
            "\n",
            "[61 rows x 10 columns]\n"
          ],
          "name": "stdout"
        }
      ]
    },
    {
      "cell_type": "code",
      "metadata": {
        "colab": {
          "base_uri": "https://localhost:8080/",
          "height": 77
        },
        "id": "KxzII3L8f19Z",
        "outputId": "7f90135f-ad45-4c4e-8f66-0ba4248e9e13"
      },
      "source": [
        "exp_car_company= df[['company','price']][df.price==df['price'].max()]\r\n",
        "exp_car_company"
      ],
      "execution_count": 11,
      "outputs": [
        {
          "output_type": "execute_result",
          "data": {
            "text/html": [
              "<div>\n",
              "<style scoped>\n",
              "    .dataframe tbody tr th:only-of-type {\n",
              "        vertical-align: middle;\n",
              "    }\n",
              "\n",
              "    .dataframe tbody tr th {\n",
              "        vertical-align: top;\n",
              "    }\n",
              "\n",
              "    .dataframe thead th {\n",
              "        text-align: right;\n",
              "    }\n",
              "</style>\n",
              "<table border=\"1\" class=\"dataframe\">\n",
              "  <thead>\n",
              "    <tr style=\"text-align: right;\">\n",
              "      <th></th>\n",
              "      <th>company</th>\n",
              "      <th>price</th>\n",
              "    </tr>\n",
              "  </thead>\n",
              "  <tbody>\n",
              "    <tr>\n",
              "      <th>35</th>\n",
              "      <td>mercedes-benz</td>\n",
              "      <td>45400.0</td>\n",
              "    </tr>\n",
              "  </tbody>\n",
              "</table>\n",
              "</div>"
            ],
            "text/plain": [
              "          company    price\n",
              "35  mercedes-benz  45400.0"
            ]
          },
          "metadata": {
            "tags": []
          },
          "execution_count": 11
        }
      ]
    },
    {
      "cell_type": "markdown",
      "metadata": {
        "id": "4j8iRuqfkL7K"
      },
      "source": [
        "Print all toyota cars details"
      ]
    },
    {
      "cell_type": "code",
      "metadata": {
        "colab": {
          "base_uri": "https://localhost:8080/",
          "height": 291
        },
        "id": "hxqxgSLMjG95",
        "outputId": "5d7252e3-df5a-45ee-922d-f72d2c79ea92"
      },
      "source": [
        "car_Manufacturers=df.groupby('company')\r\n",
        "toyotaDf = car_Manufacturers.get_group('toyota')\r\n",
        "toyotaDf"
      ],
      "execution_count": 14,
      "outputs": [
        {
          "output_type": "execute_result",
          "data": {
            "text/html": [
              "<div>\n",
              "<style scoped>\n",
              "    .dataframe tbody tr th:only-of-type {\n",
              "        vertical-align: middle;\n",
              "    }\n",
              "\n",
              "    .dataframe tbody tr th {\n",
              "        vertical-align: top;\n",
              "    }\n",
              "\n",
              "    .dataframe thead th {\n",
              "        text-align: right;\n",
              "    }\n",
              "</style>\n",
              "<table border=\"1\" class=\"dataframe\">\n",
              "  <thead>\n",
              "    <tr style=\"text-align: right;\">\n",
              "      <th></th>\n",
              "      <th>index</th>\n",
              "      <th>company</th>\n",
              "      <th>body-style</th>\n",
              "      <th>wheel-base</th>\n",
              "      <th>length</th>\n",
              "      <th>engine-type</th>\n",
              "      <th>num-of-cylinders</th>\n",
              "      <th>horsepower</th>\n",
              "      <th>average-mileage</th>\n",
              "      <th>price</th>\n",
              "    </tr>\n",
              "  </thead>\n",
              "  <tbody>\n",
              "    <tr>\n",
              "      <th>48</th>\n",
              "      <td>66</td>\n",
              "      <td>toyota</td>\n",
              "      <td>hatchback</td>\n",
              "      <td>95.7</td>\n",
              "      <td>158.7</td>\n",
              "      <td>ohc</td>\n",
              "      <td>four</td>\n",
              "      <td>62</td>\n",
              "      <td>35</td>\n",
              "      <td>5348.0</td>\n",
              "    </tr>\n",
              "    <tr>\n",
              "      <th>49</th>\n",
              "      <td>67</td>\n",
              "      <td>toyota</td>\n",
              "      <td>hatchback</td>\n",
              "      <td>95.7</td>\n",
              "      <td>158.7</td>\n",
              "      <td>ohc</td>\n",
              "      <td>four</td>\n",
              "      <td>62</td>\n",
              "      <td>31</td>\n",
              "      <td>6338.0</td>\n",
              "    </tr>\n",
              "    <tr>\n",
              "      <th>50</th>\n",
              "      <td>68</td>\n",
              "      <td>toyota</td>\n",
              "      <td>hatchback</td>\n",
              "      <td>95.7</td>\n",
              "      <td>158.7</td>\n",
              "      <td>ohc</td>\n",
              "      <td>four</td>\n",
              "      <td>62</td>\n",
              "      <td>31</td>\n",
              "      <td>6488.0</td>\n",
              "    </tr>\n",
              "    <tr>\n",
              "      <th>51</th>\n",
              "      <td>69</td>\n",
              "      <td>toyota</td>\n",
              "      <td>wagon</td>\n",
              "      <td>95.7</td>\n",
              "      <td>169.7</td>\n",
              "      <td>ohc</td>\n",
              "      <td>four</td>\n",
              "      <td>62</td>\n",
              "      <td>31</td>\n",
              "      <td>6918.0</td>\n",
              "    </tr>\n",
              "    <tr>\n",
              "      <th>52</th>\n",
              "      <td>70</td>\n",
              "      <td>toyota</td>\n",
              "      <td>wagon</td>\n",
              "      <td>95.7</td>\n",
              "      <td>169.7</td>\n",
              "      <td>ohc</td>\n",
              "      <td>four</td>\n",
              "      <td>62</td>\n",
              "      <td>27</td>\n",
              "      <td>7898.0</td>\n",
              "    </tr>\n",
              "    <tr>\n",
              "      <th>53</th>\n",
              "      <td>71</td>\n",
              "      <td>toyota</td>\n",
              "      <td>wagon</td>\n",
              "      <td>95.7</td>\n",
              "      <td>169.7</td>\n",
              "      <td>ohc</td>\n",
              "      <td>four</td>\n",
              "      <td>62</td>\n",
              "      <td>27</td>\n",
              "      <td>8778.0</td>\n",
              "    </tr>\n",
              "    <tr>\n",
              "      <th>54</th>\n",
              "      <td>79</td>\n",
              "      <td>toyota</td>\n",
              "      <td>wagon</td>\n",
              "      <td>104.5</td>\n",
              "      <td>187.8</td>\n",
              "      <td>dohc</td>\n",
              "      <td>six</td>\n",
              "      <td>156</td>\n",
              "      <td>19</td>\n",
              "      <td>15750.0</td>\n",
              "    </tr>\n",
              "  </tbody>\n",
              "</table>\n",
              "</div>"
            ],
            "text/plain": [
              "    index company body-style  ...  horsepower  average-mileage    price\n",
              "48     66  toyota  hatchback  ...          62               35   5348.0\n",
              "49     67  toyota  hatchback  ...          62               31   6338.0\n",
              "50     68  toyota  hatchback  ...          62               31   6488.0\n",
              "51     69  toyota      wagon  ...          62               31   6918.0\n",
              "52     70  toyota      wagon  ...          62               27   7898.0\n",
              "53     71  toyota      wagon  ...          62               27   8778.0\n",
              "54     79  toyota      wagon  ...         156               19  15750.0\n",
              "\n",
              "[7 rows x 10 columns]"
            ]
          },
          "metadata": {
            "tags": []
          },
          "execution_count": 14
        }
      ]
    },
    {
      "cell_type": "markdown",
      "metadata": {
        "id": "b5JIB55WkGh-"
      },
      "source": [
        "Count the total cars per company"
      ]
    },
    {
      "cell_type": "code",
      "metadata": {
        "colab": {
          "base_uri": "https://localhost:8080/"
        },
        "id": "zKcbLEV7j5X8",
        "outputId": "ead2eeed-99fd-4169-de5d-6f30e99c31a5"
      },
      "source": [
        "df['company'].value_counts()"
      ],
      "execution_count": 15,
      "outputs": [
        {
          "output_type": "execute_result",
          "data": {
            "text/plain": [
              "toyota           7\n",
              "bmw              6\n",
              "mazda            5\n",
              "nissan           5\n",
              "audi             4\n",
              "mercedes-benz    4\n",
              "mitsubishi       4\n",
              "volkswagen       4\n",
              "chevrolet        3\n",
              "alfa-romero      3\n",
              "isuzu            3\n",
              "jaguar           3\n",
              "honda            3\n",
              "porsche          3\n",
              "volvo            2\n",
              "dodge            2\n",
              "Name: company, dtype: int64"
            ]
          },
          "metadata": {
            "tags": []
          },
          "execution_count": 15
        }
      ]
    },
    {
      "cell_type": "markdown",
      "metadata": {
        "id": "cqfBi1EKlDnS"
      },
      "source": [
        "Find each company's highest price car"
      ]
    },
    {
      "cell_type": "code",
      "metadata": {
        "colab": {
          "base_uri": "https://localhost:8080/",
          "height": 604
        },
        "id": "th0IvghjkRdA",
        "outputId": "0bfa8acd-9a3d-40f9-a9d9-faab2ad8cd46"
      },
      "source": [
        "car_Manufacturers = df.groupby('company')   #taking address\r\n",
        "priceDf = car_Manufacturers['company','price'].max()\r\n",
        "priceDf"
      ],
      "execution_count": 18,
      "outputs": [
        {
          "output_type": "stream",
          "text": [
            "/usr/local/lib/python3.6/dist-packages/ipykernel_launcher.py:2: FutureWarning: Indexing with multiple keys (implicitly converted to a tuple of keys) will be deprecated, use a list instead.\n",
            "  \n"
          ],
          "name": "stderr"
        },
        {
          "output_type": "execute_result",
          "data": {
            "text/html": [
              "<div>\n",
              "<style scoped>\n",
              "    .dataframe tbody tr th:only-of-type {\n",
              "        vertical-align: middle;\n",
              "    }\n",
              "\n",
              "    .dataframe tbody tr th {\n",
              "        vertical-align: top;\n",
              "    }\n",
              "\n",
              "    .dataframe thead th {\n",
              "        text-align: right;\n",
              "    }\n",
              "</style>\n",
              "<table border=\"1\" class=\"dataframe\">\n",
              "  <thead>\n",
              "    <tr style=\"text-align: right;\">\n",
              "      <th></th>\n",
              "      <th>company</th>\n",
              "      <th>price</th>\n",
              "    </tr>\n",
              "    <tr>\n",
              "      <th>company</th>\n",
              "      <th></th>\n",
              "      <th></th>\n",
              "    </tr>\n",
              "  </thead>\n",
              "  <tbody>\n",
              "    <tr>\n",
              "      <th>alfa-romero</th>\n",
              "      <td>alfa-romero</td>\n",
              "      <td>16500.0</td>\n",
              "    </tr>\n",
              "    <tr>\n",
              "      <th>audi</th>\n",
              "      <td>audi</td>\n",
              "      <td>18920.0</td>\n",
              "    </tr>\n",
              "    <tr>\n",
              "      <th>bmw</th>\n",
              "      <td>bmw</td>\n",
              "      <td>41315.0</td>\n",
              "    </tr>\n",
              "    <tr>\n",
              "      <th>chevrolet</th>\n",
              "      <td>chevrolet</td>\n",
              "      <td>6575.0</td>\n",
              "    </tr>\n",
              "    <tr>\n",
              "      <th>dodge</th>\n",
              "      <td>dodge</td>\n",
              "      <td>6377.0</td>\n",
              "    </tr>\n",
              "    <tr>\n",
              "      <th>honda</th>\n",
              "      <td>honda</td>\n",
              "      <td>12945.0</td>\n",
              "    </tr>\n",
              "    <tr>\n",
              "      <th>isuzu</th>\n",
              "      <td>isuzu</td>\n",
              "      <td>6785.0</td>\n",
              "    </tr>\n",
              "    <tr>\n",
              "      <th>jaguar</th>\n",
              "      <td>jaguar</td>\n",
              "      <td>36000.0</td>\n",
              "    </tr>\n",
              "    <tr>\n",
              "      <th>mazda</th>\n",
              "      <td>mazda</td>\n",
              "      <td>18344.0</td>\n",
              "    </tr>\n",
              "    <tr>\n",
              "      <th>mercedes-benz</th>\n",
              "      <td>mercedes-benz</td>\n",
              "      <td>45400.0</td>\n",
              "    </tr>\n",
              "    <tr>\n",
              "      <th>mitsubishi</th>\n",
              "      <td>mitsubishi</td>\n",
              "      <td>8189.0</td>\n",
              "    </tr>\n",
              "    <tr>\n",
              "      <th>nissan</th>\n",
              "      <td>nissan</td>\n",
              "      <td>13499.0</td>\n",
              "    </tr>\n",
              "    <tr>\n",
              "      <th>porsche</th>\n",
              "      <td>porsche</td>\n",
              "      <td>37028.0</td>\n",
              "    </tr>\n",
              "    <tr>\n",
              "      <th>toyota</th>\n",
              "      <td>toyota</td>\n",
              "      <td>15750.0</td>\n",
              "    </tr>\n",
              "    <tr>\n",
              "      <th>volkswagen</th>\n",
              "      <td>volkswagen</td>\n",
              "      <td>9995.0</td>\n",
              "    </tr>\n",
              "    <tr>\n",
              "      <th>volvo</th>\n",
              "      <td>volvo</td>\n",
              "      <td>13415.0</td>\n",
              "    </tr>\n",
              "  </tbody>\n",
              "</table>\n",
              "</div>"
            ],
            "text/plain": [
              "                     company    price\n",
              "company                              \n",
              "alfa-romero      alfa-romero  16500.0\n",
              "audi                    audi  18920.0\n",
              "bmw                      bmw  41315.0\n",
              "chevrolet          chevrolet   6575.0\n",
              "dodge                  dodge   6377.0\n",
              "honda                  honda  12945.0\n",
              "isuzu                  isuzu   6785.0\n",
              "jaguar                jaguar  36000.0\n",
              "mazda                  mazda  18344.0\n",
              "mercedes-benz  mercedes-benz  45400.0\n",
              "mitsubishi        mitsubishi   8189.0\n",
              "nissan                nissan  13499.0\n",
              "porsche              porsche  37028.0\n",
              "toyota                toyota  15750.0\n",
              "volkswagen        volkswagen   9995.0\n",
              "volvo                  volvo  13415.0"
            ]
          },
          "metadata": {
            "tags": []
          },
          "execution_count": 18
        }
      ]
    },
    {
      "cell_type": "markdown",
      "metadata": {
        "id": "bw_C79m9mAt_"
      },
      "source": [
        "find the average mileage of each car making company"
      ]
    },
    {
      "cell_type": "code",
      "metadata": {
        "colab": {
          "base_uri": "https://localhost:8080/",
          "height": 604
        },
        "id": "iKCGCkDylORk",
        "outputId": "6e181546-6842-445b-b9ec-45fee6c10084"
      },
      "source": [
        "car_Manufacturers= df.groupby('company')\r\n",
        "mileageDf = car_Manufacturers['company','average-mileage'].mean()\r\n",
        "mileageDf"
      ],
      "execution_count": 19,
      "outputs": [
        {
          "output_type": "stream",
          "text": [
            "/usr/local/lib/python3.6/dist-packages/ipykernel_launcher.py:2: FutureWarning: Indexing with multiple keys (implicitly converted to a tuple of keys) will be deprecated, use a list instead.\n",
            "  \n"
          ],
          "name": "stderr"
        },
        {
          "output_type": "execute_result",
          "data": {
            "text/html": [
              "<div>\n",
              "<style scoped>\n",
              "    .dataframe tbody tr th:only-of-type {\n",
              "        vertical-align: middle;\n",
              "    }\n",
              "\n",
              "    .dataframe tbody tr th {\n",
              "        vertical-align: top;\n",
              "    }\n",
              "\n",
              "    .dataframe thead th {\n",
              "        text-align: right;\n",
              "    }\n",
              "</style>\n",
              "<table border=\"1\" class=\"dataframe\">\n",
              "  <thead>\n",
              "    <tr style=\"text-align: right;\">\n",
              "      <th></th>\n",
              "      <th>average-mileage</th>\n",
              "    </tr>\n",
              "    <tr>\n",
              "      <th>company</th>\n",
              "      <th></th>\n",
              "    </tr>\n",
              "  </thead>\n",
              "  <tbody>\n",
              "    <tr>\n",
              "      <th>alfa-romero</th>\n",
              "      <td>20.333333</td>\n",
              "    </tr>\n",
              "    <tr>\n",
              "      <th>audi</th>\n",
              "      <td>20.000000</td>\n",
              "    </tr>\n",
              "    <tr>\n",
              "      <th>bmw</th>\n",
              "      <td>19.000000</td>\n",
              "    </tr>\n",
              "    <tr>\n",
              "      <th>chevrolet</th>\n",
              "      <td>41.000000</td>\n",
              "    </tr>\n",
              "    <tr>\n",
              "      <th>dodge</th>\n",
              "      <td>31.000000</td>\n",
              "    </tr>\n",
              "    <tr>\n",
              "      <th>honda</th>\n",
              "      <td>26.333333</td>\n",
              "    </tr>\n",
              "    <tr>\n",
              "      <th>isuzu</th>\n",
              "      <td>33.333333</td>\n",
              "    </tr>\n",
              "    <tr>\n",
              "      <th>jaguar</th>\n",
              "      <td>14.333333</td>\n",
              "    </tr>\n",
              "    <tr>\n",
              "      <th>mazda</th>\n",
              "      <td>28.000000</td>\n",
              "    </tr>\n",
              "    <tr>\n",
              "      <th>mercedes-benz</th>\n",
              "      <td>18.000000</td>\n",
              "    </tr>\n",
              "    <tr>\n",
              "      <th>mitsubishi</th>\n",
              "      <td>29.500000</td>\n",
              "    </tr>\n",
              "    <tr>\n",
              "      <th>nissan</th>\n",
              "      <td>31.400000</td>\n",
              "    </tr>\n",
              "    <tr>\n",
              "      <th>porsche</th>\n",
              "      <td>17.000000</td>\n",
              "    </tr>\n",
              "    <tr>\n",
              "      <th>toyota</th>\n",
              "      <td>28.714286</td>\n",
              "    </tr>\n",
              "    <tr>\n",
              "      <th>volkswagen</th>\n",
              "      <td>31.750000</td>\n",
              "    </tr>\n",
              "    <tr>\n",
              "      <th>volvo</th>\n",
              "      <td>23.000000</td>\n",
              "    </tr>\n",
              "  </tbody>\n",
              "</table>\n",
              "</div>"
            ],
            "text/plain": [
              "               average-mileage\n",
              "company                       \n",
              "alfa-romero          20.333333\n",
              "audi                 20.000000\n",
              "bmw                  19.000000\n",
              "chevrolet            41.000000\n",
              "dodge                31.000000\n",
              "honda                26.333333\n",
              "isuzu                33.333333\n",
              "jaguar               14.333333\n",
              "mazda                28.000000\n",
              "mercedes-benz        18.000000\n",
              "mitsubishi           29.500000\n",
              "nissan               31.400000\n",
              "porsche              17.000000\n",
              "toyota               28.714286\n",
              "volkswagen           31.750000\n",
              "volvo                23.000000"
            ]
          },
          "metadata": {
            "tags": []
          },
          "execution_count": 19
        }
      ]
    },
    {
      "cell_type": "markdown",
      "metadata": {
        "id": "7y0EdcJvmuCs"
      },
      "source": [
        "Sort all cards by price column"
      ]
    },
    {
      "cell_type": "code",
      "metadata": {
        "colab": {
          "base_uri": "https://localhost:8080/",
          "height": 266
        },
        "id": "CcJQurkCl_M8",
        "outputId": "587fed01-29a1-450f-9951-a7113a6eb715"
      },
      "source": [
        "carsDf = df.sort_values(by=['price','horsepower'], ascending=False)\r\n",
        "carsDf.head(5)"
      ],
      "execution_count": 20,
      "outputs": [
        {
          "output_type": "execute_result",
          "data": {
            "text/html": [
              "<div>\n",
              "<style scoped>\n",
              "    .dataframe tbody tr th:only-of-type {\n",
              "        vertical-align: middle;\n",
              "    }\n",
              "\n",
              "    .dataframe tbody tr th {\n",
              "        vertical-align: top;\n",
              "    }\n",
              "\n",
              "    .dataframe thead th {\n",
              "        text-align: right;\n",
              "    }\n",
              "</style>\n",
              "<table border=\"1\" class=\"dataframe\">\n",
              "  <thead>\n",
              "    <tr style=\"text-align: right;\">\n",
              "      <th></th>\n",
              "      <th>index</th>\n",
              "      <th>company</th>\n",
              "      <th>body-style</th>\n",
              "      <th>wheel-base</th>\n",
              "      <th>length</th>\n",
              "      <th>engine-type</th>\n",
              "      <th>num-of-cylinders</th>\n",
              "      <th>horsepower</th>\n",
              "      <th>average-mileage</th>\n",
              "      <th>price</th>\n",
              "    </tr>\n",
              "  </thead>\n",
              "  <tbody>\n",
              "    <tr>\n",
              "      <th>35</th>\n",
              "      <td>47</td>\n",
              "      <td>mercedes-benz</td>\n",
              "      <td>hardtop</td>\n",
              "      <td>112.0</td>\n",
              "      <td>199.2</td>\n",
              "      <td>ohcv</td>\n",
              "      <td>eight</td>\n",
              "      <td>184</td>\n",
              "      <td>14</td>\n",
              "      <td>45400.0</td>\n",
              "    </tr>\n",
              "    <tr>\n",
              "      <th>11</th>\n",
              "      <td>14</td>\n",
              "      <td>bmw</td>\n",
              "      <td>sedan</td>\n",
              "      <td>103.5</td>\n",
              "      <td>193.8</td>\n",
              "      <td>ohc</td>\n",
              "      <td>six</td>\n",
              "      <td>182</td>\n",
              "      <td>16</td>\n",
              "      <td>41315.0</td>\n",
              "    </tr>\n",
              "    <tr>\n",
              "      <th>34</th>\n",
              "      <td>46</td>\n",
              "      <td>mercedes-benz</td>\n",
              "      <td>sedan</td>\n",
              "      <td>120.9</td>\n",
              "      <td>208.1</td>\n",
              "      <td>ohcv</td>\n",
              "      <td>eight</td>\n",
              "      <td>184</td>\n",
              "      <td>14</td>\n",
              "      <td>40960.0</td>\n",
              "    </tr>\n",
              "    <tr>\n",
              "      <th>46</th>\n",
              "      <td>62</td>\n",
              "      <td>porsche</td>\n",
              "      <td>convertible</td>\n",
              "      <td>89.5</td>\n",
              "      <td>168.9</td>\n",
              "      <td>ohcf</td>\n",
              "      <td>six</td>\n",
              "      <td>207</td>\n",
              "      <td>17</td>\n",
              "      <td>37028.0</td>\n",
              "    </tr>\n",
              "    <tr>\n",
              "      <th>12</th>\n",
              "      <td>15</td>\n",
              "      <td>bmw</td>\n",
              "      <td>sedan</td>\n",
              "      <td>110.0</td>\n",
              "      <td>197.0</td>\n",
              "      <td>ohc</td>\n",
              "      <td>six</td>\n",
              "      <td>182</td>\n",
              "      <td>15</td>\n",
              "      <td>36880.0</td>\n",
              "    </tr>\n",
              "  </tbody>\n",
              "</table>\n",
              "</div>"
            ],
            "text/plain": [
              "    index        company   body-style  ...  horsepower  average-mileage    price\n",
              "35     47  mercedes-benz      hardtop  ...         184               14  45400.0\n",
              "11     14            bmw        sedan  ...         182               16  41315.0\n",
              "34     46  mercedes-benz        sedan  ...         184               14  40960.0\n",
              "46     62        porsche  convertible  ...         207               17  37028.0\n",
              "12     15            bmw        sedan  ...         182               15  36880.0\n",
              "\n",
              "[5 rows x 10 columns]"
            ]
          },
          "metadata": {
            "tags": []
          },
          "execution_count": 20
        }
      ]
    },
    {
      "cell_type": "markdown",
      "metadata": {
        "id": "WV2FJIC_sPdf"
      },
      "source": [
        "Create two data frames using two Dicts, concat those two data frames and create a key for each data frame"
      ]
    },
    {
      "cell_type": "code",
      "metadata": {
        "colab": {
          "base_uri": "https://localhost:8080/",
          "height": 284
        },
        "id": "YR7YdMVGmy4s",
        "outputId": "fb824ffe-527f-4dc9-a74a-bab4aedd34a7"
      },
      "source": [
        "GermanCars = {'Company': ['Ford', 'Mercedes', 'BMW','Audi'],'Price': [23845, 171995, 135925, 71400]}\r\n",
        "carsDf1 = pd.DataFrame.from_dict(GermanCars)\r\n",
        "\r\n",
        "japaneseCars = {'Company': ['Toyota', 'Honda', 'Nissan','Mitshubishi'],\r\n",
        "                'Price':[29995, 23600, 61500, 58900]}\r\n",
        "carsDf2 = pd.DataFrame.from_dict(japaneseCars)\r\n",
        "\r\n",
        "carsDf = pd.concat([carsDf1, carsDf2], keys=['Germany','Japan'])\r\n",
        "carsDf"
      ],
      "execution_count": 25,
      "outputs": [
        {
          "output_type": "execute_result",
          "data": {
            "text/html": [
              "<div>\n",
              "<style scoped>\n",
              "    .dataframe tbody tr th:only-of-type {\n",
              "        vertical-align: middle;\n",
              "    }\n",
              "\n",
              "    .dataframe tbody tr th {\n",
              "        vertical-align: top;\n",
              "    }\n",
              "\n",
              "    .dataframe thead th {\n",
              "        text-align: right;\n",
              "    }\n",
              "</style>\n",
              "<table border=\"1\" class=\"dataframe\">\n",
              "  <thead>\n",
              "    <tr style=\"text-align: right;\">\n",
              "      <th></th>\n",
              "      <th></th>\n",
              "      <th>Company</th>\n",
              "      <th>Price</th>\n",
              "    </tr>\n",
              "  </thead>\n",
              "  <tbody>\n",
              "    <tr>\n",
              "      <th rowspan=\"4\" valign=\"top\">Germany</th>\n",
              "      <th>0</th>\n",
              "      <td>Ford</td>\n",
              "      <td>23845</td>\n",
              "    </tr>\n",
              "    <tr>\n",
              "      <th>1</th>\n",
              "      <td>Mercedes</td>\n",
              "      <td>171995</td>\n",
              "    </tr>\n",
              "    <tr>\n",
              "      <th>2</th>\n",
              "      <td>BMW</td>\n",
              "      <td>135925</td>\n",
              "    </tr>\n",
              "    <tr>\n",
              "      <th>3</th>\n",
              "      <td>Audi</td>\n",
              "      <td>71400</td>\n",
              "    </tr>\n",
              "    <tr>\n",
              "      <th rowspan=\"4\" valign=\"top\">Japan</th>\n",
              "      <th>0</th>\n",
              "      <td>Toyota</td>\n",
              "      <td>29995</td>\n",
              "    </tr>\n",
              "    <tr>\n",
              "      <th>1</th>\n",
              "      <td>Honda</td>\n",
              "      <td>23600</td>\n",
              "    </tr>\n",
              "    <tr>\n",
              "      <th>2</th>\n",
              "      <td>Nissan</td>\n",
              "      <td>61500</td>\n",
              "    </tr>\n",
              "    <tr>\n",
              "      <th>3</th>\n",
              "      <td>Mitshubishi</td>\n",
              "      <td>58900</td>\n",
              "    </tr>\n",
              "  </tbody>\n",
              "</table>\n",
              "</div>"
            ],
            "text/plain": [
              "               Company   Price\n",
              "Germany 0         Ford   23845\n",
              "        1     Mercedes  171995\n",
              "        2          BMW  135925\n",
              "        3         Audi   71400\n",
              "Japan   0       Toyota   29995\n",
              "        1        Honda   23600\n",
              "        2       Nissan   61500\n",
              "        3  Mitshubishi   58900"
            ]
          },
          "metadata": {
            "tags": []
          },
          "execution_count": 25
        }
      ]
    },
    {
      "cell_type": "markdown",
      "metadata": {
        "id": "LPBovGBestW1"
      },
      "source": [
        "create two data frames using following two dicts, merge two data frames and append second data frame as new column to first data frame"
      ]
    },
    {
      "cell_type": "code",
      "metadata": {
        "colab": {
          "base_uri": "https://localhost:8080/",
          "height": 166
        },
        "id": "ylyhMwxHseBl",
        "outputId": "4470bfe1-ea64-4a0d-99bb-7595775ca051"
      },
      "source": [
        "Car_Price = {'Company': ['Toyota', 'Honda', 'BMW','Audi'], \r\n",
        "             'Price':[23845, 171995, 135925, 71400]}\r\n",
        "carPriceDf = pd.DataFrame.from_dict(Car_Price)\r\n",
        "\r\n",
        "car_Horsepower = {'Company': ['Toyota', 'Honda', 'BMW','Audi'],\r\n",
        "                  'horsePower':[141, 80, 182, 160]}\r\n",
        "carsHorsepowerDf =  pd.DataFrame.from_dict(car_Horsepower)\r\n",
        "\r\n",
        "carsDf = pd.merge(carPriceDf, carsHorsepowerDf, on='Company')\r\n",
        "carsDf"
      ],
      "execution_count": 27,
      "outputs": [
        {
          "output_type": "execute_result",
          "data": {
            "text/html": [
              "<div>\n",
              "<style scoped>\n",
              "    .dataframe tbody tr th:only-of-type {\n",
              "        vertical-align: middle;\n",
              "    }\n",
              "\n",
              "    .dataframe tbody tr th {\n",
              "        vertical-align: top;\n",
              "    }\n",
              "\n",
              "    .dataframe thead th {\n",
              "        text-align: right;\n",
              "    }\n",
              "</style>\n",
              "<table border=\"1\" class=\"dataframe\">\n",
              "  <thead>\n",
              "    <tr style=\"text-align: right;\">\n",
              "      <th></th>\n",
              "      <th>Company</th>\n",
              "      <th>Price</th>\n",
              "      <th>horsePower</th>\n",
              "    </tr>\n",
              "  </thead>\n",
              "  <tbody>\n",
              "    <tr>\n",
              "      <th>0</th>\n",
              "      <td>Toyota</td>\n",
              "      <td>23845</td>\n",
              "      <td>141</td>\n",
              "    </tr>\n",
              "    <tr>\n",
              "      <th>1</th>\n",
              "      <td>Honda</td>\n",
              "      <td>171995</td>\n",
              "      <td>80</td>\n",
              "    </tr>\n",
              "    <tr>\n",
              "      <th>2</th>\n",
              "      <td>BMW</td>\n",
              "      <td>135925</td>\n",
              "      <td>182</td>\n",
              "    </tr>\n",
              "    <tr>\n",
              "      <th>3</th>\n",
              "      <td>Audi</td>\n",
              "      <td>71400</td>\n",
              "      <td>160</td>\n",
              "    </tr>\n",
              "  </tbody>\n",
              "</table>\n",
              "</div>"
            ],
            "text/plain": [
              "  Company   Price  horsePower\n",
              "0  Toyota   23845         141\n",
              "1   Honda  171995          80\n",
              "2     BMW  135925         182\n",
              "3    Audi   71400         160"
            ]
          },
          "metadata": {
            "tags": []
          },
          "execution_count": 27
        }
      ]
    }
  ]
}