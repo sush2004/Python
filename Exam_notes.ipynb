{
  "nbformat": 4,
  "nbformat_minor": 0,
  "metadata": {
    "colab": {
      "name": "Exam_notes.ipynb",
      "provenance": [],
      "authorship_tag": "ABX9TyOglxgOfril56W5uXDC2+aj",
      "include_colab_link": true
    },
    "kernelspec": {
      "name": "python3",
      "display_name": "Python 3"
    }
  },
  "cells": [
    {
      "cell_type": "markdown",
      "metadata": {
        "id": "view-in-github",
        "colab_type": "text"
      },
      "source": [
        "<a href=\"https://colab.research.google.com/github/sush2004/Python/blob/main/Exam_notes.ipynb\" target=\"_parent\"><img src=\"https://colab.research.google.com/assets/colab-badge.svg\" alt=\"Open In Colab\"/></a>"
      ]
    },
    {
      "cell_type": "markdown",
      "metadata": {
        "id": "rRRMHxclB-q2"
      },
      "source": [
        "Translate the for loop into a while loop"
      ]
    },
    {
      "cell_type": "code",
      "metadata": {
        "colab": {
          "base_uri": "https://localhost:8080/"
        },
        "id": "3-elTBy9AXew",
        "outputId": "24a23e0b-3e9a-4708-c18b-8c6a20522bec"
      },
      "source": [
        "def print_to_number():\r\n",
        "  i=1\r\n",
        "  while i<10:\r\n",
        "    print(\"i = \", i)\r\n",
        "    i=i+1\r\n",
        " \r\n",
        "print_to_number()"
      ],
      "execution_count": null,
      "outputs": [
        {
          "output_type": "stream",
          "text": [
            "i =  1\n",
            "i =  2\n",
            "i =  3\n",
            "i =  4\n",
            "i =  5\n",
            "i =  6\n",
            "i =  7\n",
            "i =  8\n",
            "i =  9\n"
          ],
          "name": "stdout"
        }
      ]
    },
    {
      "cell_type": "markdown",
      "metadata": {
        "id": "eQg10btRB1g8"
      },
      "source": [
        "python function to sum the number of integers from 1 to a given number n."
      ]
    },
    {
      "cell_type": "code",
      "metadata": {
        "id": "n7O4kyyQbAGF"
      },
      "source": [
        "def add_integers(n):\r\n",
        "  return sum(range(n+1))\r\n",
        "  \r\n",
        "add_integers(4)"
      ],
      "execution_count": null,
      "outputs": []
    },
    {
      "cell_type": "markdown",
      "metadata": {
        "id": "7U9fTiQACKsT"
      },
      "source": [
        "Implement a python filter function in Python that will receive a list of the first 25 natural numbers and will return a filtered list of the numbers that are perfect squares, i.e. 1, 4, 9, 16, 25."
      ]
    },
    {
      "cell_type": "code",
      "metadata": {
        "colab": {
          "base_uri": "https://localhost:8080/",
          "height": 229
        },
        "id": "jnaduQmAbdgw",
        "outputId": "f0652a15-922c-4ecf-f1e6-bcf8db91aed5"
      },
      "source": [
        "import math\r\n",
        "\r\n",
        "num_list = range(1, 26)\r\n",
        " \r\n",
        "def perfect_sq(num):\r\n",
        "  root = math.sqrt(num)\r\n",
        "  if int(root + 0.5) ** 2 == num:\r\n",
        "    return True\r\n",
        "\r\n",
        "perfect_sq_in_list = filter(perfect_sq, num_list)\r\n",
        "for num in perfect_sq_in_list:\r\n",
        "  print(num, end=\" \")\r\n"
      ],
      "execution_count": null,
      "outputs": [
        {
          "output_type": "error",
          "ename": "TypeError",
          "evalue": "ignored",
          "traceback": [
            "\u001b[0;31m---------------------------------------------------------------------------\u001b[0m",
            "\u001b[0;31mTypeError\u001b[0m                                 Traceback (most recent call last)",
            "\u001b[0;32m<ipython-input-139-094fe645c308>\u001b[0m in \u001b[0;36m<module>\u001b[0;34m()\u001b[0m\n\u001b[1;32m      1\u001b[0m \u001b[0;32mimport\u001b[0m \u001b[0mmath\u001b[0m\u001b[0;34m\u001b[0m\u001b[0;34m\u001b[0m\u001b[0m\n\u001b[1;32m      2\u001b[0m \u001b[0;34m\u001b[0m\u001b[0m\n\u001b[0;32m----> 3\u001b[0;31m \u001b[0mnum_list\u001b[0m \u001b[0;34m=\u001b[0m \u001b[0mrange\u001b[0m\u001b[0;34m(\u001b[0m\u001b[0;36m1\u001b[0m\u001b[0;34m,\u001b[0m \u001b[0;36m26\u001b[0m\u001b[0;34m)\u001b[0m\u001b[0;34m\u001b[0m\u001b[0;34m\u001b[0m\u001b[0m\n\u001b[0m\u001b[1;32m      4\u001b[0m \u001b[0;34m\u001b[0m\u001b[0m\n\u001b[1;32m      5\u001b[0m \u001b[0;32mdef\u001b[0m \u001b[0mperfect_sq\u001b[0m\u001b[0;34m(\u001b[0m\u001b[0mnum\u001b[0m\u001b[0;34m)\u001b[0m\u001b[0;34m:\u001b[0m\u001b[0;34m\u001b[0m\u001b[0;34m\u001b[0m\u001b[0m\n",
            "\u001b[0;31mTypeError\u001b[0m: 'list' object is not callable"
          ]
        }
      ]
    },
    {
      "cell_type": "markdown",
      "metadata": {
        "id": "9Aijp_frlzkc"
      },
      "source": [
        "generator function in python that will calculate perfect square numbers"
      ]
    },
    {
      "cell_type": "code",
      "metadata": {
        "id": "LhzypRZDhw58"
      },
      "source": [
        "import math\r\n",
        "\r\n",
        "def perfect_sq(num):\r\n",
        "  sq_rt = math.sqrt(num)\r\n",
        "  if ((sq_rt*sq_rt)==num):\r\n",
        "    yield int(sq_rt)\r\n",
        "\r\n",
        "  else:\r\n",
        "    print(\"not a perfect square\") \r\n",
        "\r\n",
        "def my_gen(num_list):\r\n",
        "    for num in num_list:\r\n",
        "        if is_perfect_square(num):\r\n",
        "            yield num\r\n",
        "        else:\r\n",
        "            continue\r\n",
        "\r\n",
        "\r\n",
        "\r\n",
        "\r\n"
      ],
      "execution_count": null,
      "outputs": []
    },
    {
      "cell_type": "code",
      "metadata": {
        "colab": {
          "base_uri": "https://localhost:8080/",
          "height": 162
        },
        "id": "Zh-hNPCusvaP",
        "outputId": "3029aea3-5ae5-40a8-fcac-53142dceba40"
      },
      "source": [
        "b = my_gen(num_list)"
      ],
      "execution_count": null,
      "outputs": [
        {
          "output_type": "error",
          "ename": "NameError",
          "evalue": "ignored",
          "traceback": [
            "\u001b[0;31m---------------------------------------------------------------------------\u001b[0m",
            "\u001b[0;31mNameError\u001b[0m                                 Traceback (most recent call last)",
            "\u001b[0;32m<ipython-input-138-4e4fab75683c>\u001b[0m in \u001b[0;36m<module>\u001b[0;34m()\u001b[0m\n\u001b[0;32m----> 1\u001b[0;31m \u001b[0mb\u001b[0m \u001b[0;34m=\u001b[0m \u001b[0mmy_gen\u001b[0m\u001b[0;34m(\u001b[0m\u001b[0mnum_list\u001b[0m\u001b[0;34m)\u001b[0m\u001b[0;34m\u001b[0m\u001b[0;34m\u001b[0m\u001b[0m\n\u001b[0m",
            "\u001b[0;31mNameError\u001b[0m: name 'num_list' is not defined"
          ]
        }
      ]
    },
    {
      "cell_type": "code",
      "metadata": {
        "colab": {
          "base_uri": "https://localhost:8080/",
          "height": 162
        },
        "id": "N-5XLQIis98q",
        "outputId": "fd806f0d-bf5c-49a7-a52b-a2d92895ba9f"
      },
      "source": [
        "next(b)"
      ],
      "execution_count": null,
      "outputs": [
        {
          "output_type": "error",
          "ename": "TypeError",
          "evalue": "ignored",
          "traceback": [
            "\u001b[0;31m---------------------------------------------------------------------------\u001b[0m",
            "\u001b[0;31mTypeError\u001b[0m                                 Traceback (most recent call last)",
            "\u001b[0;32m<ipython-input-136-15841f3f11d4>\u001b[0m in \u001b[0;36m<module>\u001b[0;34m()\u001b[0m\n\u001b[0;32m----> 1\u001b[0;31m \u001b[0mnext\u001b[0m\u001b[0;34m(\u001b[0m\u001b[0ma\u001b[0m\u001b[0;34m)\u001b[0m\u001b[0;34m\u001b[0m\u001b[0;34m\u001b[0m\u001b[0m\n\u001b[0m",
            "\u001b[0;31mTypeError\u001b[0m: 'BankAccount' object is not an iterator"
          ]
        }
      ]
    },
    {
      "cell_type": "markdown",
      "metadata": {
        "id": "WeJh3pGZBF3P"
      },
      "source": [
        "Bank Account using OOPs concept"
      ]
    },
    {
      "cell_type": "code",
      "metadata": {
        "colab": {
          "base_uri": "https://localhost:8080/"
        },
        "id": "uG9swM4Ela0_",
        "outputId": "cd2954e8-8575-4db1-93de-0417aad45d7c"
      },
      "source": [
        "class BankAccount():\r\n",
        "  \r\n",
        "  interest_rate = 0.05\r\n",
        "  def __init__(self, name, number, balance):\r\n",
        "    self.name = name\r\n",
        "    self.number = number\r\n",
        "    self.balance = balance\r\n",
        "  \r\n",
        "  def deposit(self,amount):\r\n",
        "    self.balance+=amount\r\n",
        "    return self.balance\r\n",
        "  \r\n",
        "  def withdraw(self,amount):\r\n",
        "    self.balance-=amount\r\n",
        "  \r\n",
        "  def add_interest(self):\r\n",
        "    self.interest = float(self.balance*BankAccount.interest_rate)\r\n",
        "    self.balance+=self.interest\r\n",
        "    return self.balance\r\n",
        "\r\n",
        "class StudentAccount(BankAccount):\r\n",
        "  def __init__(self, name,number,balance,limit):\r\n",
        "    super().__init__(name,number,balance)\r\n",
        "    self.limit=100\r\n",
        "  \r\n",
        "  def withdraw(self,amount):\r\n",
        "    if self.balance-amount<self.limit:\r\n",
        "      print(\"crossed over limit\")\r\n",
        "    else:\r\n",
        "      BankAccount.withdraw(self,amount)\r\n",
        "\r\n",
        "a=BankAccount('sushant',122,0)\r\n",
        "a.deposit(500)\r\n",
        "print(a.balance)\r\n",
        "a.withdraw(500)\r\n",
        "print(a.balance)\r\n",
        "a.add_interest()\r\n",
        "print(a.balance)\r\n",
        "\r\n",
        "b=StudentAccount('ram',331,0,0)\r\n",
        "b.deposit(1000)\r\n",
        "print(b.balance)\r\n",
        "b.withdraw(2000)\r\n",
        "print(b.balance)"
      ],
      "execution_count": null,
      "outputs": [
        {
          "output_type": "stream",
          "text": [
            "500\n",
            "0\n",
            "0.0\n",
            "1000\n",
            "crossed over limit\n",
            "1000\n"
          ],
          "name": "stdout"
        }
      ]
    },
    {
      "cell_type": "markdown",
      "metadata": {
        "id": "77tUa_RH62cW"
      },
      "source": [
        "**Random function**"
      ]
    },
    {
      "cell_type": "markdown",
      "metadata": {
        "id": "M2IbWqccD3Zh"
      },
      "source": [
        "Random function came into existence from the idea of unpredictability as the soul feature such as in security applications, many hardware generators , statistical sampling, etc., but in results drawn from computational methods are truely not random, it is just pseudo random as the result is from the set of known values. \r\n",
        "\r\n",
        "In programming world, whenever random() function is called, it returns an unexpected value within the specified range."
      ]
    },
    {
      "cell_type": "code",
      "metadata": {
        "colab": {
          "base_uri": "https://localhost:8080/"
        },
        "id": "6dEP4vgD6Z2o",
        "outputId": "be845b7c-f588-46f6-f805-ee9b85695cba"
      },
      "source": [
        "import random\r\n",
        "from random import randint\r\n",
        "\r\n",
        "def func_random():\r\n",
        "  country_list = ['India', 'Ireland', 'US', 'Nigeria', 'Italy', 'Japan']\r\n",
        "  try:\r\n",
        "    print(\"Result creating continuous random number: {}\".format(random.random()))\r\n",
        "    print(\"Random country from the list: {}\".format(random.choice(country_list)))\r\n",
        "  except:\r\n",
        "    print(\"Error\")\r\n",
        "\r\n",
        "\r\n",
        "func_random()\r\n"
      ],
      "execution_count": 79,
      "outputs": [
        {
          "output_type": "stream",
          "text": [
            "Result creating continuous random number: 0.5818843742047723\n",
            "Random country from the list: Ireland\n"
          ],
          "name": "stdout"
        }
      ]
    },
    {
      "cell_type": "markdown",
      "metadata": {
        "id": "s1-iJM8uIXX6"
      },
      "source": [
        "## **OOPS concepts**"
      ]
    },
    {
      "cell_type": "markdown",
      "metadata": {
        "id": "M_cZolm1Ic_E"
      },
      "source": [
        "**Methods**: It describes the behavior of an object. It is similar to function but since it is within class it is called as method. Generally within a program, a method affects only one particular object.\r\n",
        "example: Accelerate() method in car class: Every car can accelerate but program only need to call method Accelerate()\r\n",
        "\r\n",
        "\r\n",
        "**Objects**: Object is an instance or can say property of a class.  Each object has a class which defines its data and behaviour. It is a collection of data based on structure of the class. One class can create multiple objects.\r\n",
        "eg. The concept of a car is a class, but a big yellow taxi with diesel engine is an object.\r\n",
        "\r\n",
        "\r\n"
      ]
    },
    {
      "cell_type": "markdown",
      "metadata": {
        "id": "KmjgmuivPlF3"
      },
      "source": [
        "**Abstraction**: Data abstraction means to hide internal implementation and just higlighting the set of services necessary for the user. \r\n",
        "Advantages:\r\n",
        "1. Security\r\n",
        "2. Enhancement will be come effortless,\r\n",
        "3. Easiness is improved, and\r\n",
        "4. Maintainability\r\n",
        "\r\n",
        "eg. In a mobile phone screen, the company highlights the set of services they want without highlighting the internal implementation.\r\n",
        "\r\n",
        "**Encapsulation **: It means the process of binding data and corresponding methods or behavior into a single unit. It is the combination of data hinding and abstraction. Advantages of encapsulation:\r\n",
        "o Security can be achieved,\r\n",
        "o Maintainability of application is improved, and\r\n",
        "o Enhancement will be come effortless\r\n"
      ]
    }
  ]
}