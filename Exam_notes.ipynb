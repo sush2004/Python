{
  "nbformat": 4,
  "nbformat_minor": 0,
  "metadata": {
    "colab": {
      "name": "Exam_notes.ipynb",
      "provenance": [],
      "toc_visible": true,
      "authorship_tag": "ABX9TyPbmKHMBffx1e9h5sm/dL4n",
      "include_colab_link": true
    },
    "kernelspec": {
      "name": "python3",
      "display_name": "Python 3"
    }
  },
  "cells": [
    {
      "cell_type": "markdown",
      "metadata": {
        "id": "view-in-github",
        "colab_type": "text"
      },
      "source": [
        "<a href=\"https://colab.research.google.com/github/sush2004/Python/blob/main/Exam_notes.ipynb\" target=\"_parent\"><img src=\"https://colab.research.google.com/assets/colab-badge.svg\" alt=\"Open In Colab\"/></a>"
      ]
    },
    {
      "cell_type": "markdown",
      "metadata": {
        "id": "rRRMHxclB-q2"
      },
      "source": [
        "Translate the for loop into a while loop"
      ]
    },
    {
      "cell_type": "code",
      "metadata": {
        "colab": {
          "base_uri": "https://localhost:8080/"
        },
        "id": "3-elTBy9AXew",
        "outputId": "24a23e0b-3e9a-4708-c18b-8c6a20522bec"
      },
      "source": [
        "def print_to_number():\r\n",
        "  i=1\r\n",
        "  while i<10:\r\n",
        "    print(\"i = \", i)\r\n",
        "    i=i+1\r\n",
        " \r\n",
        "print_to_number()"
      ],
      "execution_count": null,
      "outputs": [
        {
          "output_type": "stream",
          "text": [
            "i =  1\n",
            "i =  2\n",
            "i =  3\n",
            "i =  4\n",
            "i =  5\n",
            "i =  6\n",
            "i =  7\n",
            "i =  8\n",
            "i =  9\n"
          ],
          "name": "stdout"
        }
      ]
    },
    {
      "cell_type": "markdown",
      "metadata": {
        "id": "eQg10btRB1g8"
      },
      "source": [
        "python function to sum the number of integers from 1 to a given number n."
      ]
    },
    {
      "cell_type": "code",
      "metadata": {
        "id": "n7O4kyyQbAGF"
      },
      "source": [
        "def add_integers(n):\r\n",
        "  return sum(range(n+1))\r\n",
        "  \r\n",
        "add_integers(4)"
      ],
      "execution_count": null,
      "outputs": []
    },
    {
      "cell_type": "markdown",
      "metadata": {
        "id": "7U9fTiQACKsT"
      },
      "source": [
        "Implement a python filter function in Python that will receive a list of the first 25 natural numbers and will return a filtered list of the numbers that are perfect squares, i.e. 1, 4, 9, 16, 25."
      ]
    },
    {
      "cell_type": "code",
      "metadata": {
        "colab": {
          "base_uri": "https://localhost:8080/",
          "height": 229
        },
        "id": "jnaduQmAbdgw",
        "outputId": "f0652a15-922c-4ecf-f1e6-bcf8db91aed5"
      },
      "source": [
        "import math\r\n",
        "\r\n",
        "num_list = range(1, 26)\r\n",
        " \r\n",
        "def perfect_sq(num):\r\n",
        "  root = math.sqrt(num)\r\n",
        "  if int(root + 0.5) ** 2 == num:\r\n",
        "    return True\r\n",
        "\r\n",
        "perfect_sq_in_list = filter(perfect_sq, num_list)\r\n",
        "for num in perfect_sq_in_list:\r\n",
        "  print(num, end=\" \")\r\n"
      ],
      "execution_count": null,
      "outputs": [
        {
          "output_type": "error",
          "ename": "TypeError",
          "evalue": "ignored",
          "traceback": [
            "\u001b[0;31m---------------------------------------------------------------------------\u001b[0m",
            "\u001b[0;31mTypeError\u001b[0m                                 Traceback (most recent call last)",
            "\u001b[0;32m<ipython-input-139-094fe645c308>\u001b[0m in \u001b[0;36m<module>\u001b[0;34m()\u001b[0m\n\u001b[1;32m      1\u001b[0m \u001b[0;32mimport\u001b[0m \u001b[0mmath\u001b[0m\u001b[0;34m\u001b[0m\u001b[0;34m\u001b[0m\u001b[0m\n\u001b[1;32m      2\u001b[0m \u001b[0;34m\u001b[0m\u001b[0m\n\u001b[0;32m----> 3\u001b[0;31m \u001b[0mnum_list\u001b[0m \u001b[0;34m=\u001b[0m \u001b[0mrange\u001b[0m\u001b[0;34m(\u001b[0m\u001b[0;36m1\u001b[0m\u001b[0;34m,\u001b[0m \u001b[0;36m26\u001b[0m\u001b[0;34m)\u001b[0m\u001b[0;34m\u001b[0m\u001b[0;34m\u001b[0m\u001b[0m\n\u001b[0m\u001b[1;32m      4\u001b[0m \u001b[0;34m\u001b[0m\u001b[0m\n\u001b[1;32m      5\u001b[0m \u001b[0;32mdef\u001b[0m \u001b[0mperfect_sq\u001b[0m\u001b[0;34m(\u001b[0m\u001b[0mnum\u001b[0m\u001b[0;34m)\u001b[0m\u001b[0;34m:\u001b[0m\u001b[0;34m\u001b[0m\u001b[0;34m\u001b[0m\u001b[0m\n",
            "\u001b[0;31mTypeError\u001b[0m: 'list' object is not callable"
          ]
        }
      ]
    },
    {
      "cell_type": "markdown",
      "metadata": {
        "id": "9Aijp_frlzkc"
      },
      "source": [
        "**generator function in python that will calculate perfect square numbers**"
      ]
    },
    {
      "cell_type": "code",
      "metadata": {
        "id": "LhzypRZDhw58"
      },
      "source": [
        "import math\r\n",
        "\r\n",
        "def perfect_sq(num):\r\n",
        "  sq_rt = math.sqrt(num)\r\n",
        "  if ((sq_rt*sq_rt)==num):\r\n",
        "    yield int(sq_rt)\r\n",
        "\r\n",
        "  else:\r\n",
        "    print(\"not a perfect square\") \r\n",
        "\r\n",
        "def my_gen(num_list):\r\n",
        "    for num in num_list:\r\n",
        "        if is_perfect_square(num):\r\n",
        "            yield num\r\n",
        "        else:\r\n",
        "            continue\r\n",
        "\r\n",
        "\r\n",
        "\r\n",
        "\r\n"
      ],
      "execution_count": null,
      "outputs": []
    },
    {
      "cell_type": "code",
      "metadata": {
        "colab": {
          "base_uri": "https://localhost:8080/",
          "height": 162
        },
        "id": "Zh-hNPCusvaP",
        "outputId": "3029aea3-5ae5-40a8-fcac-53142dceba40"
      },
      "source": [
        "b = my_gen(num_list)"
      ],
      "execution_count": null,
      "outputs": [
        {
          "output_type": "error",
          "ename": "NameError",
          "evalue": "ignored",
          "traceback": [
            "\u001b[0;31m---------------------------------------------------------------------------\u001b[0m",
            "\u001b[0;31mNameError\u001b[0m                                 Traceback (most recent call last)",
            "\u001b[0;32m<ipython-input-138-4e4fab75683c>\u001b[0m in \u001b[0;36m<module>\u001b[0;34m()\u001b[0m\n\u001b[0;32m----> 1\u001b[0;31m \u001b[0mb\u001b[0m \u001b[0;34m=\u001b[0m \u001b[0mmy_gen\u001b[0m\u001b[0;34m(\u001b[0m\u001b[0mnum_list\u001b[0m\u001b[0;34m)\u001b[0m\u001b[0;34m\u001b[0m\u001b[0;34m\u001b[0m\u001b[0m\n\u001b[0m",
            "\u001b[0;31mNameError\u001b[0m: name 'num_list' is not defined"
          ]
        }
      ]
    },
    {
      "cell_type": "code",
      "metadata": {
        "colab": {
          "base_uri": "https://localhost:8080/",
          "height": 162
        },
        "id": "N-5XLQIis98q",
        "outputId": "fd806f0d-bf5c-49a7-a52b-a2d92895ba9f"
      },
      "source": [
        "next(b)"
      ],
      "execution_count": null,
      "outputs": [
        {
          "output_type": "error",
          "ename": "TypeError",
          "evalue": "ignored",
          "traceback": [
            "\u001b[0;31m---------------------------------------------------------------------------\u001b[0m",
            "\u001b[0;31mTypeError\u001b[0m                                 Traceback (most recent call last)",
            "\u001b[0;32m<ipython-input-136-15841f3f11d4>\u001b[0m in \u001b[0;36m<module>\u001b[0;34m()\u001b[0m\n\u001b[0;32m----> 1\u001b[0;31m \u001b[0mnext\u001b[0m\u001b[0;34m(\u001b[0m\u001b[0ma\u001b[0m\u001b[0;34m)\u001b[0m\u001b[0;34m\u001b[0m\u001b[0;34m\u001b[0m\u001b[0m\n\u001b[0m",
            "\u001b[0;31mTypeError\u001b[0m: 'BankAccount' object is not an iterator"
          ]
        }
      ]
    },
    {
      "cell_type": "markdown",
      "metadata": {
        "id": "WeJh3pGZBF3P"
      },
      "source": [
        "**Bank Account using OOPs concept**"
      ]
    },
    {
      "cell_type": "code",
      "metadata": {
        "colab": {
          "base_uri": "https://localhost:8080/"
        },
        "id": "uG9swM4Ela0_",
        "outputId": "cd2954e8-8575-4db1-93de-0417aad45d7c"
      },
      "source": [
        "class BankAccount():\r\n",
        "  \r\n",
        "  interest_rate = 0.05\r\n",
        "  def __init__(self, name, number, balance):\r\n",
        "    self.name = name\r\n",
        "    self.number = number\r\n",
        "    self.balance = balance\r\n",
        "  \r\n",
        "  def deposit(self,amount):\r\n",
        "    self.balance+=amount\r\n",
        "    return self.balance\r\n",
        "  \r\n",
        "  def withdraw(self,amount):\r\n",
        "    self.balance-=amount\r\n",
        "  \r\n",
        "  def add_interest(self):\r\n",
        "    self.interest = float(self.balance*BankAccount.interest_rate)\r\n",
        "    self.balance+=self.interest\r\n",
        "    return self.balance\r\n",
        "\r\n",
        "class StudentAccount(BankAccount):\r\n",
        "  def __init__(self, name,number,balance,limit):\r\n",
        "    super().__init__(name,number,balance)\r\n",
        "    self.limit=100\r\n",
        "  \r\n",
        "  def withdraw(self,amount):\r\n",
        "    if self.balance-amount<self.limit:\r\n",
        "      print(\"crossed over limit\")\r\n",
        "    else:\r\n",
        "      BankAccount.withdraw(self,amount)\r\n",
        "\r\n",
        "a=BankAccount('sushant',122,0)\r\n",
        "a.deposit(500)\r\n",
        "print(a.balance)\r\n",
        "a.withdraw(500)\r\n",
        "print(a.balance)\r\n",
        "a.add_interest()\r\n",
        "print(a.balance)\r\n",
        "\r\n",
        "b=StudentAccount('ram',331,0,0)\r\n",
        "b.deposit(1000)\r\n",
        "print(b.balance)\r\n",
        "b.withdraw(2000)\r\n",
        "print(b.balance)"
      ],
      "execution_count": null,
      "outputs": [
        {
          "output_type": "stream",
          "text": [
            "500\n",
            "0\n",
            "0.0\n",
            "1000\n",
            "crossed over limit\n",
            "1000\n"
          ],
          "name": "stdout"
        }
      ]
    },
    {
      "cell_type": "markdown",
      "metadata": {
        "id": "77tUa_RH62cW"
      },
      "source": [
        "**Random function**"
      ]
    },
    {
      "cell_type": "markdown",
      "metadata": {
        "id": "M2IbWqccD3Zh"
      },
      "source": [
        "Random function came into existence from the idea of unpredictability as the soul feature such as in security applications, many hardware generators , statistical sampling, etc., but in results drawn from computational methods are truely not random, it is just pseudo random as the result is from the set of known values. \r\n",
        "\r\n",
        "In programming world, whenever random() function is called, it returns an unexpected value within the specified range."
      ]
    },
    {
      "cell_type": "code",
      "metadata": {
        "colab": {
          "base_uri": "https://localhost:8080/"
        },
        "id": "6dEP4vgD6Z2o",
        "outputId": "be845b7c-f588-46f6-f805-ee9b85695cba"
      },
      "source": [
        "import random\r\n",
        "from random import randint\r\n",
        "\r\n",
        "def func_random():\r\n",
        "  country_list = ['India', 'Ireland', 'US', 'Nigeria', 'Italy', 'Japan']\r\n",
        "  try:\r\n",
        "    print(\"Result creating continuous random number: {}\".format(random.random()))\r\n",
        "    print(\"Random country from the list: {}\".format(random.choice(country_list)))\r\n",
        "  except:\r\n",
        "    print(\"Error\")\r\n",
        "\r\n",
        "\r\n",
        "func_random()\r\n"
      ],
      "execution_count": null,
      "outputs": [
        {
          "output_type": "stream",
          "text": [
            "Result creating continuous random number: 0.5818843742047723\n",
            "Random country from the list: Ireland\n"
          ],
          "name": "stdout"
        }
      ]
    },
    {
      "cell_type": "markdown",
      "metadata": {
        "id": "s1-iJM8uIXX6"
      },
      "source": [
        "## **OOPS concepts**"
      ]
    },
    {
      "cell_type": "markdown",
      "metadata": {
        "id": "M_cZolm1Ic_E"
      },
      "source": [
        "**Methods**: It describes the behavior of an object. It is similar to function but since it is within class it is called as method. Generally within a program, a method affects only one particular object.\r\n",
        "example: Accelerate() method in car class: Every car can accelerate but program only need to call method Accelerate()\r\n",
        "\r\n",
        "\r\n",
        "**Objects**: Object is an instance or can say property of a class.  Each object has a class which defines its data and behaviour. It is a collection of data based on structure of the class. One class can create multiple objects.\r\n",
        "eg. The concept of a car is a class, but a big yellow taxi with diesel engine is an object.\r\n",
        "\r\n",
        "\r\n"
      ]
    },
    {
      "cell_type": "markdown",
      "metadata": {
        "id": "KmjgmuivPlF3"
      },
      "source": [
        "**Abstraction**: Data abstraction means to hide internal implementation and just higlighting the set of services necessary for the user. \r\n",
        "Advantages:\r\n",
        "1. Security\r\n",
        "2. Enhancement will be come effortless,\r\n",
        "3. Easiness is improved, and\r\n",
        "4. Maintainability\r\n",
        "\r\n",
        "eg. In a mobile phone screen, the company highlights the set of services they want without highlighting the internal implementation.\r\n",
        "\r\n",
        "**Encapsulation **: It means the process of binding data and corresponding methods or behavior into a single unit. It is the combination of data hinding and abstraction. Advantages of encapsulation:\r\n",
        "1. Security can be achieved,\r\n",
        "2. Maintainability of application is improved, and\r\n",
        "3. Enhancement will be come effortless.\r\n",
        "\r\n",
        "Encapsulation hides the internal state of the\r\n",
        "object from others and it conceals the details.\r\n",
        "\r\n",
        "eg. Accelerate method defines how accelerate\r\n",
        "occurs how fuel burns, and generates electricity etc.\r\n",
        "When the driver drives a car he/she doesn’t need to know the technical details about how accelerate has done\r\n",
        "\r\n",
        "**Generators **:\r\n",
        "Generator functions are special kind of functions that returns an iterator and we can loop it through just like a list, to access the objects one at a time.\r\n",
        "\r\n",
        "They solve the common problem of creating iterable objects. The traditional way was to create a class and then we have to implement __iter__() and __next__() methods. We also have to manage the internal state and raise the StopIteration exception when the generator ends.\r\n",
        "\r\n",
        "It is created just like a normal function but we do not use the return statement in generators. For generating a value we use the yield keyword. When we use the yield keyword inside a function, it automatically becomes a generator function.\r\n",
        "\r\n",
        "eg. def mygen():\r\n",
        "    yield 10\r\n",
        "    yield 20\r\n",
        "    yield 40\r\n",
        "\r\n",
        "  gen = mygen()\r\n",
        "  print(next(gen))\r\n",
        "  print(next(gen))\r\n",
        "  print(next(gen))\r\n",
        "  print(next(gen))\r\n",
        "\r\n",
        "Here, the mygen() function is a generator function in which we used 3 yield statements. The next() function used on the generator object returns the value of the first yield statement. Again calling the next() will then return the value from the second function and so on. When it gets exhausted the generator function raises the StopIteration exception. We can also use the for loop for easy traversing the elements.\r\n",
        "\r\n",
        "**Decorators** : \r\n",
        "A decorator is a design pattern in Python that allows a user to add new functionality to an existing object without modifying its structure. Decorators are usually called before the definition of a function you want to decorate\r\n",
        "\r\n",
        "eg. let us take example we are taking simple function which divides two numbers and in this case the condition is if b is greater than a then we need to swap the numbers to make numerator always greater than denominator. Here, we are using decorators and without changing div function we are adding new functionality to an existing function.\r\n",
        "    \r\n",
        "  def div(a ,b):\r\n",
        "  print(a/b)\r\n",
        "\r\n",
        "def smart_div(func): #decorator function\r\n",
        "\r\n",
        "  def inner(a,b):\r\n",
        "    if a<b:   #if numerator is less then swap the numbers\r\n",
        "      a,b = b,a\r\n",
        "    return func(a,b)\r\n",
        "  return inner\r\n",
        "\r\n",
        "div = smart_div(div)  \r\n",
        "\r\n",
        "div(2,4)\r\n",
        "\r\n",
        "**Pickling** : \r\n",
        "Pickle is used for serializing and de-serializing Python object structures, also called marshalling or flattening. Serialization refers to the process of converting an object in memory to a byte stream that can be stored on disk or sent over a network. \r\n",
        "Pickling is useful for applications where we need some degree of persistency in  data. Our program's state data can be saved to disk, so we can continue working on it later on. It can also be used to send data over a Transmission Control Protocol (TCP) or socket connection, or to store python objects in a database. Pickle is very useful for when we're working with machine learning algorithms, where we want to save them to be able to make new predictions at a later time, without having to rewrite everything or train the model all over again.\r\n",
        "\r\n",
        "If want to use data across different programming languages, pickle is not recommended. Its protocol is specific to Python, thus, cross-language compatibility is not guaranteed. The same holds for different versions of Python itself. Unpickling a file that was pickled in a different version of Python may not always work properly, so we have to make sure that we're using the same version and perform an update if necessary. We should also try not to unpickle data from an untrusted source. Malicious code inside the file might be executed upon unpickling.\r\n"
      ]
    },
    {
      "cell_type": "markdown",
      "metadata": {
        "id": "12OcPKdJY-de"
      },
      "source": [
        "**Big Data**:\r\n",
        "Big Data refers to complex and large data sets that have to be processed and analyzed to uncover valuable information that can benefit businesses and organizations.\r\n",
        "It includes data mining, data storage, data analysis, data sharing, and data visualization.\r\n",
        "\r\n",
        "Types of Big Data:\r\n",
        "1. Structured: It means data that can be processed, stored, and retrieved in a fixed format. It refers to highly organized information that can be readily and seamlessly stored and accessed from a database by simple search engine algorithms. For instance, the employee table in a company database will be structured as the employee details, their job positions, their salaries, etc., will be present in an organized manner. \r\n",
        "\r\n",
        "2. Unstructured:\r\n",
        "It refers to the data that lacks any specific form or structure whatsoever. This makes it very difficult and time-consuming to process and analyze unstructured data. Email is an example of unstructured data. Structured and unstructured are two important types of big data.\r\n",
        "\r\n",
        "3. Semi-structured:\r\n",
        "Semi-structured data pertains to the data containing both the formats mentioned above, that is, structured and unstructured data. It refers to the data that although has not been classified under a particular repository (database), yet contains vital information or tags that segregate individual elements within the data\r\n",
        "\r\n",
        "Characterstics of Big Data:\r\n",
        "1. Variety:\r\n",
        "Variety of Big Data refers to structured, unstructured, and semistructured data that is gathered from multiple sources. While in the past, data could only be collected from spreadsheets and databases, today data comes in an array of forms such as emails, PDFs, photos, videos, audios, SM posts, and so much more. It is one of the important characteristics of big data.\r\n",
        "\r\n",
        "2. Velocity:\r\n",
        "It essentially refers to the speed at which data is being created in real-time. In a broader prospect, it comprises the rate of change, linking of incoming data sets at varying speeds, and activity bursts.\r\n",
        "\r\n",
        "3. Volume: \r\n",
        "As we already know that Big Data indicates huge ‘volumes’ of data that is being generated on a daily basis from various sources like social media platforms, business processes, machines, networks, human interactions, etc. Such a large amount of data are stored in data warehouses. \r\n",
        "\r\n",
        "Benefits(Advantages) of Big Data:\r\n",
        "1. One of the biggest advantages of Big Data is predictive analysis. Big Data analytics tools can predict outcomes accurately, thereby, allowing businesses and organizations to make better decisions, while simultaneously optimizing their operational efficiencies and reducing risks.\r\n",
        "\r\n",
        "2. By harnessing data from social media platforms using Big Data analytics tools, businesses around the world are streamlining their digital marketing strategies to enhance the overall consumer experience. Big Data provides insights into the customer pain points and allows companies to improve upon their products and services.\r\n",
        "\r\n",
        "3. Being accurate, Big Data combines relevant data from multiple sources to produce highly actionable insights. Almost 43% of companies lack the necessary tools to filter out irrelevant data, which eventually costs them millions of dollars to hash out useful data from the bulk. Big Data tools can help reduce this, saving you both time and money\r\n",
        "\r\n",
        "4. Big Data analytics could help companies generate more sales leads which would naturally mean a boost in revenue. Businesses are using Big Data analytics tools to understand how well their products/services are doing in the market and how the customers are responding to them. Thus, the can understand better where to invest their time and money.\r\n",
        "\r\n",
        "5. With Big Data insights, you can always stay a step ahead of your competitors. You can screen the market to know what kind of promotions and offers your rivals are providing, and then you can come up with better offers for your customers. Also, Big Data insights allow you to learn customer behavior to understand the customer trends and provide a highly ‘personalized’ experience to them.\r\n",
        "\r\n",
        "Examples of industries using Big Data:\r\n",
        "1. Healthcare:\r\n",
        "Big Data has already started to create a huge difference in the healthcare sector. With the help of predictive analytics, medical professionals and HCPs are now able to provide personalized healthcare services to individual patients. Apart from that, fitness wearables, telemedicine, remote monitoring – all powered by Big Data and AI – are helping change lives for the better.\r\n",
        "\r\n",
        "2. Academia:\r\n",
        "It is also helping enhance education today. Education is no more limited to the physical bounds of the classroom – there are numerous online educational courses to learn from. Academic institutions are investing in digital courses powered by Big Data technologies to aid the all-round development of budding learners.\r\n",
        "\r\n",
        "3. Banking:\r\n",
        "The banking sector relies on Big Data for fraud detection. Big Data tools can efficiently detect fraudulent acts in real-time such as misuse of credit/debit cards, archival of inspection tracks, faulty alteration in customer stats, etc.\r\n",
        "\r\n",
        "4. Manufacturing:\r\n",
        "According to TCS Global Trend Study, the most significant benefit of Big Data in manufacturing is improving the supply strategies and product quality. In the manufacturing sector, Big data helps create a transparent infrastructure, thereby, predicting uncertainties and incompetencies that can affect the business adversely.\r\n",
        "\r\n",
        "5. IT:\r\n",
        "One of the largest users of Big Data, IT companies around the world are using Big Data to optimize their functioning, enhance employee productivity, and minimize risks in business operations. By combining Big Data technologies with ML and AI, the IT sector is continually powering innovation to find solutions even for the most complex of problems.\r\n"
      ]
    },
    {
      "cell_type": "markdown",
      "metadata": {
        "id": "OLRlQkdd_Xy3"
      },
      "source": [
        "**Correlation heatmap**"
      ]
    },
    {
      "cell_type": "code",
      "metadata": {
        "id": "9eCGcUPbm8gW"
      },
      "source": [
        "import pandas as pd\r\n",
        "import matplotlib.pyplot as plt\r\n",
        "import seaborn as sns\r\n",
        "import numpy as np\r\n",
        "df = pd.read_csv('Motors.csv')\r\n",
        "pv=df.pivot_table(values='average-mileage',index='horsepower',columns='company')\r\n",
        "#sns.heatmap(pv.corr(),annot=True)\r\n",
        "sns.heatmap(pv, cmap='magma',annot=True)"
      ],
      "execution_count": null,
      "outputs": []
    }
  ]
}