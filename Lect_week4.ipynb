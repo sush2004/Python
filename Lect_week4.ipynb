{
  "nbformat": 4,
  "nbformat_minor": 0,
  "metadata": {
    "colab": {
      "name": "Lect_week4.ipynb",
      "provenance": [],
      "authorship_tag": "ABX9TyPLWvMb9Dr1qpWUUnyQ9efY",
      "include_colab_link": true
    },
    "kernelspec": {
      "name": "python3",
      "display_name": "Python 3"
    }
  },
  "cells": [
    {
      "cell_type": "markdown",
      "metadata": {
        "id": "view-in-github",
        "colab_type": "text"
      },
      "source": [
        "<a href=\"https://colab.research.google.com/github/sush2004/Python/blob/main/Lect_week4.ipynb\" target=\"_parent\"><img src=\"https://colab.research.google.com/assets/colab-badge.svg\" alt=\"Open In Colab\"/></a>"
      ]
    },
    {
      "cell_type": "code",
      "metadata": {
        "id": "m3bjET8v-2It",
        "outputId": "f9fb58e3-aa76-40b6-a1c6-228872233aa4",
        "colab": {
          "base_uri": "https://localhost:8080/"
        }
      },
      "source": [
        "##[0,1,2,3,4]\n",
        "values = [i**2 for i  in range(5)]\n",
        "print(values)\n",
        "print(sum(values))"
      ],
      "execution_count": 5,
      "outputs": [
        {
          "output_type": "stream",
          "text": [
            "[0, 1, 4, 9, 16]\n",
            "30\n"
          ],
          "name": "stdout"
        }
      ]
    },
    {
      "cell_type": "code",
      "metadata": {
        "id": "prINUohB_dOU"
      },
      "source": [
        "values = [i**2 for i in range(500000000)]\n",
        "print(sum(values))"
      ],
      "execution_count": null,
      "outputs": []
    },
    {
      "cell_type": "code",
      "metadata": {
        "id": "U_x2JsBj_x0G"
      },
      "source": [
        "values = []\n",
        "for i in range(500000000):\n",
        "  values.append(i**2)\n",
        "print(sum(values))"
      ],
      "execution_count": null,
      "outputs": []
    },
    {
      "cell_type": "code",
      "metadata": {
        "id": "3XPGxy85AZfm"
      },
      "source": [
        "import numpy as np\n",
        "print(np.sum(np.arange(100000000001)))"
      ],
      "execution_count": null,
      "outputs": []
    },
    {
      "cell_type": "markdown",
      "metadata": {
        "id": "rxchvcYMFP7j"
      },
      "source": [
        ""
      ]
    },
    {
      "cell_type": "code",
      "metadata": {
        "id": "c_2lSFJRA2Gb",
        "outputId": "3b911880-a9a9-48ef-b8d7-6c9d541a8954",
        "colab": {
          "base_uri": "https://localhost:8080/"
        }
      },
      "source": [
        "# operate as a O(n) problem\n",
        "from datetime import datetime\n",
        "start = datetime.now()\n",
        "n = 5000000\n",
        "values = [i**2 for i  in range(n)]\n",
        "print(sum(values))\n",
        "finish = datetime.now()\n",
        "print(finish - start)"
      ],
      "execution_count": 6,
      "outputs": [
        {
          "output_type": "stream",
          "text": [
            "41666654166667500000\n",
            "0:00:01.801988\n"
          ],
          "name": "stdout"
        }
      ]
    },
    {
      "cell_type": "code",
      "metadata": {
        "id": "TqCT2zWpEFco",
        "outputId": "fe09dab3-3b7c-4af0-ddd1-7435bff66210",
        "colab": {
          "base_uri": "https://localhost:8080/"
        }
      },
      "source": [
        "## [[0,1,2],   <- 3\n",
        " #  [3,4,5],   <- 12\n",
        "  #[6,7,8] ]   <- 21\n",
        "n = 3\n",
        "matrix = [[0,1,2], [3,5,5], [6,7,8]]\n",
        "totalsum = 0\n",
        "for i in range(n):\n",
        "    rowsum = 0\n",
        "    for j in range(n):\n",
        "        totalsum = totalsum + matrix[i][j]\n",
        "print(totalsum)  #1\n",
        "# f(n) = 3 + n * n + 1\n"
      ],
      "execution_count": 12,
      "outputs": [
        {
          "output_type": "stream",
          "text": [
            "37\n"
          ],
          "name": "stdout"
        }
      ]
    },
    {
      "cell_type": "code",
      "metadata": {
        "id": "XhdTigbRIM9z",
        "outputId": "c1c1b3ed-db60-4ef2-ba2d-d7458defeba9",
        "colab": {
          "base_uri": "https://localhost:8080/",
          "height": 128
        }
      },
      "source": [
        "import pandas as pd\n",
        "import numpy as np\n",
        "['s'] = 12\n",
        "'e' in s"
      ],
      "execution_count": 18,
      "outputs": [
        {
          "output_type": "error",
          "ename": "SyntaxError",
          "evalue": "ignored",
          "traceback": [
            "\u001b[0;36m  File \u001b[0;32m\"<ipython-input-18-f6d9c4eb3994>\"\u001b[0;36m, line \u001b[0;32m3\u001b[0m\n\u001b[0;31m    ['s'] = 12\u001b[0m\n\u001b[0m              ^\u001b[0m\n\u001b[0;31mSyntaxError\u001b[0m\u001b[0;31m:\u001b[0m can't assign to literal\n"
          ]
        }
      ]
    }
  ]
}