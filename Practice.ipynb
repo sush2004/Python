{
  "nbformat": 4,
  "nbformat_minor": 0,
  "metadata": {
    "colab": {
      "name": "Practice.ipynb",
      "provenance": [],
      "authorship_tag": "ABX9TyNAsi+JOx9oKnqp3g6HtvgH",
      "include_colab_link": true
    },
    "kernelspec": {
      "name": "python3",
      "display_name": "Python 3"
    }
  },
  "cells": [
    {
      "cell_type": "markdown",
      "metadata": {
        "id": "view-in-github",
        "colab_type": "text"
      },
      "source": [
        "<a href=\"https://colab.research.google.com/github/sush2004/Python/blob/main/Practice.ipynb\" target=\"_parent\"><img src=\"https://colab.research.google.com/assets/colab-badge.svg\" alt=\"Open In Colab\"/></a>"
      ]
    },
    {
      "cell_type": "markdown",
      "metadata": {
        "id": "M3wWYejwAd7Y"
      },
      "source": [
        "Program to find area of a circle"
      ]
    },
    {
      "cell_type": "code",
      "metadata": {
        "id": "g8unwCfZAbgg",
        "outputId": "80d48a9d-6260-4562-cf57-1d8320380159",
        "colab": {
          "base_uri": "https://localhost:8080/"
        }
      },
      "source": [
        "def area_circle():\n",
        "  r = int(input(\"Enter radius of circle\"))\n",
        "  area = 3.14 * (r*r)\n",
        "  print(area)\n",
        "\n",
        "area_circle()"
      ],
      "execution_count": null,
      "outputs": [
        {
          "output_type": "stream",
          "text": [
            "Enter radius of circle2\n",
            "12.56\n"
          ],
          "name": "stdout"
        }
      ]
    },
    {
      "cell_type": "markdown",
      "metadata": {
        "id": "il0O8ttMCYn0"
      },
      "source": [
        "Program to check whether a number is Prime or not"
      ]
    },
    {
      "cell_type": "code",
      "metadata": {
        "id": "B0apwDuYCJq3",
        "outputId": "bd7abe2e-05c6-4509-8e1a-6584e9ddbba4",
        "colab": {
          "base_uri": "https://localhost:8080/"
        }
      },
      "source": [
        "def check_prime():\n",
        "  num = int(input(\"Input the numbers\"))\n",
        "  c = 0 # setting couter\n",
        "  i = 1 # initializing variable\n",
        "  if num > 1:\n",
        "    for a in range(2, num):\n",
        "      if num % i == 0:\n",
        "        i += 1\n",
        "        c += 1\n",
        "        print(\"{} is not a prime number \".format(num))\n",
        "        break\n",
        "  else:\n",
        "    print(\"{} is a prime number \".format(num))\n",
        "    \n",
        "  \n",
        "check_prime()\n",
        "\n"
      ],
      "execution_count": 7,
      "outputs": [
        {
          "output_type": "stream",
          "text": [
            "Input the numbers6\n",
            "6 is not a prime number \n"
          ],
          "name": "stdout"
        }
      ]
    },
    {
      "cell_type": "markdown",
      "metadata": {
        "id": "QF74UpwmKOtn"
      },
      "source": [
        "Program to print all Prime numbers in an Interval\n"
      ]
    },
    {
      "cell_type": "code",
      "metadata": {
        "id": "m08ggB6RKLA8",
        "outputId": "caf1c4f9-ad7c-4658-a865-86416cf4aad2",
        "colab": {
          "base_uri": "https://localhost:8080/"
        }
      },
      "source": [
        "def prime_num():\n",
        "  lst = [] \n",
        "  # number of elements as input \n",
        "  n = int(input(\"Enter number of elements : \")) \n",
        "  for i in range(0, n): \n",
        "        ele = int(input()) \n",
        "        lst.append(ele) # adding the element \n",
        "  if i > 1:\n",
        "     for i in lst:\n",
        "       if i % 2 == 0:\n",
        "         print(\"{} is not prime number\".format(i))\n",
        "         break\n",
        "      \n",
        "prime_num() "
      ],
      "execution_count": null,
      "outputs": [
        {
          "output_type": "stream",
          "text": [
            "Enter number of elements : 5\n",
            "3\n",
            "8\n",
            "15\n",
            "8\n",
            "99\n",
            "8 is not prime number\n"
          ],
          "name": "stdout"
        }
      ]
    }
  ]
}