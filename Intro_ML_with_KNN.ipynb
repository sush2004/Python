{
  "nbformat": 4,
  "nbformat_minor": 0,
  "metadata": {
    "colab": {
      "name": "Intro_ML_with_KNN.ipynb",
      "provenance": [],
      "authorship_tag": "ABX9TyOylpTD1dZIlzdeUHT7xWEx",
      "include_colab_link": true
    },
    "kernelspec": {
      "name": "python3",
      "display_name": "Python 3"
    }
  },
  "cells": [
    {
      "cell_type": "markdown",
      "metadata": {
        "id": "view-in-github",
        "colab_type": "text"
      },
      "source": [
        "<a href=\"https://colab.research.google.com/github/sush2004/Python/blob/main/Intro_ML_with_KNN.ipynb\" target=\"_parent\"><img src=\"https://colab.research.google.com/assets/colab-badge.svg\" alt=\"Open In Colab\"/></a>"
      ]
    },
    {
      "cell_type": "markdown",
      "metadata": {
        "id": "Bur4ZwwFPcd1"
      },
      "source": [
        "**Sentimental Analysis(Make Me Happy ML)**"
      ]
    },
    {
      "cell_type": "code",
      "metadata": {
        "id": "BH96tblwKZkg"
      },
      "source": [
        "from PIL import Image\r\n",
        "import requests\r\n",
        "\r\n",
        "# This function will pass your text to the machine learning model\r\n",
        "# and return the top result with the highest confidence\r\n",
        "def classify(text):\r\n",
        "    key = \"f7fc35d0-69f4-11eb-86f1-498c681ca1c2026c2abc-96c7-4ee1-a766-ad04528150ed\"\r\n",
        "    url = \"https://machinelearningforkids.co.uk/api/scratch/\"+ key + \"/classify\"\r\n",
        "\r\n",
        "    response = requests.get(url, params={ \"data\" : text })\r\n",
        "\r\n",
        "    if response.ok:\r\n",
        "        responseData = response.json()\r\n",
        "        topMatch = responseData[0]\r\n",
        "        return topMatch\r\n",
        "    else:\r\n",
        "        response.raise_for_status()\r\n",
        "\r\n",
        "input = input(\"What do you want to tell me? > \")\r\n",
        "\r\n",
        "recognized = classify(input)\r\n",
        "label = recognized[\"class_name\"]\r\n",
        "if label == \"kind_things\":\r\n",
        "    print (\"You're so nice!\")\r\n",
        "    img = Image.open(\"happy.jpg\")\r\n",
        "    img.show()\r\n",
        "else:\r\n",
        "    print (\"You're so mean!\")\r\n",
        "    img = Image.open(\"sad.jpg\")\r\n",
        "    img.show()"
      ],
      "execution_count": null,
      "outputs": []
    },
    {
      "cell_type": "code",
      "metadata": {
        "id": "p4tKGNOiusqS"
      },
      "source": [
        "#calling class\r\n",
        "import sklearn\r\n",
        "from sklearn.neighbors import KNeighborsClassifier\r\n",
        "from sklearn.metrics import accuracy_score\r\n",
        "import matplotlib.pyplot as plt\r\n",
        "import numpy as np\r\n"
      ],
      "execution_count": 10,
      "outputs": []
    },
    {
      "cell_type": "code",
      "metadata": {
        "id": "vpHPXtIyu9ff"
      },
      "source": [
        "#data definition\r\n",
        "train_data=[[3,4],[5,6],[7,8],[3,2],[5,4],[7,4]]\r\n",
        "label_data=[[1],[0],[1],[0],[0],[1]]\r\n",
        "test_data=[[7,9],[3,2],[7,4]]   #any random value\r\n",
        "actual_label=[1,0,1]"
      ],
      "execution_count": 18,
      "outputs": []
    },
    {
      "cell_type": "code",
      "metadata": {
        "colab": {
          "base_uri": "https://localhost:8080/"
        },
        "id": "l5-i-rFBvT7J",
        "outputId": "bcd6c9f8-990e-4a83-e628-2a4f8a096239"
      },
      "source": [
        "#Modelling implementation\r\n",
        "model=KNeighborsClassifier(n_neighbors=5 ) #from 2 to 8\r\n",
        "model.fit(train_data,label_data)\r\n",
        "pred_value=model.predict(test_data)\r\n",
        "pred_value"
      ],
      "execution_count": 24,
      "outputs": [
        {
          "output_type": "execute_result",
          "data": {
            "text/plain": [
              "array([1, 0, 1])"
            ]
          },
          "metadata": {
            "tags": []
          },
          "execution_count": 24
        }
      ]
    },
    {
      "cell_type": "code",
      "metadata": {
        "colab": {
          "base_uri": "https://localhost:8080/"
        },
        "id": "FUNnQTPlc6kw",
        "outputId": "2171bd1a-0b8e-4cc7-9744-a7dd81843a36"
      },
      "source": [
        "train_data=[[3,4],[5,6],[7,8],[3,2],[5,4],[7,4]]\r\n",
        "label_data=[[1],[0],[1],[0],[0],[1]]\r\n",
        "test_data=[[7,8],[3,2],[7,4]]   #any random value\r\n",
        "actual_label=[1,0,1]\r\n",
        "for i in range(2,6):\r\n",
        "  model=KNeighborsClassifier(n_neighbors=i ) #from 2 to 8\r\n",
        "  model.fit(train_data,label_data)\r\n",
        "  pred_value=list(model.predict(test_data))\r\n",
        "  \r\n",
        "pred_value"
      ],
      "execution_count": 35,
      "outputs": [
        {
          "output_type": "execute_result",
          "data": {
            "text/plain": [
              "[1, 0, 1]"
            ]
          },
          "metadata": {
            "tags": []
          },
          "execution_count": 35
        }
      ]
    },
    {
      "cell_type": "code",
      "metadata": {
        "id": "YCfBnTn5WhPU",
        "outputId": "e654ee60-b79f-47ac-f5d0-9a5fb002e831",
        "colab": {
          "base_uri": "https://localhost:8080/"
        }
      },
      "source": [
        "model.fit(train_data,label_data)"
      ],
      "execution_count": 28,
      "outputs": [
        {
          "output_type": "execute_result",
          "data": {
            "text/plain": [
              "KNeighborsClassifier(algorithm='auto', leaf_size=30, metric='minkowski',\n",
              "                     metric_params=None, n_jobs=None, n_neighbors=5, p=2,\n",
              "                     weights='uniform')"
            ]
          },
          "metadata": {
            "tags": []
          },
          "execution_count": 28
        }
      ]
    },
    {
      "cell_type": "markdown",
      "metadata": {
        "id": "ZBGZ8nfHjs1Q"
      },
      "source": [
        "**KNN Plot**"
      ]
    },
    {
      "cell_type": "code",
      "metadata": {
        "colab": {
          "base_uri": "https://localhost:8080/",
          "height": 329
        },
        "id": "YCA33RuBeCBN",
        "outputId": "f448c01e-a5db-4e06-f1bf-76924acadb31"
      },
      "source": [
        "#calling class\r\n",
        "import sklearn\r\n",
        "from sklearn.neighbors import KNeighborsClassifier\r\n",
        "from sklearn.metrics import accuracy_score\r\n",
        "import matplotlib.pyplot as plt\r\n",
        "import numpy as np\r\n",
        "from sklearn.exceptions import DataConversionWarning\r\n",
        "import warnings\r\n",
        "warnings.filterwarnings(action='ignore', category=DataConversionWarning)\r\n",
        "\r\n",
        "# Data definition\r\n",
        "train_data=[[3,4],[5,6],[7,8],[3,2],[5,4],[7,4]]\r\n",
        "label_data=[[1],[0],[1],[0],[0],[1]]\r\n",
        "test_data=[[7,8],[3,2]]   #any random value\r\n",
        "\r\n",
        "actual_data=[[1],[0]]\r\n",
        "\r\n",
        "#pred_data = []\r\n",
        "acc_data = []\r\n",
        "for i in range(2,6):\r\n",
        "  model=KNeighborsClassifier(n_neighbors=i)\r\n",
        "  model.fit(train_data,label_data)\r\n",
        "  pred = list(model.predict(test_data))\r\n",
        "  print(pred,end=\" \")\r\n",
        "  #pred_data.append(pred)\r\n",
        "  acc = accuracy_score(actual_data, pred)\r\n",
        "  accuracy=int(acc*100)\r\n",
        "  #print(acc_data)\r\n",
        "  acc_data.append(accuracy)\r\n",
        "print(\"\\nAccuracy result : {}\".format(acc_data))\r\n",
        "\r\n",
        "plt.plot(range(2,6),acc_data)\r\n",
        "plt.title('KNN plot')\r\n",
        "plt.xlabel('K neigbours')\r\n",
        "plt.ylabel('Accuracy %')\r\n",
        "plt.show()\r\n",
        "\r\n",
        "\r\n"
      ],
      "execution_count": 66,
      "outputs": [
        {
          "output_type": "stream",
          "text": [
            "[0, 0] [1, 0] [0, 0] [1, 0] \n",
            "Accuracy result : [50, 100, 50, 100]\n"
          ],
          "name": "stdout"
        },
        {
          "output_type": "display_data",
          "data": {
            "image/png": "[encoded data removed]",
            "text/plain": [
              "<Figure size 432x288 with 1 Axes>"
            ]
          },
          "metadata": {
            "tags": [],
            "needs_background": "light"
          }
        }
      ]
    },
    {
      "cell_type": "code",
      "metadata": {
        "colab": {
          "base_uri": "https://localhost:8080/"
        },
        "id": "XPAzTxPbYEZc",
        "outputId": "71b8d25c-b0a7-45b2-c29f-ca126c8a3031"
      },
      "source": [
        "import sklearn\r\n",
        "import numpy as np\r\n",
        "from sklearn.neighbors import KNeighborsClassifier\r\n",
        "from sklearn.exceptions import DataConversionWarning\r\n",
        "import warnings\r\n",
        "warnings.filterwarnings(action='ignore', category=DataConversionWarning)\r\n",
        "\r\n",
        "train_data=[[3,4],[5,6],[2,3],[7,2],[4,2],[6,7],[3,3],[5,8],[2,1],[6,3]]\r\n",
        "label_data=[[1],[0],[1],[0],[1],[0],[1],[0],[1],[0]]\r\n",
        "test_data=[[3,4],[5,6],[2,1],[6,3]]\r\n",
        "actual_label=[1,0,1,0]\r\n",
        "final=[]\r\n",
        "for y in range(2,8):\r\n",
        "  model=KNeighborsClassifier(n_neighbors=y)\r\n",
        "  model.fit(train_data,label_data)\r\n",
        "  predicted_data=model.predict(test_data)\r\n",
        "  predicted_data\r\n",
        "  np.comparison = predicted_data == actual_label\r\n",
        "\r\n",
        "  accuracy=0\r\n",
        "  for x in np.comparison:\r\n",
        "    if x== True:\r\n",
        "      accuracy=accuracy+1\r\n",
        "    else:\r\n",
        "      accuracy=accuracy+0\r\n",
        "  final.append(accuracy/4*100)\r\n",
        "print(final)"
      ],
      "execution_count": 68,
      "outputs": [
        {
          "output_type": "stream",
          "text": [
            "[100.0, 100.0, 100.0, 100.0, 100.0, 75.0]\n"
          ],
          "name": "stdout"
        }
      ]
    },
    {
      "cell_type": "code",
      "metadata": {
        "colab": {
          "base_uri": "https://localhost:8080/",
          "height": 265
        },
        "id": "gvjofC1KYMUg",
        "outputId": "0789a5fc-13a8-4cd2-c7ec-7531586cdb62"
      },
      "source": [
        "import matplotlib.pyplot as plt\r\n",
        "xpoints = np.array([2,3,4,5,6,7])\r\n",
        "plt.plot(xpoints, final)\r\n",
        "plt.show()"
      ],
      "execution_count": 14,
      "outputs": [
        {
          "output_type": "display_data",
          "data": {
            "image/png": "[encoded data removed]",
            "text/plain": [
              "<Figure size 432x288 with 1 Axes>"
            ]
          },
          "metadata": {
            "tags": [],
            "needs_background": "light"
          }
        }
      ]
    }
  ]
}