{
  "nbformat": 4,
  "nbformat_minor": 0,
  "metadata": {
    "colab": {
      "name": "Intro_ML_with_KNN.ipynb",
      "provenance": [],
      "authorship_tag": "ABX9TyNkX525eZOlFFsgn4HhNA4K",
      "include_colab_link": true
    },
    "kernelspec": {
      "name": "python3",
      "display_name": "Python 3"
    }
  },
  "cells": [
    {
      "cell_type": "markdown",
      "metadata": {
        "id": "view-in-github",
        "colab_type": "text"
      },
      "source": [
        "<a href=\"https://colab.research.google.com/github/sush2004/Python/blob/main/Intro_ML_with_KNN.ipynb\" target=\"_parent\"><img src=\"https://colab.research.google.com/assets/colab-badge.svg\" alt=\"Open In Colab\"/></a>"
      ]
    },
    {
      "cell_type": "code",
      "metadata": {
        "id": "BH96tblwKZkg"
      },
      "source": [
        "from PIL import Image\r\n",
        "import requests\r\n",
        "\r\n",
        "# This function will pass your text to the machine learning model\r\n",
        "# and return the top result with the highest confidence\r\n",
        "def classify(text):\r\n",
        "    key = \"f7fc35d0-69f4-11eb-86f1-498c681ca1c2026c2abc-96c7-4ee1-a766-ad04528150ed\"\r\n",
        "    url = \"https://machinelearningforkids.co.uk/api/scratch/\"+ key + \"/classify\"\r\n",
        "\r\n",
        "    response = requests.get(url, params={ \"data\" : text })\r\n",
        "\r\n",
        "    if response.ok:\r\n",
        "        responseData = response.json()\r\n",
        "        topMatch = responseData[0]\r\n",
        "        return topMatch\r\n",
        "    else:\r\n",
        "        response.raise_for_status()\r\n",
        "\r\n",
        "input = input(\"What do you want to tell me? > \")\r\n",
        "\r\n",
        "recognized = classify(input)\r\n",
        "label = recognized[\"class_name\"]\r\n",
        "if label == \"kind_things\":\r\n",
        "    print (\"You're so nice!\")\r\n",
        "    img = Image.open(\"happy.jpg\")\r\n",
        "    img.show()\r\n",
        "else:\r\n",
        "    print (\"You're so mean!\")\r\n",
        "    img = Image.open(\"sad.jpg\")\r\n",
        "    img.show()"
      ],
      "execution_count": null,
      "outputs": []
    },
    {
      "cell_type": "code",
      "metadata": {
        "id": "p4tKGNOiusqS"
      },
      "source": [
        "import sklearn\r\n",
        "#calling class\r\n",
        "from sklearn.neighbors import KNeighborsClassifier\r\n",
        "from sklearn.metrics import accuracy_score\r\n",
        "import matplotlib.pyplot as plt\r\n",
        "import numpy as np\r\n"
      ],
      "execution_count": 16,
      "outputs": []
    },
    {
      "cell_type": "code",
      "metadata": {
        "id": "vpHPXtIyu9ff"
      },
      "source": [
        "#data definition\r\n",
        "train_data=[[3,4],[5,6],[7,8],[3,2],[5,4],[7,4]]\r\n",
        "label_data=[[1],[0],[1],[0],[0],[1]]\r\n",
        "test_data=[[7,8],[3,2],[7,4]]   #any random value\r\n",
        "actual_label=[1,0,1]"
      ],
      "execution_count": 17,
      "outputs": []
    },
    {
      "cell_type": "code",
      "metadata": {
        "colab": {
          "base_uri": "https://localhost:8080/"
        },
        "id": "l5-i-rFBvT7J",
        "outputId": "02123b9a-6b8b-4eff-c590-9ebdf027e420"
      },
      "source": [
        "#Modelling implementation\r\n",
        "model=KNeighborsClassifier(n_neighbors=3 ) #from 2 to 8\r\n",
        "model.fit(train_data,label_data)\r\n",
        "pred_value=model.predict(test_data)\r\n",
        "pred_value"
      ],
      "execution_count": 18,
      "outputs": [
        {
          "output_type": "stream",
          "text": [
            "/usr/local/lib/python3.6/dist-packages/ipykernel_launcher.py:3: DataConversionWarning: A column-vector y was passed when a 1d array was expected. Please change the shape of y to (n_samples, ), for example using ravel().\n",
            "  This is separate from the ipykernel package so we can avoid doing imports until\n"
          ],
          "name": "stderr"
        },
        {
          "output_type": "execute_result",
          "data": {
            "text/plain": [
              "array([1, 0, 0])"
            ]
          },
          "metadata": {
            "tags": []
          },
          "execution_count": 18
        }
      ]
    },
    {
      "cell_type": "code",
      "metadata": {
        "id": "FUNnQTPlc6kw",
        "outputId": "ad94b9b0-d16b-482f-c1cc-a8fc8617aa01",
        "colab": {
          "base_uri": "https://localhost:8080/",
          "height": 575
        }
      },
      "source": [
        "train_data=[[3,4],[5,6],[7,8],[3,2],[5,4],[7,4]]\r\n",
        "label_data=[[1],[0],[1],[0],[0],[1]]\r\n",
        "test_data=[[7,8],[3,2],[7,4]]   #any random value\r\n",
        "actual_label=[1,0,1]\r\n",
        "for i in range(2,8):\r\n",
        "  model=KNeighborsClassifier(n_neighbors=i ) #from 2 to 8\r\n",
        "  model.fit(train_data,label_data)\r\n",
        "  pred_value=model.predict(test_data)\r\n",
        "  pred_value"
      ],
      "execution_count": 22,
      "outputs": [
        {
          "output_type": "stream",
          "text": [
            "/usr/local/lib/python3.6/dist-packages/ipykernel_launcher.py:7: DataConversionWarning: A column-vector y was passed when a 1d array was expected. Please change the shape of y to (n_samples, ), for example using ravel().\n",
            "  import sys\n",
            "/usr/local/lib/python3.6/dist-packages/ipykernel_launcher.py:7: DataConversionWarning: A column-vector y was passed when a 1d array was expected. Please change the shape of y to (n_samples, ), for example using ravel().\n",
            "  import sys\n",
            "/usr/local/lib/python3.6/dist-packages/ipykernel_launcher.py:7: DataConversionWarning: A column-vector y was passed when a 1d array was expected. Please change the shape of y to (n_samples, ), for example using ravel().\n",
            "  import sys\n",
            "/usr/local/lib/python3.6/dist-packages/ipykernel_launcher.py:7: DataConversionWarning: A column-vector y was passed when a 1d array was expected. Please change the shape of y to (n_samples, ), for example using ravel().\n",
            "  import sys\n",
            "/usr/local/lib/python3.6/dist-packages/ipykernel_launcher.py:7: DataConversionWarning: A column-vector y was passed when a 1d array was expected. Please change the shape of y to (n_samples, ), for example using ravel().\n",
            "  import sys\n",
            "/usr/local/lib/python3.6/dist-packages/ipykernel_launcher.py:7: DataConversionWarning: A column-vector y was passed when a 1d array was expected. Please change the shape of y to (n_samples, ), for example using ravel().\n",
            "  import sys\n"
          ],
          "name": "stderr"
        },
        {
          "output_type": "error",
          "ename": "ValueError",
          "evalue": "ignored",
          "traceback": [
            "\u001b[0;31m---------------------------------------------------------------------------\u001b[0m",
            "\u001b[0;31mValueError\u001b[0m                                Traceback (most recent call last)",
            "\u001b[0;32m<ipython-input-22-82cc745fcffb>\u001b[0m in \u001b[0;36m<module>\u001b[0;34m()\u001b[0m\n\u001b[1;32m      6\u001b[0m   \u001b[0mmodel\u001b[0m\u001b[0;34m=\u001b[0m\u001b[0mKNeighborsClassifier\u001b[0m\u001b[0;34m(\u001b[0m\u001b[0mn_neighbors\u001b[0m\u001b[0;34m=\u001b[0m\u001b[0mi\u001b[0m \u001b[0;34m)\u001b[0m \u001b[0;31m#from 2 to 8\u001b[0m\u001b[0;34m\u001b[0m\u001b[0;34m\u001b[0m\u001b[0m\n\u001b[1;32m      7\u001b[0m   \u001b[0mmodel\u001b[0m\u001b[0;34m.\u001b[0m\u001b[0mfit\u001b[0m\u001b[0;34m(\u001b[0m\u001b[0mtrain_data\u001b[0m\u001b[0;34m,\u001b[0m\u001b[0mlabel_data\u001b[0m\u001b[0;34m)\u001b[0m\u001b[0;34m\u001b[0m\u001b[0;34m\u001b[0m\u001b[0m\n\u001b[0;32m----> 8\u001b[0;31m   \u001b[0mpred_value\u001b[0m\u001b[0;34m=\u001b[0m\u001b[0mmodel\u001b[0m\u001b[0;34m.\u001b[0m\u001b[0mpredict\u001b[0m\u001b[0;34m(\u001b[0m\u001b[0mtest_data\u001b[0m\u001b[0;34m)\u001b[0m\u001b[0;34m\u001b[0m\u001b[0;34m\u001b[0m\u001b[0m\n\u001b[0m\u001b[1;32m      9\u001b[0m \u001b[0mpred_value\u001b[0m\u001b[0;34m\u001b[0m\u001b[0;34m\u001b[0m\u001b[0m\n",
            "\u001b[0;32m/usr/local/lib/python3.6/dist-packages/sklearn/neighbors/_classification.py\u001b[0m in \u001b[0;36mpredict\u001b[0;34m(self, X)\u001b[0m\n\u001b[1;32m    171\u001b[0m         \u001b[0mX\u001b[0m \u001b[0;34m=\u001b[0m \u001b[0mcheck_array\u001b[0m\u001b[0;34m(\u001b[0m\u001b[0mX\u001b[0m\u001b[0;34m,\u001b[0m \u001b[0maccept_sparse\u001b[0m\u001b[0;34m=\u001b[0m\u001b[0;34m'csr'\u001b[0m\u001b[0;34m)\u001b[0m\u001b[0;34m\u001b[0m\u001b[0;34m\u001b[0m\u001b[0m\n\u001b[1;32m    172\u001b[0m \u001b[0;34m\u001b[0m\u001b[0m\n\u001b[0;32m--> 173\u001b[0;31m         \u001b[0mneigh_dist\u001b[0m\u001b[0;34m,\u001b[0m \u001b[0mneigh_ind\u001b[0m \u001b[0;34m=\u001b[0m \u001b[0mself\u001b[0m\u001b[0;34m.\u001b[0m\u001b[0mkneighbors\u001b[0m\u001b[0;34m(\u001b[0m\u001b[0mX\u001b[0m\u001b[0;34m)\u001b[0m\u001b[0;34m\u001b[0m\u001b[0;34m\u001b[0m\u001b[0m\n\u001b[0m\u001b[1;32m    174\u001b[0m         \u001b[0mclasses_\u001b[0m \u001b[0;34m=\u001b[0m \u001b[0mself\u001b[0m\u001b[0;34m.\u001b[0m\u001b[0mclasses_\u001b[0m\u001b[0;34m\u001b[0m\u001b[0;34m\u001b[0m\u001b[0m\n\u001b[1;32m    175\u001b[0m         \u001b[0m_y\u001b[0m \u001b[0;34m=\u001b[0m \u001b[0mself\u001b[0m\u001b[0;34m.\u001b[0m\u001b[0m_y\u001b[0m\u001b[0;34m\u001b[0m\u001b[0;34m\u001b[0m\u001b[0m\n",
            "\u001b[0;32m/usr/local/lib/python3.6/dist-packages/sklearn/neighbors/_base.py\u001b[0m in \u001b[0;36mkneighbors\u001b[0;34m(self, X, n_neighbors, return_distance)\u001b[0m\n\u001b[1;32m    616\u001b[0m                 \u001b[0;34m\"Expected n_neighbors <= n_samples, \"\u001b[0m\u001b[0;34m\u001b[0m\u001b[0;34m\u001b[0m\u001b[0m\n\u001b[1;32m    617\u001b[0m                 \u001b[0;34m\" but n_samples = %d, n_neighbors = %d\"\u001b[0m \u001b[0;34m%\u001b[0m\u001b[0;34m\u001b[0m\u001b[0;34m\u001b[0m\u001b[0m\n\u001b[0;32m--> 618\u001b[0;31m                 \u001b[0;34m(\u001b[0m\u001b[0mn_samples_fit\u001b[0m\u001b[0;34m,\u001b[0m \u001b[0mn_neighbors\u001b[0m\u001b[0;34m)\u001b[0m\u001b[0;34m\u001b[0m\u001b[0;34m\u001b[0m\u001b[0m\n\u001b[0m\u001b[1;32m    619\u001b[0m             )\n\u001b[1;32m    620\u001b[0m \u001b[0;34m\u001b[0m\u001b[0m\n",
            "\u001b[0;31mValueError\u001b[0m: Expected n_neighbors <= n_samples,  but n_samples = 6, n_neighbors = 7"
          ]
        }
      ]
    },
    {
      "cell_type": "code",
      "metadata": {
        "id": "bFoXB_d0wALU"
      },
      "source": [
        "np.comparison = np.pred_value == np.actual_label\r\n",
        "acc=0\r\n",
        "for x in np.comparison:\r\n",
        "  if x==True:\r\n",
        "    acc=acc+1\r\n",
        "  else:\r\n",
        "    acc=acc+0\r\n",
        "  \r\n",
        "  "
      ],
      "execution_count": null,
      "outputs": []
    },
    {
      "cell_type": "code",
      "metadata": {
        "id": "YCA33RuBeCBN"
      },
      "source": [
        "import sklearn\r\n",
        "#calling class\r\n",
        "from sklearn.neighbors import KNeighborsClassifier\r\n",
        "from sklearn.metrics import accuracy_score\r\n",
        "import matplotlib.pyplot as plt\r\n",
        "import numpy as np\r\n",
        "#import warnings\r\n",
        "from sklearn.exceptions import DataConversionWarning\r\n",
        "warnings.filterwarnings(action='ignore', category=DataConversionWarning)\r\n",
        "\r\n",
        "train_data=[[3,4],[5,6],[7,8],[3,2],[5,4],[7,4]]\r\n",
        "label_data=[[1],[0],[1],[0],[0],[1]]\r\n",
        "test_data=[[7,8],[3,2]]   #any random value\r\n",
        "\r\n",
        "actual_data=[[1],[0]]\r\n",
        "\r\n",
        "#pred_data = []\r\n",
        "acc_data = []\r\n",
        "for i in range(2,6):\r\n",
        "  model=KNeighborsClassifier(n_neighbors=i)\r\n",
        "  model.fit(train_data,label_data)\r\n",
        "  pred = list(model.predict(test_data))\r\n",
        "  print(pred)\r\n",
        "  #pred_data.append(pred)\r\n",
        "  accuracy = accuracy_score(actual_data, pred)\r\n",
        "  accuracy=int(acc*100)\r\n",
        "  #print(acc_data)\r\n",
        "  acc_data.append(accuracy)\r\n",
        "print(acc_data)\r\n",
        "\r\n",
        "plt.plot(range(2,6),acc_data)\r\n",
        "plt.show()\r\n",
        "\r\n",
        "  #acc_data.append(accuracy_score(actual_data, pred))\r\n",
        "\r\n",
        "#print(pred_data)\r\n",
        "#print(acc_data)\r\n"
      ],
      "execution_count": null,
      "outputs": []
    },
    {
      "cell_type": "code",
      "metadata": {
        "id": "XPAzTxPbYEZc",
        "outputId": "ff28dfcb-8972-4107-d990-aec01cd5b3f3",
        "colab": {
          "base_uri": "https://localhost:8080/"
        }
      },
      "source": [
        "import sklearn\r\n",
        "import numpy as np\r\n",
        "from sklearn.neighbors import KNeighborsClassifier\r\n",
        "train_data=[[3,4],[5,6],[2,3],[7,2],[4,2],[6,7],[3,3],[5,8],[2,1],[6,3]]\r\n",
        "label_data=[[1],[0],[1],[0],[1],[0],[1],[0],[1],[0]]\r\n",
        "test_data=[[3,4],[5,6],[2,1],[6,3]]\r\n",
        "actual_label=[1,0,1,0]\r\n",
        "final=[]\r\n",
        "for y in range(2,8):\r\n",
        "  model=KNeighborsClassifier(n_neighbors=y)\r\n",
        "  model.fit(train_data,label_data)\r\n",
        "  predicted_data=model.predict(test_data)\r\n",
        "  predicted_data\r\n",
        "  np.comparison = predicted_data == actual_label\r\n",
        "\r\n",
        "  accuracy=0\r\n",
        "  for x in np.comparison:\r\n",
        "    if x== True:\r\n",
        "      accuracy=accuracy+1\r\n",
        "    else:\r\n",
        "      accuracy=accuracy+0\r\n",
        "  final.append(accuracy/4*100)\r\n",
        "print(final)\r\n",
        "#acc=final/(4)\r\n",
        "#print(acc*100)"
      ],
      "execution_count": 8,
      "outputs": [
        {
          "output_type": "stream",
          "text": [
            "[100.0, 100.0, 100.0, 100.0, 100.0, 75.0]\n"
          ],
          "name": "stdout"
        },
        {
          "output_type": "stream",
          "text": [
            "/usr/local/lib/python3.6/dist-packages/ipykernel_launcher.py:11: DataConversionWarning: A column-vector y was passed when a 1d array was expected. Please change the shape of y to (n_samples, ), for example using ravel().\n",
            "  # This is added back by InteractiveShellApp.init_path()\n",
            "/usr/local/lib/python3.6/dist-packages/ipykernel_launcher.py:11: DataConversionWarning: A column-vector y was passed when a 1d array was expected. Please change the shape of y to (n_samples, ), for example using ravel().\n",
            "  # This is added back by InteractiveShellApp.init_path()\n",
            "/usr/local/lib/python3.6/dist-packages/ipykernel_launcher.py:11: DataConversionWarning: A column-vector y was passed when a 1d array was expected. Please change the shape of y to (n_samples, ), for example using ravel().\n",
            "  # This is added back by InteractiveShellApp.init_path()\n",
            "/usr/local/lib/python3.6/dist-packages/ipykernel_launcher.py:11: DataConversionWarning: A column-vector y was passed when a 1d array was expected. Please change the shape of y to (n_samples, ), for example using ravel().\n",
            "  # This is added back by InteractiveShellApp.init_path()\n",
            "/usr/local/lib/python3.6/dist-packages/ipykernel_launcher.py:11: DataConversionWarning: A column-vector y was passed when a 1d array was expected. Please change the shape of y to (n_samples, ), for example using ravel().\n",
            "  # This is added back by InteractiveShellApp.init_path()\n",
            "/usr/local/lib/python3.6/dist-packages/ipykernel_launcher.py:11: DataConversionWarning: A column-vector y was passed when a 1d array was expected. Please change the shape of y to (n_samples, ), for example using ravel().\n",
            "  # This is added back by InteractiveShellApp.init_path()\n"
          ],
          "name": "stderr"
        }
      ]
    },
    {
      "cell_type": "code",
      "metadata": {
        "id": "gvjofC1KYMUg",
        "outputId": "0789a5fc-13a8-4cd2-c7ec-7531586cdb62",
        "colab": {
          "base_uri": "https://localhost:8080/",
          "height": 265
        }
      },
      "source": [
        "import matplotlib.pyplot as plt\r\n",
        "xpoints = np.array([2,3,4,5,6,7])\r\n",
        "plt.plot(xpoints, final)\r\n",
        "plt.show()"
      ],
      "execution_count": 14,
      "outputs": [
        {
          "output_type": "display_data",
          "data": {
            "image/png": "[encoded data removed]",
            "text/plain": [
              "<Figure size 432x288 with 1 Axes>"
            ]
          },
          "metadata": {
            "tags": [],
            "needs_background": "light"
          }
        }
      ]
    }
  ]
}