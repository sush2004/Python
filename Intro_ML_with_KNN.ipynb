{
  "nbformat": 4,
  "nbformat_minor": 0,
  "metadata": {
    "colab": {
      "name": "Intro_ML_with_KNN.ipynb",
      "provenance": [],
      "authorship_tag": "ABX9TyPsZVo7/RmwTalMmSNVrBsT",
      "include_colab_link": true
    },
    "kernelspec": {
      "name": "python3",
      "display_name": "Python 3"
    }
  },
  "cells": [
    {
      "cell_type": "markdown",
      "metadata": {
        "id": "view-in-github",
        "colab_type": "text"
      },
      "source": [
        "<a href=\"https://colab.research.google.com/github/sush2004/Python/blob/main/Intro_ML_with_KNN.ipynb\" target=\"_parent\"><img src=\"https://colab.research.google.com/assets/colab-badge.svg\" alt=\"Open In Colab\"/></a>"
      ]
    },
    {
      "cell_type": "code",
      "metadata": {
        "colab": {
          "base_uri": "https://localhost:8080/",
          "height": 229
        },
        "id": "BH96tblwKZkg",
        "outputId": "9cb730a4-43d2-469e-f734-db9a095dc8aa"
      },
      "source": [
        "from PIL import Image\r\n",
        "import requests\r\n",
        "\r\n",
        "# This function will pass your text to the machine learning model\r\n",
        "# and return the top result with the highest confidence\r\n",
        "def classify(text):\r\n",
        "    key = \"f7fc35d0-69f4-11eb-86f1-498c681ca1c2026c2abc-96c7-4ee1-a766-ad04528150ed\"\r\n",
        "    url = \"https://machinelearningforkids.co.uk/api/scratch/\"+ key + \"/classify\"\r\n",
        "\r\n",
        "    response = requests.get(url, params={ \"data\" : text })\r\n",
        "\r\n",
        "    if response.ok:\r\n",
        "        responseData = response.json()\r\n",
        "        topMatch = responseData[0]\r\n",
        "        return topMatch\r\n",
        "    else:\r\n",
        "        response.raise_for_status()\r\n",
        "\r\n",
        "input = input(\"What do you want to tell me? > \")\r\n",
        "\r\n",
        "recognized = classify(input)\r\n",
        "label = recognized[\"class_name\"]\r\n",
        "if label == \"kind_things\":\r\n",
        "    print (\"You're so nice!\")\r\n",
        "    img = Image.open(\"happy.png.jpg\")\r\n",
        "    img.show()\r\n",
        "else:\r\n",
        "    print (\"You're so mean!\")\r\n",
        "    img = Image.open(\"sad.png.jpg\")\r\n",
        "    img.show()"
      ],
      "execution_count": 31,
      "outputs": [
        {
          "output_type": "error",
          "ename": "TypeError",
          "evalue": "ignored",
          "traceback": [
            "\u001b[0;31m---------------------------------------------------------------------------\u001b[0m",
            "\u001b[0;31mTypeError\u001b[0m                                 Traceback (most recent call last)",
            "\u001b[0;32m<ipython-input-31-609c57606322>\u001b[0m in \u001b[0;36m<module>\u001b[0;34m()\u001b[0m\n\u001b[1;32m     17\u001b[0m         \u001b[0mresponse\u001b[0m\u001b[0;34m.\u001b[0m\u001b[0mraise_for_status\u001b[0m\u001b[0;34m(\u001b[0m\u001b[0;34m)\u001b[0m\u001b[0;34m\u001b[0m\u001b[0;34m\u001b[0m\u001b[0m\n\u001b[1;32m     18\u001b[0m \u001b[0;34m\u001b[0m\u001b[0m\n\u001b[0;32m---> 19\u001b[0;31m \u001b[0minput\u001b[0m \u001b[0;34m=\u001b[0m \u001b[0minput\u001b[0m\u001b[0;34m(\u001b[0m\u001b[0;34m\"What do you want to tell me? > \"\u001b[0m\u001b[0;34m)\u001b[0m\u001b[0;34m\u001b[0m\u001b[0;34m\u001b[0m\u001b[0m\n\u001b[0m\u001b[1;32m     20\u001b[0m \u001b[0;34m\u001b[0m\u001b[0m\n\u001b[1;32m     21\u001b[0m \u001b[0mrecognized\u001b[0m \u001b[0;34m=\u001b[0m \u001b[0mclassify\u001b[0m\u001b[0;34m(\u001b[0m\u001b[0minput\u001b[0m\u001b[0;34m)\u001b[0m\u001b[0;34m\u001b[0m\u001b[0;34m\u001b[0m\u001b[0m\n",
            "\u001b[0;31mTypeError\u001b[0m: 'str' object is not callable"
          ]
        }
      ]
    },
    {
      "cell_type": "code",
      "metadata": {
        "id": "p4tKGNOiusqS"
      },
      "source": [
        "import sklearn\r\n",
        "#calling class\r\n",
        "from sklearn.neighbors import KNeighborsClassifier\r\n",
        "import matplotlib.pyplot as plt\r\n",
        "import numpy as np\r\n"
      ],
      "execution_count": 99,
      "outputs": []
    },
    {
      "cell_type": "code",
      "metadata": {
        "id": "vpHPXtIyu9ff"
      },
      "source": [
        "#data definition\r\n",
        "np.train_data=[[3,4],[5,6],[7,8],[3,2],[5,4],[7,4]]\r\n",
        "np.label_data=[[1],[0],[1],[0],[0],[1]]\r\n",
        "np.test_data=[[7,8],[3,2],[7,4]]   #any random value\r\n",
        "\r\n",
        "np.actual_label=[1,0,1]"
      ],
      "execution_count": 100,
      "outputs": []
    },
    {
      "cell_type": "code",
      "metadata": {
        "colab": {
          "base_uri": "https://localhost:8080/"
        },
        "id": "l5-i-rFBvT7J",
        "outputId": "2411c0f4-c91d-48ed-eb61-b47cd3a96422"
      },
      "source": [
        "#Modelling implementation\r\n",
        "model=KNeighborsClassifier(n_neighbors=5) #from 2 to 8\r\n",
        "model.fit(np.train_data,np.label_data)\r\n",
        "np.pred_value=model.predict(test_data)\r\n",
        "np.pred_value"
      ],
      "execution_count": 101,
      "outputs": [
        {
          "output_type": "stream",
          "text": [
            "/usr/local/lib/python3.6/dist-packages/ipykernel_launcher.py:3: DataConversionWarning: A column-vector y was passed when a 1d array was expected. Please change the shape of y to (n_samples, ), for example using ravel().\n",
            "  This is separate from the ipykernel package so we can avoid doing imports until\n"
          ],
          "name": "stderr"
        },
        {
          "output_type": "execute_result",
          "data": {
            "text/plain": [
              "array([0, 1])"
            ]
          },
          "metadata": {
            "tags": []
          },
          "execution_count": 101
        }
      ]
    },
    {
      "cell_type": "code",
      "metadata": {
        "colab": {
          "base_uri": "https://localhost:8080/",
          "height": 178
        },
        "id": "bFoXB_d0wALU",
        "outputId": "03077666-11b4-4c89-ab54-10f682a7a05a"
      },
      "source": [
        "np.comparison = np.pred_value == np.actual_label\r\n",
        "acc=0\r\n",
        "for x in np.comparison:\r\n",
        "  if x==True:\r\n",
        "    acc=acc+1\r\n",
        "  else:\r\n",
        "    acc=acc+0\r\n",
        "  \r\n",
        "  "
      ],
      "execution_count": 78,
      "outputs": [
        {
          "output_type": "error",
          "ename": "NameError",
          "evalue": "ignored",
          "traceback": [
            "\u001b[0;31m---------------------------------------------------------------------------\u001b[0m",
            "\u001b[0;31mNameError\u001b[0m                                 Traceback (most recent call last)",
            "\u001b[0;32m<ipython-input-78-a20eaa941d29>\u001b[0m in \u001b[0;36m<module>\u001b[0;34m()\u001b[0m\n\u001b[1;32m      1\u001b[0m \u001b[0;32mimport\u001b[0m \u001b[0mmatplotlib\u001b[0m\u001b[0;34m.\u001b[0m\u001b[0mpyplot\u001b[0m \u001b[0;32mas\u001b[0m \u001b[0mplt\u001b[0m\u001b[0;34m\u001b[0m\u001b[0;34m\u001b[0m\u001b[0m\n\u001b[0;32m----> 2\u001b[0;31m \u001b[0mplt\u001b[0m\u001b[0;34m(\u001b[0m\u001b[0mactual_data\u001b[0m\u001b[0;34m,\u001b[0m\u001b[0mn_neighbors\u001b[0m\u001b[0;34m)\u001b[0m\u001b[0;34m\u001b[0m\u001b[0;34m\u001b[0m\u001b[0m\n\u001b[0m",
            "\u001b[0;31mNameError\u001b[0m: name 'n_neighbors' is not defined"
          ]
        }
      ]
    }
  ]
}