{
  "nbformat": 4,
  "nbformat_minor": 0,
  "metadata": {
    "colab": {
      "name": "ML_CA2_Classification_10550452.ipynb",
      "provenance": [],
      "authorship_tag": "ABX9TyPiTZtng/An36/f5aXt9to8",
      "include_colab_link": true
    },
    "kernelspec": {
      "name": "python3",
      "display_name": "Python 3"
    },
    "language_info": {
      "name": "python"
    }
  },
  "cells": [
    {
      "cell_type": "markdown",
      "metadata": {
        "id": "view-in-github",
        "colab_type": "text"
      },
      "source": [
        "<a href=\"https://colab.research.google.com/github/sush2004/Python/blob/main/ML_CA2_Classification_10550452.ipynb\" target=\"_parent\"><img src=\"https://colab.research.google.com/assets/colab-badge.svg\" alt=\"Open In Colab\"/></a>"
      ]
    },
    {
      "cell_type": "code",
      "metadata": {
        "id": "vkcC3MkUrybo"
      },
      "source": [
        "import sklearn\n",
        "import pandas"
      ],
      "execution_count": null,
      "outputs": []
    },
    {
      "cell_type": "code",
      "metadata": {
        "id": "F0iliODyrnXm"
      },
      "source": [
        "#Calling classes\n",
        "from sklearn.tree import DecisionTreeClassifier\n",
        "from sklearn.metrics import accuracy_score\n",
        "from sklearn.model_selection import train_test_split\n",
        "from matplotlib import pyplot\n",
        "import pandas as pd\n",
        "from sklearn.metrics import plot_confusion_matrix"
      ],
      "execution_count": null,
      "outputs": []
    },
    {
      "cell_type": "code",
      "metadata": {
        "colab": {
          "base_uri": "https://localhost:8080/",
          "height": 215
        },
        "id": "G3L9mmGnr24G",
        "outputId": "f712ad4b-b02a-4a8d-9709-fbf260b29895"
      },
      "source": [
        "#Loading dataset\n",
        "candy_power = pd.read_csv(\"candy-data.csv\")\n",
        "candy_power.head()"
      ],
      "execution_count": null,
      "outputs": [
        {
          "output_type": "execute_result",
          "data": {
            "text/html": [
              "<div>\n",
              "<style scoped>\n",
              "    .dataframe tbody tr th:only-of-type {\n",
              "        vertical-align: middle;\n",
              "    }\n",
              "\n",
              "    .dataframe tbody tr th {\n",
              "        vertical-align: top;\n",
              "    }\n",
              "\n",
              "    .dataframe thead th {\n",
              "        text-align: right;\n",
              "    }\n",
              "</style>\n",
              "<table border=\"1\" class=\"dataframe\">\n",
              "  <thead>\n",
              "    <tr style=\"text-align: right;\">\n",
              "      <th></th>\n",
              "      <th>competitorname</th>\n",
              "      <th>chocolate</th>\n",
              "      <th>fruity</th>\n",
              "      <th>caramel</th>\n",
              "      <th>peanutyalmondy</th>\n",
              "      <th>nougat</th>\n",
              "      <th>crispedricewafer</th>\n",
              "      <th>hard</th>\n",
              "      <th>bar</th>\n",
              "      <th>pluribus</th>\n",
              "      <th>sugarpercent</th>\n",
              "      <th>pricepercent</th>\n",
              "      <th>winpercent</th>\n",
              "    </tr>\n",
              "  </thead>\n",
              "  <tbody>\n",
              "    <tr>\n",
              "      <th>0</th>\n",
              "      <td>100 Grand</td>\n",
              "      <td>1</td>\n",
              "      <td>0</td>\n",
              "      <td>1</td>\n",
              "      <td>0</td>\n",
              "      <td>0</td>\n",
              "      <td>1</td>\n",
              "      <td>0</td>\n",
              "      <td>1</td>\n",
              "      <td>0</td>\n",
              "      <td>0.732</td>\n",
              "      <td>0.860</td>\n",
              "      <td>66.971725</td>\n",
              "    </tr>\n",
              "    <tr>\n",
              "      <th>1</th>\n",
              "      <td>3 Musketeers</td>\n",
              "      <td>1</td>\n",
              "      <td>0</td>\n",
              "      <td>0</td>\n",
              "      <td>0</td>\n",
              "      <td>1</td>\n",
              "      <td>0</td>\n",
              "      <td>0</td>\n",
              "      <td>1</td>\n",
              "      <td>0</td>\n",
              "      <td>0.604</td>\n",
              "      <td>0.511</td>\n",
              "      <td>67.602936</td>\n",
              "    </tr>\n",
              "    <tr>\n",
              "      <th>2</th>\n",
              "      <td>One dime</td>\n",
              "      <td>0</td>\n",
              "      <td>0</td>\n",
              "      <td>0</td>\n",
              "      <td>0</td>\n",
              "      <td>0</td>\n",
              "      <td>0</td>\n",
              "      <td>0</td>\n",
              "      <td>0</td>\n",
              "      <td>0</td>\n",
              "      <td>0.011</td>\n",
              "      <td>0.116</td>\n",
              "      <td>32.261086</td>\n",
              "    </tr>\n",
              "    <tr>\n",
              "      <th>3</th>\n",
              "      <td>One quarter</td>\n",
              "      <td>0</td>\n",
              "      <td>0</td>\n",
              "      <td>0</td>\n",
              "      <td>0</td>\n",
              "      <td>0</td>\n",
              "      <td>0</td>\n",
              "      <td>0</td>\n",
              "      <td>0</td>\n",
              "      <td>0</td>\n",
              "      <td>0.011</td>\n",
              "      <td>0.511</td>\n",
              "      <td>46.116505</td>\n",
              "    </tr>\n",
              "    <tr>\n",
              "      <th>4</th>\n",
              "      <td>Air Heads</td>\n",
              "      <td>0</td>\n",
              "      <td>1</td>\n",
              "      <td>0</td>\n",
              "      <td>0</td>\n",
              "      <td>0</td>\n",
              "      <td>0</td>\n",
              "      <td>0</td>\n",
              "      <td>0</td>\n",
              "      <td>0</td>\n",
              "      <td>0.906</td>\n",
              "      <td>0.511</td>\n",
              "      <td>52.341465</td>\n",
              "    </tr>\n",
              "  </tbody>\n",
              "</table>\n",
              "</div>"
            ],
            "text/plain": [
              "  competitorname  chocolate  fruity  ...  sugarpercent  pricepercent  winpercent\n",
              "0      100 Grand          1       0  ...         0.732         0.860   66.971725\n",
              "1   3 Musketeers          1       0  ...         0.604         0.511   67.602936\n",
              "2       One dime          0       0  ...         0.011         0.116   32.261086\n",
              "3    One quarter          0       0  ...         0.011         0.511   46.116505\n",
              "4      Air Heads          0       1  ...         0.906         0.511   52.341465\n",
              "\n",
              "[5 rows x 13 columns]"
            ]
          },
          "metadata": {
            "tags": []
          },
          "execution_count": 3
        }
      ]
    },
    {
      "cell_type": "code",
      "metadata": {
        "colab": {
          "base_uri": "https://localhost:8080/",
          "height": 215
        },
        "id": "X7Eemg7IsNC8",
        "outputId": "694a579c-ab52-40c3-e06a-b5cc23811f07"
      },
      "source": [
        "# Converting data to 0 and 1 for column winpercent\n",
        "candy_power[\"rank_high_low\"]= (candy_power[\"winpercent\"] >= 60.0).astype(int)\n",
        "candy_power.head()"
      ],
      "execution_count": null,
      "outputs": [
        {
          "output_type": "execute_result",
          "data": {
            "text/html": [
              "<div>\n",
              "<style scoped>\n",
              "    .dataframe tbody tr th:only-of-type {\n",
              "        vertical-align: middle;\n",
              "    }\n",
              "\n",
              "    .dataframe tbody tr th {\n",
              "        vertical-align: top;\n",
              "    }\n",
              "\n",
              "    .dataframe thead th {\n",
              "        text-align: right;\n",
              "    }\n",
              "</style>\n",
              "<table border=\"1\" class=\"dataframe\">\n",
              "  <thead>\n",
              "    <tr style=\"text-align: right;\">\n",
              "      <th></th>\n",
              "      <th>competitorname</th>\n",
              "      <th>chocolate</th>\n",
              "      <th>fruity</th>\n",
              "      <th>caramel</th>\n",
              "      <th>peanutyalmondy</th>\n",
              "      <th>nougat</th>\n",
              "      <th>crispedricewafer</th>\n",
              "      <th>hard</th>\n",
              "      <th>bar</th>\n",
              "      <th>pluribus</th>\n",
              "      <th>sugarpercent</th>\n",
              "      <th>pricepercent</th>\n",
              "      <th>winpercent</th>\n",
              "      <th>rank_high_low</th>\n",
              "    </tr>\n",
              "  </thead>\n",
              "  <tbody>\n",
              "    <tr>\n",
              "      <th>0</th>\n",
              "      <td>100 Grand</td>\n",
              "      <td>1</td>\n",
              "      <td>0</td>\n",
              "      <td>1</td>\n",
              "      <td>0</td>\n",
              "      <td>0</td>\n",
              "      <td>1</td>\n",
              "      <td>0</td>\n",
              "      <td>1</td>\n",
              "      <td>0</td>\n",
              "      <td>0.732</td>\n",
              "      <td>0.860</td>\n",
              "      <td>66.971725</td>\n",
              "      <td>1</td>\n",
              "    </tr>\n",
              "    <tr>\n",
              "      <th>1</th>\n",
              "      <td>3 Musketeers</td>\n",
              "      <td>1</td>\n",
              "      <td>0</td>\n",
              "      <td>0</td>\n",
              "      <td>0</td>\n",
              "      <td>1</td>\n",
              "      <td>0</td>\n",
              "      <td>0</td>\n",
              "      <td>1</td>\n",
              "      <td>0</td>\n",
              "      <td>0.604</td>\n",
              "      <td>0.511</td>\n",
              "      <td>67.602936</td>\n",
              "      <td>1</td>\n",
              "    </tr>\n",
              "    <tr>\n",
              "      <th>2</th>\n",
              "      <td>One dime</td>\n",
              "      <td>0</td>\n",
              "      <td>0</td>\n",
              "      <td>0</td>\n",
              "      <td>0</td>\n",
              "      <td>0</td>\n",
              "      <td>0</td>\n",
              "      <td>0</td>\n",
              "      <td>0</td>\n",
              "      <td>0</td>\n",
              "      <td>0.011</td>\n",
              "      <td>0.116</td>\n",
              "      <td>32.261086</td>\n",
              "      <td>0</td>\n",
              "    </tr>\n",
              "    <tr>\n",
              "      <th>3</th>\n",
              "      <td>One quarter</td>\n",
              "      <td>0</td>\n",
              "      <td>0</td>\n",
              "      <td>0</td>\n",
              "      <td>0</td>\n",
              "      <td>0</td>\n",
              "      <td>0</td>\n",
              "      <td>0</td>\n",
              "      <td>0</td>\n",
              "      <td>0</td>\n",
              "      <td>0.011</td>\n",
              "      <td>0.511</td>\n",
              "      <td>46.116505</td>\n",
              "      <td>0</td>\n",
              "    </tr>\n",
              "    <tr>\n",
              "      <th>4</th>\n",
              "      <td>Air Heads</td>\n",
              "      <td>0</td>\n",
              "      <td>1</td>\n",
              "      <td>0</td>\n",
              "      <td>0</td>\n",
              "      <td>0</td>\n",
              "      <td>0</td>\n",
              "      <td>0</td>\n",
              "      <td>0</td>\n",
              "      <td>0</td>\n",
              "      <td>0.906</td>\n",
              "      <td>0.511</td>\n",
              "      <td>52.341465</td>\n",
              "      <td>0</td>\n",
              "    </tr>\n",
              "  </tbody>\n",
              "</table>\n",
              "</div>"
            ],
            "text/plain": [
              "  competitorname  chocolate  fruity  ...  pricepercent  winpercent  rank_high_low\n",
              "0      100 Grand          1       0  ...         0.860   66.971725              1\n",
              "1   3 Musketeers          1       0  ...         0.511   67.602936              1\n",
              "2       One dime          0       0  ...         0.116   32.261086              0\n",
              "3    One quarter          0       0  ...         0.511   46.116505              0\n",
              "4      Air Heads          0       1  ...         0.511   52.341465              0\n",
              "\n",
              "[5 rows x 14 columns]"
            ]
          },
          "metadata": {
            "tags": []
          },
          "execution_count": 4
        }
      ]
    },
    {
      "cell_type": "code",
      "metadata": {
        "colab": {
          "base_uri": "https://localhost:8080/",
          "height": 215
        },
        "id": "Vt91ThyHtUy5",
        "outputId": "7e2ade6f-0208-4d3a-af14-3aa4014ee3ec"
      },
      "source": [
        "# Dropping column winpercent \n",
        "candy_power = candy_power.drop(['winpercent'],axis=1)\n",
        "candy_power.head()"
      ],
      "execution_count": null,
      "outputs": [
        {
          "output_type": "execute_result",
          "data": {
            "text/html": [
              "<div>\n",
              "<style scoped>\n",
              "    .dataframe tbody tr th:only-of-type {\n",
              "        vertical-align: middle;\n",
              "    }\n",
              "\n",
              "    .dataframe tbody tr th {\n",
              "        vertical-align: top;\n",
              "    }\n",
              "\n",
              "    .dataframe thead th {\n",
              "        text-align: right;\n",
              "    }\n",
              "</style>\n",
              "<table border=\"1\" class=\"dataframe\">\n",
              "  <thead>\n",
              "    <tr style=\"text-align: right;\">\n",
              "      <th></th>\n",
              "      <th>competitorname</th>\n",
              "      <th>chocolate</th>\n",
              "      <th>fruity</th>\n",
              "      <th>caramel</th>\n",
              "      <th>peanutyalmondy</th>\n",
              "      <th>nougat</th>\n",
              "      <th>crispedricewafer</th>\n",
              "      <th>hard</th>\n",
              "      <th>bar</th>\n",
              "      <th>pluribus</th>\n",
              "      <th>sugarpercent</th>\n",
              "      <th>pricepercent</th>\n",
              "      <th>rank_high_low</th>\n",
              "    </tr>\n",
              "  </thead>\n",
              "  <tbody>\n",
              "    <tr>\n",
              "      <th>0</th>\n",
              "      <td>100 Grand</td>\n",
              "      <td>1</td>\n",
              "      <td>0</td>\n",
              "      <td>1</td>\n",
              "      <td>0</td>\n",
              "      <td>0</td>\n",
              "      <td>1</td>\n",
              "      <td>0</td>\n",
              "      <td>1</td>\n",
              "      <td>0</td>\n",
              "      <td>0.732</td>\n",
              "      <td>0.860</td>\n",
              "      <td>1</td>\n",
              "    </tr>\n",
              "    <tr>\n",
              "      <th>1</th>\n",
              "      <td>3 Musketeers</td>\n",
              "      <td>1</td>\n",
              "      <td>0</td>\n",
              "      <td>0</td>\n",
              "      <td>0</td>\n",
              "      <td>1</td>\n",
              "      <td>0</td>\n",
              "      <td>0</td>\n",
              "      <td>1</td>\n",
              "      <td>0</td>\n",
              "      <td>0.604</td>\n",
              "      <td>0.511</td>\n",
              "      <td>1</td>\n",
              "    </tr>\n",
              "    <tr>\n",
              "      <th>2</th>\n",
              "      <td>One dime</td>\n",
              "      <td>0</td>\n",
              "      <td>0</td>\n",
              "      <td>0</td>\n",
              "      <td>0</td>\n",
              "      <td>0</td>\n",
              "      <td>0</td>\n",
              "      <td>0</td>\n",
              "      <td>0</td>\n",
              "      <td>0</td>\n",
              "      <td>0.011</td>\n",
              "      <td>0.116</td>\n",
              "      <td>0</td>\n",
              "    </tr>\n",
              "    <tr>\n",
              "      <th>3</th>\n",
              "      <td>One quarter</td>\n",
              "      <td>0</td>\n",
              "      <td>0</td>\n",
              "      <td>0</td>\n",
              "      <td>0</td>\n",
              "      <td>0</td>\n",
              "      <td>0</td>\n",
              "      <td>0</td>\n",
              "      <td>0</td>\n",
              "      <td>0</td>\n",
              "      <td>0.011</td>\n",
              "      <td>0.511</td>\n",
              "      <td>0</td>\n",
              "    </tr>\n",
              "    <tr>\n",
              "      <th>4</th>\n",
              "      <td>Air Heads</td>\n",
              "      <td>0</td>\n",
              "      <td>1</td>\n",
              "      <td>0</td>\n",
              "      <td>0</td>\n",
              "      <td>0</td>\n",
              "      <td>0</td>\n",
              "      <td>0</td>\n",
              "      <td>0</td>\n",
              "      <td>0</td>\n",
              "      <td>0.906</td>\n",
              "      <td>0.511</td>\n",
              "      <td>0</td>\n",
              "    </tr>\n",
              "  </tbody>\n",
              "</table>\n",
              "</div>"
            ],
            "text/plain": [
              "  competitorname  chocolate  fruity  ...  sugarpercent  pricepercent  rank_high_low\n",
              "0      100 Grand          1       0  ...         0.732         0.860              1\n",
              "1   3 Musketeers          1       0  ...         0.604         0.511              1\n",
              "2       One dime          0       0  ...         0.011         0.116              0\n",
              "3    One quarter          0       0  ...         0.011         0.511              0\n",
              "4      Air Heads          0       1  ...         0.906         0.511              0\n",
              "\n",
              "[5 rows x 13 columns]"
            ]
          },
          "metadata": {
            "tags": []
          },
          "execution_count": 5
        }
      ]
    },
    {
      "cell_type": "code",
      "metadata": {
        "colab": {
          "base_uri": "https://localhost:8080/"
        },
        "id": "Zh2dNTvEtk_W",
        "outputId": "7fe800ff-e2de-460f-9bb7-47607a91af5d"
      },
      "source": [
        "# Check for missing values\n",
        "null_col = candy_power.isnull().sum()\n",
        "print(null_col)"
      ],
      "execution_count": null,
      "outputs": [
        {
          "output_type": "stream",
          "text": [
            "competitorname      0\n",
            "chocolate           0\n",
            "fruity              0\n",
            "caramel             0\n",
            "peanutyalmondy      0\n",
            "nougat              0\n",
            "crispedricewafer    0\n",
            "hard                0\n",
            "bar                 0\n",
            "pluribus            0\n",
            "sugarpercent        0\n",
            "pricepercent        0\n",
            "rank_high_low       0\n",
            "dtype: int64\n"
          ],
          "name": "stdout"
        }
      ]
    },
    {
      "cell_type": "code",
      "metadata": {
        "colab": {
          "base_uri": "https://localhost:8080/",
          "height": 304
        },
        "id": "Wme6CUOWt_R-",
        "outputId": "7f6e16a6-bdb2-42ce-fa8e-846646895582"
      },
      "source": [
        "candy_power.describe()"
      ],
      "execution_count": null,
      "outputs": [
        {
          "output_type": "execute_result",
          "data": {
            "text/html": [
              "<div>\n",
              "<style scoped>\n",
              "    .dataframe tbody tr th:only-of-type {\n",
              "        vertical-align: middle;\n",
              "    }\n",
              "\n",
              "    .dataframe tbody tr th {\n",
              "        vertical-align: top;\n",
              "    }\n",
              "\n",
              "    .dataframe thead th {\n",
              "        text-align: right;\n",
              "    }\n",
              "</style>\n",
              "<table border=\"1\" class=\"dataframe\">\n",
              "  <thead>\n",
              "    <tr style=\"text-align: right;\">\n",
              "      <th></th>\n",
              "      <th>chocolate</th>\n",
              "      <th>fruity</th>\n",
              "      <th>caramel</th>\n",
              "      <th>peanutyalmondy</th>\n",
              "      <th>nougat</th>\n",
              "      <th>crispedricewafer</th>\n",
              "      <th>hard</th>\n",
              "      <th>bar</th>\n",
              "      <th>pluribus</th>\n",
              "      <th>sugarpercent</th>\n",
              "      <th>pricepercent</th>\n",
              "      <th>rank_high_low</th>\n",
              "    </tr>\n",
              "  </thead>\n",
              "  <tbody>\n",
              "    <tr>\n",
              "      <th>count</th>\n",
              "      <td>85.000000</td>\n",
              "      <td>85.000000</td>\n",
              "      <td>85.000000</td>\n",
              "      <td>85.000000</td>\n",
              "      <td>85.000000</td>\n",
              "      <td>85.000000</td>\n",
              "      <td>85.000000</td>\n",
              "      <td>85.000000</td>\n",
              "      <td>85.000000</td>\n",
              "      <td>85.000000</td>\n",
              "      <td>85.000000</td>\n",
              "      <td>85.000000</td>\n",
              "    </tr>\n",
              "    <tr>\n",
              "      <th>mean</th>\n",
              "      <td>0.435294</td>\n",
              "      <td>0.447059</td>\n",
              "      <td>0.164706</td>\n",
              "      <td>0.164706</td>\n",
              "      <td>0.082353</td>\n",
              "      <td>0.082353</td>\n",
              "      <td>0.176471</td>\n",
              "      <td>0.247059</td>\n",
              "      <td>0.517647</td>\n",
              "      <td>0.478647</td>\n",
              "      <td>0.468882</td>\n",
              "      <td>0.247059</td>\n",
              "    </tr>\n",
              "    <tr>\n",
              "      <th>std</th>\n",
              "      <td>0.498738</td>\n",
              "      <td>0.500140</td>\n",
              "      <td>0.373116</td>\n",
              "      <td>0.373116</td>\n",
              "      <td>0.276533</td>\n",
              "      <td>0.276533</td>\n",
              "      <td>0.383482</td>\n",
              "      <td>0.433861</td>\n",
              "      <td>0.502654</td>\n",
              "      <td>0.282778</td>\n",
              "      <td>0.285740</td>\n",
              "      <td>0.433861</td>\n",
              "    </tr>\n",
              "    <tr>\n",
              "      <th>min</th>\n",
              "      <td>0.000000</td>\n",
              "      <td>0.000000</td>\n",
              "      <td>0.000000</td>\n",
              "      <td>0.000000</td>\n",
              "      <td>0.000000</td>\n",
              "      <td>0.000000</td>\n",
              "      <td>0.000000</td>\n",
              "      <td>0.000000</td>\n",
              "      <td>0.000000</td>\n",
              "      <td>0.011000</td>\n",
              "      <td>0.011000</td>\n",
              "      <td>0.000000</td>\n",
              "    </tr>\n",
              "    <tr>\n",
              "      <th>25%</th>\n",
              "      <td>0.000000</td>\n",
              "      <td>0.000000</td>\n",
              "      <td>0.000000</td>\n",
              "      <td>0.000000</td>\n",
              "      <td>0.000000</td>\n",
              "      <td>0.000000</td>\n",
              "      <td>0.000000</td>\n",
              "      <td>0.000000</td>\n",
              "      <td>0.000000</td>\n",
              "      <td>0.220000</td>\n",
              "      <td>0.255000</td>\n",
              "      <td>0.000000</td>\n",
              "    </tr>\n",
              "    <tr>\n",
              "      <th>50%</th>\n",
              "      <td>0.000000</td>\n",
              "      <td>0.000000</td>\n",
              "      <td>0.000000</td>\n",
              "      <td>0.000000</td>\n",
              "      <td>0.000000</td>\n",
              "      <td>0.000000</td>\n",
              "      <td>0.000000</td>\n",
              "      <td>0.000000</td>\n",
              "      <td>1.000000</td>\n",
              "      <td>0.465000</td>\n",
              "      <td>0.465000</td>\n",
              "      <td>0.000000</td>\n",
              "    </tr>\n",
              "    <tr>\n",
              "      <th>75%</th>\n",
              "      <td>1.000000</td>\n",
              "      <td>1.000000</td>\n",
              "      <td>0.000000</td>\n",
              "      <td>0.000000</td>\n",
              "      <td>0.000000</td>\n",
              "      <td>0.000000</td>\n",
              "      <td>0.000000</td>\n",
              "      <td>0.000000</td>\n",
              "      <td>1.000000</td>\n",
              "      <td>0.732000</td>\n",
              "      <td>0.651000</td>\n",
              "      <td>0.000000</td>\n",
              "    </tr>\n",
              "    <tr>\n",
              "      <th>max</th>\n",
              "      <td>1.000000</td>\n",
              "      <td>1.000000</td>\n",
              "      <td>1.000000</td>\n",
              "      <td>1.000000</td>\n",
              "      <td>1.000000</td>\n",
              "      <td>1.000000</td>\n",
              "      <td>1.000000</td>\n",
              "      <td>1.000000</td>\n",
              "      <td>1.000000</td>\n",
              "      <td>0.988000</td>\n",
              "      <td>0.976000</td>\n",
              "      <td>1.000000</td>\n",
              "    </tr>\n",
              "  </tbody>\n",
              "</table>\n",
              "</div>"
            ],
            "text/plain": [
              "       chocolate     fruity  ...  pricepercent  rank_high_low\n",
              "count  85.000000  85.000000  ...     85.000000      85.000000\n",
              "mean    0.435294   0.447059  ...      0.468882       0.247059\n",
              "std     0.498738   0.500140  ...      0.285740       0.433861\n",
              "min     0.000000   0.000000  ...      0.011000       0.000000\n",
              "25%     0.000000   0.000000  ...      0.255000       0.000000\n",
              "50%     0.000000   0.000000  ...      0.465000       0.000000\n",
              "75%     1.000000   1.000000  ...      0.651000       0.000000\n",
              "max     1.000000   1.000000  ...      0.976000       1.000000\n",
              "\n",
              "[8 rows x 12 columns]"
            ]
          },
          "metadata": {
            "tags": []
          },
          "execution_count": 7
        }
      ]
    },
    {
      "cell_type": "code",
      "metadata": {
        "colab": {
          "base_uri": "https://localhost:8080/"
        },
        "id": "MzOfM5hJuDQ1",
        "outputId": "2c20680a-d6af-4e8d-ff46-b73182ee2142"
      },
      "source": [
        "columns = candy_power.dtypes\n",
        "print(columns)"
      ],
      "execution_count": null,
      "outputs": [
        {
          "output_type": "stream",
          "text": [
            "competitorname       object\n",
            "chocolate             int64\n",
            "fruity                int64\n",
            "caramel               int64\n",
            "peanutyalmondy        int64\n",
            "nougat                int64\n",
            "crispedricewafer      int64\n",
            "hard                  int64\n",
            "bar                   int64\n",
            "pluribus              int64\n",
            "sugarpercent        float64\n",
            "pricepercent        float64\n",
            "rank_high_low         int64\n",
            "dtype: object\n"
          ],
          "name": "stdout"
        }
      ]
    },
    {
      "cell_type": "code",
      "metadata": {
        "colab": {
          "base_uri": "https://localhost:8080/",
          "height": 271
        },
        "id": "QaF0ziD-uLzH",
        "outputId": "c49ee957-4c55-4d8d-b3fd-36b3af23b3b2"
      },
      "source": [
        "#Correlation Matrix\n",
        "corr_matrix = candy_power.corr()\n",
        "#plotting the correlation matrix\n",
        "fig = pyplot.figure()\n",
        "x1 = fig.add_subplot(111)\n",
        "cx = x1.matshow(corr_matrix,vmin = -1,vmax = 1)\n",
        "fig.colorbar(cx)\n",
        "pyplot.show()"
      ],
      "execution_count": null,
      "outputs": [
        {
          "output_type": "display_data",
          "data": {
            "image/png": "[encoded data removed]",
            "text/plain": [
              "<Figure size 432x288 with 2 Axes>"
            ]
          },
          "metadata": {
            "tags": [],
            "needs_background": "light"
          }
        }
      ]
    },
    {
      "cell_type": "code",
      "metadata": {
        "colab": {
          "base_uri": "https://localhost:8080/",
          "height": 422
        },
        "id": "aK6xxxtFuduS",
        "outputId": "5834e30a-9afe-455b-e848-0df070dd54a9"
      },
      "source": [
        "candy_power.corr().abs()"
      ],
      "execution_count": null,
      "outputs": [
        {
          "output_type": "execute_result",
          "data": {
            "text/html": [
              "<div>\n",
              "<style scoped>\n",
              "    .dataframe tbody tr th:only-of-type {\n",
              "        vertical-align: middle;\n",
              "    }\n",
              "\n",
              "    .dataframe tbody tr th {\n",
              "        vertical-align: top;\n",
              "    }\n",
              "\n",
              "    .dataframe thead th {\n",
              "        text-align: right;\n",
              "    }\n",
              "</style>\n",
              "<table border=\"1\" class=\"dataframe\">\n",
              "  <thead>\n",
              "    <tr style=\"text-align: right;\">\n",
              "      <th></th>\n",
              "      <th>chocolate</th>\n",
              "      <th>fruity</th>\n",
              "      <th>caramel</th>\n",
              "      <th>peanutyalmondy</th>\n",
              "      <th>nougat</th>\n",
              "      <th>crispedricewafer</th>\n",
              "      <th>hard</th>\n",
              "      <th>bar</th>\n",
              "      <th>pluribus</th>\n",
              "      <th>sugarpercent</th>\n",
              "      <th>pricepercent</th>\n",
              "      <th>rank_high_low</th>\n",
              "    </tr>\n",
              "  </thead>\n",
              "  <tbody>\n",
              "    <tr>\n",
              "      <th>chocolate</th>\n",
              "      <td>1.000000</td>\n",
              "      <td>0.741721</td>\n",
              "      <td>0.249875</td>\n",
              "      <td>0.377824</td>\n",
              "      <td>0.254892</td>\n",
              "      <td>0.341210</td>\n",
              "      <td>0.344177</td>\n",
              "      <td>0.597421</td>\n",
              "      <td>0.339675</td>\n",
              "      <td>0.104169</td>\n",
              "      <td>0.504675</td>\n",
              "      <td>0.542404</td>\n",
              "    </tr>\n",
              "    <tr>\n",
              "      <th>fruity</th>\n",
              "      <td>0.741721</td>\n",
              "      <td>1.000000</td>\n",
              "      <td>0.335485</td>\n",
              "      <td>0.399280</td>\n",
              "      <td>0.269367</td>\n",
              "      <td>0.269367</td>\n",
              "      <td>0.390678</td>\n",
              "      <td>0.515066</td>\n",
              "      <td>0.299725</td>\n",
              "      <td>0.034393</td>\n",
              "      <td>0.430969</td>\n",
              "      <td>0.405340</td>\n",
              "    </tr>\n",
              "    <tr>\n",
              "      <th>caramel</th>\n",
              "      <td>0.249875</td>\n",
              "      <td>0.335485</td>\n",
              "      <td>1.000000</td>\n",
              "      <td>0.059356</td>\n",
              "      <td>0.328493</td>\n",
              "      <td>0.213113</td>\n",
              "      <td>0.122355</td>\n",
              "      <td>0.333960</td>\n",
              "      <td>0.269585</td>\n",
              "      <td>0.221933</td>\n",
              "      <td>0.254327</td>\n",
              "      <td>0.260420</td>\n",
              "    </tr>\n",
              "    <tr>\n",
              "      <th>peanutyalmondy</th>\n",
              "      <td>0.377824</td>\n",
              "      <td>0.399280</td>\n",
              "      <td>0.059356</td>\n",
              "      <td>1.000000</td>\n",
              "      <td>0.213113</td>\n",
              "      <td>0.017646</td>\n",
              "      <td>0.205557</td>\n",
              "      <td>0.260420</td>\n",
              "      <td>0.206109</td>\n",
              "      <td>0.087889</td>\n",
              "      <td>0.309153</td>\n",
              "      <td>0.333960</td>\n",
              "    </tr>\n",
              "    <tr>\n",
              "      <th>nougat</th>\n",
              "      <td>0.254892</td>\n",
              "      <td>0.269367</td>\n",
              "      <td>0.328493</td>\n",
              "      <td>0.213113</td>\n",
              "      <td>1.000000</td>\n",
              "      <td>0.089744</td>\n",
              "      <td>0.138675</td>\n",
              "      <td>0.522976</td>\n",
              "      <td>0.310339</td>\n",
              "      <td>0.123081</td>\n",
              "      <td>0.153196</td>\n",
              "      <td>0.225300</td>\n",
              "    </tr>\n",
              "    <tr>\n",
              "      <th>crispedricewafer</th>\n",
              "      <td>0.341210</td>\n",
              "      <td>0.269367</td>\n",
              "      <td>0.213113</td>\n",
              "      <td>0.017646</td>\n",
              "      <td>0.089744</td>\n",
              "      <td>1.000000</td>\n",
              "      <td>0.138675</td>\n",
              "      <td>0.423751</td>\n",
              "      <td>0.224693</td>\n",
              "      <td>0.069950</td>\n",
              "      <td>0.328265</td>\n",
              "      <td>0.324526</td>\n",
              "    </tr>\n",
              "    <tr>\n",
              "      <th>hard</th>\n",
              "      <td>0.344177</td>\n",
              "      <td>0.390678</td>\n",
              "      <td>0.122355</td>\n",
              "      <td>0.205557</td>\n",
              "      <td>0.138675</td>\n",
              "      <td>0.138675</td>\n",
              "      <td>1.000000</td>\n",
              "      <td>0.265165</td>\n",
              "      <td>0.014532</td>\n",
              "      <td>0.091810</td>\n",
              "      <td>0.244365</td>\n",
              "      <td>0.265165</td>\n",
              "    </tr>\n",
              "    <tr>\n",
              "      <th>bar</th>\n",
              "      <td>0.597421</td>\n",
              "      <td>0.515066</td>\n",
              "      <td>0.333960</td>\n",
              "      <td>0.260420</td>\n",
              "      <td>0.522976</td>\n",
              "      <td>0.423751</td>\n",
              "      <td>0.265165</td>\n",
              "      <td>1.000000</td>\n",
              "      <td>0.593409</td>\n",
              "      <td>0.099985</td>\n",
              "      <td>0.518407</td>\n",
              "      <td>0.367560</td>\n",
              "    </tr>\n",
              "    <tr>\n",
              "      <th>pluribus</th>\n",
              "      <td>0.339675</td>\n",
              "      <td>0.299725</td>\n",
              "      <td>0.269585</td>\n",
              "      <td>0.206109</td>\n",
              "      <td>0.310339</td>\n",
              "      <td>0.224693</td>\n",
              "      <td>0.014532</td>\n",
              "      <td>0.593409</td>\n",
              "      <td>1.000000</td>\n",
              "      <td>0.045523</td>\n",
              "      <td>0.220794</td>\n",
              "      <td>0.211290</td>\n",
              "    </tr>\n",
              "    <tr>\n",
              "      <th>sugarpercent</th>\n",
              "      <td>0.104169</td>\n",
              "      <td>0.034393</td>\n",
              "      <td>0.221933</td>\n",
              "      <td>0.087889</td>\n",
              "      <td>0.123081</td>\n",
              "      <td>0.069950</td>\n",
              "      <td>0.091810</td>\n",
              "      <td>0.099985</td>\n",
              "      <td>0.045523</td>\n",
              "      <td>1.000000</td>\n",
              "      <td>0.329706</td>\n",
              "      <td>0.260092</td>\n",
              "    </tr>\n",
              "    <tr>\n",
              "      <th>pricepercent</th>\n",
              "      <td>0.504675</td>\n",
              "      <td>0.430969</td>\n",
              "      <td>0.254327</td>\n",
              "      <td>0.309153</td>\n",
              "      <td>0.153196</td>\n",
              "      <td>0.328265</td>\n",
              "      <td>0.244365</td>\n",
              "      <td>0.518407</td>\n",
              "      <td>0.220794</td>\n",
              "      <td>0.329706</td>\n",
              "      <td>1.000000</td>\n",
              "      <td>0.334320</td>\n",
              "    </tr>\n",
              "    <tr>\n",
              "      <th>rank_high_low</th>\n",
              "      <td>0.542404</td>\n",
              "      <td>0.405340</td>\n",
              "      <td>0.260420</td>\n",
              "      <td>0.333960</td>\n",
              "      <td>0.225300</td>\n",
              "      <td>0.324526</td>\n",
              "      <td>0.265165</td>\n",
              "      <td>0.367560</td>\n",
              "      <td>0.211290</td>\n",
              "      <td>0.260092</td>\n",
              "      <td>0.334320</td>\n",
              "      <td>1.000000</td>\n",
              "    </tr>\n",
              "  </tbody>\n",
              "</table>\n",
              "</div>"
            ],
            "text/plain": [
              "                  chocolate    fruity  ...  pricepercent  rank_high_low\n",
              "chocolate          1.000000  0.741721  ...      0.504675       0.542404\n",
              "fruity             0.741721  1.000000  ...      0.430969       0.405340\n",
              "caramel            0.249875  0.335485  ...      0.254327       0.260420\n",
              "peanutyalmondy     0.377824  0.399280  ...      0.309153       0.333960\n",
              "nougat             0.254892  0.269367  ...      0.153196       0.225300\n",
              "crispedricewafer   0.341210  0.269367  ...      0.328265       0.324526\n",
              "hard               0.344177  0.390678  ...      0.244365       0.265165\n",
              "bar                0.597421  0.515066  ...      0.518407       0.367560\n",
              "pluribus           0.339675  0.299725  ...      0.220794       0.211290\n",
              "sugarpercent       0.104169  0.034393  ...      0.329706       0.260092\n",
              "pricepercent       0.504675  0.430969  ...      1.000000       0.334320\n",
              "rank_high_low      0.542404  0.405340  ...      0.334320       1.000000\n",
              "\n",
              "[12 rows x 12 columns]"
            ]
          },
          "metadata": {
            "tags": []
          },
          "execution_count": 10
        }
      ]
    },
    {
      "cell_type": "code",
      "metadata": {
        "id": "40PHCXzBuvIt"
      },
      "source": [
        "# Removing highly correlated columns \n",
        "# Remove fruity since very high correlation with chocolate\n",
        "corr_candy_power = candy_power.drop(['fruity'],axis=1)\n"
      ],
      "execution_count": null,
      "outputs": []
    },
    {
      "cell_type": "code",
      "metadata": {
        "colab": {
          "base_uri": "https://localhost:8080/"
        },
        "id": "OAR5QXX6vGZ3",
        "outputId": "8df487af-f886-4c84-ff97-a8ce692ccee3"
      },
      "source": [
        "#Data preparations\n",
        "features_candy = corr_candy_power.values[:,1:11]\n",
        "label_win = corr_candy_power.values[:,11]\n",
        "print(label_win)"
      ],
      "execution_count": null,
      "outputs": [
        {
          "output_type": "stream",
          "text": [
            "[1 1 0 0 0 0 0 0 0 0 0 0 0 0 0 0 0 0 0 0 0 0 0 1 0 0 0 0 1 0 0 0 1 1 0 0 1\n",
            " 1 1 0 0 0 1 1 0 0 0 1 0 0 0 1 1 1 1 0 1 0 0 0 1 0 0 0 1 0 0 0 1 0 0 0 0 0\n",
            " 0 0 0 0 0 1 0 0 0 0 0]\n"
          ],
          "name": "stdout"
        }
      ]
    },
    {
      "cell_type": "code",
      "metadata": {
        "colab": {
          "base_uri": "https://localhost:8080/"
        },
        "id": "JaGyKH3BvX5N",
        "outputId": "24e9bd2f-78be-4a64-d5c2-462c5bbb9259"
      },
      "source": [
        "#Train Test Split\n",
        "train_x,test_x,train_y,test_y = train_test_split(features_candy,label_win, test_size = 0.20, random_state = 20)\n",
        "print(len(train_x))\n",
        "print(len(test_x))\n",
        "print(len(train_y))\n",
        "print(len(test_y))"
      ],
      "execution_count": null,
      "outputs": [
        {
          "output_type": "stream",
          "text": [
            "68\n",
            "17\n",
            "68\n",
            "17\n"
          ],
          "name": "stdout"
        }
      ]
    },
    {
      "cell_type": "code",
      "metadata": {
        "id": "0P9q2S8Cvr-H"
      },
      "source": [
        "#Adjusting Data types for modeling\n",
        "train_y = train_y.astype(int)\n",
        "train_x = train_x.astype(int)\n",
        "test_y = test_y.astype(int)\n"
      ],
      "execution_count": null,
      "outputs": []
    },
    {
      "cell_type": "code",
      "metadata": {
        "colab": {
          "base_uri": "https://localhost:8080/"
        },
        "id": "v0CIDwYVvvgE",
        "outputId": "7bee778e-b11d-4aa3-f332-935f4cf38181"
      },
      "source": [
        "model_candy = DecisionTreeClassifier()\n",
        "model_candy.fit(train_x,train_y)"
      ],
      "execution_count": null,
      "outputs": [
        {
          "output_type": "execute_result",
          "data": {
            "text/plain": [
              "DecisionTreeClassifier(ccp_alpha=0.0, class_weight=None, criterion='gini',\n",
              "                       max_depth=None, max_features=None, max_leaf_nodes=None,\n",
              "                       min_impurity_decrease=0.0, min_impurity_split=None,\n",
              "                       min_samples_leaf=1, min_samples_split=2,\n",
              "                       min_weight_fraction_leaf=0.0, presort='deprecated',\n",
              "                       random_state=None, splitter='best')"
            ]
          },
          "metadata": {
            "tags": []
          },
          "execution_count": 15
        }
      ]
    },
    {
      "cell_type": "code",
      "metadata": {
        "id": "veVbKb-fvx0J"
      },
      "source": [
        "# Make predictions using the testing set\n",
        "predict_y = model_candy.predict(test_x)\n"
      ],
      "execution_count": null,
      "outputs": []
    },
    {
      "cell_type": "code",
      "metadata": {
        "id": "KJBHrarQv5RX"
      },
      "source": [
        "#Accuracy of the model\n",
        "accuracy = accuracy_score(test_y,predict_y)"
      ],
      "execution_count": null,
      "outputs": []
    },
    {
      "cell_type": "code",
      "metadata": {
        "colab": {
          "base_uri": "https://localhost:8080/"
        },
        "id": "5G6PzfwHv8Vc",
        "outputId": "31e023d8-13bb-4203-a784-0d69287e27ce"
      },
      "source": [
        "print(\"Accuracy of the model is {}\".format(accuracy*100))"
      ],
      "execution_count": null,
      "outputs": [
        {
          "output_type": "stream",
          "text": [
            "Accuracy of the model is 94.11764705882352\n"
          ],
          "name": "stdout"
        }
      ]
    },
    {
      "cell_type": "code",
      "metadata": {
        "colab": {
          "base_uri": "https://localhost:8080/",
          "height": 279
        },
        "id": "yYmn2_44v-07",
        "outputId": "e8aeae73-524f-47d5-f705-050b38a7ce1c"
      },
      "source": [
        "# Plotting the confusion matrix\n",
        "plot_confusion_matrix(model_candy, test_x, test_y)  \n",
        "pyplot.show() "
      ],
      "execution_count": null,
      "outputs": [
        {
          "output_type": "display_data",
          "data": {
            "image/png": "[encoded data removed]",
            "text/plain": [
              "<Figure size 432x288 with 2 Axes>"
            ]
          },
          "metadata": {
            "tags": [],
            "needs_background": "light"
          }
        }
      ]
    }
  ]
}