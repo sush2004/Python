{
  "nbformat": 4,
  "nbformat_minor": 0,
  "metadata": {
    "colab": {
      "name": "Web_Scraping.ipynb",
      "provenance": [],
      "authorship_tag": "ABX9TyNdsymAMrozzmhhBWDTDuuP",
      "include_colab_link": true
    },
    "kernelspec": {
      "name": "python3",
      "display_name": "Python 3"
    }
  },
  "cells": [
    {
      "cell_type": "markdown",
      "metadata": {
        "id": "view-in-github",
        "colab_type": "text"
      },
      "source": [
        "<a href=\"https://colab.research.google.com/github/sush2004/Python/blob/main/Web_Scraping.ipynb\" target=\"_parent\"><img src=\"https://colab.research.google.com/assets/colab-badge.svg\" alt=\"Open In Colab\"/></a>"
      ]
    },
    {
      "cell_type": "code",
      "metadata": {
        "colab": {
          "base_uri": "https://localhost:8080/"
        },
        "id": "nH9rIUAMTzjb",
        "outputId": "2fc2bad1-9666-4e71-f3fa-79e1df764755"
      },
      "source": [
        "from bs4 import BeautifulSoup as soup\r\n",
        "from urllib.request import urlopen as uReq\r\n",
        "my_url = 'https://www.newegg.com/Video-Cards-Video-Devices/Category/ID-38?Tid=6662'\r\n",
        "uClient = uReq(my_url)\r\n",
        "page_html = uClient.read()\r\n",
        "uClient.close()\r\n",
        "page_soup = soup(page_html, \"html.parser\")\r\n",
        "page_soup.h1\r\n",
        "page_soup.body.span\r\n",
        "containers = page_soup.findAll(\"div\",{\"class\":\"item-container\"}) \r\n",
        "len(containers)\r\n",
        "container = containers[0]\r\n",
        "#container.div.div.a.img[\"title\"]\r\n",
        "\r\n",
        "\r\n"
      ],
      "execution_count": 32,
      "outputs": [
        {
          "output_type": "execute_result",
          "data": {
            "text/plain": [
              "8"
            ]
          },
          "metadata": {
            "tags": []
          },
          "execution_count": 32
        }
      ]
    },
    {
      "cell_type": "code",
      "metadata": {
        "colab": {
          "base_uri": "https://localhost:8080/"
        },
        "id": "e4Cy574cdR69",
        "outputId": "3e5dc8a1-3baf-403b-8559-9772bf0c197b"
      },
      "source": [
        "containers[0]"
      ],
      "execution_count": 33,
      "outputs": [
        {
          "output_type": "execute_result",
          "data": {
            "text/plain": [
              "<div class=\"item-container\"><a class=\"item-img\" href=\"https://www.newegg.com/gigabyte-geforce-gt-1030-gv-n1030oc-2gi/p/N82E16814932004?Item=N82E16814932004\"><img alt=\"GIGABYTE GeForce GT 1030 DirectX 12 GV-N1030OC-2GI 2GB 64-Bit GDDR5 PCI Express 3.0 x16 Video Card\" src=\"https://c1.neweggimages.com/ProductImageCompressAll300/14-932-004-Z01.jpg\" title=\"GIGABYTE GeForce GT 1030 DirectX 12 GV-N1030OC-2GI 2GB 64-Bit GDDR5 PCI Express 3.0 x16 Video Card\"/></a><div class=\"item-info\"><div class=\"item-branding\"><a class=\"item-brand\" href=\"https://www.newegg.com/GIGABYTE/BrandStore/ID-1314\"><img alt=\"GIGABYTE\" src=\"https://c1.neweggimages.com/Brandimage_70x28/Brand1314.gif\" title=\"GIGABYTE\"/></a><a class=\"item-rating\" href=\"https://www.newegg.com/gigabyte-geforce-gt-1030-gv-n1030oc-2gi/p/N82E16814932004?IsFeedbackTab=true&amp;Item=N82E16814932004#scrollFullInfo\" title=\"Rating + 4\"><i class=\"rating rating-4\"></i><span class=\"item-rating-num\">(43)</span></a></div><a class=\"item-title\" href=\"https://www.newegg.com/gigabyte-geforce-gt-1030-gv-n1030oc-2gi/p/N82E16814932004?Item=N82E16814932004\" title=\"View Details\">GIGABYTE GeForce GT 1030 DirectX 12 GV-N1030OC-2GI Video Card</a><ul class=\"item-features\"><li><strong>Core Clock:</strong> 1290 MHz in OC Mode\n",
              "1265 MHz in Gaming Mode</li><li><strong>Max Resolution:</strong> 4096 x 2160</li><li><strong>DVI:</strong> 1 x DVI-D</li><li><strong>HDMI:</strong> 1 x HDMI 2.0b</li><li><strong>Model #: </strong>GV-N1030OC-2GI</li><li><strong>Item #: </strong>N82E16814932004</li><li><strong>Return Policy: </strong><a href=\"https://kb.newegg.com/Article/Index/12/3?id=1167#53\" target=\"_blank\" title=\"Extended Holiday Return Policy(New Window)\">Extended Holiday Return Policy</a></li></ul></div><div class=\"item-action\"><ul class=\"price\"><li class=\"price-was\"></li><li class=\"price-map\"> </li><li class=\"price-current \"><span class=\"price-current-label\"></span>$<strong>88</strong><sup>.99</sup> <a class=\"price-current-num\" href=\"https://www.newegg.com/gigabyte-geforce-gt-1030-gv-n1030oc-2gi/p/N82E16814932004?Item=N82E16814932004&amp;buyingoptions=New\">(6 Offers)</a><span class=\"price-current-range\"><abbr title=\"to\">–</abbr></span></li><li class=\"price-save \"></li><li class=\"price-note\"></li><li class=\"price-ship\">Free Shipping</li></ul><div class=\"item-operate hidden-action-button\"><div class=\"item-button-area\"><button class=\"btn btn-mini\" title=\"View Details \">View Details <i class=\"fas fa-caret-right\"></i></button></div><div class=\"item-compare-box\"><label class=\"form-checkbox\"><input autocomplete=\"off\" type=\"checkbox\"/><span class=\"form-checkbox-title\">Compare</span></label></div></div></div><div class=\"item-stock\" id=\"stock_14-932-004\"></div></div>"
            ]
          },
          "metadata": {
            "tags": []
          },
          "execution_count": 33
        }
      ]
    },
    {
      "cell_type": "code",
      "metadata": {
        "id": "ljj4gb1Oajyj"
      },
      "source": [
        "container.findAll(\"a\",{\"class\":\"item-title\"})"
      ],
      "execution_count": null,
      "outputs": []
    },
    {
      "cell_type": "code",
      "metadata": {
        "id": "wAoNvOdWaL4G"
      },
      "source": [
        "for container in containers:\r\n",
        "  brand = container.div.div.a.img[\"title\"]\r\n",
        "  title_container = container.findAll(\"a\",{\"class\":\"item-title\"})\r\n"
      ],
      "execution_count": 31,
      "outputs": []
    }
  ]
}