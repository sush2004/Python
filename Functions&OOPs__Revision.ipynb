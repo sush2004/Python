{
  "nbformat": 4,
  "nbformat_minor": 0,
  "metadata": {
    "kernelspec": {
      "display_name": "Python 3",
      "language": "python",
      "name": "python3"
    },
    "language_info": {
      "codemirror_mode": {
        "name": "ipython",
        "version": 3
      },
      "file_extension": ".py",
      "mimetype": "text/x-python",
      "name": "python",
      "nbconvert_exporter": "python",
      "pygments_lexer": "ipython3",
      "version": "3.8.5"
    },
    "colab": {
      "name": "Functions&OOPs_ Revision.ipynb",
      "provenance": [],
      "include_colab_link": true
    }
  },
  "cells": [
    {
      "cell_type": "markdown",
      "metadata": {
        "id": "view-in-github",
        "colab_type": "text"
      },
      "source": [
        "<a href=\"https://colab.research.google.com/github/sush2004/Python/blob/main/Functions%26OOPs__Revision.ipynb\" target=\"_parent\"><img src=\"https://colab.research.google.com/assets/colab-badge.svg\" alt=\"Open In Colab\"/></a>"
      ]
    },
    {
      "cell_type": "code",
      "metadata": {
        "colab": {
          "base_uri": "https://localhost:8080/"
        },
        "id": "H6IO5CWVKZcy",
        "outputId": "6d11b1f0-a681-4d52-dc0d-83036eb3fa6e"
      },
      "source": [
        "def func(name, age):\r\n",
        "  print(name, age)\r\n",
        "\r\n",
        "func('sushant', 25)"
      ],
      "execution_count": 18,
      "outputs": [
        {
          "output_type": "stream",
          "text": [
            "sushant 25\n"
          ],
          "name": "stdout"
        }
      ]
    },
    {
      "cell_type": "code",
      "metadata": {
        "colab": {
          "base_uri": "https://localhost:8080/"
        },
        "id": "oLD1hQyjAFYR",
        "outputId": "0a018a6b-fa6c-4823-c778-0f9021fbcb1d"
      },
      "source": [
        "def func1(num1, num2, num3):\r\n",
        "    print(\"After func1(20, 40, 60):\")\r\n",
        "    print(num1)\r\n",
        "    print(num2)\r\n",
        "    print(num3)\r\n",
        "\r\n",
        "func1(20,40, 60)\r\n"
      ],
      "execution_count": 20,
      "outputs": [
        {
          "output_type": "stream",
          "text": [
            "After func1(20, 40, 60):\n",
            "20\n",
            "40\n",
            "60\n"
          ],
          "name": "stdout"
        }
      ]
    },
    {
      "cell_type": "code",
      "metadata": {
        "id": "-2Bm-Xw582a0",
        "outputId": "4e7de082-daca-450a-b4d3-c9853a6f8ef4"
      },
      "source": [
        "def calculation(a, b):\n",
        "    # code\n",
        "    return a+b, a-b\n",
        "    \n",
        "res = calculation(40, 10)\n",
        "print(res)"
      ],
      "execution_count": null,
      "outputs": [
        {
          "output_type": "stream",
          "text": [
            "(50, 30)\n"
          ],
          "name": "stdout"
        }
      ]
    },
    {
      "cell_type": "code",
      "metadata": {
        "id": "wJJrjpE782a_",
        "outputId": "c8b43875-1452-40c5-f918-35498d381e7c"
      },
      "source": [
        "def calculation(a, b):\n",
        "    # ','.join provides a way to comma separate\n",
        "    return ','.join([str(a+b), str(a-b)])\n",
        "    \n",
        "res = calculation(40, 10)\n",
        "print(res)"
      ],
      "execution_count": null,
      "outputs": [
        {
          "output_type": "stream",
          "text": [
            "50,30\n"
          ],
          "name": "stdout"
        }
      ]
    },
    {
      "cell_type": "code",
      "metadata": {
        "colab": {
          "base_uri": "https://localhost:8080/"
        },
        "id": "9oH517Ks82bA",
        "outputId": "6b7ae9c6-7e52-4826-cd71-b9a52ff08945"
      },
      "source": [
        "# showEmployee with a default parameter\n",
        "def showEmployee(name, salary=9000):\n",
        "    return 'Employee {} salary is {}'.format(name, salary)\n",
        "\n",
        "print(showEmployee('Ben', 9000))"
      ],
      "execution_count": 21,
      "outputs": [
        {
          "output_type": "stream",
          "text": [
            "Employee Ben salary is 9000\n"
          ],
          "name": "stdout"
        }
      ]
    },
    {
      "cell_type": "markdown",
      "metadata": {
        "id": "17mSDGv6Lrb0"
      },
      "source": [
        "Create an inner function to calculate in the follwing way"
      ]
    },
    {
      "cell_type": "code",
      "metadata": {
        "id": "CsYWe_FI82bB",
        "outputId": "216bab63-54f5-435d-b5a1-db91e7503343"
      },
      "source": [
        "def outerFun(a, b):\n",
        "    def innerFun(c, d):\n",
        "        return c + d\n",
        "    return innerFun(a, b)\n",
        "\n",
        "res = outerFun(5, 10)\n",
        "print(res)"
      ],
      "execution_count": null,
      "outputs": [
        {
          "output_type": "stream",
          "text": [
            "15\n"
          ],
          "name": "stdout"
        }
      ]
    },
    {
      "cell_type": "markdown",
      "metadata": {
        "id": "5FjEapnHL7b2"
      },
      "source": [
        "recursive function"
      ]
    },
    {
      "cell_type": "code",
      "metadata": {
        "colab": {
          "base_uri": "https://localhost:8080/"
        },
        "id": "EB6uLl7y82bC",
        "outputId": "f533721a-4e71-4405-b327-de3f458c6d7a"
      },
      "source": [
        "# recursion a function that calls itself\n",
        "def sum_first(n):\n",
        "    if n == 1:\n",
        "        return n\n",
        "    return n + sum_first(n-1)\n",
        "\n",
        "# write recursive function to sum the first 10 numbers.\n",
        "#sum_first(10) = 10 + sum_first(9) = 10 + 9 + sum_first(8)\n",
        "\n",
        "print(sum_first(10))\n",
        "\n"
      ],
      "execution_count": 23,
      "outputs": [
        {
          "output_type": "stream",
          "text": [
            "55\n"
          ],
          "name": "stdout"
        }
      ]
    },
    {
      "cell_type": "markdown",
      "metadata": {
        "id": "ypH6aBcVMGct"
      },
      "source": [
        "factorial using recursive function"
      ]
    },
    {
      "cell_type": "code",
      "metadata": {
        "colab": {
          "base_uri": "https://localhost:8080/"
        },
        "id": "7eJn-7WE82bD",
        "outputId": "b6aef23e-8f17-485e-aad3-8f34dcd8ed30"
      },
      "source": [
        "# factorial recursive\n",
        "def factorial(n):\n",
        "    if n == 1:\n",
        "        return n\n",
        "    return n * factorial(n-1)\n",
        "print(factorial(10))"
      ],
      "execution_count": 24,
      "outputs": [
        {
          "output_type": "stream",
          "text": [
            "3628800\n"
          ],
          "name": "stdout"
        }
      ]
    },
    {
      "cell_type": "code",
      "metadata": {
        "id": "5eRKdxsI82bD",
        "outputId": "989c2985-a398-422c-fd1a-e9f9e119b148"
      },
      "source": [
        "print(factorial(5))"
      ],
      "execution_count": null,
      "outputs": [
        {
          "output_type": "stream",
          "text": [
            "120\n"
          ],
          "name": "stdout"
        }
      ]
    },
    {
      "cell_type": "code",
      "metadata": {
        "id": "GT2sGLAZQ2PF"
      },
      "source": [
        "assigning a different name to function"
      ],
      "execution_count": null,
      "outputs": []
    },
    {
      "cell_type": "code",
      "metadata": {
        "id": "0V9e7gxTMTjq"
      },
      "source": [
        "def displayStudent(name, age):\r\n",
        "  showstudent = displayStudent()\r\n",
        "  print(name, age)\r\n",
        "\r\n",
        "print(showStudent('Emma', 26))"
      ],
      "execution_count": null,
      "outputs": []
    },
    {
      "cell_type": "code",
      "metadata": {
        "id": "2d6Q_Ynz82bE"
      },
      "source": [
        "# class is used to create an object definition\n",
        "class Vehicle(object):\n",
        "    \n",
        "    def __init__(self, max_speed, mileage):\n",
        "        self.max_speed = max_speed\n",
        "        self.mileage = mileage\n"
      ],
      "execution_count": null,
      "outputs": []
    },
    {
      "cell_type": "markdown",
      "metadata": {
        "id": "S3CBJ8pjRu0d"
      },
      "source": [
        "Generate a Python list of all the even numbers"
      ]
    },
    {
      "cell_type": "code",
      "metadata": {
        "colab": {
          "base_uri": "https://localhost:8080/"
        },
        "id": "vk7OnN46Q-_0",
        "outputId": "c3fad5e6-513b-4107-c327-d9f1b945c5c1"
      },
      "source": [
        "list = []\r\n",
        "for i in range(4,30):\r\n",
        "  if i % 2 ==0:\r\n",
        "    list.append(i)\r\n",
        "  else:\r\n",
        "    pass\r\n",
        "print(list)\r\n",
        "print(max(list))\r\n"
      ],
      "execution_count": 33,
      "outputs": [
        {
          "output_type": "stream",
          "text": [
            "[4, 6, 8, 10, 12, 14, 16, 18, 20, 22, 24, 26, 28]\n",
            "28\n"
          ],
          "name": "stdout"
        }
      ]
    },
    {
      "cell_type": "code",
      "metadata": {
        "colab": {
          "base_uri": "https://localhost:8080/"
        },
        "id": "3tI51dti82bE",
        "outputId": "f2ecca80-e32f-4998-e74c-fa09fe6c4ec4"
      },
      "source": [
        "class Vehicle:\r\n",
        "    def __init__(self, max_speed, mileage):\r\n",
        "        self.max_speed = max_speed\r\n",
        "        self.mileage = mileage\r\n",
        "\r\n",
        "vehiclemodel = Vehicle(320, 12)\r\n",
        "print(vehiclemodel.max_speed, vehiclemodel.mileage)\r\n"
      ],
      "execution_count": 39,
      "outputs": [
        {
          "output_type": "stream",
          "text": [
            "320 12\n"
          ],
          "name": "stdout"
        }
      ]
    },
    {
      "cell_type": "code",
      "metadata": {
        "id": "joHcqD-T82bE"
      },
      "source": [
        "# my ferrari can do 200 mph and has 1000 mileage on the clock\n",
        "ferrari = Vehicle(200, 1000)"
      ],
      "execution_count": null,
      "outputs": []
    },
    {
      "cell_type": "code",
      "metadata": {
        "id": "n6XfYjA482bE",
        "outputId": "3a1c0926-6f1a-4adf-bef2-a3facacd83e0"
      },
      "source": [
        "print(ferrari.max_speed)"
      ],
      "execution_count": null,
      "outputs": [
        {
          "output_type": "stream",
          "text": [
            "200\n"
          ],
          "name": "stdout"
        }
      ]
    },
    {
      "cell_type": "code",
      "metadata": {
        "id": "_E0QBesF82bF",
        "outputId": "2c34ba81-30f2-44ad-b91c-3d4a5168f8f2"
      },
      "source": [
        "print(ferrari.mileage)"
      ],
      "execution_count": null,
      "outputs": [
        {
          "output_type": "stream",
          "text": [
            "1000\n"
          ],
          "name": "stdout"
        }
      ]
    },
    {
      "cell_type": "code",
      "metadata": {
        "id": "6RzMNq4_82bF"
      },
      "source": [
        "# class Vehichle without methods and variables\n",
        "class Vehicle(object):\n",
        "    pass\n"
      ],
      "execution_count": null,
      "outputs": []
    },
    {
      "cell_type": "code",
      "metadata": {
        "id": "cSea8RE782bF"
      },
      "source": [
        "class Bus(Vehicle):\n",
        "    \n",
        "    def __init__(self, name, max_speed, mileage):\n",
        "        Vehicle.__init__(self, max_speed, mileage)\n",
        "        self.name = name\n",
        "        \n",
        "    def __repr__(self):\n",
        "        return 'Vehicle Name: ' + self.name + ' Speed: ' + str(self.max_speed) + ' Mileage:' + str(self.mileage) \n",
        "        "
      ],
      "execution_count": 40,
      "outputs": []
    },
    {
      "cell_type": "code",
      "metadata": {
        "id": "jTQ2DRa582bF"
      },
      "source": [
        "red_bus = Bus('London Bus', 40, 100000)"
      ],
      "execution_count": null,
      "outputs": []
    },
    {
      "cell_type": "code",
      "metadata": {
        "id": "7yHq5U7_82bG",
        "outputId": "797e71af-7dd5-4ea5-b662-98e884c23f5f"
      },
      "source": [
        "print(red_bus)"
      ],
      "execution_count": null,
      "outputs": [
        {
          "output_type": "stream",
          "text": [
            "Vehicle Name: London Bus Speed: 40 Mileage:100000\n"
          ],
          "name": "stdout"
        }
      ]
    },
    {
      "cell_type": "code",
      "metadata": {
        "id": "Zc4X7_pv82bG",
        "outputId": "ba2af57e-00ff-4c92-bc8e-34d24fcb4d7e"
      },
      "source": [
        "# class is used to create an object definition\n",
        "class Vehicle(object):\n",
        "    \n",
        "    def __init__(self, max_speed, mileage):\n",
        "        self.max_speed = max_speed\n",
        "        self.mileage = mileage\n",
        "\n",
        "class Bus(Vehicle):\n",
        "    \n",
        "    def __init__(self, name, max_speed, mileage):\n",
        "        Vehicle.__init__(self, max_speed, mileage)\n",
        "        self.name = name\n",
        "        \n",
        "    def __repr__(self):\n",
        "        return 'Vehicle Name: ' + self.name + ' Speed: ' + str(self.max_speed) + ' Mileage:' + str(self.mileage) \n",
        "\n",
        "# my ferrari can do 200 mph and has 1000 mileage on the clock\n",
        "ferrari = Vehicle(200, 1000)\n",
        "print(ferrari.max_speed)\n",
        "\n",
        "red_bus = Bus('London Bus', 40, 100000)\n",
        "print(red_bus)\n",
        "\n",
        "school_bus = Bus('School Volvo', 100, 12)\n",
        "print(school_bus)\n"
      ],
      "execution_count": null,
      "outputs": [
        {
          "output_type": "stream",
          "text": [
            "200\n",
            "Vehicle Name: London Bus Speed: 40 Mileage:100000\n",
            "Vehicle Name: School Volvo Speed: 100 Mileage:12\n"
          ],
          "name": "stdout"
        }
      ]
    },
    {
      "cell_type": "code",
      "metadata": {
        "id": "jfltle8P82bG",
        "outputId": "c7f96196-b99f-4c0f-c61f-bbea127894b7"
      },
      "source": [
        "print(type(red_bus))"
      ],
      "execution_count": null,
      "outputs": [
        {
          "output_type": "stream",
          "text": [
            "<class '__main__.Bus'>\n"
          ],
          "name": "stdout"
        }
      ]
    },
    {
      "cell_type": "code",
      "metadata": {
        "id": "9vK8O_OQ82bG",
        "outputId": "8698d1f4-207a-4e65-9598-16fc13bb2d22"
      },
      "source": [
        "print(type(ferrari))"
      ],
      "execution_count": null,
      "outputs": [
        {
          "output_type": "stream",
          "text": [
            "<class '__main__.Vehicle'>\n"
          ],
          "name": "stdout"
        }
      ]
    },
    {
      "cell_type": "code",
      "metadata": {
        "id": "8DoSJpB582bH",
        "outputId": "20905431-eb8e-4a9d-f7be-59c97f9941d7"
      },
      "source": [
        "if type(red_bus) == type(ferrari):\n",
        "    print('Same vehicle type')\n",
        "else:\n",
        "    print('Not the same vehicle type')"
      ],
      "execution_count": null,
      "outputs": [
        {
          "output_type": "stream",
          "text": [
            "Not the same vehicle type\n"
          ],
          "name": "stdout"
        }
      ]
    },
    {
      "cell_type": "code",
      "metadata": {
        "id": "iH45snoc82bH",
        "outputId": "24a3a1cb-2e1c-4127-b4d8-ccb1e7442b3e"
      },
      "source": [
        "if type(red_bus) == type(school_bus):\n",
        "    print('Same vehicle type')\n",
        "else:\n",
        "    print('Not the same vehicle type')"
      ],
      "execution_count": null,
      "outputs": [
        {
          "output_type": "stream",
          "text": [
            "Not the same vehicle type\n"
          ],
          "name": "stdout"
        }
      ]
    },
    {
      "cell_type": "code",
      "metadata": {
        "id": "xmS42gZ382bH",
        "outputId": "bff92227-dff9-42be-d9c0-629848f7529e"
      },
      "source": [
        "type(red_bus)"
      ],
      "execution_count": null,
      "outputs": [
        {
          "output_type": "execute_result",
          "data": {
            "text/plain": [
              "__main__.Bus"
            ]
          },
          "metadata": {
            "tags": []
          },
          "execution_count": 43
        }
      ]
    },
    {
      "cell_type": "code",
      "metadata": {
        "id": "7cNP2Gf082bI",
        "outputId": "98a8daee-4911-4d2d-8afc-eda2ab118b11"
      },
      "source": [
        "type(school_bus)"
      ],
      "execution_count": null,
      "outputs": [
        {
          "output_type": "execute_result",
          "data": {
            "text/plain": [
              "__main__.Bus"
            ]
          },
          "metadata": {
            "tags": []
          },
          "execution_count": 44
        }
      ]
    },
    {
      "cell_type": "code",
      "metadata": {
        "id": "3jvm1HOk82bI",
        "outputId": "7007a965-bf21-4f14-e7e5-8acc9ec63103"
      },
      "source": [
        "print(type(red_bus) == type(school_bus))"
      ],
      "execution_count": null,
      "outputs": [
        {
          "output_type": "stream",
          "text": [
            "False\n"
          ],
          "name": "stdout"
        }
      ]
    },
    {
      "cell_type": "code",
      "metadata": {
        "id": "Lukhavgx82bI",
        "outputId": "41605d36-9e52-4c61-a3f9-8212c5784dc9"
      },
      "source": [
        "school_bus = Bus('School Volvo', 100, 12)\n",
        "print(school_bus)\n",
        "\n"
      ],
      "execution_count": null,
      "outputs": [
        {
          "output_type": "stream",
          "text": [
            "Vehicle Name: School Volvo Speed: 100 Mileage:12\n"
          ],
          "name": "stdout"
        }
      ]
    },
    {
      "cell_type": "code",
      "metadata": {
        "id": "uJoK-BNh82bJ",
        "outputId": "3b81482b-dc7b-4ed0-ce04-753d702ea92b"
      },
      "source": [
        "print(type(red_bus) == type(school_bus))"
      ],
      "execution_count": null,
      "outputs": [
        {
          "output_type": "stream",
          "text": [
            "True\n"
          ],
          "name": "stdout"
        }
      ]
    },
    {
      "cell_type": "code",
      "metadata": {
        "id": "kvWVu_sk82bJ"
      },
      "source": [
        ""
      ],
      "execution_count": null,
      "outputs": []
    },
    {
      "cell_type": "code",
      "metadata": {
        "id": "0ZMJ5ypw82bJ"
      },
      "source": [
        ""
      ],
      "execution_count": null,
      "outputs": []
    },
    {
      "cell_type": "code",
      "metadata": {
        "id": "fyB_NItw82bK"
      },
      "source": [
        ""
      ],
      "execution_count": null,
      "outputs": []
    },
    {
      "cell_type": "code",
      "metadata": {
        "id": "kvJwLXTT82bK"
      },
      "source": [
        ""
      ],
      "execution_count": null,
      "outputs": []
    },
    {
      "cell_type": "code",
      "metadata": {
        "id": "Vt7xv5C682bK"
      },
      "source": [
        ""
      ],
      "execution_count": null,
      "outputs": []
    },
    {
      "cell_type": "code",
      "metadata": {
        "id": "ObBhOwsr82bK"
      },
      "source": [
        ""
      ],
      "execution_count": null,
      "outputs": []
    }
  ]
}