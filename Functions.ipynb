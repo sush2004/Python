{
  "nbformat": 4,
  "nbformat_minor": 0,
  "metadata": {
    "colab": {
      "name": "Functions.ipynb",
      "provenance": [],
      "authorship_tag": "ABX9TyOBPpWVUao2PR0PtKMo9zfc",
      "include_colab_link": true
    },
    "kernelspec": {
      "name": "python3",
      "display_name": "Python 3"
    }
  },
  "cells": [
    {
      "cell_type": "markdown",
      "metadata": {
        "id": "view-in-github",
        "colab_type": "text"
      },
      "source": [
        "<a href=\"https://colab.research.google.com/github/sush2004/Python/blob/main/Functions.ipynb\" target=\"_parent\"><img src=\"https://colab.research.google.com/assets/colab-badge.svg\" alt=\"Open In Colab\"/></a>"
      ]
    },
    {
      "cell_type": "markdown",
      "metadata": {
        "id": "VVlkawlOOUNm"
      },
      "source": [
        "Creating Function doing operation sum and sub"
      ]
    },
    {
      "cell_type": "code",
      "metadata": {
        "id": "GcicVvvELxfx",
        "outputId": "7067ecad-ce6d-441b-9e1c-c2eff6d66f90",
        "colab": {
          "base_uri": "https://localhost:8080/"
        }
      },
      "source": [
        "def add_sub(x,y):\n",
        "  c = x + y\n",
        "  d = x - y\n",
        "  return c,d\n",
        "\n",
        "result1, result2 = add_sub(5,4)\n",
        "print(result1, result2)"
      ],
      "execution_count": 3,
      "outputs": [
        {
          "output_type": "stream",
          "text": [
            "9 1\n"
          ],
          "name": "stdout"
        }
      ]
    },
    {
      "cell_type": "markdown",
      "metadata": {
        "id": "WGSqocF4Rp2v"
      },
      "source": [
        "Variable length function for sum operation"
      ]
    },
    {
      "cell_type": "code",
      "metadata": {
        "id": "sqV9zcuIOfKg",
        "outputId": "d24dc165-d7dc-4bf0-ce77-4e3e70ef8da7",
        "colab": {
          "base_uri": "https://localhost:8080/"
        }
      },
      "source": [
        "def sum(a, *b):   # declaring sum function with variable a and tuple b\n",
        "  c = a\n",
        "  for i in b:\n",
        "    c = c + i\n",
        "  print(c)\n",
        "\n",
        "sum(5,6,37,78)"
      ],
      "execution_count": 5,
      "outputs": [
        {
          "output_type": "stream",
          "text": [
            "126\n"
          ],
          "name": "stdout"
        }
      ]
    },
    {
      "cell_type": "code",
      "metadata": {
        "id": "I26f2f0NSk5L",
        "outputId": "af1e778e-c4ca-4720-ed52-fdba4dcc231b",
        "colab": {
          "base_uri": "https://localhost:8080/"
        }
      },
      "source": [
        "def sum(*b):\n",
        "  c = 0\n",
        "  for i in b:\n",
        "    c = c + i\n",
        "  print(c)\n",
        "\n",
        "sum(5,6,37,78)"
      ],
      "execution_count": 6,
      "outputs": [
        {
          "output_type": "stream",
          "text": [
            "126\n"
          ],
          "name": "stdout"
        }
      ]
    },
    {
      "cell_type": "markdown",
      "metadata": {
        "id": "aUaMfS5GUitB"
      },
      "source": [
        "Keyword variable length argument in Functions"
      ]
    },
    {
      "cell_type": "code",
      "metadata": {
        "id": "YhXadvE2TBT1",
        "outputId": "627b21e0-e5d6-4f89-e7dd-3c91089525de",
        "colab": {
          "base_uri": "https://localhost:8080/"
        }
      },
      "source": [
        "def person(name, **data):  # ** creates keyword variable length argument\n",
        "  print(name)\n",
        "  print(data)\n",
        "# can print in key and value pair as well\n",
        "  for i, j in data.items():\n",
        "    print(i,j) \n",
        "person('Navin', age=28, city='Mumbai', mob=12345679)"
      ],
      "execution_count": 14,
      "outputs": [
        {
          "output_type": "stream",
          "text": [
            "Navin\n",
            "{'age': 28, 'city': 'Mumbai', 'mob': 12345679}\n",
            "age 28\n",
            "city Mumbai\n",
            "mob 12345679\n"
          ],
          "name": "stdout"
        }
      ]
    },
    {
      "cell_type": "markdown",
      "metadata": {
        "id": "trB_x-oPa99P"
      },
      "source": [
        "Global and local variable in functions"
      ]
    },
    {
      "cell_type": "code",
      "metadata": {
        "id": "cdE-8Y5pa9R_",
        "outputId": "0cdf91cf-960e-4257-892d-9be7655e951c",
        "colab": {
          "base_uri": "https://localhost:8080/"
        }
      },
      "source": [
        "a = 10        # global variable\n",
        "print(id(a))\n",
        "def something():        # declaring function\n",
        "  a = 9       # declaring local variable since it is inside function\n",
        "\n",
        "  x = globals()['a']\n",
        "  print(id(x))\n",
        "  print(\"in function \", a)\n",
        "\n",
        "  globals()['a'] = 15       # globals method to change value of global variable inside local variable\n",
        "  \n",
        "\n",
        "something()"
      ],
      "execution_count": 33,
      "outputs": [
        {
          "output_type": "stream",
          "text": [
            "10914784\n",
            "10914784\n",
            "in function  9\n"
          ],
          "name": "stdout"
        }
      ]
    },
    {
      "cell_type": "markdown",
      "metadata": {
        "id": "hBWhZy8NomNy"
      },
      "source": [
        "WAP to create a function which takes multiple inputs and return multiple outputs "
      ]
    },
    {
      "cell_type": "code",
      "metadata": {
        "id": "ao-wDdOzkstj",
        "outputId": "2f8d5e81-b190-4201-bbf8-536c59539f02",
        "colab": {
          "base_uri": "https://localhost:8080/",
          "height": 363
        }
      },
      "source": [
        "\n",
        "def count(lst):\n",
        "    A = input(\"Enter values to be tested\")\n",
        "    lst = A.split()\n",
        "    print(\"Entered values are: \", lst)\n",
        "    even = 0\n",
        "    odd = 0\n",
        "    for i in lst:\n",
        "        if i%2 == 0:\n",
        "            even+=1 \n",
        "        else:\n",
        "            odd+=1\n",
        "    return even, odd\n",
        "\n",
        "even, odd = count(lst)\n",
        "\n"
      ],
      "execution_count": 62,
      "outputs": [
        {
          "output_type": "stream",
          "text": [
            "Enter values to be tested77 33 1 \n",
            "Entered values are:  ['77', '33', '1']\n"
          ],
          "name": "stdout"
        },
        {
          "output_type": "error",
          "ename": "TypeError",
          "evalue": "ignored",
          "traceback": [
            "\u001b[0;31m---------------------------------------------------------------------------\u001b[0m",
            "\u001b[0;31mTypeError\u001b[0m                                 Traceback (most recent call last)",
            "\u001b[0;32m<ipython-input-62-5ba58d935e93>\u001b[0m in \u001b[0;36m<module>\u001b[0;34m()\u001b[0m\n\u001b[1;32m     13\u001b[0m     \u001b[0;32mreturn\u001b[0m \u001b[0meven\u001b[0m\u001b[0;34m,\u001b[0m \u001b[0modd\u001b[0m\u001b[0;34m\u001b[0m\u001b[0;34m\u001b[0m\u001b[0m\n\u001b[1;32m     14\u001b[0m \u001b[0;34m\u001b[0m\u001b[0m\n\u001b[0;32m---> 15\u001b[0;31m \u001b[0meven\u001b[0m\u001b[0;34m,\u001b[0m \u001b[0modd\u001b[0m \u001b[0;34m=\u001b[0m \u001b[0mcount\u001b[0m\u001b[0;34m(\u001b[0m\u001b[0mlst\u001b[0m\u001b[0;34m)\u001b[0m\u001b[0;34m\u001b[0m\u001b[0;34m\u001b[0m\u001b[0m\n\u001b[0m\u001b[1;32m     16\u001b[0m \u001b[0;34m\u001b[0m\u001b[0m\n",
            "\u001b[0;32m<ipython-input-62-5ba58d935e93>\u001b[0m in \u001b[0;36mcount\u001b[0;34m(lst)\u001b[0m\n\u001b[1;32m      7\u001b[0m     \u001b[0modd\u001b[0m \u001b[0;34m=\u001b[0m \u001b[0;36m0\u001b[0m\u001b[0;34m\u001b[0m\u001b[0;34m\u001b[0m\u001b[0m\n\u001b[1;32m      8\u001b[0m     \u001b[0;32mfor\u001b[0m \u001b[0mi\u001b[0m \u001b[0;32min\u001b[0m \u001b[0mlst\u001b[0m\u001b[0;34m:\u001b[0m\u001b[0;34m\u001b[0m\u001b[0;34m\u001b[0m\u001b[0m\n\u001b[0;32m----> 9\u001b[0;31m         \u001b[0;32mif\u001b[0m \u001b[0mi\u001b[0m\u001b[0;34m%\u001b[0m\u001b[0;36m2\u001b[0m \u001b[0;34m==\u001b[0m \u001b[0;36m0\u001b[0m\u001b[0;34m:\u001b[0m\u001b[0;34m\u001b[0m\u001b[0;34m\u001b[0m\u001b[0m\n\u001b[0m\u001b[1;32m     10\u001b[0m             \u001b[0meven\u001b[0m\u001b[0;34m+=\u001b[0m\u001b[0;36m1\u001b[0m\u001b[0;34m\u001b[0m\u001b[0;34m\u001b[0m\u001b[0m\n\u001b[1;32m     11\u001b[0m         \u001b[0;32melse\u001b[0m\u001b[0;34m:\u001b[0m\u001b[0;34m\u001b[0m\u001b[0;34m\u001b[0m\u001b[0m\n",
            "\u001b[0;31mTypeError\u001b[0m: not all arguments converted during string formatting"
          ]
        }
      ]
    }
  ]
}