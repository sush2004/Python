{
  "nbformat": 4,
  "nbformat_minor": 0,
  "metadata": {
    "colab": {
      "name": "Functions.ipynb",
      "provenance": [],
      "authorship_tag": "ABX9TyPuFgQ3aUE9iC+2u27YapTI",
      "include_colab_link": true
    },
    "kernelspec": {
      "name": "python3",
      "display_name": "Python 3"
    }
  },
  "cells": [
    {
      "cell_type": "markdown",
      "metadata": {
        "id": "view-in-github",
        "colab_type": "text"
      },
      "source": [
        "<a href=\"https://colab.research.google.com/github/sush2004/Python/blob/main/Functions.ipynb\" target=\"_parent\"><img src=\"https://colab.research.google.com/assets/colab-badge.svg\" alt=\"Open In Colab\"/></a>"
      ]
    },
    {
      "cell_type": "markdown",
      "metadata": {
        "id": "VVlkawlOOUNm"
      },
      "source": [
        "Creating Function doing operation sum and sub"
      ]
    },
    {
      "cell_type": "code",
      "metadata": {
        "id": "GcicVvvELxfx",
        "colab": {
          "base_uri": "https://localhost:8080/"
        },
        "outputId": "7067ecad-ce6d-441b-9e1c-c2eff6d66f90"
      },
      "source": [
        "def add_sub(x,y):\n",
        "  c = x + y\n",
        "  d = x - y\n",
        "  return c,d\n",
        "\n",
        "result1, result2 = add_sub(5,4)\n",
        "print(result1, result2)"
      ],
      "execution_count": null,
      "outputs": [
        {
          "output_type": "stream",
          "text": [
            "9 1\n"
          ],
          "name": "stdout"
        }
      ]
    },
    {
      "cell_type": "markdown",
      "metadata": {
        "id": "WGSqocF4Rp2v"
      },
      "source": [
        "Variable length function for sum operation"
      ]
    },
    {
      "cell_type": "code",
      "metadata": {
        "id": "sqV9zcuIOfKg",
        "colab": {
          "base_uri": "https://localhost:8080/"
        },
        "outputId": "d24dc165-d7dc-4bf0-ce77-4e3e70ef8da7"
      },
      "source": [
        "def sum(a, *b):   # declaring sum function with variable a and tuple b\n",
        "  c = a\n",
        "  for i in b:\n",
        "    c = c + i\n",
        "  print(c)\n",
        "\n",
        "sum(5,6,37,78)"
      ],
      "execution_count": null,
      "outputs": [
        {
          "output_type": "stream",
          "text": [
            "126\n"
          ],
          "name": "stdout"
        }
      ]
    },
    {
      "cell_type": "code",
      "metadata": {
        "id": "I26f2f0NSk5L",
        "colab": {
          "base_uri": "https://localhost:8080/"
        },
        "outputId": "af1e778e-c4ca-4720-ed52-fdba4dcc231b"
      },
      "source": [
        "def sum(*b):\n",
        "  c = 0\n",
        "  for i in b:\n",
        "    c = c + i\n",
        "  print(c)\n",
        "\n",
        "sum(5,6,37,78)"
      ],
      "execution_count": null,
      "outputs": [
        {
          "output_type": "stream",
          "text": [
            "126\n"
          ],
          "name": "stdout"
        }
      ]
    },
    {
      "cell_type": "markdown",
      "metadata": {
        "id": "aUaMfS5GUitB"
      },
      "source": [
        "Keyword variable length argument in Functions"
      ]
    },
    {
      "cell_type": "code",
      "metadata": {
        "id": "YhXadvE2TBT1",
        "colab": {
          "base_uri": "https://localhost:8080/"
        },
        "outputId": "627b21e0-e5d6-4f89-e7dd-3c91089525de"
      },
      "source": [
        "def person(name, **data):  # ** creates keyword variable length argument\n",
        "  print(name)\n",
        "  print(data)\n",
        "# can print in key and value pair as well\n",
        "  for i, j in data.items():\n",
        "    print(i,j) \n",
        "person('Navin', age=28, city='Mumbai', mob=12345679)"
      ],
      "execution_count": null,
      "outputs": [
        {
          "output_type": "stream",
          "text": [
            "Navin\n",
            "{'age': 28, 'city': 'Mumbai', 'mob': 12345679}\n",
            "age 28\n",
            "city Mumbai\n",
            "mob 12345679\n"
          ],
          "name": "stdout"
        }
      ]
    },
    {
      "cell_type": "markdown",
      "metadata": {
        "id": "trB_x-oPa99P"
      },
      "source": [
        "Global and local variable in functions # ask prof"
      ]
    },
    {
      "cell_type": "code",
      "metadata": {
        "id": "cdE-8Y5pa9R_",
        "colab": {
          "base_uri": "https://localhost:8080/"
        },
        "outputId": "62c2842c-7267-4370-90a9-fb2d3e991f27"
      },
      "source": [
        "a = 10        # global variable\n",
        "print(id(a))\n",
        "\n",
        "def something():        # declaring function\n",
        "    a = 9\n",
        "  \n",
        "    x = globals()['a']\n",
        "    print(id(x))\n",
        "    print(\"in function\" ,a)      # declaring local variable since it is inside function\n",
        " \n",
        "    globals()['a'] = 15\n",
        "         # globals method to change value of global variable inside local variable\n",
        "\n",
        "something()"
      ],
      "execution_count": 15,
      "outputs": [
        {
          "output_type": "stream",
          "text": [
            "10914784\n",
            "10914784\n",
            "in function 9\n"
          ],
          "name": "stdout"
        }
      ]
    },
    {
      "cell_type": "markdown",
      "metadata": {
        "id": "hBWhZy8NomNy"
      },
      "source": [
        "WAP to create a function which takes multiple inputs and return multiple outputs "
      ]
    },
    {
      "cell_type": "code",
      "metadata": {
        "id": "ao-wDdOzkstj",
        "colab": {
          "base_uri": "https://localhost:8080/",
          "height": 246
        },
        "outputId": "a77212f8-ec4b-4a21-e5f2-6f0ca9181ca6"
      },
      "source": [
        "def count(lst):       ## ask prof\n",
        "    even = 0\n",
        "    odd = 0\n",
        "    for i in lst:\n",
        "        if i % 2 == 0:\n",
        "           even+=1 \n",
        "        else:\n",
        "           odd+=1\n",
        "    return even, odd\n",
        "A = int(input(\"Enter values to be tested\"))\n",
        "lst = A.split()\n",
        "print(\"Entered values are: \", lst)\n",
        "\n",
        "even, odd = count(lst)\n",
        "\n",
        "print(even)\n",
        "print(odd)\n",
        "\n"
      ],
      "execution_count": 22,
      "outputs": [
        {
          "output_type": "stream",
          "text": [
            "Enter values to be tested77 66 11\n"
          ],
          "name": "stdout"
        },
        {
          "output_type": "error",
          "ename": "ValueError",
          "evalue": "ignored",
          "traceback": [
            "\u001b[0;31m---------------------------------------------------------------------------\u001b[0m",
            "\u001b[0;31mValueError\u001b[0m                                Traceback (most recent call last)",
            "\u001b[0;32m<ipython-input-22-361224a91b41>\u001b[0m in \u001b[0;36m<module>\u001b[0;34m()\u001b[0m\n\u001b[1;32m      8\u001b[0m            \u001b[0modd\u001b[0m\u001b[0;34m+=\u001b[0m\u001b[0;36m1\u001b[0m\u001b[0;34m\u001b[0m\u001b[0;34m\u001b[0m\u001b[0m\n\u001b[1;32m      9\u001b[0m     \u001b[0;32mreturn\u001b[0m \u001b[0meven\u001b[0m\u001b[0;34m,\u001b[0m \u001b[0modd\u001b[0m\u001b[0;34m\u001b[0m\u001b[0;34m\u001b[0m\u001b[0m\n\u001b[0;32m---> 10\u001b[0;31m \u001b[0mA\u001b[0m \u001b[0;34m=\u001b[0m \u001b[0mint\u001b[0m\u001b[0;34m(\u001b[0m\u001b[0minput\u001b[0m\u001b[0;34m(\u001b[0m\u001b[0;34m\"Enter values to be tested\"\u001b[0m\u001b[0;34m)\u001b[0m\u001b[0;34m)\u001b[0m\u001b[0;34m\u001b[0m\u001b[0;34m\u001b[0m\u001b[0m\n\u001b[0m\u001b[1;32m     11\u001b[0m \u001b[0mlst\u001b[0m \u001b[0;34m=\u001b[0m \u001b[0mA\u001b[0m\u001b[0;34m.\u001b[0m\u001b[0msplit\u001b[0m\u001b[0;34m(\u001b[0m\u001b[0;34m)\u001b[0m\u001b[0;34m\u001b[0m\u001b[0;34m\u001b[0m\u001b[0m\n\u001b[1;32m     12\u001b[0m \u001b[0mprint\u001b[0m\u001b[0;34m(\u001b[0m\u001b[0;34m\"Entered values are: \"\u001b[0m\u001b[0;34m,\u001b[0m \u001b[0mlst\u001b[0m\u001b[0;34m)\u001b[0m\u001b[0;34m\u001b[0m\u001b[0;34m\u001b[0m\u001b[0m\n",
            "\u001b[0;31mValueError\u001b[0m: invalid literal for int() with base 10: '77 66 11'"
          ]
        }
      ]
    },
    {
      "cell_type": "markdown",
      "metadata": {
        "id": "YVWUKQVchlj1"
      },
      "source": [
        "WAP for Fibonacci Series"
      ]
    },
    {
      "cell_type": "code",
      "metadata": {
        "id": "mDz-dGa4hkLh",
        "outputId": "e03247ae-fa48-4c25-df5e-01a74ef12642",
        "colab": {
          "base_uri": "https://localhost:8080/"
        }
      },
      "source": [
        "def fib(n):\n",
        "    a = 0\n",
        "    b = 1\n",
        "\n",
        "    if n == 1:\n",
        "      print(a)\n",
        "    else:\n",
        "      print(a)\n",
        "      print(b)\n",
        "\n",
        "      for i in range(2,n):\n",
        "        c = a+b\n",
        "        a = b\n",
        "        b = c\n",
        "        print(c)\n",
        "\n",
        "fib(6)"
      ],
      "execution_count": 35,
      "outputs": [
        {
          "output_type": "stream",
          "text": [
            "0\n",
            "1\n",
            "1\n",
            "2\n",
            "3\n",
            "5\n"
          ],
          "name": "stdout"
        }
      ]
    },
    {
      "cell_type": "markdown",
      "metadata": {
        "id": "eSE34i8okYZ9"
      },
      "source": [
        "WAP for factorial of a number"
      ]
    },
    {
      "cell_type": "code",
      "metadata": {
        "id": "fEngs0kOjzkw",
        "outputId": "beb91a92-e527-4f3a-d91a-7051cfab1f12",
        "colab": {
          "base_uri": "https://localhost:8080/"
        }
      },
      "source": [
        "def fact(n):\n",
        "  f = 1\n",
        "  for i in range(1, n+1):\n",
        "      f = f * i\n",
        "  return f\n",
        "\n",
        "x = 5\n",
        "\n",
        "result = fact(x)\n",
        "print(result)\n"
      ],
      "execution_count": 37,
      "outputs": [
        {
          "output_type": "stream",
          "text": [
            "120\n"
          ],
          "name": "stdout"
        }
      ]
    },
    {
      "cell_type": "markdown",
      "metadata": {
        "id": "IoHtSGoPnAqT"
      },
      "source": [
        "WAP Factorial using recursion"
      ]
    },
    {
      "cell_type": "code",
      "metadata": {
        "id": "RGabyQXjm-zy",
        "outputId": "99424e79-57ba-469a-c34c-3c0692e1500f",
        "colab": {
          "base_uri": "https://localhost:8080/"
        }
      },
      "source": [
        "def fact(n):\n",
        "  if n == 0:\n",
        "    return 1\n",
        "  \n",
        "  return n * fact(n-1)  # recursive function\n",
        "\n",
        "result = fact(1)\n",
        "print(result)"
      ],
      "execution_count": 46,
      "outputs": [
        {
          "output_type": "stream",
          "text": [
            "1\n"
          ],
          "name": "stdout"
        }
      ]
    },
    {
      "cell_type": "markdown",
      "metadata": {
        "id": "xp6-1SmYzItd"
      },
      "source": [
        "WAP using Lambda function"
      ]
    },
    {
      "cell_type": "code",
      "metadata": {
        "id": "qp2QjOoNwh78",
        "outputId": "248a276c-ccd0-4acc-9ac6-6c8502bfc3fd",
        "colab": {
          "base_uri": "https://localhost:8080/",
          "height": 229
        }
      },
      "source": [
        "from functools import reduce\n",
        "nums = [3,2,6 ,8,4,6,2,9]\n",
        "\n",
        "evens = list(filter(lambda n : n%2==0, nums))\n",
        "print(evens)\n",
        "\n",
        "doubles = list(map(lambda n : n*2, evens))\n",
        "\n",
        "sum = reduce(lambda a,b : a+b, doubles)\n",
        "print(sum)"
      ],
      "execution_count": 74,
      "outputs": [
        {
          "output_type": "error",
          "ename": "TypeError",
          "evalue": "ignored",
          "traceback": [
            "\u001b[0;31m---------------------------------------------------------------------------\u001b[0m",
            "\u001b[0;31mTypeError\u001b[0m                                 Traceback (most recent call last)",
            "\u001b[0;32m<ipython-input-74-6ca7903056b9>\u001b[0m in \u001b[0;36m<module>\u001b[0;34m()\u001b[0m\n\u001b[1;32m      2\u001b[0m \u001b[0mnums\u001b[0m \u001b[0;34m=\u001b[0m \u001b[0;34m[\u001b[0m\u001b[0;36m3\u001b[0m\u001b[0;34m,\u001b[0m\u001b[0;36m2\u001b[0m\u001b[0;34m,\u001b[0m\u001b[0;36m6\u001b[0m\u001b[0;34m,\u001b[0m\u001b[0;36m8\u001b[0m\u001b[0;34m,\u001b[0m\u001b[0;36m4\u001b[0m\u001b[0;34m,\u001b[0m\u001b[0;36m6\u001b[0m\u001b[0;34m,\u001b[0m\u001b[0;36m2\u001b[0m\u001b[0;34m,\u001b[0m\u001b[0;36m9\u001b[0m\u001b[0;34m]\u001b[0m\u001b[0;34m\u001b[0m\u001b[0;34m\u001b[0m\u001b[0m\n\u001b[1;32m      3\u001b[0m \u001b[0;34m\u001b[0m\u001b[0m\n\u001b[0;32m----> 4\u001b[0;31m \u001b[0mevens\u001b[0m \u001b[0;34m=\u001b[0m \u001b[0mlist\u001b[0m\u001b[0;34m(\u001b[0m\u001b[0mfilter\u001b[0m\u001b[0;34m(\u001b[0m\u001b[0;32mlambda\u001b[0m \u001b[0mn\u001b[0m \u001b[0;34m:\u001b[0m \u001b[0mn\u001b[0m\u001b[0;34m%\u001b[0m\u001b[0;36m2\u001b[0m\u001b[0;34m==\u001b[0m\u001b[0;36m0\u001b[0m\u001b[0;34m,\u001b[0m \u001b[0mnums\u001b[0m\u001b[0;34m)\u001b[0m\u001b[0;34m)\u001b[0m\u001b[0;34m\u001b[0m\u001b[0;34m\u001b[0m\u001b[0m\n\u001b[0m\u001b[1;32m      5\u001b[0m \u001b[0mprint\u001b[0m\u001b[0;34m(\u001b[0m\u001b[0mevens\u001b[0m\u001b[0;34m)\u001b[0m\u001b[0;34m\u001b[0m\u001b[0;34m\u001b[0m\u001b[0m\n\u001b[1;32m      6\u001b[0m \u001b[0;34m\u001b[0m\u001b[0m\n",
            "\u001b[0;31mTypeError\u001b[0m: 'list' object is not callable"
          ]
        }
      ]
    },
    {
      "cell_type": "code",
      "metadata": {
        "id": "Lfjrr_oC1tfe",
        "outputId": "fce3eea1-fd99-4bd3-d086-1ffc27cdf3d9",
        "colab": {
          "base_uri": "https://localhost:8080/",
          "height": 229
        }
      },
      "source": [
        "from functools import reduce\n",
        "nums = [2,5,6,8,1,4,8]\n",
        "evens = list(filter(lambda n : n%2== 0,nums))\n",
        "doubles = list(map(lambda n : n*2, evens))\n",
        "sum = reduce(lambda a,b : a+b, doubles)\n",
        "print(sum)"
      ],
      "execution_count": 65,
      "outputs": [
        {
          "output_type": "error",
          "ename": "TypeError",
          "evalue": "ignored",
          "traceback": [
            "\u001b[0;31m---------------------------------------------------------------------------\u001b[0m",
            "\u001b[0;31mTypeError\u001b[0m                                 Traceback (most recent call last)",
            "\u001b[0;32m<ipython-input-65-e3ae30794ccb>\u001b[0m in \u001b[0;36m<module>\u001b[0;34m()\u001b[0m\n\u001b[1;32m      1\u001b[0m \u001b[0;32mfrom\u001b[0m \u001b[0mfunctools\u001b[0m \u001b[0;32mimport\u001b[0m \u001b[0mreduce\u001b[0m\u001b[0;34m\u001b[0m\u001b[0;34m\u001b[0m\u001b[0m\n\u001b[1;32m      2\u001b[0m \u001b[0mnums\u001b[0m \u001b[0;34m=\u001b[0m \u001b[0;34m[\u001b[0m\u001b[0;36m2\u001b[0m\u001b[0;34m,\u001b[0m\u001b[0;36m5\u001b[0m\u001b[0;34m,\u001b[0m\u001b[0;36m6\u001b[0m\u001b[0;34m,\u001b[0m\u001b[0;36m8\u001b[0m\u001b[0;34m,\u001b[0m\u001b[0;36m1\u001b[0m\u001b[0;34m,\u001b[0m\u001b[0;36m4\u001b[0m\u001b[0;34m,\u001b[0m\u001b[0;36m8\u001b[0m\u001b[0;34m]\u001b[0m\u001b[0;34m\u001b[0m\u001b[0;34m\u001b[0m\u001b[0m\n\u001b[0;32m----> 3\u001b[0;31m \u001b[0mevens\u001b[0m \u001b[0;34m=\u001b[0m \u001b[0mlist\u001b[0m\u001b[0;34m(\u001b[0m\u001b[0mfilter\u001b[0m\u001b[0;34m(\u001b[0m\u001b[0;32mlambda\u001b[0m \u001b[0mn\u001b[0m \u001b[0;34m:\u001b[0m \u001b[0mn\u001b[0m\u001b[0;34m%\u001b[0m\u001b[0;36m2\u001b[0m\u001b[0;34m==\u001b[0m \u001b[0;36m0\u001b[0m\u001b[0;34m,\u001b[0m\u001b[0mnums\u001b[0m\u001b[0;34m)\u001b[0m\u001b[0;34m)\u001b[0m\u001b[0;34m\u001b[0m\u001b[0;34m\u001b[0m\u001b[0m\n\u001b[0m\u001b[1;32m      4\u001b[0m \u001b[0mdoubles\u001b[0m \u001b[0;34m=\u001b[0m \u001b[0mlist\u001b[0m\u001b[0;34m(\u001b[0m\u001b[0mmap\u001b[0m\u001b[0;34m(\u001b[0m\u001b[0;32mlambda\u001b[0m \u001b[0mn\u001b[0m \u001b[0;34m:\u001b[0m \u001b[0mn\u001b[0m\u001b[0;34m*\u001b[0m\u001b[0;36m2\u001b[0m\u001b[0;34m,\u001b[0m \u001b[0mevens\u001b[0m\u001b[0;34m)\u001b[0m\u001b[0;34m)\u001b[0m\u001b[0;34m\u001b[0m\u001b[0;34m\u001b[0m\u001b[0m\n\u001b[1;32m      5\u001b[0m \u001b[0msum\u001b[0m \u001b[0;34m=\u001b[0m \u001b[0mreduce\u001b[0m\u001b[0;34m(\u001b[0m\u001b[0;32mlambda\u001b[0m \u001b[0ma\u001b[0m\u001b[0;34m,\u001b[0m\u001b[0mb\u001b[0m \u001b[0;34m:\u001b[0m \u001b[0ma\u001b[0m\u001b[0;34m+\u001b[0m\u001b[0mb\u001b[0m\u001b[0;34m,\u001b[0m \u001b[0mdoubles\u001b[0m\u001b[0;34m)\u001b[0m\u001b[0;34m\u001b[0m\u001b[0;34m\u001b[0m\u001b[0m\n",
            "\u001b[0;31mTypeError\u001b[0m: 'list' object is not callable"
          ]
        }
      ]
    }
  ]
}