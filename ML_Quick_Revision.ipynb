{
  "nbformat": 4,
  "nbformat_minor": 0,
  "metadata": {
    "colab": {
      "name": "ML_Quick_Revision.ipynb",
      "provenance": [],
      "authorship_tag": "ABX9TyMQ4m6H27pgK1OljNI98Qik",
      "include_colab_link": true
    },
    "kernelspec": {
      "name": "python3",
      "display_name": "Python 3"
    }
  },
  "cells": [
    {
      "cell_type": "markdown",
      "metadata": {
        "id": "view-in-github",
        "colab_type": "text"
      },
      "source": [
        "<a href=\"https://colab.research.google.com/github/sush2004/Python/blob/main/ML_Quick_Revision.ipynb\" target=\"_parent\"><img src=\"https://colab.research.google.com/assets/colab-badge.svg\" alt=\"Open In Colab\"/></a>"
      ]
    },
    {
      "cell_type": "code",
      "metadata": {
        "id": "9wjHkbzdBJCU"
      },
      "source": [
        "#data structure\r\n",
        "A=[\"3\",\"4\",\"Abhi\"]"
      ],
      "execution_count": null,
      "outputs": []
    },
    {
      "cell_type": "markdown",
      "metadata": {
        "id": "ezQ3GSZlg4FH"
      },
      "source": [
        "Phonebook search contact"
      ]
    },
    {
      "cell_type": "code",
      "metadata": {
        "colab": {
          "base_uri": "https://localhost:8080/"
        },
        "id": "5ynGFlYvDupQ",
        "outputId": "3c1415a9-bd00-4df8-a7a8-a4e8bbe497c6"
      },
      "source": [
        "book={\"sushant\":'123',\"ram\":50000}\r\n",
        "print(book)\r\n",
        "def search_contact():\r\n",
        "  print(\"Search contact\")\r\n",
        "  phone = input(\"name: \")\r\n",
        "  if phone in book:\r\n",
        "    print(\"Number linked to the person is: {}\\n\".format(book[phone]))\r\n",
        "  else:\r\n",
        "    print(phone, \"was not found\\n\")\r\n",
        "search_contact()\r\n"
      ],
      "execution_count": null,
      "outputs": [
        {
          "output_type": "stream",
          "text": [
            "{'sushant': '123', 'ram': 50000}\n",
            "Search contact\n",
            "name: ram\n",
            "Number linked to the person is: 50000\n",
            "\n"
          ],
          "name": "stdout"
        }
      ]
    },
    {
      "cell_type": "markdown",
      "metadata": {
        "id": "P2wiWP_dKIeq"
      },
      "source": [
        "list 10 builtin functions and give examples of it"
      ]
    },
    {
      "cell_type": "code",
      "metadata": {
        "id": "m4-Y0G_PJ353",
        "colab": {
          "base_uri": "https://localhost:8080/"
        },
        "outputId": "84fb9cc9-daa7-420e-ef2e-2854e056f889"
      },
      "source": [
        "list_a=[1,2,4,5,6,112,55]\r\n",
        "list_b=[21,20,19]\r\n",
        "print(len(list_a))      #len()\r\n",
        "#print(list.pop(0))    #pop()\r\n",
        "list_a.append(10)     #append()\r\n",
        "print(list_a)\r\n",
        "print(list_a+list_b)\r\n",
        "list_a.remove(4)      #remove()\r\n",
        "print(list_a)\r\n",
        "print(set(list_b))    #set() has elements in ascending order\r\n",
        "type(list_a)          #type() \r\n",
        "print(min(list_a))    #min()\r\n",
        "print(max(list_a))    #max()\r\n",
        "\r\n"
      ],
      "execution_count": null,
      "outputs": [
        {
          "output_type": "stream",
          "text": [
            "7\n",
            "[1, 2, 4, 5, 6, 112, 55, 10]\n",
            "[1, 2, 4, 5, 6, 112, 55, 10, 21, 20, 19]\n",
            "[1, 2, 5, 6, 112, 55, 10]\n",
            "{19, 20, 21}\n",
            "1\n",
            "112\n"
          ],
          "name": "stdout"
        }
      ]
    },
    {
      "cell_type": "code",
      "metadata": {
        "colab": {
          "base_uri": "https://localhost:8080/"
        },
        "id": "dcDNKjVXJeLW",
        "outputId": "a8b21b4c-bc8c-47cb-dcfd-b037b3328e22"
      },
      "source": [
        "(x = abs(-100)      # absolute function\r\n",
        "print(x)"
      ],
      "execution_count": null,
      "outputs": [
        {
          "output_type": "stream",
          "text": [
            "100\n"
          ],
          "name": "stdout"
        }
      ]
    },
    {
      "cell_type": "code",
      "metadata": {
        "id": "uR0KAclRHR74"
      },
      "source": [
        "import pandas as pd\r\n",
        "from matplotlib import pyplot as plt\r\n",
        "\r\n",
        "df = pd.DataFrame({'x': range(-10,11)})\r\n",
        "df['y']=(3*df['x']-4)/2\r\n",
        "print(df)\r\n",
        "\r\n",
        "plt.plot(df.x, df.y, color = \"blue\", marker = \"o\")\r\n",
        "plt.xlabel('x')\r\n",
        "plt.ylabel('y')\r\n",
        "plt.grid()\r\n",
        "plt.show()\r\n"
      ],
      "execution_count": null,
      "outputs": []
    }
  ]
}