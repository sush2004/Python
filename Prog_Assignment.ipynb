{
  "nbformat": 4,
  "nbformat_minor": 0,
  "metadata": {
    "colab": {
      "name": "Untitled",
      "provenance": [],
      "collapsed_sections": [],
      "authorship_tag": "ABX9TyMJKRs5M8dJYgHLWWmMS0WA",
      "include_colab_link": true
    },
    "kernelspec": {
      "name": "python3",
      "display_name": "Python 3"
    }
  },
  "cells": [
    {
      "cell_type": "markdown",
      "metadata": {
        "id": "view-in-github",
        "colab_type": "text"
      },
      "source": [
        "<a href=\"https://colab.research.google.com/github/sush2004/Python/blob/main/Prog_Assignment.ipynb\" target=\"_parent\"><img src=\"https://colab.research.google.com/assets/colab-badge.svg\" alt=\"Open In Colab\"/></a>"
      ]
    },
    {
      "cell_type": "markdown",
      "metadata": {
        "id": "uPMnon1Ztubr"
      },
      "source": [
        "# Payslip"
      ]
    },
    {
      "cell_type": "code",
      "metadata": {
        "id": "0mM_pfukcw8-",
        "colab": {
          "base_uri": "https://localhost:8080/"
        },
        "outputId": "0a95696f-b3bf-4117-a8c0-64973ac792ca"
      },
      "source": [
        "def Payslip():\n",
        "  e_name = input(\"Enter employee name\")\n",
        "  e_num = input(\"Enter employee number\")\n",
        "  w_end = input(\"Enter week ending date\")  #date format look for\n",
        "  w_hrs = float(input(\"Enter number of hours worked\")) #No of working hours\n",
        "  h_rate = float(input(\"Enter rate per hour\"))           #hourly rate\n",
        "  o_rate = float(input(\"Enter overtime rate\")) \n",
        "  tax = float(input(\"Enter standard tax rate\"))\n",
        "  o_tax = float(input(\"Enter overtime tax rate\"))\n",
        "\n",
        "  print(\"{:40} PAYSLIP\".format(' '))\n",
        "  print(\"WEEK ENDING\", w_end)\n",
        "  print(\"Employee:\", e_name)\n",
        "  print(\"Empoyee Number:\", e_num)\n",
        "  print(\"{:30} Earnings \".format(' '),\"{:12} Deductions\".format(' '))\n",
        "  print(\"{:30} Hours \".format(' '), \"{:2} Rate\".format(' '), \"{:2} Total\".format(' '))\n",
        "    \n",
        "  \n",
        "  if  w_hrs <= 37.50:\n",
        "        tot = No_of_wh * h_rate #total pay calculation\n",
        "        t_tax = tot * (tax/100)    # tax on total income\n",
        "        t_ded = sum([t_tax])       # total deduction\n",
        "        net = tot - t_ded          # net pay calculation  \n",
        "\n",
        "        print(\"Hours (normal) \".format(' '),\"{:14} 37.5 \".format(' '),\"{:8}\".format(h_rate), \"{:8} \".format(tot))\n",
        "        print(\"\\n{0:20} Total Pay: {1:30}\".format(' ',tot))\n",
        "        print(\"{0:20} Total Deductions: {1:23}\".format(' ',t_ded))\n",
        "        print(\"{0:20} Net Pay: {1:32}\".format(' ', net))\n",
        "  else:\n",
        "        o_hrs = w_hrs - 37.50   #overtime hours calculation\n",
        "        w_pay = 37.5 * h_rate   # normal weekly pay\n",
        "        o_pay = o_hrs * (o_rate) #overtime pay calculation\n",
        "        tot = round(sum([w_pay,o_pay]),2) \n",
        "        w_pay_tax = round(w_pay*(tax/100),2) # tax on normal shift hours\n",
        "        o_pay_tax = round(o_pay*(o_tax/100),2) #tax on overtime shift hours\n",
        "        t_ded = round(sum([w_pay_tax,o_pay_tax]),2)\n",
        "        net = round(tot - t_ded,2)  #net pay calculation\n",
        "  \n",
        "        print(\"Hours (normal) {0:10} {1:9} {2:9} Tax @{3:3}% {4:3} \".format(37.50, h_rate,w_pay,tax,w_pay_tax))\n",
        "        print(\"Hours (overtime) {0:8} {1:9} {2:9} Tax @{3:3}% {4:3} \".format(o_hrs,o_rate,o_pay,o_tax,o_pay_tax))\n",
        "        print(\"\\n{0:20} Total pay: {1:30} \".format(' ',tot))\n",
        "        print(\"{0:20} Total deductions: {1:23}\".format(' ',t_ded))\n",
        "        print(\"{0:20} Net pay: {1:32}\".format(' ',net))\n",
        "  \n",
        "\n",
        "Payslip()"
      ],
      "execution_count": null,
      "outputs": [
        {
          "output_type": "stream",
          "text": [
            "Enter employee namesushant kumar rai\n",
            "Enter employee number455ddddd\n",
            "Enter week ending date20/15/2055\n",
            "Enter number of hours worked42.50\n",
            "Enter rate per hour10.50\n",
            "Enter overtime rate15.75\n",
            "Enter standard tax rate20\n",
            "Enter overtime tax rate50\n",
            "                                         PAYSLIP\n",
            "WEEK ENDING 20/15/2055\n",
            "Employee: sushant kumar rai\n",
            "Empoyee Number: 455ddddd\n",
            "                               Earnings                  Deductions\n",
            "                               Hours     Rate    Total\n",
            "Hours (normal)                 37.50     10.5    393.75 \n",
            "Hours (overtime)               5.0      15.75     78.75 \n"
          ],
          "name": "stdout"
        }
      ]
    },
    {
      "cell_type": "code",
      "metadata": {
        "colab": {
          "base_uri": "https://localhost:8080/"
        },
        "id": "Xr1fqmUN7o2M",
        "outputId": "54ef2c03-85d6-4aeb-8098-21933858ea25"
      },
      "source": [
        "print(\"{:20} PAYSLIP\".format(' '))"
      ],
      "execution_count": null,
      "outputs": [
        {
          "output_type": "stream",
          "text": [
            "                     PAYSLIP\n"
          ],
          "name": "stdout"
        }
      ]
    },
    {
      "cell_type": "markdown",
      "metadata": {
        "id": "Wz1k_iSegHUy"
      },
      "source": [
        "# Q2. Split and print DomainName\\Username"
      ]
    },
    {
      "cell_type": "code",
      "metadata": {
        "colab": {
          "base_uri": "https://localhost:8080/"
        },
        "id": "3TcreENL4QDt",
        "outputId": "21776214-bb27-4853-830c-cc4e614d3bf6"
      },
      "source": [
        "print(\"##########################\\nWELCOME TO THE DBS CONSOLE\\n##########################\")\n",
        "text = input(\"Please enter your username:\")\n",
        "print(\"Domain: \", text.split(\"\\\\\")[0])\n",
        "print(\"Username: \", text.split(\"\\\\\")[1])"
      ],
      "execution_count": null,
      "outputs": [
        {
          "output_type": "stream",
          "text": [
            "##########################\n",
            "WELCOME TO THE DBS CONSOLE\n",
            "##########################\n",
            "Please enter your username:DBS\\7451222\n",
            "Domain:  DBS\n",
            "Username:  7451222\n"
          ],
          "name": "stdout"
        }
      ]
    },
    {
      "cell_type": "markdown",
      "metadata": {
        "id": "Xx3qVTBNj0KL"
      },
      "source": [
        "WAP that stores the integers, counts the frequency of each integer and displays the frequency"
      ]
    },
    {
      "cell_type": "code",
      "metadata": {
        "id": "_gnwNW1Ecd6n",
        "colab": {
          "base_uri": "https://localhost:8080/"
        },
        "outputId": "9b8d4594-dc91-451d-ddf4-33d1c27323f3"
      },
      "source": [
        "def frequency():\n",
        "  print(\"###############################\\n Welcome to DBS Console \\n###############################\")\n",
        "  #validate the input \n",
        "  while True:\n",
        "    element = input(\"Input the number of elements to be stored in the list :\")\n",
        "    try: \n",
        "      element = int(element)\n",
        "    except:\n",
        "      print(\"please enter number/integer value.\\n\")\n",
        "      continue\n",
        "    break\n",
        "\n",
        "  print(\"Input {} elements in the list :\".format(element))\n",
        "  num_list = []\n",
        "\n",
        "  for i in range(element):\n",
        "    num = map(int, input(\"element - {} : \".format(i)).split())\n",
        "    for x in num:\n",
        "      num_list.append(x)\n",
        "  print(\"\\nThe frequency of all elements of the list: \")\n",
        "\n",
        "  for count in set(num_list):\n",
        "    print(count, 'occurs', num_list.count(count), 'times')\n",
        "\n",
        "frequency()"
      ],
      "execution_count": null,
      "outputs": [
        {
          "output_type": "stream",
          "text": [
            "###############################\n",
            " Welcome to DBS Console \n",
            "###############################\n"
          ],
          "name": "stdout"
        }
      ]
    },
    {
      "cell_type": "markdown",
      "metadata": {
        "id": "b4pr3gplfcjS"
      },
      "source": [
        "WAP for Phonebook"
      ]
    },
    {
      "cell_type": "code",
      "metadata": {
        "id": "fSjTqsMgchY9"
      },
      "source": [
        "def print_menu():\n",
        "    print('1. Add a Phone number')\n",
        "    print('2. Delete a Phone Number')\n",
        "    print('3. Update a Phone Number')\n",
        "    print('4. Lookup a Phone Number')\n",
        "    print('5. Quit')\n",
        "    print()\n",
        "\n",
        "numbers = {}\n",
        "menu_choice = 0\n",
        "print_menu()\n",
        "while menu_choice != 5:\n",
        "    menu_choice = int(input(\"Type in a number (1-5): \"))\n",
        "    if menu_choice == 1:\n",
        "       print(\"Add Name and Number\")\n",
        "       name = input(\"Name: \")\n",
        "       if name in numbers:\n",
        "         print(\"The contact already exists\", numbers[name])\n",
        "       else:\n",
        "         phone = int(input(\"Number: \"))   #phone number in int data type\n",
        "         numbers[name] = phone\n",
        "         print(\"The contact has been added successfully\")\n",
        "         \n",
        "    elif menu_choice == 2:\n",
        "        print(\"Delete contact\")\n",
        "        name = input(\"Name: \")\n",
        "        if name in numbers:\n",
        "            del numbers[name]\n",
        "            print(\"The contact has been deleted successfully\")\n",
        "        else:\n",
        "            print(name, \"was not found\")\n",
        "    elif menu_choice == 3:\n",
        "      print(\"Update contact\")\n",
        "      name = input(\"Name: \" )\n",
        "      if name in numbers:\n",
        "        confirm = input(\"What do you want to update? Name/Number: \")\n",
        "        if confirm.capitalize() == 'Name':\n",
        "          name = input(\"Enter new name for the contact\")\n",
        "          numbers.update({name:phone})\n",
        "        else:\n",
        "          phone = int(input(\"Enter new phone number for the contact\"))\n",
        "          numbers.update({name:phone})\n",
        "        print(\"Contact has been updated successfully\")\n",
        "      else:\n",
        "        print(name, \"was not found\")\n",
        "\n",
        "    elif menu_choice == 4:\n",
        "        print(\"Lookup Number\")\n",
        "        name = input(\"Name: \") \n",
        "        if name in numbers:\n",
        "            print(\"The number is\", numbers[name])\n",
        "        else:\n",
        "            print(name, \"was not found\")\n",
        "    elif menu_choice != 5:\n",
        "        print_menu()"
      ],
      "execution_count": null,
      "outputs": []
    }
  ]
}