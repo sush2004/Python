{
  "nbformat": 4,
  "nbformat_minor": 0,
  "metadata": {
    "colab": {
      "name": "Untitled",
      "provenance": [],
      "collapsed_sections": [],
      "authorship_tag": "ABX9TyNYpsvqcTb6otOXziZQXw9b",
      "include_colab_link": true
    },
    "kernelspec": {
      "name": "python3",
      "display_name": "Python 3"
    }
  },
  "cells": [
    {
      "cell_type": "markdown",
      "metadata": {
        "id": "view-in-github",
        "colab_type": "text"
      },
      "source": [
        "<a href=\"https://colab.research.google.com/github/sush2004/Python/blob/main/Prog_Assignment.ipynb\" target=\"_parent\"><img src=\"https://colab.research.google.com/assets/colab-badge.svg\" alt=\"Open In Colab\"/></a>"
      ]
    },
    {
      "cell_type": "code",
      "metadata": {
        "id": "0mM_pfukcw8-",
        "colab": {
          "base_uri": "https://localhost:8080/"
        },
        "outputId": "977808eb-ea70-4c62-d973-ae515a919515"
      },
      "source": [
        "def Payslip():\n",
        "  emp_name = input(\"Enter employee name\")\n",
        "  emp_num = input(\"Enter employee number\")\n",
        "  week_end = input(\"Enter week ending date\")\n",
        "  No_of_hours_worked = float(input(\"Enter number of hours worked\"))\n",
        "  hourly_rate = float(input(\"Enter rate per hour\"))\n",
        "  standard_tax_rate = float(input(\"Enter standard tax rate\"))\n",
        "  overtime_tax_rate = float(input(\"Enter overtime tax rate\"))\n",
        "  if    \n",
        "\n",
        "  print(\"{:40} PAYSLIP\".format(' '))\n",
        "  print(\"WEEK ENDING\", week_end)\n",
        "  print(\"Employee:\", emp_name)\n",
        "  print(\"Empoyee Number:\", emp_num)\n",
        "  print(\"{:30} Earnings \".format(' '),\"{:15} Deductions\".format(' '))\n",
        "  print(\"{:30} Hours \".format(' '), \"{:2} Rate\".format(' '), \"{:2} Total\".format(' '))  \n",
        "Payslip()"
      ],
      "execution_count": 42,
      "outputs": [
        {
          "output_type": "stream",
          "text": [
            "Enter employee namesushant kumar rai\n",
            "Enter employee number234444A\n",
            "Enter week ending date20/15/2015\n",
            "Enter number of hours worked34.2\n",
            "                                         PAYSLIP\n",
            "WEEK ENDING 20/15/2015\n",
            "Employee: sushant kumar rai\n",
            "Empoyee Number: 234444A\n",
            "                               Earnings                  Deductions\n",
            "                               Hours     Rate    Total\n"
          ],
          "name": "stdout"
        }
      ]
    },
    {
      "cell_type": "code",
      "metadata": {
        "colab": {
          "base_uri": "https://localhost:8080/"
        },
        "id": "Xr1fqmUN7o2M",
        "outputId": "54ef2c03-85d6-4aeb-8098-21933858ea25"
      },
      "source": [
        "print(\"{:20} PAYSLIP\".format(' '))"
      ],
      "execution_count": 13,
      "outputs": [
        {
          "output_type": "stream",
          "text": [
            "                     PAYSLIP\n"
          ],
          "name": "stdout"
        }
      ]
    },
    {
      "cell_type": "code",
      "metadata": {
        "colab": {
          "base_uri": "https://localhost:8080/"
        },
        "id": "3TcreENL4QDt",
        "outputId": "e4da6417-b0cd-445c-c0bd-93b709180800"
      },
      "source": [
        "print(\"{:30} Earnings \".format(' '),\"{:20} Deductions\".format(' '))\n",
        "print(\"{:30} Hours \".format(' '), \"{:2} Rate\".format(' '), \"{:2} Total\".format(' '))"
      ],
      "execution_count": 32,
      "outputs": [
        {
          "output_type": "stream",
          "text": [
            "                               Earnings                       Deductions\n",
            "                               Hours     Rate    Total\n"
          ],
          "name": "stdout"
        }
      ]
    }
  ]
}