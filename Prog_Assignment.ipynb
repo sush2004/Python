{
  "nbformat": 4,
  "nbformat_minor": 0,
  "metadata": {
    "colab": {
      "name": "Untitled",
      "provenance": [],
      "collapsed_sections": [],
      "authorship_tag": "ABX9TyMVtvJMonl2oUe65daOAcnS",
      "include_colab_link": true
    },
    "kernelspec": {
      "name": "python3",
      "display_name": "Python 3"
    }
  },
  "cells": [
    {
      "cell_type": "markdown",
      "metadata": {
        "id": "view-in-github",
        "colab_type": "text"
      },
      "source": [
        "<a href=\"https://colab.research.google.com/github/sush2004/Python/blob/main/Prog_Assignment.ipynb\" target=\"_parent\"><img src=\"https://colab.research.google.com/assets/colab-badge.svg\" alt=\"Open In Colab\"/></a>"
      ]
    },
    {
      "cell_type": "code",
      "metadata": {
        "id": "0mM_pfukcw8-",
        "colab": {
          "base_uri": "https://localhost:8080/"
        },
        "outputId": "63139adf-b3f5-4931-b92b-349c512425aa"
      },
      "source": [
        "def Payslip():\n",
        "  emp_name = input(\"Enter employee name\")\n",
        "  emp_num = input(\"Enter employee number\")\n",
        "  week_end = input(\"Enter week ending date\")\n",
        "\n",
        "  print(\"Employee : \", emp_name)\n",
        "  print(\"Empoyee Number : \", emp_num)\n",
        "  print(\"Week ENDING\", week_end)\n",
        "Payslip()"
      ],
      "execution_count": null,
      "outputs": [
        {
          "output_type": "stream",
          "text": [
            "Enter employee namesushant\n",
            "Enter employee number25\n",
            "Employee name is:  sushant\n",
            "Empoyee number is:  25\n"
          ],
          "name": "stdout"
        }
      ]
    }
  ]
}