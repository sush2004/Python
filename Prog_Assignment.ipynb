{
  "nbformat": 4,
  "nbformat_minor": 0,
  "metadata": {
    "colab": {
      "name": "Untitled",
      "provenance": [],
      "collapsed_sections": [],
      "authorship_tag": "ABX9TyOizwkYTa5AKBz8Iiot4n+E",
      "include_colab_link": true
    },
    "kernelspec": {
      "name": "python3",
      "display_name": "Python 3"
    }
  },
  "cells": [
    {
      "cell_type": "markdown",
      "metadata": {
        "id": "view-in-github",
        "colab_type": "text"
      },
      "source": [
        "<a href=\"https://colab.research.google.com/github/sush2004/Python/blob/main/Prog_Assignment.ipynb\" target=\"_parent\"><img src=\"https://colab.research.google.com/assets/colab-badge.svg\" alt=\"Open In Colab\"/></a>"
      ]
    },
    {
      "cell_type": "code",
      "metadata": {
        "id": "0mM_pfukcw8-",
        "colab": {
          "base_uri": "https://localhost:8080/"
        },
        "outputId": "0a95696f-b3bf-4117-a8c0-64973ac792ca"
      },
      "source": [
        "def Payslip():\n",
        "  emp_name = input(\"Enter employee name\")\n",
        "  emp_num = input(\"Enter employee number\")\n",
        "  week_end = input(\"Enter week ending date\")\n",
        "  No_of_hours_worked = float(input(\"Enter number of hours worked\"))\n",
        "  hourly_rate = float(input(\"Enter rate per hour\"))\n",
        "  overtime_rate = float(input(\"Enter overtime rate\"))\n",
        "  standard_tax_rate = float(input(\"Enter standard tax rate\"))\n",
        "  overtime_tax_rate = float(input(\"Enter overtime tax rate\"))\n",
        "\n",
        "  print(\"{:40} PAYSLIP\".format(' '))\n",
        "  print(\"WEEK ENDING\", week_end)\n",
        "  print(\"Employee:\", emp_name)\n",
        "  print(\"Empoyee Number:\", emp_num)\n",
        "  print(\"{:30} Earnings \".format(' '),\"{:15} Deductions\".format(' '))\n",
        "  print(\"{:30} Hours \".format(' '), \"{:2} Rate\".format(' '), \"{:2} Total\".format(' '))  \n",
        "  \n",
        "\n",
        "  if No_of_hours_worked == 37.50:\n",
        "        total = No_of_hours_worked * hourly_rate\n",
        "        print(\"Hours (normal) \".format(' '),\"{:14} 37.5 \".format(' '),\"{:8}\".format(hourly_rate), \"{:8} \".format(total))\n",
        "        \n",
        "        \n",
        "  else:\n",
        "        overtime_hours = No_of_hours_worked - 37.50\n",
        "        basic_weekly_sal = (37.5 * hourly_rate)\n",
        "        overtime_sal = (overtime_hours * overtime_rate)\n",
        "        print(\"Hours (normal) \".format(' '),\"{:14} 37.50 \".format(' '),\"{:7}\".format(hourly_rate), \"{:9} \".format(basic_weekly_sal))\n",
        "        print(\"Hours (overtime) \".format(' '),\"{:16} \".format(overtime_hours),\"{:9} \".format(overtime_rate), \"{:8} \".format(overtime_sal))\n",
        "        \n",
        "  \n",
        "\n",
        "Payslip()"
      ],
      "execution_count": 81,
      "outputs": [
        {
          "output_type": "stream",
          "text": [
            "Enter employee namesushant kumar rai\n",
            "Enter employee number455ddddd\n",
            "Enter week ending date20/15/2055\n",
            "Enter number of hours worked42.50\n",
            "Enter rate per hour10.50\n",
            "Enter overtime rate15.75\n",
            "Enter standard tax rate20\n",
            "Enter overtime tax rate50\n",
            "                                         PAYSLIP\n",
            "WEEK ENDING 20/15/2055\n",
            "Employee: sushant kumar rai\n",
            "Empoyee Number: 455ddddd\n",
            "                               Earnings                  Deductions\n",
            "                               Hours     Rate    Total\n",
            "Hours (normal)                 37.50     10.5    393.75 \n",
            "Hours (overtime)               5.0      15.75     78.75 \n"
          ],
          "name": "stdout"
        }
      ]
    },
    {
      "cell_type": "code",
      "metadata": {
        "colab": {
          "base_uri": "https://localhost:8080/"
        },
        "id": "Xr1fqmUN7o2M",
        "outputId": "54ef2c03-85d6-4aeb-8098-21933858ea25"
      },
      "source": [
        "print(\"{:20} PAYSLIP\".format(' '))"
      ],
      "execution_count": 13,
      "outputs": [
        {
          "output_type": "stream",
          "text": [
            "                     PAYSLIP\n"
          ],
          "name": "stdout"
        }
      ]
    },
    {
      "cell_type": "code",
      "metadata": {
        "colab": {
          "base_uri": "https://localhost:8080/"
        },
        "id": "3TcreENL4QDt",
        "outputId": "e4da6417-b0cd-445c-c0bd-93b709180800"
      },
      "source": [
        "print(\"{:30} Earnings \".format(' '),\"{:20} Deductions\".format(' '))\n",
        "print(\"{:30} Hours \".format(' '), \"{:2} Rate\".format(' '), \"{:2} Total\".format(' '))"
      ],
      "execution_count": 32,
      "outputs": [
        {
          "output_type": "stream",
          "text": [
            "                               Earnings                       Deductions\n",
            "                               Hours     Rate    Total\n"
          ],
          "name": "stdout"
        }
      ]
    }
  ]
}