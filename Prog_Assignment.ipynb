{
  "nbformat": 4,
  "nbformat_minor": 0,
  "metadata": {
    "colab": {
      "name": "Untitled",
      "provenance": [],
      "collapsed_sections": [],
      "authorship_tag": "ABX9TyNwbF7QPf4/Gg5aGno3FV09",
      "include_colab_link": true
    },
    "kernelspec": {
      "name": "python3",
      "display_name": "Python 3"
    }
  },
  "cells": [
    {
      "cell_type": "markdown",
      "metadata": {
        "id": "view-in-github",
        "colab_type": "text"
      },
      "source": [
        "<a href=\"https://colab.research.google.com/github/sush2004/Python/blob/main/Prog_Assignment.ipynb\" target=\"_parent\"><img src=\"https://colab.research.google.com/assets/colab-badge.svg\" alt=\"Open In Colab\"/></a>"
      ]
    },
    {
      "cell_type": "markdown",
      "metadata": {
        "id": "uPMnon1Ztubr"
      },
      "source": [
        "# Payslip"
      ]
    },
    {
      "cell_type": "code",
      "metadata": {
        "id": "0mM_pfukcw8-",
        "colab": {
          "base_uri": "https://localhost:8080/"
        },
        "outputId": "0a95696f-b3bf-4117-a8c0-64973ac792ca"
      },
      "source": [
        "def Payslip():\n",
        "  emp_name = input(\"Enter employee name\")\n",
        "  emp_num = input(\"Enter employee number\")\n",
        "  week_end = input(\"Enter week ending date\")\n",
        "  No_of_hours_worked = float(input(\"Enter number of hours worked\"))\n",
        "  hourly_rate = float(input(\"Enter rate per hour\"))\n",
        "  overtime_rate = float(input(\"Enter overtime rate\"))\n",
        "  standard_tax_rate = float(input(\"Enter standard tax rate\"))\n",
        "  overtime_tax_rate = float(input(\"Enter overtime tax rate\"))\n",
        "\n",
        "  print(\"{:40} PAYSLIP\".format(' '))\n",
        "  print(\"WEEK ENDING\", week_end)\n",
        "  print(\"Employee:\", emp_name)\n",
        "  print(\"Empoyee Number:\", emp_num)\n",
        "  print(\"{:30} Earnings \".format(' '),\"{:15} Deductions\".format(' '))\n",
        "  print(\"{:30} Hours \".format(' '), \"{:2} Rate\".format(' '), \"{:2} Total\".format(' '))\n",
        "    \n",
        "  \n",
        "\n",
        "  if  No_of_hours_worked <= 37.50:\n",
        "        total = No_of_hours_worked * hourly_rate\n",
        "        print(\"Hours (normal) \".format(' '),\"{:14} 37.5 \".format(' '),\"{:8}\".format(hourly_rate), \"{:8} \".format(total))\n",
        "        \n",
        "        \n",
        "  else:\n",
        "        overtime_hours = No_of_hours_worked - 37.50\n",
        "        basic_weekly_sal = 37.5 * hourly_rate\n",
        "  \n",
        "        ded = basic_weekly_sal * (standard_tax_rate/100)\n",
        "        overtime_sal = overtime_hours * overtime_rate\n",
        "        overtime_ded = overtime_sal * (overtime_tax_rate/100)\n",
        "        print(\"Hours (normal) \".format(' '),\"{:14} 37.5 \".format(' '),\"{:7}\".format(hourly_rate), \"{:9} \".format(basic_weekly_sal), \"{} Tax @\".format(' '),\"{}\".format(standard_tax_rate),\"%\",\"{}\".format(ded))\n",
        "        print(\"Hours (overtime) \".format(' '),\"{:16} \".format(overtime_hours),\"{:9} \".format(overtime_rate), \"{:7}\".format(overtime_sal), \"{} Tax @\".format(' '),\"{}\".format(overtime_tax_rate),\"%\", \"{}\".format(overtime_ded))\n",
        "        \n",
        "  \n",
        "\n",
        "Payslip()"
      ],
      "execution_count": null,
      "outputs": [
        {
          "output_type": "stream",
          "text": [
            "Enter employee namesushant kumar rai\n",
            "Enter employee number455ddddd\n",
            "Enter week ending date20/15/2055\n",
            "Enter number of hours worked42.50\n",
            "Enter rate per hour10.50\n",
            "Enter overtime rate15.75\n",
            "Enter standard tax rate20\n",
            "Enter overtime tax rate50\n",
            "                                         PAYSLIP\n",
            "WEEK ENDING 20/15/2055\n",
            "Employee: sushant kumar rai\n",
            "Empoyee Number: 455ddddd\n",
            "                               Earnings                  Deductions\n",
            "                               Hours     Rate    Total\n",
            "Hours (normal)                 37.50     10.5    393.75 \n",
            "Hours (overtime)               5.0      15.75     78.75 \n"
          ],
          "name": "stdout"
        }
      ]
    },
    {
      "cell_type": "code",
      "metadata": {
        "colab": {
          "base_uri": "https://localhost:8080/"
        },
        "id": "Xr1fqmUN7o2M",
        "outputId": "54ef2c03-85d6-4aeb-8098-21933858ea25"
      },
      "source": [
        "print(\"{:20} PAYSLIP\".format(' '))"
      ],
      "execution_count": null,
      "outputs": [
        {
          "output_type": "stream",
          "text": [
            "                     PAYSLIP\n"
          ],
          "name": "stdout"
        }
      ]
    },
    {
      "cell_type": "markdown",
      "metadata": {
        "id": "Wz1k_iSegHUy"
      },
      "source": [
        "# Q2. Split and print DomainName\\Username"
      ]
    },
    {
      "cell_type": "code",
      "metadata": {
        "colab": {
          "base_uri": "https://localhost:8080/"
        },
        "id": "3TcreENL4QDt",
        "outputId": "21776214-bb27-4853-830c-cc4e614d3bf6"
      },
      "source": [
        "print(\"##########################\\nWELCOME TO THE DBS CONSOLE\\n##########################\")\n",
        "text = input(\"Please enter your username:\")\n",
        "print(\"Domain: \", text.split(\"\\\\\")[0])\n",
        "print(\"Username: \", text.split(\"\\\\\")[1])"
      ],
      "execution_count": null,
      "outputs": [
        {
          "output_type": "stream",
          "text": [
            "##########################\n",
            "WELCOME TO THE DBS CONSOLE\n",
            "##########################\n",
            "Please enter your username:DBS\\7451222\n",
            "Domain:  DBS\n",
            "Username:  7451222\n"
          ],
          "name": "stdout"
        }
      ]
    },
    {
      "cell_type": "code",
      "metadata": {
        "id": "_gnwNW1Ecd6n"
      },
      "source": [
        "print(\"##########################\\nWELCOME TO THE DBS CONSOLE\\n##########################\")\n",
        "input_list = int(input(\"Input the number of elements to be stored in a list: \"))\n",
        "\n",
        "list = []\n",
        "print(\"Input {} elements in the list\".format(input_list))\n",
        "for x in range(input_list): \n",
        "    list.append(input(\"Element - {}: \".format(x))\n",
        "    list.append(input(\"Element - {}: \".format(x))\n",
        "    list.append(input(\"Element - {}: \".format(x)) \n",
        "    list.append(input(\"Element - {}: \".format(x))\n",
        "    list.append(input(\"Element - {}: \".format(x))\n",
        "    \n",
        "for count in set(list):\n",
        "    print(count,'occurs', list.count(count), 'times')"
      ],
      "execution_count": null,
      "outputs": []
    },
    {
      "cell_type": "code",
      "metadata": {
        "id": "fSjTqsMgchY9"
      },
      "source": [
        "input_len = int(input())\n",
        "counts = []\n",
        "for i in range(input_len):\n",
        "  num = map(int, input(\"element - {} : \".format(i).split())\n",
        "  for x in num: \n",
        "    counts.append(x)                \n",
        "print(\"\\nThe frequency if all the elements of the list:\")\n",
        "# Get frequencies \n",
        "for count in set(counts):\n",
        "    print(count,'occurs', counts.count(count), 'times')"
      ],
      "execution_count": null,
      "outputs": []
    }
  ]
}