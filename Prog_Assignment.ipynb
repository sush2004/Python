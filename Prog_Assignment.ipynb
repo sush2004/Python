{
  "nbformat": 4,
  "nbformat_minor": 0,
  "metadata": {
    "colab": {
      "name": "Untitled",
      "provenance": [],
      "collapsed_sections": [],
      "authorship_tag": "ABX9TyN+rNWWLd3mxSqJomyaKqqP",
      "include_colab_link": true
    },
    "kernelspec": {
      "name": "python3",
      "display_name": "Python 3"
    }
  },
  "cells": [
    {
      "cell_type": "markdown",
      "metadata": {
        "id": "view-in-github",
        "colab_type": "text"
      },
      "source": [
        "<a href=\"https://colab.research.google.com/github/sush2004/Python/blob/main/Prog_Assignment.ipynb\" target=\"_parent\"><img src=\"https://colab.research.google.com/assets/colab-badge.svg\" alt=\"Open In Colab\"/></a>"
      ]
    },
    {
      "cell_type": "code",
      "metadata": {
        "id": "0mM_pfukcw8-",
        "colab": {
          "base_uri": "https://localhost:8080/"
        },
        "outputId": "9be548cb-0d86-4c2b-cfef-b90d36cb7957"
      },
      "source": [
        "def Payslip():\n",
        "  emp_name = input(\"Enter employee name\")\n",
        "  emp_num = input(\"Enter employee number\")\n",
        "  week_end = input(\"Enter week ending date\")\n",
        "  No_of_hours_worked = float(input(\"Enter number of hours worked\"))\n",
        "\n",
        "  print(\"{:50} PAYSLIP\".format(' '))\n",
        "  print(\"Week ENDING\", week_end)\n",
        "  print(\"Employee : \", emp_name)\n",
        "  print(\"Empoyee Number : \", emp_num)\n",
        "  print(\"{:30} Earnings \".format(' '),\"{:20} Deductions\".format(' '))\n",
        "  print(\"{:30} Hours \".format(' '), \"{:2} Rate\".format(' '), \"{:2} Total\".format(' '))  \n",
        "Payslip()"
      ],
      "execution_count": 26,
      "outputs": [
        {
          "output_type": "stream",
          "text": [
            "Enter employee nameew\n",
            "Enter employee number23\n",
            "Enter week ending dateda\n",
            "Enter number of hours worked23.4\n",
            "                                                   PAYSLIP\n",
            "Week ENDING da\n",
            "Employee :  ew\n",
            "Empoyee Number :  23\n",
            "                               Earning Hours                      Deductions\n"
          ],
          "name": "stdout"
        }
      ]
    },
    {
      "cell_type": "code",
      "metadata": {
        "colab": {
          "base_uri": "https://localhost:8080/"
        },
        "id": "Xr1fqmUN7o2M",
        "outputId": "54ef2c03-85d6-4aeb-8098-21933858ea25"
      },
      "source": [
        "print(\"{:20} PAYSLIP\".format(' '))"
      ],
      "execution_count": 13,
      "outputs": [
        {
          "output_type": "stream",
          "text": [
            "                     PAYSLIP\n"
          ],
          "name": "stdout"
        }
      ]
    },
    {
      "cell_type": "code",
      "metadata": {
        "colab": {
          "base_uri": "https://localhost:8080/"
        },
        "id": "3TcreENL4QDt",
        "outputId": "e4da6417-b0cd-445c-c0bd-93b709180800"
      },
      "source": [
        "print(\"{:30} Earnings \".format(' '),\"{:20} Deductions\".format(' '))\n",
        "print(\"{:30} Hours \".format(' '), \"{:2} Rate\".format(' '), \"{:2} Total\".format(' '))"
      ],
      "execution_count": 32,
      "outputs": [
        {
          "output_type": "stream",
          "text": [
            "                               Earnings                       Deductions\n",
            "                               Hours     Rate    Total\n"
          ],
          "name": "stdout"
        }
      ]
    }
  ]
}