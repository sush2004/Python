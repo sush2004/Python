{
  "nbformat": 4,
  "nbformat_minor": 0,
  "metadata": {
    "colab": {
      "name": "Class_Objects.ipynb",
      "provenance": [],
      "authorship_tag": "ABX9TyM018bjAieUR0aLHuzllO+E",
      "include_colab_link": true
    },
    "kernelspec": {
      "name": "python3",
      "display_name": "Python 3"
    }
  },
  "cells": [
    {
      "cell_type": "markdown",
      "metadata": {
        "id": "view-in-github",
        "colab_type": "text"
      },
      "source": [
        "<a href=\"https://colab.research.google.com/github/sush2004/Python/blob/main/Class_Objects.ipynb\" target=\"_parent\"><img src=\"https://colab.research.google.com/assets/colab-badge.svg\" alt=\"Open In Colab\"/></a>"
      ]
    },
    {
      "cell_type": "code",
      "metadata": {
        "colab": {
          "base_uri": "https://localhost:8080/"
        },
        "id": "69PDzTGvtI_m",
        "outputId": "02e5df56-f417-4037-a8bb-fe5344bcc0f3"
      },
      "source": [
        "class computer:\r\n",
        "  \r\n",
        "  def __init__(self,cpu,ram):\r\n",
        "    self.cpu = cpu\r\n",
        "    self.ram = ram\r\n",
        "     \r\n",
        "\r\n",
        "  def config(self):\r\n",
        "    print(\"Config is\", self.cpu, self.ram)\r\n",
        "\r\n",
        "com1 = computer('i5',16)\r\n",
        "com2 = computer('Ryzen 3',8)\r\n",
        "\r\n",
        "#computer.config(com1)\r\n",
        "#computer.config(com2)\r\n",
        "com1.config()\r\n",
        "com2.config( )"
      ],
      "execution_count": 16,
      "outputs": [
        {
          "output_type": "stream",
          "text": [
            "Config is i5 16\n",
            "Config is Ryzen 3 8\n"
          ],
          "name": "stdout"
        }
      ]
    },
    {
      "cell_type": "code",
      "metadata": {
        "colab": {
          "base_uri": "https://localhost:8080/"
        },
        "id": "UISQdHbz5OCu",
        "outputId": "05d230b5-90fc-4406-dc0c-ae982f55dd69"
      },
      "source": [
        "class computer:\r\n",
        "  \r\n",
        "  def __init__(self):\r\n",
        "    self.name = \"Sushant\"\r\n",
        "    self.age = 25\r\n",
        "  \r\n",
        "  def update(self):    #self is referring to corresponding object\r\n",
        "    self.age = 30\r\n",
        "  \r\n",
        "  def compare(self,other):\r\n",
        "    if self.age == other.age:\r\n",
        "      return True\r\n",
        "    else:\r\n",
        "      return False\r\n",
        "\r\n",
        "\r\n",
        "c1 = computer()\r\n",
        "c1.age = 30\r\n",
        "c2 = computer()\r\n",
        "\r\n",
        "if c1.compare(c2):\r\n",
        "  print(\"They are same\")\r\n",
        "else:\r\n",
        "  print(\"they are different\")\r\n"
      ],
      "execution_count": 21,
      "outputs": [
        {
          "output_type": "stream",
          "text": [
            "they are different\n"
          ],
          "name": "stdout"
        }
      ]
    },
    {
      "cell_type": "code",
      "metadata": {
        "id": "Jw5eC-HJ96aJ"
      },
      "source": [
        "class computer:\r\n",
        "  \r\n",
        "  def __init__(self):\r\n",
        "    self.name = \"Sushant\"\r\n",
        "    self.age = 25\r\n",
        "  \r\n",
        "  def update(self):    #self is referring to corresponding object\r\n",
        "    self.age = 30\r\n",
        "  \r\n",
        "  def compare(self,other):\r\n",
        "    if self.age == other.age:\r\n",
        "      return True\r\n",
        "    else:\r\n",
        "      return False\r\n",
        "\r\n",
        "\r\n",
        "c1 = computer()\r\n",
        "c1.age = 30\r\n",
        "c2 = computer()\r\n"
      ],
      "execution_count": 25,
      "outputs": []
    },
    {
      "cell_type": "code",
      "metadata": {
        "colab": {
          "base_uri": "https://localhost:8080/"
        },
        "id": "hDdU8pqi_Rzj",
        "outputId": "f1272186-87dd-4dad-9eee-b2404f8a4055"
      },
      "source": [
        "#class and instance variable\r\n",
        "class Car:\r\n",
        "\r\n",
        "  wheels = 4                # class variables common for every object\r\n",
        "  def __init__(self):\r\n",
        "    self.mil = 10           #mil and com are instance varaible\r\n",
        "    self.com = \"BMW\"\r\n",
        "\r\n",
        "c1 = Car()\r\n",
        "c2 = Car()\r\n",
        "c1.mil = 8\r\n",
        "Car.wheels = 5\r\n",
        "print(c1.com, c1.mil, c1.wheels)\r\n",
        "print(c2.com, c2.mil, c2.wheels)"
      ],
      "execution_count": 34,
      "outputs": [
        {
          "output_type": "stream",
          "text": [
            "BMW 8 5\n",
            "BMW 10 5\n"
          ],
          "name": "stdout"
        }
      ]
    },
    {
      "cell_type": "code",
      "metadata": {
        "colab": {
          "base_uri": "https://localhost:8080/"
        },
        "id": "7ZK_jW4QBIX2",
        "outputId": "d55540ac-efd0-47a2-8bf0-3ea3598002be"
      },
      "source": [
        "class student:\r\n",
        "\r\n",
        "  school = 'KIIT'\r\n",
        "\r\n",
        "  def __init__(self,m1,m2,m3):\r\n",
        "    self.m1 = m1\r\n",
        "    self.m2 = m2\r\n",
        "    self.m3 = m3\r\n",
        "\r\n",
        "  def avg(self):\r\n",
        "    return(self.m1 + self.m2 + self.m3)/3\r\n",
        "\r\n",
        "  def get_m1(self):       # to access value\r\n",
        "    return self.m1\r\n",
        "\r\n",
        "  def set_m1(self):       #to set value\r\n",
        "    self.m1 = value\r\n",
        "    \r\n",
        "s1= student(34,67,32)\r\n",
        "s2= student(100,32,12)\r\n",
        "\r\n",
        "print(s1.avg())\r\n",
        "print(s2.avg())\r\n",
        "\r\n"
      ],
      "execution_count": 33,
      "outputs": [
        {
          "output_type": "stream",
          "text": [
            "44.333333333333336\n",
            "48.0\n"
          ],
          "name": "stdout"
        }
      ]
    },
    {
      "cell_type": "code",
      "metadata": {
        "colab": {
          "base_uri": "https://localhost:8080/"
        },
        "id": "elfyC9TOIzLi",
        "outputId": "5dfa9a6f-8f9f-4c66-8b21-891c438354f9"
      },
      "source": [
        "class student:\r\n",
        "\r\n",
        "  school = 'KIIT'\r\n",
        "\r\n",
        "  def __init__(self,m1,m2,m3):\r\n",
        "    self.m1 = m1\r\n",
        "    self.m2 = m2\r\n",
        "    self.m3 = m3\r\n",
        "\r\n",
        "  def avg(self):\r\n",
        "    return(self.m1 + self.m2 + self.m3)/3\r\n",
        "\r\n",
        "  @classmethod                #decorator to call class variable\r\n",
        "  def getSchool(cls):              # if working with class method then 'cls' keyword needs to be used\r\n",
        "    return cls.school \r\n",
        "\r\n",
        "  def info():                 #static method\r\n",
        "    print(\"this is student calss.. in abc module\")\r\n",
        "\r\n",
        "s1= student(34,67,32)\r\n",
        "s2= student(100,32,12)\r\n",
        "\r\n",
        "print(s1.avg())\r\n",
        "print(s2.avg())\r\n",
        "print(student.getSchool())\r\n",
        "\r\n",
        "student.info()"
      ],
      "execution_count": 39,
      "outputs": [
        {
          "output_type": "stream",
          "text": [
            "44.333333333333336\n",
            "48.0\n",
            "KIIT\n",
            "this is student calss.. in abc module\n"
          ],
          "name": "stdout"
        }
      ]
    },
    {
      "cell_type": "code",
      "metadata": {
        "colab": {
          "base_uri": "https://localhost:8080/"
        },
        "id": "PFyU8iXWKUDo",
        "outputId": "c0c71d45-9ee7-4492-c873-f05a92fbd745"
      },
      "source": [
        "class student:\r\n",
        "\r\n",
        "  def __init__(self,name,rollno):\r\n",
        "    self.name = name\r\n",
        "    self.rollno = rollno\r\n",
        "    self.lap = self.laptop()\r\n",
        "\r\n",
        "  def show(self):\r\n",
        "    print(self.name, self.rollno)\r\n",
        "    self.lap.show()\r\n",
        "\r\n",
        "  class laptop():                 #inner class\r\n",
        "    def __init__(self):\r\n",
        "      self.brand = 'HP'\r\n",
        "      self.cpu = 'i5'\r\n",
        "      self.ram = 8\r\n",
        "    \r\n",
        "    def show(self):\r\n",
        "      print(self.brand, self.cpu, self.ram)\r\n",
        "\r\n",
        "s1 = student('sushant',2)\r\n",
        "s2 = student('ram',3)\r\n",
        "\r\n",
        "s1.show()                 #s1 is passed through show() as an argument and ultimately calls student class\r\n",
        "#s2.show()\r\n",
        "\r\n"
      ],
      "execution_count": 60,
      "outputs": [
        {
          "output_type": "stream",
          "text": [
            "sushant 2\n",
            "HP i5 8\n",
            "ram 3\n",
            "HP i5 8\n"
          ],
          "name": "stdout"
        }
      ]
    },
    {
      "cell_type": "code",
      "metadata": {
        "id": "qQqO2a8aQBwz"
      },
      "source": [
        ""
      ],
      "execution_count": null,
      "outputs": []
    }
  ]
}