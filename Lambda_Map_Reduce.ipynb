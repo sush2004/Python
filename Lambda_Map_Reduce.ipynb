{
  "nbformat": 4,
  "nbformat_minor": 0,
  "metadata": {
    "colab": {
      "name": "Lambda_Map_Reduce.ipynb",
      "provenance": [],
      "authorship_tag": "ABX9TyN+AzikDYnGn1aeTKnb5Zzv",
      "include_colab_link": true
    },
    "kernelspec": {
      "name": "python3",
      "display_name": "Python 3"
    }
  },
  "cells": [
    {
      "cell_type": "markdown",
      "metadata": {
        "id": "view-in-github",
        "colab_type": "text"
      },
      "source": [
        "<a href=\"https://colab.research.google.com/github/sush2004/Python/blob/main/Lambda_Map_Reduce.ipynb\" target=\"_parent\"><img src=\"https://colab.research.google.com/assets/colab-badge.svg\" alt=\"Open In Colab\"/></a>"
      ]
    },
    {
      "cell_type": "code",
      "metadata": {
        "id": "VnaWZNKs3aU9"
      },
      "source": [
        "def add(x,y):\n",
        "  return x+y"
      ],
      "execution_count": 1,
      "outputs": []
    },
    {
      "cell_type": "code",
      "metadata": {
        "colab": {
          "base_uri": "https://localhost:8080/"
        },
        "id": "_CoaHkLl3voi",
        "outputId": "7d02939b-1169-421e-cd3f-7c11ce9feb49"
      },
      "source": [
        "print(add(1,1))"
      ],
      "execution_count": 2,
      "outputs": [
        {
          "output_type": "stream",
          "text": [
            "2\n"
          ],
          "name": "stdout"
        }
      ]
    },
    {
      "cell_type": "code",
      "metadata": {
        "colab": {
          "base_uri": "https://localhost:8080/"
        },
        "id": "sM8NB98430SD",
        "outputId": "524abaac-df0b-41e2-81dd-8b372bf9f3c2"
      },
      "source": [
        "add = lambda x,y :x+y\n",
        "print((add(1,1)))"
      ],
      "execution_count": 3,
      "outputs": [
        {
          "output_type": "stream",
          "text": [
            "2\n"
          ],
          "name": "stdout"
        }
      ]
    },
    {
      "cell_type": "code",
      "metadata": {
        "colab": {
          "base_uri": "https://localhost:8080/"
        },
        "id": "UbnScLtG4ZYf",
        "outputId": "dc297574-3827-4d68-f86e-91bcaa3ba810"
      },
      "source": [
        "def farheheit(t):\n",
        "  return (float(9)/5*t + 32)\n",
        "\n",
        "def celsius(t):\n",
        "  return (float(5)/9*(t-32))\n",
        "temp = (36.5, 37, 37.5, 39)\n",
        "\n",
        "F = list (map(farheheit, temp))\n",
        "print(F)"
      ],
      "execution_count": 6,
      "outputs": [
        {
          "output_type": "stream",
          "text": [
            "[97.7, 98.60000000000001, 99.5, 102.2]\n"
          ],
          "name": "stdout"
        }
      ]
    },
    {
      "cell_type": "code",
      "metadata": {
        "colab": {
          "base_uri": "https://localhost:8080/"
        },
        "id": "Bup39BOU5Nhj",
        "outputId": "11ce7f36-3fcf-4922-8e35-1cd7c52bd0aa"
      },
      "source": [
        "C = list(map(celsius, F))\n",
        "print(C)"
      ],
      "execution_count": 7,
      "outputs": [
        {
          "output_type": "stream",
          "text": [
            "[36.5, 37.00000000000001, 37.5, 39.0]\n"
          ],
          "name": "stdout"
        }
      ]
    },
    {
      "cell_type": "code",
      "metadata": {
        "id": "YttuR2uE5jEW"
      },
      "source": [
        "a = [1,2,3,4]\n",
        "b = [17,12,11,10]\n",
        "c = [-1, -4, 5, 9]\n"
      ],
      "execution_count": 8,
      "outputs": []
    },
    {
      "cell_type": "code",
      "metadata": {
        "colab": {
          "base_uri": "https://localhost:8080/"
        },
        "id": "sAYC3_GZ54K9",
        "outputId": "d043232d-8d35-40bb-eb4b-ab298de031ae"
      },
      "source": [
        "print(list(map(lambda x,y:x+y, a,b)))"
      ],
      "execution_count": 9,
      "outputs": [
        {
          "output_type": "stream",
          "text": [
            "[18, 14, 14, 14]\n"
          ],
          "name": "stdout"
        }
      ]
    },
    {
      "cell_type": "code",
      "metadata": {
        "colab": {
          "base_uri": "https://localhost:8080/"
        },
        "id": "msk4auXB6PZw",
        "outputId": "5547d82c-3ae5-4e5c-cad3-a58b03c9ff60"
      },
      "source": [
        "fib = [0,1,1,2,3,5,8,13,21,34,55]\n",
        "# use filter to only keep the odd numbers and remove the even numbers from the sequence\n",
        "result = list(filter(lambda x: x % 2, fib))\n",
        "print(result)\n"
      ],
      "execution_count": 10,
      "outputs": [
        {
          "output_type": "stream",
          "text": [
            "[1, 1, 3, 5, 13, 21, 55]\n"
          ],
          "name": "stdout"
        }
      ]
    },
    {
      "cell_type": "code",
      "metadata": {
        "colab": {
          "base_uri": "https://localhost:8080/"
        },
        "id": "m3fzWwzz60j7",
        "outputId": "47b2bec3-a039-4669-b7d8-52945fd7ab27"
      },
      "source": [
        "fib = [0,1,1,2,3,5,8,13,21,34,55]\n",
        "result = list(filter(lambda x: x% 2 == 0, fib))\n",
        "print(result)"
      ],
      "execution_count": 13,
      "outputs": [
        {
          "output_type": "stream",
          "text": [
            "[0, 2, 8, 34]\n"
          ],
          "name": "stdout"
        }
      ]
    },
    {
      "cell_type": "code",
      "metadata": {
        "colab": {
          "base_uri": "https://localhost:8080/"
        },
        "id": "vxXgUsS86_4D",
        "outputId": "72f51ecc-1fbd-4d3c-f45d-196972666bdb"
      },
      "source": [
        "def is_odd(x):\n",
        "  return x % 2 ==1\n",
        "print(is_odd(5))"
      ],
      "execution_count": 17,
      "outputs": [
        {
          "output_type": "stream",
          "text": [
            "True\n"
          ],
          "name": "stdout"
        }
      ]
    },
    {
      "cell_type": "code",
      "metadata": {
        "colab": {
          "base_uri": "https://localhost:8080/"
        },
        "id": "eM4VxqJ-7KOO",
        "outputId": "f1d6d77a-106f-47e6-e60f-deaa0c7565b4"
      },
      "source": [
        "def is_odd(x):\n",
        "  return x % 2 ==1\n",
        "print(is_odd(4))"
      ],
      "execution_count": 16,
      "outputs": [
        {
          "output_type": "stream",
          "text": [
            "False\n"
          ],
          "name": "stdout"
        }
      ]
    },
    {
      "cell_type": "code",
      "metadata": {
        "colab": {
          "base_uri": "https://localhost:8080/"
        },
        "id": "IvuKQuLM7Ti2",
        "outputId": "4e27e314-9560-4a90-a01a-2cc551c1bad9"
      },
      "source": [
        "result = list(filter(is_odd, fib))\n",
        "print(result)"
      ],
      "execution_count": 18,
      "outputs": [
        {
          "output_type": "stream",
          "text": [
            "[1, 1, 3, 5, 13, 21, 55]\n"
          ],
          "name": "stdout"
        }
      ]
    },
    {
      "cell_type": "code",
      "metadata": {
        "colab": {
          "base_uri": "https://localhost:8080/"
        },
        "id": "m_jFtm698C78",
        "outputId": "16a7236a-8b78-48f8-a208-fdc429571fbf"
      },
      "source": [
        "# importing functools for using reduce\n",
        "from functools import reduce\n",
        "reduce(lambda x, y: x+y, [47, 11, 42, 13])\n"
      ],
      "execution_count": 20,
      "outputs": [
        {
          "output_type": "execute_result",
          "data": {
            "text/plain": [
              "113"
            ]
          },
          "metadata": {
            "tags": []
          },
          "execution_count": 20
        }
      ]
    },
    {
      "cell_type": "code",
      "metadata": {
        "colab": {
          "base_uri": "https://localhost:8080/"
        },
        "id": "dgq_Ym3c8fNm",
        "outputId": "05153388-8b78-469f-cb9e-76144dabc822"
      },
      "source": [
        "# max functioanlity - find the max number in a list\n",
        "f = lambda a,b: a if (a>b) else b\n",
        "reduce(f, [47, 11, 42, 13]) \n"
      ],
      "execution_count": 21,
      "outputs": [
        {
          "output_type": "execute_result",
          "data": {
            "text/plain": [
              "47"
            ]
          },
          "metadata": {
            "tags": []
          },
          "execution_count": 21
        }
      ]
    },
    {
      "cell_type": "code",
      "metadata": {
        "colab": {
          "base_uri": "https://localhost:8080/"
        },
        "id": "6tta3p528rKs",
        "outputId": "c49d86e9-501f-43eb-f13c-a8bc3ee8142b"
      },
      "source": [
        "# max functioanlity - find the min number in a list\n",
        "f = lambda a,b: a if (a<b) else b\n",
        "reduce(f, [47, 11, 42, 13]) "
      ],
      "execution_count": 23,
      "outputs": [
        {
          "output_type": "execute_result",
          "data": {
            "text/plain": [
              "11"
            ]
          },
          "metadata": {
            "tags": []
          },
          "execution_count": 23
        }
      ]
    },
    {
      "cell_type": "code",
      "metadata": {
        "colab": {
          "base_uri": "https://localhost:8080/"
        },
        "id": "mCZkADcm9JDX",
        "outputId": "817fb905-1874-4928-ce8a-acf055824a9a"
      },
      "source": [
        "reduce(lambda x, y: x+y, range(1, 101))\n"
      ],
      "execution_count": 24,
      "outputs": [
        {
          "output_type": "execute_result",
          "data": {
            "text/plain": [
              "5050"
            ]
          },
          "metadata": {
            "tags": []
          },
          "execution_count": 24
        }
      ]
    },
    {
      "cell_type": "code",
      "metadata": {
        "colab": {
          "base_uri": "https://localhost:8080/"
        },
        "id": "MuXS8vwL9LzN",
        "outputId": "ca4dcd0e-44ad-434d-9075-ec7a45d49857"
      },
      "source": [
        "sum(range(1, 101))"
      ],
      "execution_count": 25,
      "outputs": [
        {
          "output_type": "execute_result",
          "data": {
            "text/plain": [
              "5050"
            ]
          },
          "metadata": {
            "tags": []
          },
          "execution_count": 25
        }
      ]
    },
    {
      "cell_type": "code",
      "metadata": {
        "id": "gM7xl0bN9UKZ"
      },
      "source": [
        "def farheheit(t):\n",
        "  return (float(9)/5*t + 32)\n",
        "\n",
        "def celsius(t):\n",
        "  return (float(5)/9*(t-32))\n"
      ],
      "execution_count": null,
      "outputs": []
    },
    {
      "cell_type": "code",
      "metadata": {
        "colab": {
          "base_uri": "https://localhost:8080/"
        },
        "id": "Mb07aPwj-DAy",
        "outputId": "9e03f661-9991-47fc-e559-22653371cc04"
      },
      "source": [
        "# F = list(map(farenheit, temp))\n",
        "Celsius = [39.2, 36.5, 37.3, 37.8]\n",
        "# {Farenheit = farenheit(x) | x $ Celesius}\n",
        "# O(n)\n",
        "Farenheit = [round(farheheit(x),2) for x in Celsius]\n",
        "print(Farenheit)"
      ],
      "execution_count": 27,
      "outputs": [
        {
          "output_type": "stream",
          "text": [
            "[102.56, 97.7, 99.14, 100.04]\n"
          ],
          "name": "stdout"
        }
      ]
    },
    {
      "cell_type": "code",
      "metadata": {
        "colab": {
          "base_uri": "https://localhost:8080/"
        },
        "id": "XMxgH0G9-uFN",
        "outputId": "058fdd46-f320-4ef9-fc01-d1b7999555bd"
      },
      "source": [
        "Farenheit = []\n",
        "for x in Celsius:\n",
        "  Farenheit.append(round(farheheit(x),2))\n",
        "print(Farenheit)\n",
        "\n"
      ],
      "execution_count": 30,
      "outputs": [
        {
          "output_type": "stream",
          "text": [
            "[102.56, 97.7, 99.14, 100.04]\n"
          ],
          "name": "stdout"
        }
      ]
    },
    {
      "cell_type": "code",
      "metadata": {
        "colab": {
          "base_uri": "https://localhost:8080/"
        },
        "id": "mehF_g7z_xsT",
        "outputId": "2eda3657-9376-452c-86ce-c4da6eb0b21d"
      },
      "source": [
        "# O(n^3)\n",
        "[(x,y,z) for x in range(1,30) for y in range(x,30) for z in range(y,30) if x**2 + y**2 == z**2]"
      ],
      "execution_count": 31,
      "outputs": [
        {
          "output_type": "execute_result",
          "data": {
            "text/plain": [
              "[(3, 4, 5),\n",
              " (5, 12, 13),\n",
              " (6, 8, 10),\n",
              " (7, 24, 25),\n",
              " (8, 15, 17),\n",
              " (9, 12, 15),\n",
              " (10, 24, 26),\n",
              " (12, 16, 20),\n",
              " (15, 20, 25),\n",
              " (20, 21, 29)]"
            ]
          },
          "metadata": {
            "tags": []
          },
          "execution_count": 31
        }
      ]
    },
    {
      "cell_type": "code",
      "metadata": {
        "colab": {
          "base_uri": "https://localhost:8080/"
        },
        "id": "NbG7EO3mAB7H",
        "outputId": "af84fe7e-5704-4815-b3db-1daf6fd0e33f"
      },
      "source": [
        "# [(x,y,z) for x in range(1,30) \n",
        "    #for y in range(x,30) for z in range(y,30) if x**2 + y**2 == z**2]\n",
        "\n",
        "triplets = []\n",
        "for x in range(1,30):\n",
        "  for y in range(x,30):\n",
        "    for z in range(y,30):\n",
        "      if x**2 + y**2 == z**2:\n",
        "        triplets.append((x,y,z))\n",
        "print(triplets)\n",
        "\n",
        "\n",
        "\n"
      ],
      "execution_count": 36,
      "outputs": [
        {
          "output_type": "stream",
          "text": [
            "[(3, 4, 5), (5, 12, 13), (6, 8, 10), (7, 24, 25), (8, 15, 17), (9, 12, 15), (10, 24, 26), (12, 16, 20), (15, 20, 25), (20, 21, 29)]\n"
          ],
          "name": "stdout"
        }
      ]
    },
    {
      "cell_type": "code",
      "metadata": {
        "colab": {
          "base_uri": "https://localhost:8080/"
        },
        "id": "4_RNt6jgAzZc",
        "outputId": "689dd0c1-91b1-43b2-93b9-70f5d3afed5c"
      },
      "source": [
        "def get_triplets(n):\n",
        "  triplets = []\n",
        "  for x in range(1,30):\n",
        "    for y in range(x,30):\n",
        "      for z in range(y,30):\n",
        "        if x**2 + y**2 == z**2:\n",
        "          triplets.append((x,y,z))\n",
        "  return triplets\n",
        "print(get_triplets(30))\n"
      ],
      "execution_count": 39,
      "outputs": [
        {
          "output_type": "stream",
          "text": [
            "[(3, 4, 5), (5, 12, 13), (6, 8, 10), (7, 24, 25), (8, 15, 17), (9, 12, 15), (10, 24, 26), (12, 16, 20), (15, 20, 25), (20, 21, 29)]\n"
          ],
          "name": "stdout"
        }
      ]
    },
    {
      "cell_type": "code",
      "metadata": {
        "id": "4ADh-OFzBJfT"
      },
      "source": [
        "def get_triplets(n):\n",
        "  triplets = []\n",
        "  for x in range(1,30):\n",
        "    for y in range(x,30):\n",
        "      for z in range(y,30):\n",
        "        if x**2 + y**2 == z**2:\n",
        "          triplets.append((x,y,z))\n",
        "  return triplets\n",
        "print(get_triplets(30))"
      ],
      "execution_count": null,
      "outputs": []
    },
    {
      "cell_type": "code",
      "metadata": {
        "id": "I2zogvAwBN7S"
      },
      "source": [
        "\n",
        "def time_me(n):\n",
        "  start = datetime.now()\n",
        "  print(get_triplets(n))\n",
        "  finish = datetime.now()\n",
        "  print(finish - start)"
      ],
      "execution_count": 44,
      "outputs": []
    },
    {
      "cell_type": "code",
      "metadata": {
        "id": "b7H9B0_TBg6V"
      },
      "source": [
        "time_me(100)"
      ],
      "execution_count": null,
      "outputs": []
    },
    {
      "cell_type": "code",
      "metadata": {
        "colab": {
          "base_uri": "https://localhost:8080/"
        },
        "id": "JBsjB3Y7Csxg",
        "outputId": "95cfaee3-d871-493d-e8cd-eebf2ea481fd"
      },
      "source": [
        "colours = [ \"red\", \"green\", \"yellow\", \"blue\" ]\n",
        "things = [ \"house\", \"car\", \"tree\" ]\n",
        "coloured_things = [ (x,y) for x in colours for y in things ]\n",
        "print(coloured_things)"
      ],
      "execution_count": 47,
      "outputs": [
        {
          "output_type": "stream",
          "text": [
            "[('red', 'house'), ('red', 'car'), ('red', 'tree'), ('green', 'house'), ('green', 'car'), ('green', 'tree'), ('yellow', 'house'), ('yellow', 'car'), ('yellow', 'tree'), ('blue', 'house'), ('blue', 'car'), ('blue', 'tree')]\n"
          ],
          "name": "stdout"
        }
      ]
    },
    {
      "cell_type": "code",
      "metadata": {
        "colab": {
          "base_uri": "https://localhost:8080/"
        },
        "id": "09fQGJJbC_ij",
        "outputId": "2ad9866f-fcf0-4d47-8ccb-004fe3e241ef"
      },
      "source": [
        "x = (x**2 for x in range(20))\n",
        "print(x)\n",
        "x = list(x)\n",
        "print(x)"
      ],
      "execution_count": 48,
      "outputs": [
        {
          "output_type": "stream",
          "text": [
            "<generator object <genexpr> at 0x7fde89dec410>\n",
            "[0, 1, 4, 9, 16, 25, 36, 49, 64, 81, 100, 121, 144, 169, 196, 225, 256, 289, 324, 361]\n"
          ],
          "name": "stdout"
        }
      ]
    },
    {
      "cell_type": "code",
      "metadata": {
        "colab": {
          "base_uri": "https://localhost:8080/"
        },
        "id": "SxYX4fH0D0Fg",
        "outputId": "2c9124b2-2ea2-45cd-f5cf-fc4691cdb63d"
      },
      "source": [
        "x = [x**2 for x in range(20)]\n",
        "print(x)\n",
        "x = list(x)\n",
        "print(x)"
      ],
      "execution_count": 49,
      "outputs": [
        {
          "output_type": "stream",
          "text": [
            "[0, 1, 4, 9, 16, 25, 36, 49, 64, 81, 100, 121, 144, 169, 196, 225, 256, 289, 324, 361]\n",
            "[0, 1, 4, 9, 16, 25, 36, 49, 64, 81, 100, 121, 144, 169, 196, 225, 256, 289, 324, 361]\n"
          ],
          "name": "stdout"
        }
      ]
    },
    {
      "cell_type": "code",
      "metadata": {
        "colab": {
          "base_uri": "https://localhost:8080/"
        },
        "id": "84vOiikxD5Hk",
        "outputId": "29826241-4646-4855-a613-d9b108f310ef"
      },
      "source": [
        "noprimes = [j for i in range(2, 8) for j in range(i*2, 100, i)]\n",
        "primes = [x for x in range(2, 100) if x not in noprimes]\n",
        "print(primes)\n",
        "print(len(primes))\n",
        "# [2, 3, 5, 7, 11, 13, 17, 19, 23, 29, 31, 37, 41, 43, 47, 53, 59, 61, 67, 71, 73, 79, 83, 89, 97]"
      ],
      "execution_count": 54,
      "outputs": [
        {
          "output_type": "stream",
          "text": [
            "[2, 3, 5, 7, 11, 13, 17, 19, 23, 29, 31, 37, 41, 43, 47, 53, 59, 61, 67, 71, 73, 79, 83, 89, 97]\n",
            "25\n"
          ],
          "name": "stdout"
        }
      ]
    },
    {
      "cell_type": "code",
      "metadata": {
        "colab": {
          "base_uri": "https://localhost:8080/"
        },
        "id": "r2oGaf3_Ebem",
        "outputId": "4c465434-65bf-4757-855c-25d6a7a47e8a"
      },
      "source": [
        "from math import sqrt\n",
        "n = 100\n",
        "sqrt_n = int(sqrt(n))\n",
        "no_primes = [j for i in range(2, sqrt_n+1) for j in range(i*2, n, i)]\n",
        "print(no_primes)\n",
        "print(sorted(no_primes))\n",
        "print(len(no_primes))\n",
        "print(len(set(no_primes)))"
      ],
      "execution_count": 56,
      "outputs": [
        {
          "output_type": "stream",
          "text": [
            "[4, 6, 8, 10, 12, 14, 16, 18, 20, 22, 24, 26, 28, 30, 32, 34, 36, 38, 40, 42, 44, 46, 48, 50, 52, 54, 56, 58, 60, 62, 64, 66, 68, 70, 72, 74, 76, 78, 80, 82, 84, 86, 88, 90, 92, 94, 96, 98, 6, 9, 12, 15, 18, 21, 24, 27, 30, 33, 36, 39, 42, 45, 48, 51, 54, 57, 60, 63, 66, 69, 72, 75, 78, 81, 84, 87, 90, 93, 96, 99, 8, 12, 16, 20, 24, 28, 32, 36, 40, 44, 48, 52, 56, 60, 64, 68, 72, 76, 80, 84, 88, 92, 96, 10, 15, 20, 25, 30, 35, 40, 45, 50, 55, 60, 65, 70, 75, 80, 85, 90, 95, 12, 18, 24, 30, 36, 42, 48, 54, 60, 66, 72, 78, 84, 90, 96, 14, 21, 28, 35, 42, 49, 56, 63, 70, 77, 84, 91, 98, 16, 24, 32, 40, 48, 56, 64, 72, 80, 88, 96, 18, 27, 36, 45, 54, 63, 72, 81, 90, 99, 20, 30, 40, 50, 60, 70, 80, 90]\n",
            "[4, 6, 6, 8, 8, 9, 10, 10, 12, 12, 12, 12, 14, 14, 15, 15, 16, 16, 16, 18, 18, 18, 18, 20, 20, 20, 20, 21, 21, 22, 24, 24, 24, 24, 24, 25, 26, 27, 27, 28, 28, 28, 30, 30, 30, 30, 30, 32, 32, 32, 33, 34, 35, 35, 36, 36, 36, 36, 36, 38, 39, 40, 40, 40, 40, 40, 42, 42, 42, 42, 44, 44, 45, 45, 45, 46, 48, 48, 48, 48, 48, 49, 50, 50, 50, 51, 52, 52, 54, 54, 54, 54, 55, 56, 56, 56, 56, 57, 58, 60, 60, 60, 60, 60, 60, 62, 63, 63, 63, 64, 64, 64, 65, 66, 66, 66, 68, 68, 69, 70, 70, 70, 70, 72, 72, 72, 72, 72, 72, 74, 75, 75, 76, 76, 77, 78, 78, 78, 80, 80, 80, 80, 80, 81, 81, 82, 84, 84, 84, 84, 84, 85, 86, 87, 88, 88, 88, 90, 90, 90, 90, 90, 90, 91, 92, 92, 93, 94, 95, 96, 96, 96, 96, 96, 98, 98, 99, 99]\n",
            "178\n",
            "73\n"
          ],
          "name": "stdout"
        }
      ]
    },
    {
      "cell_type": "code",
      "metadata": {
        "colab": {
          "base_uri": "https://localhost:8080/"
        },
        "id": "gulu-A_QFhBv",
        "outputId": "7f3812f1-36db-49b5-a0cc-4a3634a7ac77"
      },
      "source": [
        "n = 100\n",
        "sqrt_n = int(sqrt(n))\n",
        "no_primes = {j for i in range(2, sqrt_n+1) for j in range(i*2, n, i)}\n",
        "print(no_primes)\n",
        "print(sorted(no_primes))\n",
        "print(len(no_primes))"
      ],
      "execution_count": 58,
      "outputs": [
        {
          "output_type": "stream",
          "text": [
            "{4, 6, 8, 9, 10, 12, 14, 15, 16, 18, 20, 21, 22, 24, 25, 26, 27, 28, 30, 32, 33, 34, 35, 36, 38, 39, 40, 42, 44, 45, 46, 48, 49, 50, 51, 52, 54, 55, 56, 57, 58, 60, 62, 63, 64, 65, 66, 68, 69, 70, 72, 74, 75, 76, 77, 78, 80, 81, 82, 84, 85, 86, 87, 88, 90, 91, 92, 93, 94, 95, 96, 98, 99}\n",
            "[4, 6, 8, 9, 10, 12, 14, 15, 16, 18, 20, 21, 22, 24, 25, 26, 27, 28, 30, 32, 33, 34, 35, 36, 38, 39, 40, 42, 44, 45, 46, 48, 49, 50, 51, 52, 54, 55, 56, 57, 58, 60, 62, 63, 64, 65, 66, 68, 69, 70, 72, 74, 75, 76, 77, 78, 80, 81, 82, 84, 85, 86, 87, 88, 90, 91, 92, 93, 94, 95, 96, 98, 99]\n",
            "73\n"
          ],
          "name": "stdout"
        }
      ]
    },
    {
      "cell_type": "code",
      "metadata": {
        "colab": {
          "base_uri": "https://localhost:8080/"
        },
        "id": "6OcYenaQF1rt",
        "outputId": "52c72d8f-2048-4311-c768-91d387837189"
      },
      "source": [
        "\n",
        "from math import sqrt\n",
        "def primes(n):\n",
        "    if n == 0:\n",
        "        return []\n",
        "    elif n == 1:\n",
        "        return []\n",
        "    else:\n",
        "        p = primes(int(sqrt(n)))\n",
        "        no_p = {j for i in p for j in range(i*2, n+1, i)}\n",
        "        p = {x for x in range(2, n + 1) if x not in no_p}\n",
        "    return p\n",
        "\n",
        "for i in range(1,50):\n",
        "    print(i, primes(i))"
      ],
      "execution_count": 59,
      "outputs": [
        {
          "output_type": "stream",
          "text": [
            "1 []\n",
            "2 {2}\n",
            "3 {2, 3}\n",
            "4 {2, 3}\n",
            "5 {2, 3, 5}\n",
            "6 {2, 3, 5}\n",
            "7 {2, 3, 5, 7}\n",
            "8 {2, 3, 5, 7}\n",
            "9 {2, 3, 5, 7}\n",
            "10 {2, 3, 5, 7}\n",
            "11 {2, 3, 5, 7, 11}\n",
            "12 {2, 3, 5, 7, 11}\n",
            "13 {2, 3, 5, 7, 11, 13}\n",
            "14 {2, 3, 5, 7, 11, 13}\n",
            "15 {2, 3, 5, 7, 11, 13}\n",
            "16 {2, 3, 5, 7, 11, 13}\n",
            "17 {2, 3, 5, 7, 11, 13, 17}\n",
            "18 {2, 3, 5, 7, 11, 13, 17}\n",
            "19 {2, 3, 5, 7, 11, 13, 17, 19}\n",
            "20 {2, 3, 5, 7, 11, 13, 17, 19}\n",
            "21 {2, 3, 5, 7, 11, 13, 17, 19}\n",
            "22 {2, 3, 5, 7, 11, 13, 17, 19}\n",
            "23 {2, 3, 5, 7, 11, 13, 17, 19, 23}\n",
            "24 {2, 3, 5, 7, 11, 13, 17, 19, 23}\n",
            "25 {2, 3, 5, 7, 11, 13, 17, 19, 23}\n",
            "26 {2, 3, 5, 7, 11, 13, 17, 19, 23}\n",
            "27 {2, 3, 5, 7, 11, 13, 17, 19, 23}\n",
            "28 {2, 3, 5, 7, 11, 13, 17, 19, 23}\n",
            "29 {2, 3, 5, 7, 11, 13, 17, 19, 23, 29}\n",
            "30 {2, 3, 5, 7, 11, 13, 17, 19, 23, 29}\n",
            "31 {2, 3, 5, 7, 11, 13, 17, 19, 23, 29, 31}\n",
            "32 {2, 3, 5, 7, 11, 13, 17, 19, 23, 29, 31}\n",
            "33 {2, 3, 5, 7, 11, 13, 17, 19, 23, 29, 31}\n",
            "34 {2, 3, 5, 7, 11, 13, 17, 19, 23, 29, 31}\n",
            "35 {2, 3, 5, 7, 11, 13, 17, 19, 23, 29, 31}\n",
            "36 {2, 3, 5, 7, 11, 13, 17, 19, 23, 29, 31}\n",
            "37 {2, 3, 5, 37, 7, 11, 13, 17, 19, 23, 29, 31}\n",
            "38 {2, 3, 5, 37, 7, 11, 13, 17, 19, 23, 29, 31}\n",
            "39 {2, 3, 5, 37, 7, 11, 13, 17, 19, 23, 29, 31}\n",
            "40 {2, 3, 5, 37, 7, 11, 13, 17, 19, 23, 29, 31}\n",
            "41 {2, 3, 5, 37, 7, 41, 11, 13, 17, 19, 23, 29, 31}\n",
            "42 {2, 3, 5, 37, 7, 41, 11, 13, 17, 19, 23, 29, 31}\n",
            "43 {2, 3, 5, 37, 7, 41, 11, 43, 13, 17, 19, 23, 29, 31}\n",
            "44 {2, 3, 5, 37, 7, 41, 11, 43, 13, 17, 19, 23, 29, 31}\n",
            "45 {2, 3, 5, 37, 7, 41, 11, 43, 13, 17, 19, 23, 29, 31}\n",
            "46 {2, 3, 5, 37, 7, 41, 11, 43, 13, 17, 19, 23, 29, 31}\n",
            "47 {2, 3, 5, 37, 7, 41, 11, 43, 13, 47, 17, 19, 23, 29, 31}\n",
            "48 {2, 3, 5, 37, 7, 41, 11, 43, 13, 47, 17, 19, 23, 29, 31}\n",
            "49 {2, 3, 5, 37, 7, 41, 11, 43, 13, 47, 17, 19, 23, 29, 31}\n"
          ],
          "name": "stdout"
        }
      ]
    },
    {
      "cell_type": "code",
      "metadata": {
        "colab": {
          "base_uri": "https://localhost:8080/"
        },
        "id": "J-gRLoWHGtK2",
        "outputId": "7e33eef2-e3dd-4747-9157-aa7712ae5493"
      },
      "source": [
        "cities = [\"Paris\", \"Berlin\", \"Hamburg\", \n",
        "          \"Frankfurt\", \"London\", \"Vienna\", \n",
        "          \"Amsterdam\", \"Den Haag\"]\n",
        "for location in cities:\n",
        "    print(\"location: \" + location)"
      ],
      "execution_count": 60,
      "outputs": [
        {
          "output_type": "stream",
          "text": [
            "location: Paris\n",
            "location: Berlin\n",
            "location: Hamburg\n",
            "location: Frankfurt\n",
            "location: London\n",
            "location: Vienna\n",
            "location: Amsterdam\n",
            "location: Den Haag\n"
          ],
          "name": "stdout"
        }
      ]
    },
    {
      "cell_type": "code",
      "metadata": {
        "id": "qw9r7V-UG9ug"
      },
      "source": [
        "def city_generator():\n",
        "    yield(\"Hamburg\")\n",
        "    yield(\"Konstanz\")\n",
        "    yield(\"Berlin\")\n",
        "    yield(\"Zurich\")\n",
        "    yield(\"Schaffhausen\")\n",
        "    yield(\"Stuttgart\") "
      ],
      "execution_count": 61,
      "outputs": []
    },
    {
      "cell_type": "code",
      "metadata": {
        "colab": {
          "base_uri": "https://localhost:8080/",
          "height": 35
        },
        "id": "hNptLBc7HAMx",
        "outputId": "9fd991eb-d168-4325-d300-a549f72ae96e"
      },
      "source": [
        "cities = city_generator()\n",
        "next(cities)"
      ],
      "execution_count": 62,
      "outputs": [
        {
          "output_type": "execute_result",
          "data": {
            "application/vnd.google.colaboratory.intrinsic+json": {
              "type": "string"
            },
            "text/plain": [
              "'Hamburg'"
            ]
          },
          "metadata": {
            "tags": []
          },
          "execution_count": 62
        }
      ]
    },
    {
      "cell_type": "code",
      "metadata": {
        "colab": {
          "base_uri": "https://localhost:8080/",
          "height": 35
        },
        "id": "VGGDx8uFHJK2",
        "outputId": "74122bae-4e35-4ca7-c540-d75ba86d1a17"
      },
      "source": [
        "next(cities)"
      ],
      "execution_count": 63,
      "outputs": [
        {
          "output_type": "execute_result",
          "data": {
            "application/vnd.google.colaboratory.intrinsic+json": {
              "type": "string"
            },
            "text/plain": [
              "'Konstanz'"
            ]
          },
          "metadata": {
            "tags": []
          },
          "execution_count": 63
        }
      ]
    },
    {
      "cell_type": "code",
      "metadata": {
        "colab": {
          "base_uri": "https://localhost:8080/"
        },
        "id": "wrZskFZuHM59",
        "outputId": "12ca5bb0-d38a-4c9c-dc49-c08d68a7a384"
      },
      "source": [
        "for city in cities:\n",
        "  print(city)"
      ],
      "execution_count": 64,
      "outputs": [
        {
          "output_type": "stream",
          "text": [
            "Berlin\n",
            "Zurich\n",
            "Schaffhausen\n",
            "Stuttgart\n"
          ],
          "name": "stdout"
        }
      ]
    },
    {
      "cell_type": "code",
      "metadata": {
        "id": "uKAQ_kb9Hr2Q"
      },
      "source": [
        "def count(firstval=0, step=1):\n",
        "    x = firstval\n",
        "    while True:\n",
        "        yield x\n",
        "        x += step\n",
        "        "
      ],
      "execution_count": 67,
      "outputs": []
    },
    {
      "cell_type": "code",
      "metadata": {
        "colab": {
          "base_uri": "https://localhost:8080/"
        },
        "id": "I2ZfDLg7Hzae",
        "outputId": "52dbc264-4233-40ca-88db-d12a76f552e9"
      },
      "source": [
        "counter = count() # count will start with 0\n",
        "for i in range(10):\n",
        "    print(next(counter), end=\", \")\n"
      ],
      "execution_count": 68,
      "outputs": [
        {
          "output_type": "stream",
          "text": [
            "0, 1, 2, 3, 4, 5, 6, 7, 8, 9, "
          ],
          "name": "stdout"
        }
      ]
    },
    {
      "cell_type": "code",
      "metadata": {
        "colab": {
          "base_uri": "https://localhost:8080/"
        },
        "id": "7H_xzQRrH2TM",
        "outputId": "fbb812f0-d2c2-40ec-d2b2-9a56d03fbd54"
      },
      "source": [
        "next(counter)"
      ],
      "execution_count": 69,
      "outputs": [
        {
          "output_type": "execute_result",
          "data": {
            "text/plain": [
              "10"
            ]
          },
          "metadata": {
            "tags": []
          },
          "execution_count": 69
        }
      ]
    },
    {
      "cell_type": "code",
      "metadata": {
        "colab": {
          "base_uri": "https://localhost:8080/"
        },
        "id": "GHmHV7i0ISBM",
        "outputId": "e54b5f75-3c9e-4d98-ae9e-416df49b4c92"
      },
      "source": [
        "def fibonacci(n):\n",
        "    \"\"\" A generator for creating the Fibonacci numbers \"\"\"\n",
        "    a, b, counter = 0, 1, 0\n",
        "    while True:\n",
        "        if (counter > n): \n",
        "            return\n",
        "        yield a\n",
        "        a, b = b, a + b\n",
        "        counter += 1\n",
        "f = fibonacci(5)\n",
        "for x in f:\n",
        "    print(x, \" \", end=\"\") # \n",
        "print()"
      ],
      "execution_count": 70,
      "outputs": [
        {
          "output_type": "stream",
          "text": [
            "0  1  1  2  3  5  \n"
          ],
          "name": "stdout"
        }
      ]
    },
    {
      "cell_type": "code",
      "metadata": {
        "colab": {
          "base_uri": "https://localhost:8080/"
        },
        "id": "vRX4B19RIYRC",
        "outputId": "01cb61db-a7f9-4acc-d713-07f15eccfba6"
      },
      "source": [
        "f = fibonacci(50)\n",
        "print('Squared Fibonacci')\n",
        "for x in f:\n",
        "    print(x**2, \" \", end=\"\") # \n",
        "print()"
      ],
      "execution_count": 72,
      "outputs": [
        {
          "output_type": "stream",
          "text": [
            "Squared Fibonacci\n",
            "0  1  1  4  9  25  64  169  441  1156  3025  7921  20736  54289  142129  372100  974169  2550409  6677056  17480761  45765225  119814916  313679521  821223649  2149991424  5628750625  14736260449  38580030724  101003831721  264431464441  692290561600  1812440220361  4745030099481  12422650078084  32522920134769  85146110326225  222915410843904  583600122205489  1527884955772561  4000054745112196  10472279279564025  27416783093579881  71778070001175616  187917426909946969  491974210728665289  1288005205276048900  3372041405099481409  8828119010022395329  23112315624967704576  60508827864880718401  158414167969674450625  \n"
          ],
          "name": "stdout"
        }
      ]
    },
    {
      "cell_type": "code",
      "metadata": {
        "colab": {
          "base_uri": "https://localhost:8080/"
        },
        "id": "iPJJz4uiOLpj",
        "outputId": "1bd18a64-7ced-451a-e10d-b8c97657bce0"
      },
      "source": [
        "print(__name__)"
      ],
      "execution_count": 73,
      "outputs": [
        {
          "output_type": "stream",
          "text": [
            "__main__\n"
          ],
          "name": "stdout"
        }
      ]
    }
  ]
}