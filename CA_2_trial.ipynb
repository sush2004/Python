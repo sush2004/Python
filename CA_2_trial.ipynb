{
  "nbformat": 4,
  "nbformat_minor": 0,
  "metadata": {
    "colab": {
      "name": "Untitled22.ipynb",
      "provenance": [],
      "authorship_tag": "ABX9TyMAVTig1+Hrt8nmhrfHV2BZ",
      "include_colab_link": true
    },
    "kernelspec": {
      "name": "python3",
      "display_name": "Python 3"
    }
  },
  "cells": [
    {
      "cell_type": "markdown",
      "metadata": {
        "id": "view-in-github",
        "colab_type": "text"
      },
      "source": [
        "<a href=\"https://colab.research.google.com/github/sush2004/Python/blob/main/CA_2_trial.ipynb\" target=\"_parent\"><img src=\"https://colab.research.google.com/assets/colab-badge.svg\" alt=\"Open In Colab\"/></a>"
      ]
    },
    {
      "cell_type": "code",
      "metadata": {
        "colab": {
          "base_uri": "https://localhost:8080/",
          "height": 733
        },
        "id": "2ygnuryDuIAt",
        "outputId": "f593d033-bccf-49c5-f26c-37941b9acae2"
      },
      "source": [
        "import pandas as pd\r\n",
        "df=pd.read_csv(\"FireBrigadeAndAmbulanceCallOuts.csv\")\r\n",
        "#computing number of rows\r\n",
        "rows = len(df.axes[0]) \r\n",
        "print('Total number of rows: {}'.format(rows))\r\n",
        "# computing number of columns \r\n",
        "cols = len(df.axes[1])\r\n",
        "print('Total Number of columns: {}'.format(cols))\r\n",
        "\r\n",
        "non_null=display(df.notnull().sum())\r\n",
        "print(non_null)\r\n",
        "null_colname=df.columns[df.isnull().any()].tolist()\r\n",
        "print('null column ',null_colname)\r\n",
        "null_col= display(df.isnull().sum())\r\n",
        "null_col\r\n",
        "df.groupby('Station Area').count()['TOC']\r\n",
        "df.groupby(['Station Area','Date']).count()['TOC']\r\n",
        "df3=df[df['Description'].isin(['Fire ALARM','Fire CAR'])]\r\n",
        "df3.groupby(['Station Area','Date']).count()['TOC'].reset_index(name='counts')\r\n",
        "df5=df.replace(',', '')\r\n",
        "df6=df5.replace('-','')\r\n",
        "df6=df6.dropna(subset=['AH','MAV','CD'])\r\n",
        "empty = df6[ df6['AH'] == '' ].index\r\n",
        "df7=df6.drop(empty)\r\n",
        "df8=df7.drop_duplicates()\r\n",
        "db = sqlite3.connect(\"Staging.db\")\r\n",
        "print('Connection established!!!')\r\n",
        "db.execute(\"drop table if exists results\")\r\n",
        "try:\r\n",
        "  db.execute(\"create table FireBrigadeAndAmbulanceCallOuts(Date DATE, [Station Area] text,Description text, TOC text, ORD text, MOB text,IA text,LS text, AH text, MAV text, CD text)\")\r\n",
        "  Print('Table FireBrigadeAndAmbulanceCallOuts Created.')\r\n",
        "except:\r\n",
        "   print(\"Table Already exist !!\")"
      ],
      "execution_count": 57,
      "outputs": [
        {
          "output_type": "stream",
          "text": [
            "Total number of rows: 38556\n",
            "Total Number of columns: 11\n"
          ],
          "name": "stdout"
        },
        {
          "output_type": "display_data",
          "data": {
            "text/plain": [
              "Date            38556\n",
              "Station Area    38556\n",
              "Description     38556\n",
              "TOC             38556\n",
              "ORD             38556\n",
              "MOB             37311\n",
              "IA              30962\n",
              "LS              38556\n",
              "AH                153\n",
              "MAV             38530\n",
              "CD              38530\n",
              "dtype: int64"
            ]
          },
          "metadata": {
            "tags": []
          }
        },
        {
          "output_type": "stream",
          "text": [
            "None\n",
            "null column  ['MOB', 'IA', 'AH', 'MAV', 'CD']\n"
          ],
          "name": "stdout"
        },
        {
          "output_type": "display_data",
          "data": {
            "text/plain": [
              "Date                0\n",
              "Station Area        0\n",
              "Description         0\n",
              "TOC                 0\n",
              "ORD                 0\n",
              "MOB              1245\n",
              "IA               7594\n",
              "LS                  0\n",
              "AH              38403\n",
              "MAV                26\n",
              "CD                 26\n",
              "dtype: int64"
            ]
          },
          "metadata": {
            "tags": []
          }
        },
        {
          "output_type": "stream",
          "text": [
            "Connection established!!!\n"
          ],
          "name": "stdout"
        },
        {
          "output_type": "error",
          "ename": "NameError",
          "evalue": "ignored",
          "traceback": [
            "\u001b[0;31m---------------------------------------------------------------------------\u001b[0m",
            "\u001b[0;31mNameError\u001b[0m                                 Traceback (most recent call last)",
            "\u001b[0;32m<ipython-input-57-14e4defe688e>\u001b[0m in \u001b[0;36m<module>\u001b[0;34m()\u001b[0m\n\u001b[1;32m     26\u001b[0m \u001b[0;31m#db = sqlite3.connect(\"Staging.db\")\u001b[0m\u001b[0;34m\u001b[0m\u001b[0;34m\u001b[0m\u001b[0;34m\u001b[0m\u001b[0m\n\u001b[1;32m     27\u001b[0m \u001b[0mprint\u001b[0m\u001b[0;34m(\u001b[0m\u001b[0;34m'Connection established!!!'\u001b[0m\u001b[0;34m)\u001b[0m\u001b[0;34m\u001b[0m\u001b[0;34m\u001b[0m\u001b[0m\n\u001b[0;32m---> 28\u001b[0;31m \u001b[0mdb\u001b[0m\u001b[0;34m.\u001b[0m\u001b[0mexecute\u001b[0m\u001b[0;34m(\u001b[0m\u001b[0;34m\"drop table if exists results\"\u001b[0m\u001b[0;34m)\u001b[0m\u001b[0;34m\u001b[0m\u001b[0;34m\u001b[0m\u001b[0m\n\u001b[0m\u001b[1;32m     29\u001b[0m \u001b[0;32mtry\u001b[0m\u001b[0;34m:\u001b[0m\u001b[0;34m\u001b[0m\u001b[0;34m\u001b[0m\u001b[0m\n\u001b[1;32m     30\u001b[0m   \u001b[0mdb\u001b[0m\u001b[0;34m.\u001b[0m\u001b[0mexecute\u001b[0m\u001b[0;34m(\u001b[0m\u001b[0;34m\"create table FireBrigadeAndAmbulanceCallOuts(Date DATE, [Station Area] text,Description text, TOC text, ORD text, MOB text,IA text,LS text, AH text, MAV text, CD text)\"\u001b[0m\u001b[0;34m)\u001b[0m\u001b[0;34m\u001b[0m\u001b[0;34m\u001b[0m\u001b[0m\n",
            "\u001b[0;31mNameError\u001b[0m: name 'db' is not defined"
          ]
        }
      ]
    },
    {
      "cell_type": "code",
      "metadata": {
        "colab": {
          "base_uri": "https://localhost:8080/"
        },
        "id": "gkhQyxKSNYrz",
        "outputId": "15b6101d-5e5a-434d-a177-0040559ea67b"
      },
      "source": [
        "import pandas as pd\r\n",
        "df=pd.read_csv(\"FireBrigadeAndAmbulanceCallOuts.csv\")\r\n",
        "print(df)"
      ],
      "execution_count": 58,
      "outputs": [
        {
          "output_type": "stream",
          "text": [
            "             Date    Station Area   Description  ...        AH       MAV        CD\n",
            "0      01/01/2013     Rathfarnham     S/S OTHER  ...  02:28:54  02:48:54  03:08:54\n",
            "1      01/01/2013        Tallaght      Fire CAR  ...  02:25:43  02:45:43  03:05:43\n",
            "2      01/01/2013    North Strand       S/S RTA  ...  04:11:20  04:31:20  04:51:20\n",
            "3      01/01/2013        Tallaght      Fire CAR  ...  04:50:48  05:10:48  05:30:48\n",
            "4      01/01/2013         Finglas  Fire DOM PER  ...  04:50:47  05:10:47  05:30:47\n",
            "...           ...             ...           ...  ...       ...       ...       ...\n",
            "38551  28/04/2018  Blanchardstown    Fire ALARM  ...       NaN  00:20:00  00:40:00\n",
            "38552  09/10/2018      Kilbarrack      Fire CAR  ...       NaN  00:20:00  00:40:00\n",
            "38553  07/06/2018        Skerries    Fire SMALL  ...       NaN         -         -\n",
            "38554  21/11/2018      Donnybrook    Fire ALARM  ...       NaN         -         -\n",
            "38555  01/01/2019      Kilbarrack    Fire ALARM  ...       NaN         -         -\n",
            "\n",
            "[38556 rows x 11 columns]\n"
          ],
          "name": "stdout"
        }
      ]
    },
    {
      "cell_type": "code",
      "metadata": {
        "colab": {
          "base_uri": "https://localhost:8080/"
        },
        "id": "7Z8VXqIANr5k",
        "outputId": "6242f90e-d1c1-4536-f0d3-2f820d9167d1"
      },
      "source": [
        "#Output the total number of rows \r\n",
        "rows = len(df.axes[0]) \r\n",
        "print(rows)"
      ],
      "execution_count": 59,
      "outputs": [
        {
          "output_type": "stream",
          "text": [
            "38556\n"
          ],
          "name": "stdout"
        }
      ]
    },
    {
      "cell_type": "code",
      "metadata": {
        "colab": {
          "base_uri": "https://localhost:8080/"
        },
        "id": "PCZ592sBQUBz",
        "outputId": "d81b0117-6846-498d-a9fd-e31ab244eb83"
      },
      "source": [
        "#Output the total number of columns\r\n",
        "col = len(df.axes[1])\r\n",
        "print(col)\r\n"
      ],
      "execution_count": 60,
      "outputs": [
        {
          "output_type": "stream",
          "text": [
            "11\n"
          ],
          "name": "stdout"
        }
      ]
    },
    {
      "cell_type": "code",
      "metadata": {
        "colab": {
          "base_uri": "https://localhost:8080/",
          "height": 235
        },
        "id": "4nwjE9C9Wndy",
        "outputId": "c652cc23-7d4e-4dfa-a15a-44fce4ff5cfc"
      },
      "source": [
        "#Output the number of non-null rows (by column)\r\n",
        "non_null=display(df.notnull().sum())\r\n",
        "\r\n"
      ],
      "execution_count": 18,
      "outputs": [
        {
          "output_type": "display_data",
          "data": {
            "text/plain": [
              "Date            38556\n",
              "Station Area    38556\n",
              "Description     38556\n",
              "TOC             38556\n",
              "ORD             38556\n",
              "MOB             37311\n",
              "IA              30962\n",
              "LS              38556\n",
              "AH                153\n",
              "MAV             38530\n",
              "CD              38530\n",
              "dtype: int64"
            ]
          },
          "metadata": {
            "tags": []
          }
        },
        {
          "output_type": "stream",
          "text": [
            "None\n"
          ],
          "name": "stdout"
        }
      ]
    },
    {
      "cell_type": "code",
      "metadata": {
        "colab": {
          "base_uri": "https://localhost:8080/"
        },
        "id": "0IL9_CNNXOwn",
        "outputId": "adca69bc-de55-4d3a-da4d-d5056c8f8bd9"
      },
      "source": [
        "null_colname=df.columns[df.isnull().any()].tolist()\r\n",
        "print(null_colname)"
      ],
      "execution_count": 24,
      "outputs": [
        {
          "output_type": "stream",
          "text": [
            "['MOB', 'IA', 'AH', 'MAV', 'CD']\n"
          ],
          "name": "stdout"
        }
      ]
    },
    {
      "cell_type": "code",
      "metadata": {
        "colab": {
          "base_uri": "https://localhost:8080/",
          "height": 218
        },
        "id": "Aiv6AgWVbj-d",
        "outputId": "aab8fd5d-a391-42ca-ed05-adf4933d0fcd"
      },
      "source": [
        "Output the number of null values (by column)\r\n",
        "null_count=display(df.isnull().sum())"
      ],
      "execution_count": 28,
      "outputs": [
        {
          "output_type": "display_data",
          "data": {
            "text/plain": [
              "Date                0\n",
              "Station Area        0\n",
              "Description         0\n",
              "TOC                 0\n",
              "ORD                 0\n",
              "MOB              1245\n",
              "IA               7594\n",
              "LS                  0\n",
              "AH              38403\n",
              "MAV                26\n",
              "CD                 26\n",
              "dtype: int64"
            ]
          },
          "metadata": {
            "tags": []
          }
        }
      ]
    },
    {
      "cell_type": "code",
      "metadata": {
        "colab": {
          "base_uri": "https://localhost:8080/"
        },
        "id": "kHfSI9YzeLDG",
        "outputId": "ecf4db96-547f-4895-8025-dd4aa45e79fd"
      },
      "source": [
        "#Output the number of null values for all columns.\r\n",
        "print(df.isnull().sum().sum())"
      ],
      "execution_count": 31,
      "outputs": [
        {
          "output_type": "stream",
          "text": [
            "47294\n"
          ],
          "name": "stdout"
        }
      ]
    },
    {
      "cell_type": "code",
      "metadata": {
        "colab": {
          "base_uri": "https://localhost:8080/"
        },
        "id": "1Jvru_eqeTjV",
        "outputId": "c44048f7-c908-4d36-9fe9-14500b50d365"
      },
      "source": [
        "#Output the total number of call outs by Station Area.\r\n",
        "df.groupby('Station Area').count()['TOC']"
      ],
      "execution_count": 32,
      "outputs": [
        {
          "output_type": "execute_result",
          "data": {
            "text/plain": [
              "Station Area\n",
              "Balbriggan         688\n",
              "Blanchardstown    2089\n",
              "Dolphins Barn     4018\n",
              "Donnybrook        1787\n",
              "Dun Laoghaire     3271\n",
              "Dunshaughlin         2\n",
              "Finglas           3030\n",
              "Kilbarrack        3548\n",
              "MH14                 1\n",
              "North Strand      1645\n",
              "Phibsborough      3160\n",
              "Rathfarnham       2129\n",
              "Skerries           449\n",
              "Swords            2614\n",
              "Tallaght          6525\n",
              "Tara St           3600\n",
              "Name: TOC, dtype: int64"
            ]
          },
          "metadata": {
            "tags": []
          },
          "execution_count": 32
        }
      ]
    },
    {
      "cell_type": "code",
      "metadata": {
        "colab": {
          "base_uri": "https://localhost:8080/"
        },
        "id": "WnoIt9EQe0Gq",
        "outputId": "fe9be183-9f8d-4c80-829e-b1e40d4d0a97"
      },
      "source": [
        "#Output the total number of call outs by Date and Station Area.\r\n",
        "df.groupby(['Station Area','Date']).count()['TOC']"
      ],
      "execution_count": 46,
      "outputs": [
        {
          "output_type": "execute_result",
          "data": {
            "text/plain": [
              "Station Area  Date      \n",
              "Balbriggan    01/01/2013     3\n",
              "              01/01/2014     1\n",
              "              01/02/2014     2\n",
              "              01/03/2013     1\n",
              "              01/03/2014     1\n",
              "                            ..\n",
              "Tara St       31/10/2013     9\n",
              "              31/10/2014    11\n",
              "              31/10/2015     5\n",
              "              31/12/2013     4\n",
              "              31/12/2014     3\n",
              "Name: TOC, Length: 12483, dtype: int64"
            ]
          },
          "metadata": {
            "tags": []
          },
          "execution_count": 46
        }
      ]
    },
    {
      "cell_type": "code",
      "metadata": {
        "colab": {
          "base_uri": "https://localhost:8080/"
        },
        "id": "xNLWD6uOe8td",
        "outputId": "547c0a15-6490-461d-81d2-6c3da4e55316"
      },
      "source": [
        "#Output the total number of call outs by Station Area and Date where the description is either Fire Car or Fire Alarm.\r\n",
        "df=df[df['Description'].isin(['Fire ALARM','Fire CAR'])]\r\n",
        "print(df)"
      ],
      "execution_count": 47,
      "outputs": [
        {
          "output_type": "stream",
          "text": [
            "             Date    Station Area Description  ...        AH       MAV        CD\n",
            "1      01/01/2013        Tallaght    Fire CAR  ...  02:25:43  02:45:43  03:05:43\n",
            "3      01/01/2013        Tallaght    Fire CAR  ...  04:50:48  05:10:48  05:30:48\n",
            "6      01/01/2013   Dun Laoghaire  Fire ALARM  ...  05:55:13  06:15:13  06:35:13\n",
            "7      01/01/2013         Tara St  Fire ALARM  ...  00:30:00  00:50:00  01:10:00\n",
            "8      01/01/2013      Balbriggan  Fire ALARM  ...  06:40:10  07:00:10  07:20:10\n",
            "...           ...             ...         ...  ...       ...       ...       ...\n",
            "38548  03/11/2015        Skerries    Fire CAR  ...       NaN  00:20:00  00:40:00\n",
            "38551  28/04/2018  Blanchardstown  Fire ALARM  ...       NaN  00:20:00  00:40:00\n",
            "38552  09/10/2018      Kilbarrack    Fire CAR  ...       NaN  00:20:00  00:40:00\n",
            "38554  21/11/2018      Donnybrook  Fire ALARM  ...       NaN         -         -\n",
            "38555  01/01/2019      Kilbarrack  Fire ALARM  ...       NaN         -         -\n",
            "\n",
            "[10252 rows x 11 columns]\n"
          ],
          "name": "stdout"
        }
      ]
    },
    {
      "cell_type": "code",
      "metadata": {
        "colab": {
          "base_uri": "https://localhost:8080/",
          "height": 402
        },
        "id": "_5O7GPOJgR_v",
        "outputId": "edb25f16-e6b6-427f-af05-12a0437ce9e4"
      },
      "source": [
        "#Output the total number of call outs by Date and Station Area.\r\n",
        "df3.groupby(['Station Area','Date']).count()['TOC'].reset_index(name='counts')"
      ],
      "execution_count": 36,
      "outputs": [
        {
          "output_type": "execute_result",
          "data": {
            "text/html": [
              "<div>\n",
              "<style scoped>\n",
              "    .dataframe tbody tr th:only-of-type {\n",
              "        vertical-align: middle;\n",
              "    }\n",
              "\n",
              "    .dataframe tbody tr th {\n",
              "        vertical-align: top;\n",
              "    }\n",
              "\n",
              "    .dataframe thead th {\n",
              "        text-align: right;\n",
              "    }\n",
              "</style>\n",
              "<table border=\"1\" class=\"dataframe\">\n",
              "  <thead>\n",
              "    <tr style=\"text-align: right;\">\n",
              "      <th></th>\n",
              "      <th>Station Area</th>\n",
              "      <th>Date</th>\n",
              "      <th>counts</th>\n",
              "    </tr>\n",
              "  </thead>\n",
              "  <tbody>\n",
              "    <tr>\n",
              "      <th>0</th>\n",
              "      <td>Balbriggan</td>\n",
              "      <td>01/01/2013</td>\n",
              "      <td>3</td>\n",
              "    </tr>\n",
              "    <tr>\n",
              "      <th>1</th>\n",
              "      <td>Balbriggan</td>\n",
              "      <td>01/01/2014</td>\n",
              "      <td>1</td>\n",
              "    </tr>\n",
              "    <tr>\n",
              "      <th>2</th>\n",
              "      <td>Balbriggan</td>\n",
              "      <td>01/04/2013</td>\n",
              "      <td>1</td>\n",
              "    </tr>\n",
              "    <tr>\n",
              "      <th>3</th>\n",
              "      <td>Balbriggan</td>\n",
              "      <td>01/05/2013</td>\n",
              "      <td>1</td>\n",
              "    </tr>\n",
              "    <tr>\n",
              "      <th>4</th>\n",
              "      <td>Balbriggan</td>\n",
              "      <td>01/11/2015</td>\n",
              "      <td>1</td>\n",
              "    </tr>\n",
              "    <tr>\n",
              "      <th>...</th>\n",
              "      <td>...</td>\n",
              "      <td>...</td>\n",
              "      <td>...</td>\n",
              "    </tr>\n",
              "    <tr>\n",
              "      <th>6787</th>\n",
              "      <td>Tara St</td>\n",
              "      <td>31/07/2015</td>\n",
              "      <td>2</td>\n",
              "    </tr>\n",
              "    <tr>\n",
              "      <th>6788</th>\n",
              "      <td>Tara St</td>\n",
              "      <td>31/08/2013</td>\n",
              "      <td>1</td>\n",
              "    </tr>\n",
              "    <tr>\n",
              "      <th>6789</th>\n",
              "      <td>Tara St</td>\n",
              "      <td>31/10/2014</td>\n",
              "      <td>2</td>\n",
              "    </tr>\n",
              "    <tr>\n",
              "      <th>6790</th>\n",
              "      <td>Tara St</td>\n",
              "      <td>31/10/2015</td>\n",
              "      <td>2</td>\n",
              "    </tr>\n",
              "    <tr>\n",
              "      <th>6791</th>\n",
              "      <td>Tara St</td>\n",
              "      <td>31/12/2013</td>\n",
              "      <td>1</td>\n",
              "    </tr>\n",
              "  </tbody>\n",
              "</table>\n",
              "<p>6792 rows × 3 columns</p>\n",
              "</div>"
            ],
            "text/plain": [
              "     Station Area        Date  counts\n",
              "0      Balbriggan  01/01/2013       3\n",
              "1      Balbriggan  01/01/2014       1\n",
              "2      Balbriggan  01/04/2013       1\n",
              "3      Balbriggan  01/05/2013       1\n",
              "4      Balbriggan  01/11/2015       1\n",
              "...           ...         ...     ...\n",
              "6787      Tara St  31/07/2015       2\n",
              "6788      Tara St  31/08/2013       1\n",
              "6789      Tara St  31/10/2014       2\n",
              "6790      Tara St  31/10/2015       2\n",
              "6791      Tara St  31/12/2013       1\n",
              "\n",
              "[6792 rows x 3 columns]"
            ]
          },
          "metadata": {
            "tags": []
          },
          "execution_count": 36
        }
      ]
    },
    {
      "cell_type": "code",
      "metadata": {
        "id": "Y3_NYsHxgyH1"
      },
      "source": [
        "#Replace any instance of “,” (in any column) with an empty string.\r\n",
        "df=df.replace(',', '')\r\n"
      ],
      "execution_count": 61,
      "outputs": []
    },
    {
      "cell_type": "code",
      "metadata": {
        "id": "k2jPdxjJhFX_"
      },
      "source": [
        "#Replace any instance of “-” (in any column) with an empty string.\r\n",
        "df=df.replace('-','')"
      ],
      "execution_count": 62,
      "outputs": []
    },
    {
      "cell_type": "code",
      "metadata": {
        "id": "FdI_1MFHhRqV"
      },
      "source": [
        "#Drop rows for the columns (AH, MAV, CD) where at least one row value is NULL.\r\n",
        "df=df.dropna(subset=['AH','MAV','CD'])"
      ],
      "execution_count": 63,
      "outputs": []
    },
    {
      "cell_type": "code",
      "metadata": {
        "colab": {
          "base_uri": "https://localhost:8080/"
        },
        "id": "2JMzTlk_lhx5",
        "outputId": "60849c27-a918-43dc-9ae2-fb315929d100"
      },
      "source": [
        "print(df)"
      ],
      "execution_count": 64,
      "outputs": [
        {
          "output_type": "stream",
          "text": [
            "             Date    Station Area   Description  ...        AH       MAV        CD\n",
            "0      01/01/2013     Rathfarnham     S/S OTHER  ...  02:28:54  02:48:54  03:08:54\n",
            "1      01/01/2013        Tallaght      Fire CAR  ...  02:25:43  02:45:43  03:05:43\n",
            "2      01/01/2013    North Strand       S/S RTA  ...  04:11:20  04:31:20  04:51:20\n",
            "3      01/01/2013        Tallaght      Fire CAR  ...  04:50:48  05:10:48  05:30:48\n",
            "4      01/01/2013         Finglas  Fire DOM PER  ...  04:50:47  05:10:47  05:30:47\n",
            "...           ...             ...           ...  ...       ...       ...       ...\n",
            "38490  16/10/2015        Tallaght    Fire SMALL  ...            00:20:00  00:40:00\n",
            "38491  13/08/2015        Tallaght    Fire GRASS  ...            00:20:00  00:40:00\n",
            "38496  23/06/2015         Finglas    Fire SMALL  ...            00:20:00  00:40:00\n",
            "38497  23/12/2015   Dun Laoghaire    S/S TREEDN  ...            00:20:00  00:40:00\n",
            "38500  30/09/2015  Blanchardstown    Fire SMALL  ...            00:20:00  00:40:00\n",
            "\n",
            "[153 rows x 11 columns]\n"
          ],
          "name": "stdout"
        }
      ]
    },
    {
      "cell_type": "code",
      "metadata": {
        "id": "QnV48NTKhYyQ"
      },
      "source": [
        "#Drop any duplicate rows (except for the first occurrence).\r\n",
        "empty = df6[ df6['AH'] == '' ].index"
      ],
      "execution_count": 42,
      "outputs": []
    },
    {
      "cell_type": "code",
      "metadata": {
        "id": "qIHVf369j7x5"
      },
      "source": [
        "df=df.drop_duplicates(subset=None, keep='first', inplace=False, ignore_index=False)\r\n",
        "#df.drop_duplicates(subset=['brand', 'style'], keep='last')"
      ],
      "execution_count": 66,
      "outputs": []
    },
    {
      "cell_type": "code",
      "metadata": {
        "colab": {
          "base_uri": "https://localhost:8080/"
        },
        "id": "zbCCH0qZdnYC",
        "outputId": "ffae05a8-c844-4683-dd8f-fdfb63fe07fd"
      },
      "source": [
        "#df=df.drop(empty)\r\n",
        "print(df)\r\n"
      ],
      "execution_count": 67,
      "outputs": [
        {
          "output_type": "stream",
          "text": [
            "             Date    Station Area   Description  ...        AH       MAV        CD\n",
            "0      01/01/2013     Rathfarnham     S/S OTHER  ...  02:28:54  02:48:54  03:08:54\n",
            "1      01/01/2013        Tallaght      Fire CAR  ...  02:25:43  02:45:43  03:05:43\n",
            "2      01/01/2013    North Strand       S/S RTA  ...  04:11:20  04:31:20  04:51:20\n",
            "3      01/01/2013        Tallaght      Fire CAR  ...  04:50:48  05:10:48  05:30:48\n",
            "4      01/01/2013         Finglas  Fire DOM PER  ...  04:50:47  05:10:47  05:30:47\n",
            "...           ...             ...           ...  ...       ...       ...       ...\n",
            "38490  16/10/2015        Tallaght    Fire SMALL  ...            00:20:00  00:40:00\n",
            "38491  13/08/2015        Tallaght    Fire GRASS  ...            00:20:00  00:40:00\n",
            "38496  23/06/2015         Finglas    Fire SMALL  ...            00:20:00  00:40:00\n",
            "38497  23/12/2015   Dun Laoghaire    S/S TREEDN  ...            00:20:00  00:40:00\n",
            "38500  30/09/2015  Blanchardstown    Fire SMALL  ...            00:20:00  00:40:00\n",
            "\n",
            "[152 rows x 11 columns]\n"
          ],
          "name": "stdout"
        }
      ]
    },
    {
      "cell_type": "code",
      "metadata": {
        "colab": {
          "base_uri": "https://localhost:8080/"
        },
        "id": "4b82SWONrxZm",
        "outputId": "14f09061-a886-4ada-d03b-ced7cfaef1cf"
      },
      "source": [
        "import sqlite3\r\n",
        "db = sqlite3.connect(\"Staging.db\")\r\n",
        "print('Connection established!!!')\r\n",
        "db.execute(\"drop table if exists results\")\r\n",
        "try:\r\n",
        "  db.execute(\"create table FireBrigadeAndAmbulanceCallOuts(Date DATE, [Station Area] text,Description text, TOC text, ORD text, MOB text,IA text,LS text, AH text, MAV text, CD text)\")\r\n",
        "  Print('Table FireBrigadeAndAmbulanceCallOuts Created.')\r\n",
        "except:\r\n",
        "   print(\"Table Already exist !!\")"
      ],
      "execution_count": 74,
      "outputs": [
        {
          "output_type": "stream",
          "text": [
            "Connection established!!!\n",
            "Table Already exist !!\n"
          ],
          "name": "stdout"
        }
      ]
    }
  ]
}