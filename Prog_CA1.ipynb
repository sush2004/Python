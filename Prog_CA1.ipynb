{
  "nbformat": 4,
  "nbformat_minor": 0,
  "metadata": {
    "colab": {
      "name": "Prog_CA1.ipynb",
      "provenance": [],
      "authorship_tag": "ABX9TyN5vC5Ij+g8sfArK9wdOeUB",
      "include_colab_link": true
    },
    "kernelspec": {
      "name": "python3",
      "display_name": "Python 3"
    }
  },
  "cells": [
    {
      "cell_type": "markdown",
      "metadata": {
        "id": "view-in-github",
        "colab_type": "text"
      },
      "source": [
        "<a href=\"https://colab.research.google.com/github/sush2004/Python/blob/main/Prog_CA1.ipynb\" target=\"_parent\"><img src=\"https://colab.research.google.com/assets/colab-badge.svg\" alt=\"Open In Colab\"/></a>"
      ]
    },
    {
      "cell_type": "markdown",
      "metadata": {
        "id": "Bzk_tZ0bohi6"
      },
      "source": [
        "**Payslip**"
      ]
    },
    {
      "cell_type": "code",
      "metadata": {
        "id": "8-Sz_IjNoamq"
      },
      "source": [
        "def Payslip():\n",
        "  e_name = input(\"Enter employee name\")\n",
        "  e_num = input(\"Enter employee number\")\n",
        "  w_end = input(\"Enter week ending date\")  #date format look for\n",
        "  w_hrs = float(input(\"Enter number of hours worked\")) #No of working hours\n",
        "  h_rate = float(input(\"Enter rate per hour\"))           #hourly rate\n",
        "  o_rate = float(input(\"Enter overtime rate\")) \n",
        "  tax = float(input(\"Enter standard tax rate\"))\n",
        "  o_tax = float(input(\"Enter overtime tax rate\"))\n",
        "\n",
        "  print(\"{:40} PAYSLIP\".format(' '))\n",
        "  print(\"WEEK ENDING\", w_end)\n",
        "  print(\"Employee:\", e_name)\n",
        "  print(\"Empoyee Number:\", e_num)\n",
        "  print(\"{0:20} Earnings {1:12} Deductions\".format(' ',' '))\n",
        "  print(\"{0:20} Hours {1:2} Rate {2:1} Total\".format(' ',' ',' '))\n",
        "    \n",
        "  \n",
        "  if  w_hrs <= 37.50:\n",
        "        tot = w_hrs * h_rate #total pay calculation\n",
        "        t_tax = tot * (tax/100)    # tax on total income\n",
        "        t_ded = sum([t_tax])       # total deduction\n",
        "        net = tot - t_ded          # net pay calculation  \n",
        "\n",
        "        print(\"Hours (normal) {0:10} {1:8} {2:7} Tax @{3:3}% {4:3} \".format(w_hrs,h_rate,tot,tax,t_ded))\n",
        "        print(\"\\n{0:20} Total pay: {1:26}\".format(' ',tot))\n",
        "        print(\"{0:20} Total deductions: {1:19}\".format(' ',t_ded))\n",
        "        print(\"{0:20} Net pay: {1:28}\".format(' ', net))\n",
        "  else:\n",
        "        o_hrs = w_hrs - 37.50   #overtime hours calculation\n",
        "        w_pay = 37.5 * h_rate   # normal weekly pay\n",
        "        o_pay = o_hrs * (o_rate) #overtime pay calculation\n",
        "        tot = round(sum([w_pay,o_pay]),2) \n",
        "        w_pay_tax = round(w_pay*(tax/100),2) # tax on normal shift hours\n",
        "        o_pay_tax = round(o_pay*(o_tax/100),2) #tax on overtime shift hours\n",
        "        t_ded = round(sum([w_pay_tax,o_pay_tax]),2)\n",
        "        net = round(tot - t_ded,2)  #net pay calculation\n",
        "  \n",
        "        print(\"Hours (normal) {0:10} {1:8} {2:7} Tax @{3:3}% {4:3} \".format(37.50, h_rate,w_pay,tax,w_pay_tax))\n",
        "        print(\"Hours (overtime) {0:8} {1:8} {2:7} Tax @{3:3}% {4:3} \".format(o_hrs,o_rate,o_pay,o_tax,o_pay_tax))\n",
        "        print(\"\\n{0:20} Total pay: {1:27} \".format(' ',tot))\n",
        "        print(\"{0:20} Total deductions: {1:20}\".format(' ',t_ded))\n",
        "        print(\"{0:20} Net pay: {1:29}\".format(' ',net))\n",
        "  \n",
        "\n",
        "Payslip()"
      ],
      "execution_count": null,
      "outputs": []
    },
    {
      "cell_type": "markdown",
      "metadata": {
        "id": "bi912WYpo0As"
      },
      "source": [
        "**Split and print DomainName\\Username**"
      ]
    },
    {
      "cell_type": "code",
      "metadata": {
        "id": "RPyFtaoGoo5Q"
      },
      "source": [
        "print(\"##########################\\nWELCOME TO THE DBS CONSOLE\\n##########################\")\n",
        "def split_domain():\n",
        "  text = input(\"Please enter username in Name\\\\Username format :\")\n",
        "  s =  \"\\\\\" in text                     #storing \\\\ in variable s\n",
        "  if s == True and text.count(\"\\\\\")==1:         #validating count of '\\' in string \n",
        "    print(\"Domain: \", text.split(\"\\\\\")[0])\n",
        "    print(\"Username: \", text.split(\"\\\\\")[1])  \n",
        "  else:\n",
        "    print(\"Invalid format, Please enter Name\\\\Username format :\")\n",
        "    split_domain()\n",
        "\n",
        "split_domain()"
      ],
      "execution_count": null,
      "outputs": []
    },
    {
      "cell_type": "markdown",
      "metadata": {
        "id": "moz65qEypDVz"
      },
      "source": [
        "**WAP that stores the integers, counts the frequency of each integer and displays the frequency**"
      ]
    },
    {
      "cell_type": "code",
      "metadata": {
        "id": "H1s3PjTDo_8x"
      },
      "source": [
        "def frequency():\n",
        "  print(\"###############################\\n Welcome to DBS Console \\n###############################\")\n",
        "  #validate the input \n",
        "  while True:\n",
        "    element = input(\"Input the number of elements to be stored in the list :\")\n",
        "    try: \n",
        "      element = int(element)\n",
        "    except:\n",
        "      print(\"please enter number/integer value.\\n\")\n",
        "      continue\n",
        "    break\n",
        "\n",
        "  print(\"Input {} elements in the list :\".format(element))\n",
        "  num_list = []\n",
        "\n",
        "  for i in range(element):\n",
        "    num = map(int, input(\"element - {} : \".format(i)).split())\n",
        "    for x in num:\n",
        "      num_list.append(x)\n",
        "  print(\"\\nThe frequency of all elements of the list: \")\n",
        "\n",
        "  for count in set(num_list):\n",
        "    print(count, 'occurs', num_list.count(count), 'times')\n",
        "\n",
        "frequency()"
      ],
      "execution_count": null,
      "outputs": []
    },
    {
      "cell_type": "markdown",
      "metadata": {
        "id": "Ua_GGs9jpVC_"
      },
      "source": [
        "**WAP for Phonebook**"
      ]
    },
    {
      "cell_type": "code",
      "metadata": {
        "id": "lRR34t_JpIvu"
      },
      "source": [
        "def print_menu():\n",
        "    print('1. Add a Phone number')\n",
        "    print('2. Delete a Phone Number')\n",
        "    print('3. Update a Phone Number')\n",
        "    print('4. Lookup a Phone Number')\n",
        "    print('5. Quit')\n",
        "    #print()\n",
        "\n",
        "print(book)\n",
        "def add_contact():\n",
        "  name = input(\"Name: \")\n",
        "  if name.title() in book:\n",
        "    print(\"The contact already exists :\",book[name.title()])\n",
        "  else:\n",
        "    while True:\n",
        "      phone = input(\"number: \")\n",
        "      try:\n",
        "        phone = int(phone)\n",
        "        if phone > 0:           #condition to check for positive integers\n",
        "          book[name.title()] = phone\n",
        "          print(\"Contact has been added successfully to the phonebook\")\n",
        "        else:\n",
        "          print(\"that's not correct input, please try again :\")\n",
        "          continue\n",
        "      except:\n",
        "        print(\"please enter number/integer value.\")\n",
        "        continue\n",
        "      break\n",
        "         \n",
        "def delete_contact():\n",
        "  print(\"Delete contact\")\n",
        "  name = input(\"Name: \")\n",
        "  if name.title() in book:\n",
        "    del book[name.title()]\n",
        "    print(\"The contact has been deleted successfully\")\n",
        "  else:\n",
        "    print(name.title(), \"was not found in the phonebook\")\n",
        "\n",
        "def update_contact():\n",
        "  print(\"Update contact\")\n",
        "  name = input(\"Name: \" )\n",
        "  if name.title() in book:\n",
        "    option = input(\"Do you want to update name(yes/no) :\")\n",
        "    if option.title() == 'Yes':                             # title() used for case sensitive user input\n",
        "      up_name = input(\"Enter new name for the contact\")    #user inputting updated name in contact\n",
        "      book[up_name.title()] = book.pop(name.title())\n",
        "      print(\"name for the contact has been updated\",book)\n",
        "    else:                            \n",
        "      b = input(\"Do you want to update number(yes/no) :\")\n",
        "      if b.title() == 'Yes':\n",
        "        phone = int(input(\"Enter new phone number for the contact\"))\n",
        "        book.update({name:phone})\n",
        "        print(\"phone number for {} has been updated\".format(name))      \n",
        "      else:\n",
        "        print(\"Thank you for using phonebook\")\n",
        "  else:\n",
        "    print(name, \"was not found\")\n",
        "\n",
        "def search_contact():\n",
        "  print(\"Search contact\")\n",
        "  name = input(\"Name: \")\n",
        "  if name.title() in book:\n",
        "    print(\"The number is\", book[name.title()])\n",
        "  else:\n",
        "    print(name, \"was not found\") \n",
        "    a = input(\"Do you want add the contact? (yes/no)\")\n",
        "    if a.title() =='Yes':\n",
        "     add_contact()  \n",
        "    else:\n",
        "      print(\"Thank you for using phonebook\")\n",
        " \n",
        "book = {}\n",
        "menu_choice = 0\n",
        "print_menu()\n",
        "while menu_choice != 5:  \n",
        "  menu_choice = int(input(\"Type in a number (1-5): \"))\n",
        "  if menu_choice == 1:\n",
        "    add_contact()\n",
        "  elif menu_choice == 2:\n",
        "    delete_contact()\n",
        "  elif menu_choice == 3:\n",
        "    update_contact()\n",
        "  elif menu_choice == 4:\n",
        "    search_contact()\n",
        "  elif menu_choice == 5:\n",
        "    break\n",
        "  else:\n",
        "    print(\"You have entered incorrect input, try again\")\n",
        "    print_menu()\n",
        "\n",
        "print_menu()"
      ],
      "execution_count": null,
      "outputs": []
    }
  ]
}