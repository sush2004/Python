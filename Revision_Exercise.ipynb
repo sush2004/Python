{
  "nbformat": 4,
  "nbformat_minor": 0,
  "metadata": {
    "colab": {
      "name": "Revision_Exercise.ipynb",
      "provenance": [],
      "collapsed_sections": [],
      "authorship_tag": "ABX9TyPTV3m15Q19vUMV+ucDX906",
      "include_colab_link": true
    },
    "kernelspec": {
      "name": "python3",
      "display_name": "Python 3"
    }
  },
  "cells": [
    {
      "cell_type": "markdown",
      "metadata": {
        "id": "view-in-github",
        "colab_type": "text"
      },
      "source": [
        "<a href=\"https://colab.research.google.com/github/sush2004/Python/blob/main/Revision_Exercise.ipynb\" target=\"_parent\"><img src=\"https://colab.research.google.com/assets/colab-badge.svg\" alt=\"Open In Colab\"/></a>"
      ]
    },
    {
      "cell_type": "markdown",
      "metadata": {
        "id": "fOtBLs84jTVI"
      },
      "source": [
        "Question 1:"
      ]
    },
    {
      "cell_type": "code",
      "metadata": {
        "colab": {
          "base_uri": "https://localhost:8080/"
        },
        "id": "1XwfcgDQID_I",
        "outputId": "569830b9-619c-46df-9bb7-a8cea4f805b3"
      },
      "source": [
        "listOne = [3,6,9,12,15,18,21]\r\n",
        "listTwo = [4,8,12,16,20,24,28]\r\n",
        "\r\n",
        "list_one_odd_elements = []\r\n",
        "should_add = False\r\n",
        "for element in listOne:\r\n",
        "  if should_add:\r\n",
        "    list_one_odd_elements.append(element)\r\n",
        "  should_add = not should_add\r\n",
        "print('Element at odd-index positions from list one')\r\n",
        "print(list_one_odd_elements)\r\n",
        "\r\n",
        "list_two_even_elements = []\r\n",
        "should_add = True\r\n",
        "for element in listTwo:\r\n",
        "  if should_add:\r\n",
        "    list_two_even_elements.append(element)\r\n",
        "  should_add = not should_add\r\n",
        "print('Element at even-index positions from list one')\r\n",
        "print(list_two_even_elements)\r\n",
        "  \r\n",
        "list_three = list_one_odd_elements + list_two_even_elements\r\n",
        "print('Printing Final third list')\r\n",
        "print(list_three)\r\n"
      ],
      "execution_count": null,
      "outputs": [
        {
          "output_type": "stream",
          "text": [
            "Element at odd-index positions from list one\n",
            "[6, 12, 18]\n",
            "Element at even-index positions from list one\n",
            "[4, 12, 20, 28]\n",
            "Printing Final third list\n",
            "[6, 12, 18, 4, 12, 20, 28]\n"
          ],
          "name": "stdout"
        }
      ]
    },
    {
      "cell_type": "code",
      "metadata": {
        "id": "I6TfefuwKa1D"
      },
      "source": [
        "## using functions:\r\n",
        "def get_indexes(the_list, should_add):\r\n",
        "  elements = []\r\n",
        "  should_add = False\r\n",
        "  for element in the_list:\r\n",
        "    if should_add:\r\n",
        "      elements.append(element)\r\n",
        "      should_add = not should_add\r\n",
        "  return elements\r\n",
        "\r\n",
        "def get_even_indexes(the_list):\r\n",
        "  return get_even_indexes(the_list, True)\r\n",
        "\r\n",
        "def get_even_indexes(the_list):\r\n",
        "  return get_even_indexes(the_list, False)\r\n",
        "\r\n",
        "def solution_1():\r\n",
        "  listOne = [3,6,9,12,15,18,21]\r\n",
        "  listTwo = [4,8,12,16,20,24,28]\r\n",
        "\r\n",
        "  list_one_odd_elements\r\n",
        "  print('Element at odd-index positions from list one')\r\n",
        "  print(list_one_odd_elements)\r\n",
        "\r\n",
        "\r\n",
        "\r\n",
        "list_one_odd_elements\r\n",
        "print('Element at odd-index positions from list one')\r\n",
        "print(list_one_odd_elements)\r\n"
      ],
      "execution_count": null,
      "outputs": []
    },
    {
      "cell_type": "code",
      "metadata": {
        "colab": {
          "base_uri": "https://localhost:8080/"
        },
        "id": "ebLwmJnxOOwn",
        "outputId": "db15f67a-f683-4518-ab10-7382946fe069"
      },
      "source": [
        "def get_indexes(the_list, should_add):\r\n",
        "    elements = []\r\n",
        "    # Ways to solve this problem - via for loop\r\n",
        "    for element in the_list:\r\n",
        "        if should_add:\r\n",
        "            elements.append(element)\r\n",
        "        should_add = not should_add\r\n",
        "    return elements\r\n",
        "\r\n",
        "def get_even_indexes(the_list):\r\n",
        "    return get_indexes(the_list, True)\r\n",
        "\r\n",
        "def get_odd_indexes(the_list):\r\n",
        "    return get_indexes(the_list, False)\r\n",
        "\r\n",
        "def solution_1():\r\n",
        "    # Question 1\r\n",
        "    listOne = [3, 6, 9, 12, 15, 18, 21]\r\n",
        "    listTwo = [4, 8, 12, 16, 20, 24, 28]\r\n",
        "    \r\n",
        "    list_one_odd_elements = get_odd_indexes(listOne)   \r\n",
        "    print('Element at odd-index positions from list one')\r\n",
        "    print(list_one_odd_elements)\r\n",
        "    \r\n",
        "    # we could also use a filter function or list comprehension\r\n",
        "    \r\n",
        "    list_two_even_elements = get_even_indexes(listTwo)\r\n",
        "    print('Element at even-index positions from list two')\r\n",
        "    print(list_two_even_elements)\r\n",
        "    \r\n",
        "    list_three = list_one_odd_elements + list_two_even_elements\r\n",
        "    \r\n",
        "    print('Printing Final third list')\r\n",
        "    print(list_three)\r\n",
        "\r\n",
        "if __name__ == '__main__':\r\n",
        "    solution_1()\r\n"
      ],
      "execution_count": null,
      "outputs": [
        {
          "output_type": "stream",
          "text": [
            "Element at odd-index positions from list one\n",
            "[6, 12, 18]\n",
            "Element at even-index positions from list two\n",
            "[4, 12, 20, 28]\n",
            "Printing Final third list\n",
            "[6, 12, 18, 4, 12, 20, 28]\n"
          ],
          "name": "stdout"
        }
      ]
    },
    {
      "cell_type": "markdown",
      "metadata": {
        "id": "Gmy3mHPxjcaC"
      },
      "source": [
        "Question 2:"
      ]
    },
    {
      "cell_type": "code",
      "metadata": {
        "colab": {
          "base_uri": "https://localhost:8080/"
        },
        "id": "Pllrwx8rOpXC",
        "outputId": "c9830042-212d-4fd2-fb5c-9ed011dbdcdc"
      },
      "source": [
        "list = [34,54,67,89,11,43,94]\r\n",
        "print('Original list :', list)\r\n",
        "list.pop(4)\r\n",
        "print('list after removing element at index 4 :', list)\r\n",
        "list.insert(2, 11)\r\n",
        "print('list after Adding element at index 2 :', list)\r\n",
        "list.append(11)\r\n",
        "print('List after Adding element at last :', list)"
      ],
      "execution_count": null,
      "outputs": [
        {
          "output_type": "stream",
          "text": [
            "Original list : [34, 54, 67, 89, 11, 43, 94]\n",
            "list after removing element at index 4 : [34, 54, 67, 89, 43, 94]\n",
            "list after Adding element at index 2 : [34, 54, 11, 67, 89, 43, 94]\n",
            "List after Adding element at last : [34, 54, 11, 67, 89, 43, 94, 11]\n"
          ],
          "name": "stdout"
        }
      ]
    },
    {
      "cell_type": "markdown",
      "metadata": {
        "id": "Td83sa7Ljkwq"
      },
      "source": [
        "Question 4:"
      ]
    },
    {
      "cell_type": "code",
      "metadata": {
        "colab": {
          "base_uri": "https://localhost:8080/"
        },
        "id": "snAZ54A4hDeq",
        "outputId": "59b42c63-4b92-43a3-a964-0e472b90703b"
      },
      "source": [
        "values = {}\r\n",
        "  # what about creating a set\r\n",
        "a_list = [11,45,8,11,23,45,23,45,89]\r\n",
        "for value in set(a_list):\r\n",
        "  # count the occurrences of the value in the list\r\n",
        "  values[value] = a_list.count(value)\r\n",
        "  \r\n",
        "print(values)"
      ],
      "execution_count": null,
      "outputs": [
        {
          "output_type": "stream",
          "text": [
            "{8: 1, 11: 2, 45: 3, 23: 2, 89: 1}\n"
          ],
          "name": "stdout"
        }
      ]
    },
    {
      "cell_type": "markdown",
      "metadata": {
        "id": "MB95-UxfpnDQ"
      },
      "source": [
        "Question 5:"
      ]
    },
    {
      "cell_type": "code",
      "metadata": {
        "colab": {
          "base_uri": "https://localhost:8080/",
          "height": 195
        },
        "id": "__CUHJinjpj6",
        "outputId": "1c2e3dd6-fb3e-4503-83bf-3f80a12c42a3"
      },
      "source": [
        "\"C:\\Users\\sush2\\OneDrive\\Desktop\\python.txt\""
      ],
      "execution_count": null,
      "outputs": [
        {
          "output_type": "error",
          "ename": "TypeError",
          "evalue": "ignored",
          "traceback": [
            "\u001b[0;31m---------------------------------------------------------------------------\u001b[0m",
            "\u001b[0;31mTypeError\u001b[0m                                 Traceback (most recent call last)",
            "\u001b[0;32m<ipython-input-50-6e1a2caa77ed>\u001b[0m in \u001b[0;36m<module>\u001b[0;34m()\u001b[0m\n\u001b[1;32m      1\u001b[0m \u001b[0mlist1\u001b[0m \u001b[0;34m=\u001b[0m \u001b[0;34m[\u001b[0m\u001b[0;36m2\u001b[0m\u001b[0;34m,\u001b[0m\u001b[0;36m3\u001b[0m\u001b[0;34m,\u001b[0m\u001b[0;36m4\u001b[0m\u001b[0;34m,\u001b[0m\u001b[0;36m5\u001b[0m\u001b[0;34m,\u001b[0m\u001b[0;36m6\u001b[0m\u001b[0;34m,\u001b[0m\u001b[0;36m7\u001b[0m\u001b[0;34m,\u001b[0m\u001b[0;36m8\u001b[0m\u001b[0;34m]\u001b[0m\u001b[0;34m\u001b[0m\u001b[0;34m\u001b[0m\u001b[0m\n\u001b[1;32m      2\u001b[0m \u001b[0mlist2\u001b[0m \u001b[0;34m=\u001b[0m \u001b[0;34m[\u001b[0m\u001b[0;36m4\u001b[0m\u001b[0;34m,\u001b[0m\u001b[0;36m9\u001b[0m\u001b[0;34m,\u001b[0m\u001b[0;36m16\u001b[0m\u001b[0;34m,\u001b[0m\u001b[0;36m25\u001b[0m\u001b[0;34m,\u001b[0m\u001b[0;36m36\u001b[0m\u001b[0;34m,\u001b[0m\u001b[0;36m49\u001b[0m\u001b[0;34m,\u001b[0m\u001b[0;36m64\u001b[0m\u001b[0;34m]\u001b[0m\u001b[0;34m\u001b[0m\u001b[0;34m\u001b[0m\u001b[0m\n\u001b[0;32m----> 3\u001b[0;31m \u001b[0mprint\u001b[0m\u001b[0;34m(\u001b[0m\u001b[0mmap\u001b[0m\u001b[0;34m(\u001b[0m\u001b[0;32mlambda\u001b[0m \u001b[0mX\u001b[0m\u001b[0;34m:\u001b[0m \u001b[0mprint\u001b[0m\u001b[0;34m(\u001b[0m\u001b[0mX\u001b[0m\u001b[0;34m[\u001b[0m\u001b[0;36m0\u001b[0m\u001b[0;34m]\u001b[0m\u001b[0;34m,\u001b[0m\u001b[0mX\u001b[0m\u001b[0;34m[\u001b[0m\u001b[0;36m1\u001b[0m\u001b[0;34m]\u001b[0m\u001b[0;34m)\u001b[0m\u001b[0;34m,\u001b[0m \u001b[0mlist\u001b[0m\u001b[0;34m(\u001b[0m\u001b[0mzip\u001b[0m\u001b[0;34m(\u001b[0m\u001b[0mlist1\u001b[0m\u001b[0;34m,\u001b[0m\u001b[0mlist2\u001b[0m\u001b[0;34m)\u001b[0m\u001b[0;34m)\u001b[0m\u001b[0;34m)\u001b[0m\u001b[0;34m)\u001b[0m\u001b[0;34m\u001b[0m\u001b[0;34m\u001b[0m\u001b[0m\n\u001b[0m",
            "\u001b[0;31mTypeError\u001b[0m: 'list' object is not callable"
          ]
        }
      ]
    },
    {
      "cell_type": "markdown",
      "metadata": {
        "id": "m4lLWt_KtjY7"
      },
      "source": [
        "Question 6:"
      ]
    },
    {
      "cell_type": "code",
      "metadata": {
        "colab": {
          "base_uri": "https://localhost:8080/"
        },
        "id": "UXZxhffeppJC",
        "outputId": "bd8da25b-c2af-4a2b-8eeb-00aa512261ce"
      },
      "source": [
        "set1 = {65, 42,78,83,23,57,29}\r\n",
        "set2 = {67,73,43,48,83,57,29}\r\n",
        "intersection = set(set1) & set(set2)\r\n",
        "print(intersection)\r\n",
        "# Remove common elements of list from the set\r\n",
        "set1.difference_update(intersection)\r\n",
        "print(\"First set after removing common element:\\n\",set1)\r\n"
      ],
      "execution_count": null,
      "outputs": [
        {
          "output_type": "stream",
          "text": [
            "{57, 83, 29}\n",
            "First set after removing common element:\n",
            " {65, 42, 78, 23}\n"
          ],
          "name": "stdout"
        }
      ]
    },
    {
      "cell_type": "markdown",
      "metadata": {
        "id": "uJ6TFXW_cvkR"
      },
      "source": [
        "Question 1(Quiz)"
      ]
    },
    {
      "cell_type": "code",
      "metadata": {
        "colab": {
          "base_uri": "https://localhost:8080/"
        },
        "id": "c2XES1BBtisD",
        "outputId": "317549cd-b6ae-4d6b-f024-f48b73312c03"
      },
      "source": [
        "def leap_year(year):\r\n",
        "    \"\"\"Determine whether a year is a leap year or not.\"\"\"\r\n",
        "    return year % 4 == 0 and (year % 100 != 0 or year % 400 == 0)\r\n",
        "\r\n",
        "leap_year(1900)"
      ],
      "execution_count": null,
      "outputs": [
        {
          "output_type": "execute_result",
          "data": {
            "text/plain": [
              "False"
            ]
          },
          "metadata": {
            "tags": []
          },
          "execution_count": 9
        }
      ]
    },
    {
      "cell_type": "code",
      "metadata": {
        "id": "fiWqfMegrd6O"
      },
      "source": [
        ""
      ],
      "execution_count": null,
      "outputs": []
    },
    {
      "cell_type": "code",
      "metadata": {
        "id": "lxE7y4u2fJl9"
      },
      "source": [
        "import collections\r\n",
        "import pprint\r\n",
        "file_input = input(\"C:/Users/sush2/OneDrive/Desktop/python.txt\")\r\n",
        "with open(file_input, 'r') as info:\r\n",
        "  count = collections.Counter(info.read())\r\n",
        "  value = pprint.pformat(count)\r\n",
        "print(value)"
      ],
      "execution_count": null,
      "outputs": []
    },
    {
      "cell_type": "code",
      "metadata": {
        "id": "9n4H9bXVebs9",
        "colab": {
          "base_uri": "https://localhost:8080/"
        },
        "outputId": "ddd20192-c111-4969-8a2d-0577f4b5b5df"
      },
      "source": [
        "total = 0\r\n",
        "thefile = open(argv[2])\r\n",
        "lines = thefile.readlines()\r\n",
        "for line in lines:\r\n",
        "  for char in line:\r\n",
        "    if char == argv[1]:\r\n",
        "      total+=1\r\n",
        "\r\n",
        "thefile.close()\r\n",
        "print(\"{} occurences.\".format(total))\r\n",
        "    "
      ],
      "execution_count": null,
      "outputs": [
        {
          "output_type": "stream",
          "text": [
            "0 occurences.\n"
          ],
          "name": "stdout"
        }
      ]
    },
    {
      "cell_type": "code",
      "metadata": {
        "id": "WfNY7oABfJLM"
      },
      "source": [
        "file = \r\n",
        "file = open(\"Customer.txt\",\"a\") \r\n",
        "file.write(\"John Smith\\n123\")\r\n",
        "file.close() "
      ],
      "execution_count": null,
      "outputs": []
    },
    {
      "cell_type": "code",
      "metadata": {
        "colab": {
          "base_uri": "https://localhost:8080/",
          "height": 313
        },
        "id": "ajo0XbESth_W",
        "outputId": "0fab0b83-008e-44c7-a99c-232c0160c04b"
      },
      "source": [
        "def split_file(file_name, lines_to_split):\r\n",
        "    before_file = None\r\n",
        "    after_file = None\r\n",
        "    with open(file_name, 'r') as file:\r\n",
        "        for line1,line2 in enumerate(file):\r\n",
        "            if line1 <= lines_to_split - 1:\r\n",
        "                before_file = open(\"before.txt\",'a')\r\n",
        "                before_file.write(line2)\r\n",
        "            else:\r\n",
        "                after_file = open(\"after.txt\",\"a\")\r\n",
        "                after_file.write(line2)\r\n",
        "                \r\n",
        "\r\n",
        "\r\n",
        "split_file('tx.txt',4 )"
      ],
      "execution_count": null,
      "outputs": [
        {
          "output_type": "error",
          "ename": "FileNotFoundError",
          "evalue": "ignored",
          "traceback": [
            "\u001b[0;31m---------------------------------------------------------------------------\u001b[0m",
            "\u001b[0;31mFileNotFoundError\u001b[0m                         Traceback (most recent call last)",
            "\u001b[0;32m<ipython-input-121-0b968e3c70a1>\u001b[0m in \u001b[0;36m<module>\u001b[0;34m()\u001b[0m\n\u001b[1;32m     13\u001b[0m \u001b[0;34m\u001b[0m\u001b[0m\n\u001b[1;32m     14\u001b[0m \u001b[0;34m\u001b[0m\u001b[0m\n\u001b[0;32m---> 15\u001b[0;31m \u001b[0msplit_file\u001b[0m\u001b[0;34m(\u001b[0m\u001b[0;34m'tx.txt'\u001b[0m\u001b[0;34m,\u001b[0m\u001b[0;36m4\u001b[0m \u001b[0;34m)\u001b[0m\u001b[0;34m\u001b[0m\u001b[0;34m\u001b[0m\u001b[0m\n\u001b[0m",
            "\u001b[0;32m<ipython-input-121-0b968e3c70a1>\u001b[0m in \u001b[0;36msplit_file\u001b[0;34m(file_name, lines_to_split)\u001b[0m\n\u001b[1;32m      2\u001b[0m     \u001b[0mbefore_file\u001b[0m \u001b[0;34m=\u001b[0m \u001b[0;32mNone\u001b[0m\u001b[0;34m\u001b[0m\u001b[0;34m\u001b[0m\u001b[0m\n\u001b[1;32m      3\u001b[0m     \u001b[0mafter_file\u001b[0m \u001b[0;34m=\u001b[0m \u001b[0;32mNone\u001b[0m\u001b[0;34m\u001b[0m\u001b[0;34m\u001b[0m\u001b[0m\n\u001b[0;32m----> 4\u001b[0;31m     \u001b[0;32mwith\u001b[0m \u001b[0mopen\u001b[0m\u001b[0;34m(\u001b[0m\u001b[0mfile_name\u001b[0m\u001b[0;34m,\u001b[0m \u001b[0;34m'r'\u001b[0m\u001b[0;34m)\u001b[0m \u001b[0;32mas\u001b[0m \u001b[0mfile\u001b[0m\u001b[0;34m:\u001b[0m\u001b[0;34m\u001b[0m\u001b[0;34m\u001b[0m\u001b[0m\n\u001b[0m\u001b[1;32m      5\u001b[0m         \u001b[0;32mfor\u001b[0m \u001b[0mline1\u001b[0m\u001b[0;34m,\u001b[0m\u001b[0mline2\u001b[0m \u001b[0;32min\u001b[0m \u001b[0menumerate\u001b[0m\u001b[0;34m(\u001b[0m\u001b[0mfile\u001b[0m\u001b[0;34m)\u001b[0m\u001b[0;34m:\u001b[0m\u001b[0;34m\u001b[0m\u001b[0;34m\u001b[0m\u001b[0m\n\u001b[1;32m      6\u001b[0m             \u001b[0;32mif\u001b[0m \u001b[0mline1\u001b[0m \u001b[0;34m<=\u001b[0m \u001b[0mlines_to_split\u001b[0m \u001b[0;34m-\u001b[0m \u001b[0;36m1\u001b[0m\u001b[0;34m:\u001b[0m\u001b[0;34m\u001b[0m\u001b[0;34m\u001b[0m\u001b[0m\n",
            "\u001b[0;31mFileNotFoundError\u001b[0m: [Errno 2] No such file or directory: 'tx.txt'"
          ]
        }
      ]
    },
    {
      "cell_type": "code",
      "metadata": {
        "id": "fPVMaeVmV4Wz"
      },
      "source": [
        "Question 4:"
      ],
      "execution_count": null,
      "outputs": []
    },
    {
      "cell_type": "code",
      "metadata": {
        "colab": {
          "base_uri": "https://localhost:8080/"
        },
        "id": "iS2BAJMAO_PO",
        "outputId": "86c69b3c-2484-4488-e13b-8dcf9e173866"
      },
      "source": [
        "#from sys import argv\r\n",
        "#customer_file = argv[1]\r\n",
        "\r\n",
        "#file = open(\"Customer.txt\",\"a\") \r\n",
        "#f= open(\"guru99.txt\",\"r\")\r\n",
        "customer_name = input(\"Customer name: \")\r\n",
        "customer_id = input(\"Customer ID: \")\r\n",
        "\r\n",
        "f = open(\"guru99.txt\", \"a\")\r\n",
        "f.write(customer_name + \" \" + customer_id + \"\\n\")\r\n",
        "f.close()"
      ],
      "execution_count": 21,
      "outputs": [
        {
          "output_type": "stream",
          "text": [
            "Customer name: fff\n",
            "Customer ID: 555\n"
          ],
          "name": "stdout"
        }
      ]
    },
    {
      "cell_type": "code",
      "metadata": {
        "colab": {
          "base_uri": "https://localhost:8080/"
        },
        "id": "XWkKsACus3Ch",
        "outputId": "f96f5faa-bb0b-4d67-a7dc-cda71692be41"
      },
      "source": [
        "string1=\"This is an Example of Count function in Python !!\"\r\n",
        "print(\"Count of t Excluding first word is:\", string1.count(\"t\",4,len(string1)))"
      ],
      "execution_count": null,
      "outputs": [
        {
          "output_type": "stream",
          "text": [
            "Count of t Excluding first word is: 3\n"
          ],
          "name": "stdout"
        }
      ]
    },
    {
      "cell_type": "code",
      "metadata": {
        "colab": {
          "base_uri": "https://localhost:8080/",
          "height": 229
        },
        "id": "mqBgNUj2tyA6",
        "outputId": "2c06801d-f0e6-4729-91f9-7f6105061cc3"
      },
      "source": [
        "import numpy as np\r\n",
        "import pandas as pd\r\n",
        "\r\n",
        "total = 0 \r\n",
        "thefile = open(\"python.txt\", \"r\")\r\n",
        "char = input(\"Enter the character you wanna search\")\r\n",
        "total = thefile.str.count(char)\r\n",
        "print(\"{} occurences.\".format(total)) \r\n"
      ],
      "execution_count": null,
      "outputs": [
        {
          "output_type": "error",
          "ename": "FileNotFoundError",
          "evalue": "ignored",
          "traceback": [
            "\u001b[0;31m---------------------------------------------------------------------------\u001b[0m",
            "\u001b[0;31mFileNotFoundError\u001b[0m                         Traceback (most recent call last)",
            "\u001b[0;32m<ipython-input-8-7a37e77ec56a>\u001b[0m in \u001b[0;36m<module>\u001b[0;34m()\u001b[0m\n\u001b[1;32m      3\u001b[0m \u001b[0;34m\u001b[0m\u001b[0m\n\u001b[1;32m      4\u001b[0m \u001b[0mtotal\u001b[0m \u001b[0;34m=\u001b[0m \u001b[0;36m0\u001b[0m\u001b[0;34m\u001b[0m\u001b[0;34m\u001b[0m\u001b[0m\n\u001b[0;32m----> 5\u001b[0;31m \u001b[0mthefile\u001b[0m \u001b[0;34m=\u001b[0m \u001b[0mopen\u001b[0m\u001b[0;34m(\u001b[0m\u001b[0;34m\"python.txt\"\u001b[0m\u001b[0;34m,\u001b[0m \u001b[0;34m\"r\"\u001b[0m\u001b[0;34m)\u001b[0m\u001b[0;34m\u001b[0m\u001b[0;34m\u001b[0m\u001b[0m\n\u001b[0m\u001b[1;32m      6\u001b[0m \u001b[0mchar\u001b[0m \u001b[0;34m=\u001b[0m \u001b[0minput\u001b[0m\u001b[0;34m(\u001b[0m\u001b[0;34m\"Enter the character you wanna search\"\u001b[0m\u001b[0;34m)\u001b[0m\u001b[0;34m\u001b[0m\u001b[0;34m\u001b[0m\u001b[0m\n\u001b[1;32m      7\u001b[0m \u001b[0mtotal\u001b[0m \u001b[0;34m=\u001b[0m \u001b[0mthefile\u001b[0m\u001b[0;34m.\u001b[0m\u001b[0mstr\u001b[0m\u001b[0;34m.\u001b[0m\u001b[0mcount\u001b[0m\u001b[0;34m(\u001b[0m\u001b[0mchar\u001b[0m\u001b[0;34m)\u001b[0m\u001b[0;34m\u001b[0m\u001b[0;34m\u001b[0m\u001b[0m\n",
            "\u001b[0;31mFileNotFoundError\u001b[0m: [Errno 2] No such file or directory: 'python.txt'"
          ]
        }
      ]
    },
    {
      "cell_type": "code",
      "metadata": {
        "colab": {
          "base_uri": "https://localhost:8080/",
          "height": 128
        },
        "id": "SWzT0HnpvVge",
        "outputId": "94d46bdb-7b9d-469f-f3fd-81287648d598"
      },
      "source": [
        "def word_count(str):\r\n",
        "  counts = dict()\r\n",
        "\twords = str.split()\r\n",
        "\t\r\n",
        "\tfor word in words:\r\n",
        "\t  if word in counts:\r\n",
        "        counts[word] += 1\r\n",
        "\t  else:\r\n",
        "        counts[word] = 1\r\n",
        "\t\r\n",
        "\treturn counts\r\n",
        "\t\r\n",
        "\tprint( word_count('the quick brown fox jumps over the lazy dog.'))\r\n",
        " "
      ],
      "execution_count": null,
      "outputs": [
        {
          "output_type": "error",
          "ename": "TabError",
          "evalue": "ignored",
          "traceback": [
            "\u001b[0;36m  File \u001b[0;32m\"<ipython-input-7-368867308b8b>\"\u001b[0;36m, line \u001b[0;32m3\u001b[0m\n\u001b[0;31m    words = str.split()\u001b[0m\n\u001b[0m                       ^\u001b[0m\n\u001b[0;31mTabError\u001b[0m\u001b[0;31m:\u001b[0m inconsistent use of tabs and spaces in indentation\n"
          ]
        }
      ]
    }
  ]
}