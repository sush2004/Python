{
  "nbformat": 4,
  "nbformat_minor": 0,
  "metadata": {
    "colab": {
      "name": "Library_System.ipynb",
      "provenance": [],
      "authorship_tag": "ABX9TyNA8jnbsoicwpHBpRupyWHQ",
      "include_colab_link": true
    },
    "kernelspec": {
      "name": "python3",
      "display_name": "Python 3"
    }
  },
  "cells": [
    {
      "cell_type": "markdown",
      "metadata": {
        "id": "view-in-github",
        "colab_type": "text"
      },
      "source": [
        "<a href=\"https://colab.research.google.com/github/sush2004/Python/blob/main/Library_System.ipynb\" target=\"_parent\"><img src=\"https://colab.research.google.com/assets/colab-badge.svg\" alt=\"Open In Colab\"/></a>"
      ]
    },
    {
      "cell_type": "code",
      "metadata": {
        "colab": {
          "base_uri": "https://localhost:8080/",
          "height": 1000
        },
        "id": "pXQ0Tqf10TtR",
        "outputId": "f61b83da-21b5-4812-cf31-ed3357ef11ab"
      },
      "source": [
        "import sys\r\n",
        "class Library:\r\n",
        "      def __init__(self,listofbooks):         #initialise method, it gets called implicitely\r\n",
        "            self.availablebooks=listofbooks\r\n",
        "\r\n",
        "      def displayAvailablebooks(self):\r\n",
        "                   print(\"The books we have in our library are as follows:\")\r\n",
        "                   print(\"================================\")\r\n",
        "                   for book in self.availablebooks:\r\n",
        "                         print(book) \r\n",
        "      def lendBook(self,requestedBook):\r\n",
        "            if requestedBook in self.availablebooks:\r\n",
        "                  print(\"The book you requested has now been borrowed\")\r\n",
        "                  self.availablebooks.remove(requestedBook)\r\n",
        "            else:\r\n",
        "                  print(\"Sorry the book you have requested is currently not in the library\")\r\n",
        "                  \r\n",
        "      def addBook(self,returnedBook):\r\n",
        "            self.availablebooks.append(returnedBook)\r\n",
        "            print(\"Thanks for returning your borrowed book\")\r\n",
        "            \r\n",
        "\r\n",
        "class Student:\r\n",
        "      def requestBook(self):\r\n",
        "            print(\"Enter the name of the book you'd like to borrow>>\")\r\n",
        "            self.book=input()\r\n",
        "            return self.book\r\n",
        "\r\n",
        "      def returnBook(self):\r\n",
        "            print(\"Enter the name of the book you'd like to return>>\")\r\n",
        "            self.book=input()\r\n",
        "            return self.book\r\n",
        "\r\n",
        "def main():            \r\n",
        "      library=Library([\"The Last Battle\",\"The Screwtape letters\",\"The Great Divorce\"])\r\n",
        "      student=Student()\r\n",
        "      done=False\r\n",
        "      while done==False:\r\n",
        "            print('''======LIBRARY MENU=======\r\n",
        "                  1. Display all available books\r\n",
        "                  2. Request a book\r\n",
        "                  3. Return a book\r\n",
        "                  4. Exit\r\n",
        "                  ''')\r\n",
        "            choice=int(input(\"Enter Choice:\"))\r\n",
        "            if choice==1:\r\n",
        "                        library.displayAvailablebooks()\r\n",
        "            elif choice==2:\r\n",
        "                        library.lendBook(student.requestBook())\r\n",
        "            elif choice==3:\r\n",
        "                        library.addBook(student.returnBook())\r\n",
        "            elif choice==4:\r\n",
        "                  sys.exit()\r\n",
        "                  \r\n",
        "main()\r\n"
      ],
      "execution_count": 2,
      "outputs": [
        {
          "output_type": "stream",
          "text": [
            "======LIBRARY MENU=======\n",
            "                  1. Display all available books\n",
            "                  2. Request a book\n",
            "                  3. Return a book\n",
            "                  4. Exit\n",
            "                  \n",
            "Enter Choice:1\n",
            "The books we have in our library are as follows:\n",
            "================================\n",
            "The Last Battle\n",
            "The Screwtape letters\n",
            "The Great Divorce\n",
            "======LIBRARY MENU=======\n",
            "                  1. Display all available books\n",
            "                  2. Request a book\n",
            "                  3. Return a book\n",
            "                  4. Exit\n",
            "                  \n",
            "Enter Choice:2\n",
            "Enter the name of the book you'd like to borrow>>\n",
            "The last Battle\n",
            "Sorry the book you have requested is currently not in the library\n",
            "======LIBRARY MENU=======\n",
            "                  1. Display all available books\n",
            "                  2. Request a book\n",
            "                  3. Return a book\n",
            "                  4. Exit\n",
            "                  \n",
            "Enter Choice:2\n",
            "Enter the name of the book you'd like to borrow>>\n",
            "The Last Battle\n",
            "The book you requested has now been borrowed\n",
            "======LIBRARY MENU=======\n",
            "                  1. Display all available books\n",
            "                  2. Request a book\n",
            "                  3. Return a book\n",
            "                  4. Exit\n",
            "                  \n",
            "Enter Choice:1\n",
            "The books we have in our library are as follows:\n",
            "================================\n",
            "The Screwtape letters\n",
            "The Great Divorce\n",
            "======LIBRARY MENU=======\n",
            "                  1. Display all available books\n",
            "                  2. Request a book\n",
            "                  3. Return a book\n",
            "                  4. Exit\n",
            "                  \n",
            "Enter Choice:2\n",
            "Enter the name of the book you'd like to borrow>>\n",
            "The Great Divorce\n",
            "The book you requested has now been borrowed\n",
            "======LIBRARY MENU=======\n",
            "                  1. Display all available books\n",
            "                  2. Request a book\n",
            "                  3. Return a book\n",
            "                  4. Exit\n",
            "                  \n",
            "Enter Choice:1\n",
            "The books we have in our library are as follows:\n",
            "================================\n",
            "The Screwtape letters\n",
            "======LIBRARY MENU=======\n",
            "                  1. Display all available books\n",
            "                  2. Request a book\n",
            "                  3. Return a book\n",
            "                  4. Exit\n",
            "                  \n",
            "Enter Choice:3\n",
            "Enter the name of the book you'd like to return>>\n",
            "The Great Divorce\n",
            "Thanks for returning your borrowed book\n",
            "======LIBRARY MENU=======\n",
            "                  1. Display all available books\n",
            "                  2. Request a book\n",
            "                  3. Return a book\n",
            "                  4. Exit\n",
            "                  \n",
            "Enter Choice:1\n",
            "The books we have in our library are as follows:\n",
            "================================\n",
            "The Screwtape letters\n",
            "The Great Divorce\n",
            "======LIBRARY MENU=======\n",
            "                  1. Display all available books\n",
            "                  2. Request a book\n",
            "                  3. Return a book\n",
            "                  4. Exit\n",
            "                  \n",
            "Enter Choice:4\n"
          ],
          "name": "stdout"
        },
        {
          "output_type": "error",
          "ename": "SystemExit",
          "evalue": "ignored",
          "traceback": [
            "An exception has occurred, use %tb to see the full traceback.\n",
            "\u001b[0;31mSystemExit\u001b[0m\n"
          ]
        },
        {
          "output_type": "stream",
          "text": [
            "/usr/local/lib/python3.6/dist-packages/IPython/core/interactiveshell.py:2890: UserWarning: To exit: use 'exit', 'quit', or Ctrl-D.\n",
            "  warn(\"To exit: use 'exit', 'quit', or Ctrl-D.\", stacklevel=1)\n"
          ],
          "name": "stderr"
        }
      ]
    },
    {
      "cell_type": "code",
      "metadata": {
        "id": "OuzZFZZN44B0",
        "colab": {
          "base_uri": "https://localhost:8080/"
        },
        "outputId": "4721722f-406e-48f3-d5d7-c42483af3fbc"
      },
      "source": [
        "library=Library([\"The Last Battle\",\"The Screwtape letters\",\"The Great Divorce\"])\r\n",
        "print(Library)"
      ],
      "execution_count": null,
      "outputs": [
        {
          "output_type": "stream",
          "text": [
            "<class '__main__.Library'>\n"
          ],
          "name": "stdout"
        }
      ]
    }
  ]
}