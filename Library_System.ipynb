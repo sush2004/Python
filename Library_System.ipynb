{
  "nbformat": 4,
  "nbformat_minor": 0,
  "metadata": {
    "colab": {
      "name": "Library_System.ipynb",
      "provenance": [],
      "authorship_tag": "ABX9TyNdjRBFIz+d2KzUaAtp68l3",
      "include_colab_link": true
    },
    "kernelspec": {
      "name": "python3",
      "display_name": "Python 3"
    }
  },
  "cells": [
    {
      "cell_type": "markdown",
      "metadata": {
        "id": "view-in-github",
        "colab_type": "text"
      },
      "source": [
        "<a href=\"https://colab.research.google.com/github/sush2004/Python/blob/main/Library_System.ipynb\" target=\"_parent\"><img src=\"https://colab.research.google.com/assets/colab-badge.svg\" alt=\"Open In Colab\"/></a>"
      ]
    },
    {
      "cell_type": "code",
      "metadata": {
        "id": "pXQ0Tqf10TtR"
      },
      "source": [
        "import sys\r\n",
        "class Library:\r\n",
        "      def __init__(self,listofbooks):#this init method is the first method to be invoked when you create an object\r\n",
        "            #what attributes does a library in general have? - for now, let's abstract and just say it has availablebooks (we're not going to program the shelves, and walls in!)\r\n",
        "            self.availablebooks=listofbooks\r\n",
        "\r\n",
        "      def displayAvailablebooks(self):\r\n",
        "                   print(\"The books we have in our library are as follows:\")\r\n",
        "                   print(\"================================\")\r\n",
        "                   for book in self.availablebooks:\r\n",
        "                         print(book)\r\n",
        "      def lendBook(self,requestedBook):\r\n",
        "            if requestedBook in self.availablebooks:\r\n",
        "                  print(\"The book you requested has now been borrowed\")\r\n",
        "                  self.availablebooks.remove(requestedBook)\r\n",
        "            else:\r\n",
        "                  print(\"Sorry the book you have requested is currently not in the library\")\r\n",
        "                  \r\n",
        "      def addBook(self,returnedBook):\r\n",
        "            self.availablebooks.append(returnedBook)\r\n",
        "            print(\"Thanks for returning your borrowed book\")\r\n",
        "            \r\n",
        "\r\n",
        "class Student:\r\n",
        "      def requestBook(self):\r\n",
        "            print(\"Enter the name of the book you'd like to borrow>>\")\r\n",
        "            self.book=input()\r\n",
        "            return self.book\r\n",
        "\r\n",
        "      def returnBook(self):\r\n",
        "            print(\"Enter the name of the book you'd like to return>>\")\r\n",
        "            self.book=input()\r\n",
        "            return self.book\r\n",
        "\r\n",
        "def main():            \r\n",
        "      library=Library([\"The Last Battle\",\"The Screwtape letters\",\"The Great Divorce\"])\r\n",
        "      student=Student()\r\n",
        "      done=False\r\n",
        "      while done==False:\r\n",
        "            print(\"\"\" ======LIBRARY MENU=======\r\n",
        "                  1. Display all available books\r\n",
        "                  2. Request a book\r\n",
        "                  3. Return a book\r\n",
        "                  4. Exit\r\n",
        "                  \"\"\")\r\n",
        "            choice=int(input(\"Enter Choice:\"))\r\n",
        "            if choice==1:\r\n",
        "                        library.displayAvailablebooks()\r\n",
        "            elif choice==2:\r\n",
        "                        library.lendBook(student.requestBook())\r\n",
        "            elif choice==3:\r\n",
        "                        library.addBook(student.returnBook())\r\n",
        "            elif choice==4:\r\n",
        "                  sys.exit()\r\n",
        "                  \r\n",
        "main()\r\n"
      ],
      "execution_count": null,
      "outputs": []
    }
  ]
}