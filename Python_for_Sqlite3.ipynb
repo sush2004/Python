{
  "nbformat": 4,
  "nbformat_minor": 0,
  "metadata": {
    "colab": {
      "name": "Python_for_Sqlite3.ipynb",
      "provenance": [],
      "authorship_tag": "ABX9TyOAlHD4lrfhWnJ4A+PT8aD9",
      "include_colab_link": true
    },
    "kernelspec": {
      "name": "python3",
      "display_name": "Python 3"
    }
  },
  "cells": [
    {
      "cell_type": "markdown",
      "metadata": {
        "id": "view-in-github",
        "colab_type": "text"
      },
      "source": [
        "<a href=\"https://colab.research.google.com/github/sush2004/Python/blob/main/Python_for_Sqlite3.ipynb\" target=\"_parent\"><img src=\"https://colab.research.google.com/assets/colab-badge.svg\" alt=\"Open In Colab\"/></a>"
      ]
    },
    {
      "cell_type": "code",
      "metadata": {
        "id": "UVvpb3-6cnmv"
      },
      "source": [
        "import pandas as pd\n",
        "import sqlite3\n",
        "from datetime import date"
      ],
      "execution_count": 1,
      "outputs": []
    },
    {
      "cell_type": "code",
      "metadata": {
        "id": "Xmy3v6tndBRS"
      },
      "source": [
        "db = sqlite3.connect(\"dr_testing.db\")\r\n",
        "db.execute(\"drop table if exists results\")\r\n",
        "try:\r\n",
        "  db.execute(\"create table results(Name text, Mobile text,Mail text)\")\r\n",
        "except:\r\n",
        "  print(\"Table Already existed !!\")"
      ],
      "execution_count": 2,
      "outputs": []
    },
    {
      "cell_type": "code",
      "metadata": {
        "id": "-cDnSOJ0dEeY"
      },
      "source": [
        "db = sqlite3.connect(\"dr_testing.db\")\n"
      ],
      "execution_count": 3,
      "outputs": []
    },
    {
      "cell_type": "code",
      "metadata": {
        "id": "PrxzQoIBdh2Y"
      },
      "source": [
        "\r\n",
        "#Date = date.today().strftime(\"%d-%m-%Y\")\r\n",
        "Name = \"Darren Redmond\"\r\n",
        "Mobile = \"9000011101\"\r\n",
        "Mail = \"darren.redmond@gmail.com\""
      ],
      "execution_count": 4,
      "outputs": []
    },
    {
      "cell_type": "code",
      "metadata": {
        "id": "R1GpG4YQdopy"
      },
      "source": [
        "cmd = \"insert into results(Name, Mobile,Mail) values('{}','{}','{}')\".format(Name,Mobile,Mail)\r\n",
        "db.execute(cmd)\r\n",
        "db.commit()"
      ],
      "execution_count": 5,
      "outputs": []
    },
    {
      "cell_type": "code",
      "metadata": {
        "id": "8idkoMZ0dtbl",
        "colab": {
          "base_uri": "https://localhost:8080/"
        },
        "outputId": "0bc066d9-236a-47ad-a243-f80924c10b3a"
      },
      "source": [
        "rs = db.execute('SELECT * FROM results')\r\n",
        "for row in rs:\r\n",
        "    print (row)"
      ],
      "execution_count": 6,
      "outputs": [
        {
          "output_type": "stream",
          "text": [
            "('Darren Redmond', '9000011101', 'darren.redmond@gmail.com')\n"
          ],
          "name": "stdout"
        }
      ]
    },
    {
      "cell_type": "code",
      "metadata": {
        "colab": {
          "base_uri": "https://localhost:8080/",
          "height": 77
        },
        "id": "KA6XTktmdx4i",
        "outputId": "adfb251f-7170-4ada-f30c-f0a4cf94eaf5"
      },
      "source": [
        "qry = 'SELECT * FROM results'\r\n",
        "df = pd.read_sql_query(qry, db)\r\n",
        "df.head()"
      ],
      "execution_count": 7,
      "outputs": [
        {
          "output_type": "execute_result",
          "data": {
            "text/html": [
              "<div>\n",
              "<style scoped>\n",
              "    .dataframe tbody tr th:only-of-type {\n",
              "        vertical-align: middle;\n",
              "    }\n",
              "\n",
              "    .dataframe tbody tr th {\n",
              "        vertical-align: top;\n",
              "    }\n",
              "\n",
              "    .dataframe thead th {\n",
              "        text-align: right;\n",
              "    }\n",
              "</style>\n",
              "<table border=\"1\" class=\"dataframe\">\n",
              "  <thead>\n",
              "    <tr style=\"text-align: right;\">\n",
              "      <th></th>\n",
              "      <th>Name</th>\n",
              "      <th>Mobile</th>\n",
              "      <th>Mail</th>\n",
              "    </tr>\n",
              "  </thead>\n",
              "  <tbody>\n",
              "    <tr>\n",
              "      <th>0</th>\n",
              "      <td>Darren Redmond</td>\n",
              "      <td>9000011101</td>\n",
              "      <td>darren.redmond@gmail.com</td>\n",
              "    </tr>\n",
              "  </tbody>\n",
              "</table>\n",
              "</div>"
            ],
            "text/plain": [
              "             Name      Mobile                      Mail\n",
              "0  Darren Redmond  9000011101  darren.redmond@gmail.com"
            ]
          },
          "metadata": {
            "tags": []
          },
          "execution_count": 7
        }
      ]
    },
    {
      "cell_type": "code",
      "metadata": {
        "id": "296YTwZmamTi"
      },
      "source": [
        "def pushtoDB(Name,Mobile,Mail):\r\n",
        "#inserting values inside the created table\r\n",
        "    db = sqlite3.connect(\"dr_testing.db\")    \r\n",
        "    cmd = \"insert into results(Name, Mobile,Mail) values('{}','{}','{}')\".format(Name,Mobile,Mail)\r\n",
        "    db.execute(cmd)\r\n",
        "    db.commit()"
      ],
      "execution_count": 8,
      "outputs": []
    },
    {
      "cell_type": "code",
      "metadata": {
        "id": "iM9-R7QmYJdd"
      },
      "source": [
        "pushtoDB(\"Testttt\",\"121\",\"2112\")"
      ],
      "execution_count": 9,
      "outputs": []
    },
    {
      "cell_type": "code",
      "metadata": {
        "colab": {
          "base_uri": "https://localhost:8080/",
          "height": 106
        },
        "id": "1WTlb3LxYPMF",
        "outputId": "f47567c3-d732-48ed-ab92-6a674638467a"
      },
      "source": [
        "db = sqlite3.connect(\"dr_testing.db\")\r\n",
        "qry = \"SELECT * FROM results\"\r\n",
        "df = pd.read_sql_query(qry, db)\r\n",
        "df.head()"
      ],
      "execution_count": 10,
      "outputs": [
        {
          "output_type": "execute_result",
          "data": {
            "text/html": [
              "<div>\n",
              "<style scoped>\n",
              "    .dataframe tbody tr th:only-of-type {\n",
              "        vertical-align: middle;\n",
              "    }\n",
              "\n",
              "    .dataframe tbody tr th {\n",
              "        vertical-align: top;\n",
              "    }\n",
              "\n",
              "    .dataframe thead th {\n",
              "        text-align: right;\n",
              "    }\n",
              "</style>\n",
              "<table border=\"1\" class=\"dataframe\">\n",
              "  <thead>\n",
              "    <tr style=\"text-align: right;\">\n",
              "      <th></th>\n",
              "      <th>Name</th>\n",
              "      <th>Mobile</th>\n",
              "      <th>Mail</th>\n",
              "    </tr>\n",
              "  </thead>\n",
              "  <tbody>\n",
              "    <tr>\n",
              "      <th>0</th>\n",
              "      <td>Darren Redmond</td>\n",
              "      <td>9000011101</td>\n",
              "      <td>darren.redmond@gmail.com</td>\n",
              "    </tr>\n",
              "    <tr>\n",
              "      <th>1</th>\n",
              "      <td>Testttt</td>\n",
              "      <td>121</td>\n",
              "      <td>2112</td>\n",
              "    </tr>\n",
              "  </tbody>\n",
              "</table>\n",
              "</div>"
            ],
            "text/plain": [
              "             Name      Mobile                      Mail\n",
              "0  Darren Redmond  9000011101  darren.redmond@gmail.com\n",
              "1         Testttt         121                      2112"
            ]
          },
          "metadata": {
            "tags": []
          },
          "execution_count": 10
        }
      ]
    },
    {
      "cell_type": "code",
      "metadata": {
        "colab": {
          "base_uri": "https://localhost:8080/"
        },
        "id": "_pIRQdHcaFIB",
        "outputId": "cc47f272-4305-4467-b58e-a90afe643ade"
      },
      "source": [
        "Name = input(\"Which user would you like to update\")\r\n",
        "Mobile = input(\"new number\")\r\n",
        "#cmd = \"update results set mobile = '{}' where name like '{}%'\".format(Mobile,Name)\r\n",
        "#patter update\r\n",
        "cmd = \"update results set mobile = '{}' where name like '%{}%'\".format(Mobile,Name)\r\n",
        "db.execute(cmd)\r\n",
        "db.commit()"
      ],
      "execution_count": 13,
      "outputs": [
        {
          "output_type": "stream",
          "text": [
            "Which user would you like to updateDarren Redmond\n",
            "new number8888888\n"
          ],
          "name": "stdout"
        }
      ]
    },
    {
      "cell_type": "code",
      "metadata": {
        "colab": {
          "base_uri": "https://localhost:8080/",
          "height": 106
        },
        "id": "KdU0mLwzbJzi",
        "outputId": "6100ad6b-a270-44dd-d774-eabf421816d2"
      },
      "source": [
        "df = pd.read_sql_query(qry, db)\r\n",
        "df.head()"
      ],
      "execution_count": 16,
      "outputs": [
        {
          "output_type": "execute_result",
          "data": {
            "text/html": [
              "<div>\n",
              "<style scoped>\n",
              "    .dataframe tbody tr th:only-of-type {\n",
              "        vertical-align: middle;\n",
              "    }\n",
              "\n",
              "    .dataframe tbody tr th {\n",
              "        vertical-align: top;\n",
              "    }\n",
              "\n",
              "    .dataframe thead th {\n",
              "        text-align: right;\n",
              "    }\n",
              "</style>\n",
              "<table border=\"1\" class=\"dataframe\">\n",
              "  <thead>\n",
              "    <tr style=\"text-align: right;\">\n",
              "      <th></th>\n",
              "      <th>Name</th>\n",
              "      <th>Mobile</th>\n",
              "      <th>Mail</th>\n",
              "    </tr>\n",
              "  </thead>\n",
              "  <tbody>\n",
              "    <tr>\n",
              "      <th>0</th>\n",
              "      <td>Darren Redmond</td>\n",
              "      <td>1</td>\n",
              "      <td>darren.redmond@gmail.com</td>\n",
              "    </tr>\n",
              "    <tr>\n",
              "      <th>1</th>\n",
              "      <td>Testttt</td>\n",
              "      <td>1</td>\n",
              "      <td>2112</td>\n",
              "    </tr>\n",
              "  </tbody>\n",
              "</table>\n",
              "</div>"
            ],
            "text/plain": [
              "             Name Mobile                      Mail\n",
              "0  Darren Redmond      1  darren.redmond@gmail.com\n",
              "1         Testttt      1                      2112"
            ]
          },
          "metadata": {
            "tags": []
          },
          "execution_count": 16
        }
      ]
    },
    {
      "cell_type": "code",
      "metadata": {
        "colab": {
          "base_uri": "https://localhost:8080/"
        },
        "id": "9BMAz1CabwLi",
        "outputId": "1a1e31c5-94b6-4959-d7f8-39b96d50c3a5"
      },
      "source": [
        "Name = input(\"Which user would you like to update\")\r\n",
        "Mobile = input(\"new number\")\r\n",
        "cmd = \"update results set mobile = '{}' or name = '{}'\".format(Mobile,Name)\r\n",
        "#patter update\r\n",
        "#cmd = \"update results set mobile = '{}' where name like '%{}%'\".format(Mobile,Name)\r\n",
        "db.execute(cmd)\r\n",
        "db.commit()"
      ],
      "execution_count": 15,
      "outputs": [
        {
          "output_type": "stream",
          "text": [
            "Which user would you like to updateDarren Redmond\n",
            "new number777777777\n"
          ],
          "name": "stdout"
        }
      ]
    },
    {
      "cell_type": "code",
      "metadata": {
        "colab": {
          "base_uri": "https://localhost:8080/"
        },
        "id": "t7fIBvEycFzz",
        "outputId": "a5c7f3de-6651-4aea-d971-4229310021fe"
      },
      "source": [
        "Name = input(\"Which user would you like to update\")\r\n",
        "Mobile = input(\"new number\")\r\n",
        "cmd = \"delete from results where mobile = '{}' or name = '{}'\".format(Mobile,Name)\r\n",
        "#patter update\r\n",
        "#cmd = \"update results set mobile = '{}' where name like '%{}%'\".format(Mobile,Name)\r\n",
        "db.execute(cmd)\r\n",
        "db.commit()"
      ],
      "execution_count": 17,
      "outputs": [
        {
          "output_type": "stream",
          "text": [
            "Which user would you like to updateTesttttt\n",
            "new number5555555\n"
          ],
          "name": "stdout"
        }
      ]
    },
    {
      "cell_type": "code",
      "metadata": {
        "colab": {
          "base_uri": "https://localhost:8080/",
          "height": 106
        },
        "id": "1vOpoXqCcUxG",
        "outputId": "a855f98e-8af0-43f2-a7eb-b86e6907c868"
      },
      "source": [
        "df = pd.read_sql_query(qry, db)\r\n",
        "df.head()"
      ],
      "execution_count": 18,
      "outputs": [
        {
          "output_type": "execute_result",
          "data": {
            "text/html": [
              "<div>\n",
              "<style scoped>\n",
              "    .dataframe tbody tr th:only-of-type {\n",
              "        vertical-align: middle;\n",
              "    }\n",
              "\n",
              "    .dataframe tbody tr th {\n",
              "        vertical-align: top;\n",
              "    }\n",
              "\n",
              "    .dataframe thead th {\n",
              "        text-align: right;\n",
              "    }\n",
              "</style>\n",
              "<table border=\"1\" class=\"dataframe\">\n",
              "  <thead>\n",
              "    <tr style=\"text-align: right;\">\n",
              "      <th></th>\n",
              "      <th>Name</th>\n",
              "      <th>Mobile</th>\n",
              "      <th>Mail</th>\n",
              "    </tr>\n",
              "  </thead>\n",
              "  <tbody>\n",
              "    <tr>\n",
              "      <th>0</th>\n",
              "      <td>Darren Redmond</td>\n",
              "      <td>1</td>\n",
              "      <td>darren.redmond@gmail.com</td>\n",
              "    </tr>\n",
              "    <tr>\n",
              "      <th>1</th>\n",
              "      <td>Testttt</td>\n",
              "      <td>1</td>\n",
              "      <td>2112</td>\n",
              "    </tr>\n",
              "  </tbody>\n",
              "</table>\n",
              "</div>"
            ],
            "text/plain": [
              "             Name Mobile                      Mail\n",
              "0  Darren Redmond      1  darren.redmond@gmail.com\n",
              "1         Testttt      1                      2112"
            ]
          },
          "metadata": {
            "tags": []
          },
          "execution_count": 18
        }
      ]
    },
    {
      "cell_type": "code",
      "metadata": {
        "colab": {
          "base_uri": "https://localhost:8080/",
          "height": 178
        },
        "id": "bY3CAMvfcdsd",
        "outputId": "90663119-77f4-453d-8ab1-52fcec21a537"
      },
      "source": [
        "for i in range(0,len(data)):\r\n",
        "  pushtoDB(data,iloc[i][0],data.iloc[i][1],data,iloc[i][2])"
      ],
      "execution_count": 20,
      "outputs": [
        {
          "output_type": "error",
          "ename": "NameError",
          "evalue": "ignored",
          "traceback": [
            "\u001b[0;31m---------------------------------------------------------------------------\u001b[0m",
            "\u001b[0;31mNameError\u001b[0m                                 Traceback (most recent call last)",
            "\u001b[0;32m<ipython-input-20-6fd8bf05e8e3>\u001b[0m in \u001b[0;36m<module>\u001b[0;34m()\u001b[0m\n\u001b[0;32m----> 1\u001b[0;31m \u001b[0;32mfor\u001b[0m \u001b[0mi\u001b[0m \u001b[0;32min\u001b[0m \u001b[0mrange\u001b[0m\u001b[0;34m(\u001b[0m\u001b[0;36m0\u001b[0m\u001b[0;34m,\u001b[0m\u001b[0mlen\u001b[0m\u001b[0;34m(\u001b[0m\u001b[0mdata\u001b[0m\u001b[0;34m)\u001b[0m\u001b[0;34m)\u001b[0m\u001b[0;34m:\u001b[0m\u001b[0;34m\u001b[0m\u001b[0;34m\u001b[0m\u001b[0m\n\u001b[0m\u001b[1;32m      2\u001b[0m   \u001b[0mpushtoDB\u001b[0m\u001b[0;34m(\u001b[0m\u001b[0mdata\u001b[0m\u001b[0;34m,\u001b[0m\u001b[0miloc\u001b[0m\u001b[0;34m[\u001b[0m\u001b[0mi\u001b[0m\u001b[0;34m]\u001b[0m\u001b[0;34m[\u001b[0m\u001b[0;36m0\u001b[0m\u001b[0;34m]\u001b[0m\u001b[0;34m,\u001b[0m\u001b[0mdata\u001b[0m\u001b[0;34m.\u001b[0m\u001b[0miloc\u001b[0m\u001b[0;34m[\u001b[0m\u001b[0mi\u001b[0m\u001b[0;34m]\u001b[0m\u001b[0;34m[\u001b[0m\u001b[0;36m1\u001b[0m\u001b[0;34m]\u001b[0m\u001b[0;34m,\u001b[0m\u001b[0mdata\u001b[0m\u001b[0;34m,\u001b[0m\u001b[0miloc\u001b[0m\u001b[0;34m[\u001b[0m\u001b[0mi\u001b[0m\u001b[0;34m]\u001b[0m\u001b[0;34m[\u001b[0m\u001b[0;36m2\u001b[0m\u001b[0;34m]\u001b[0m\u001b[0;34m)\u001b[0m\u001b[0;34m\u001b[0m\u001b[0;34m\u001b[0m\u001b[0m\n",
            "\u001b[0;31mNameError\u001b[0m: name 'data' is not defined"
          ]
        }
      ]
    },
    {
      "cell_type": "code",
      "metadata": {
        "colab": {
          "base_uri": "https://localhost:8080/"
        },
        "id": "r80902yPeC6l",
        "outputId": "2521de53-2d15-4277-889d-d28ab760ec52"
      },
      "source": [
        "data = pd.read_csv(\"dummy.csv\")\r\n",
        "data.head()\r\n",
        "data.shape"
      ],
      "execution_count": 40,
      "outputs": [
        {
          "output_type": "execute_result",
          "data": {
            "text/plain": [
              "(1128, 3)"
            ]
          },
          "metadata": {
            "tags": []
          },
          "execution_count": 40
        }
      ]
    },
    {
      "cell_type": "code",
      "metadata": {
        "colab": {
          "base_uri": "https://localhost:8080/",
          "height": 195
        },
        "id": "qQpqY2nlf2cp",
        "outputId": "3d0bcdc0-d346-45b0-aa84-d642e9a25d2d"
      },
      "source": [
        "qry = 'SELECT * FROM results'\r\n",
        "df = pd.read_sql_query(qry, db)\r\n",
        "df.head()"
      ],
      "execution_count": 41,
      "outputs": [
        {
          "output_type": "execute_result",
          "data": {
            "text/html": [
              "<div>\n",
              "<style scoped>\n",
              "    .dataframe tbody tr th:only-of-type {\n",
              "        vertical-align: middle;\n",
              "    }\n",
              "\n",
              "    .dataframe tbody tr th {\n",
              "        vertical-align: top;\n",
              "    }\n",
              "\n",
              "    .dataframe thead th {\n",
              "        text-align: right;\n",
              "    }\n",
              "</style>\n",
              "<table border=\"1\" class=\"dataframe\">\n",
              "  <thead>\n",
              "    <tr style=\"text-align: right;\">\n",
              "      <th></th>\n",
              "      <th>Name</th>\n",
              "      <th>Mobile</th>\n",
              "      <th>Mail</th>\n",
              "    </tr>\n",
              "  </thead>\n",
              "  <tbody>\n",
              "    <tr>\n",
              "      <th>0</th>\n",
              "      <td>Darren Redmond</td>\n",
              "      <td>1</td>\n",
              "      <td>darren.redmond@gmail.com</td>\n",
              "    </tr>\n",
              "    <tr>\n",
              "      <th>1</th>\n",
              "      <td>Testttt</td>\n",
              "      <td>1</td>\n",
              "      <td>2112</td>\n",
              "    </tr>\n",
              "    <tr>\n",
              "      <th>2</th>\n",
              "      <td>Test1</td>\n",
              "      <td>9000000000</td>\n",
              "      <td>testermail1@gmail.com</td>\n",
              "    </tr>\n",
              "    <tr>\n",
              "      <th>3</th>\n",
              "      <td>Test2</td>\n",
              "      <td>9000000001</td>\n",
              "      <td>testermail2@gmail.com</td>\n",
              "    </tr>\n",
              "    <tr>\n",
              "      <th>4</th>\n",
              "      <td>Test3</td>\n",
              "      <td>9000000002</td>\n",
              "      <td>testermail3@gmail.com</td>\n",
              "    </tr>\n",
              "  </tbody>\n",
              "</table>\n",
              "</div>"
            ],
            "text/plain": [
              "             Name      Mobile                      Mail\n",
              "0  Darren Redmond           1  darren.redmond@gmail.com\n",
              "1         Testttt           1                      2112\n",
              "2           Test1  9000000000     testermail1@gmail.com\n",
              "3           Test2  9000000001     testermail2@gmail.com\n",
              "4           Test3  9000000002     testermail3@gmail.com"
            ]
          },
          "metadata": {
            "tags": []
          },
          "execution_count": 41
        }
      ]
    },
    {
      "cell_type": "code",
      "metadata": {
        "id": "Y0k_c3IlgAY1"
      },
      "source": [
        "for i in range(0,len(data)):\r\n",
        "  pushtoDB(data.iloc[i][0],data.iloc[i][1],data.iloc[i][2])"
      ],
      "execution_count": 37,
      "outputs": []
    },
    {
      "cell_type": "code",
      "metadata": {
        "colab": {
          "base_uri": "https://localhost:8080/",
          "height": 77
        },
        "id": "G1avKyYcgLF8",
        "outputId": "b67e0f01-0693-4dd1-b061-f1e743a2bede"
      },
      "source": [
        "df"
      ],
      "execution_count": 38,
      "outputs": [
        {
          "output_type": "execute_result",
          "data": {
            "text/html": [
              "<div>\n",
              "<style scoped>\n",
              "    .dataframe tbody tr th:only-of-type {\n",
              "        vertical-align: middle;\n",
              "    }\n",
              "\n",
              "    .dataframe tbody tr th {\n",
              "        vertical-align: top;\n",
              "    }\n",
              "\n",
              "    .dataframe thead th {\n",
              "        text-align: right;\n",
              "    }\n",
              "</style>\n",
              "<table border=\"1\" class=\"dataframe\">\n",
              "  <thead>\n",
              "    <tr style=\"text-align: right;\">\n",
              "      <th></th>\n",
              "      <th>Name</th>\n",
              "      <th>Mobile</th>\n",
              "      <th>Mail</th>\n",
              "    </tr>\n",
              "  </thead>\n",
              "  <tbody>\n",
              "    <tr>\n",
              "      <th>0</th>\n",
              "      <td>Testttt</td>\n",
              "      <td>1</td>\n",
              "      <td>2112</td>\n",
              "    </tr>\n",
              "  </tbody>\n",
              "</table>\n",
              "</div>"
            ],
            "text/plain": [
              "      Name Mobile  Mail\n",
              "0  Testttt      1  2112"
            ]
          },
          "metadata": {
            "tags": []
          },
          "execution_count": 38
        }
      ]
    },
    {
      "cell_type": "code",
      "metadata": {
        "colab": {
          "base_uri": "https://localhost:8080/"
        },
        "id": "5krEs3pggnVt",
        "outputId": "395d717b-de4e-4bc2-f864-f4b3ebcea26f"
      },
      "source": [
        "len(df)"
      ],
      "execution_count": 39,
      "outputs": [
        {
          "output_type": "execute_result",
          "data": {
            "text/plain": [
              "1"
            ]
          },
          "metadata": {
            "tags": []
          },
          "execution_count": 39
        }
      ]
    },
    {
      "cell_type": "code",
      "metadata": {
        "colab": {
          "base_uri": "https://localhost:8080/",
          "height": 402
        },
        "id": "TfuiOQCPg2_6",
        "outputId": "907c0600-7759-4d4f-9222-d1daf86f9a7e"
      },
      "source": [
        "df"
      ],
      "execution_count": 42,
      "outputs": [
        {
          "output_type": "execute_result",
          "data": {
            "text/html": [
              "<div>\n",
              "<style scoped>\n",
              "    .dataframe tbody tr th:only-of-type {\n",
              "        vertical-align: middle;\n",
              "    }\n",
              "\n",
              "    .dataframe tbody tr th {\n",
              "        vertical-align: top;\n",
              "    }\n",
              "\n",
              "    .dataframe thead th {\n",
              "        text-align: right;\n",
              "    }\n",
              "</style>\n",
              "<table border=\"1\" class=\"dataframe\">\n",
              "  <thead>\n",
              "    <tr style=\"text-align: right;\">\n",
              "      <th></th>\n",
              "      <th>Name</th>\n",
              "      <th>Mobile</th>\n",
              "      <th>Mail</th>\n",
              "    </tr>\n",
              "  </thead>\n",
              "  <tbody>\n",
              "    <tr>\n",
              "      <th>0</th>\n",
              "      <td>Darren Redmond</td>\n",
              "      <td>1</td>\n",
              "      <td>darren.redmond@gmail.com</td>\n",
              "    </tr>\n",
              "    <tr>\n",
              "      <th>1</th>\n",
              "      <td>Testttt</td>\n",
              "      <td>1</td>\n",
              "      <td>2112</td>\n",
              "    </tr>\n",
              "    <tr>\n",
              "      <th>2</th>\n",
              "      <td>Test1</td>\n",
              "      <td>9000000000</td>\n",
              "      <td>testermail1@gmail.com</td>\n",
              "    </tr>\n",
              "    <tr>\n",
              "      <th>3</th>\n",
              "      <td>Test2</td>\n",
              "      <td>9000000001</td>\n",
              "      <td>testermail2@gmail.com</td>\n",
              "    </tr>\n",
              "    <tr>\n",
              "      <th>4</th>\n",
              "      <td>Test3</td>\n",
              "      <td>9000000002</td>\n",
              "      <td>testermail3@gmail.com</td>\n",
              "    </tr>\n",
              "    <tr>\n",
              "      <th>...</th>\n",
              "      <td>...</td>\n",
              "      <td>...</td>\n",
              "      <td>...</td>\n",
              "    </tr>\n",
              "    <tr>\n",
              "      <th>1125</th>\n",
              "      <td>Test1124</td>\n",
              "      <td>9000001123</td>\n",
              "      <td>testermail1124@gmail.com</td>\n",
              "    </tr>\n",
              "    <tr>\n",
              "      <th>1126</th>\n",
              "      <td>Test1125</td>\n",
              "      <td>9000001124</td>\n",
              "      <td>testermail1125@gmail.com</td>\n",
              "    </tr>\n",
              "    <tr>\n",
              "      <th>1127</th>\n",
              "      <td>Test1126</td>\n",
              "      <td>9000001125</td>\n",
              "      <td>testermail1126@gmail.com</td>\n",
              "    </tr>\n",
              "    <tr>\n",
              "      <th>1128</th>\n",
              "      <td>Test1127</td>\n",
              "      <td>9000001126</td>\n",
              "      <td>testermail1127@gmail.com</td>\n",
              "    </tr>\n",
              "    <tr>\n",
              "      <th>1129</th>\n",
              "      <td>Test1128</td>\n",
              "      <td>9000001127</td>\n",
              "      <td>testermail1128@gmail.com</td>\n",
              "    </tr>\n",
              "  </tbody>\n",
              "</table>\n",
              "<p>1130 rows × 3 columns</p>\n",
              "</div>"
            ],
            "text/plain": [
              "                Name      Mobile                      Mail\n",
              "0     Darren Redmond           1  darren.redmond@gmail.com\n",
              "1            Testttt           1                      2112\n",
              "2              Test1  9000000000     testermail1@gmail.com\n",
              "3              Test2  9000000001     testermail2@gmail.com\n",
              "4              Test3  9000000002     testermail3@gmail.com\n",
              "...              ...         ...                       ...\n",
              "1125        Test1124  9000001123  testermail1124@gmail.com\n",
              "1126        Test1125  9000001124  testermail1125@gmail.com\n",
              "1127        Test1126  9000001125  testermail1126@gmail.com\n",
              "1128        Test1127  9000001126  testermail1127@gmail.com\n",
              "1129        Test1128  9000001127  testermail1128@gmail.com\n",
              "\n",
              "[1130 rows x 3 columns]"
            ]
          },
          "metadata": {
            "tags": []
          },
          "execution_count": 42
        }
      ]
    },
    {
      "cell_type": "code",
      "metadata": {
        "colab": {
          "base_uri": "https://localhost:8080/"
        },
        "id": "JsuRqzTEg7VU",
        "outputId": "2a17ffc2-00f1-4870-c193-988ae0b30e80"
      },
      "source": [
        "len(df)"
      ],
      "execution_count": 43,
      "outputs": [
        {
          "output_type": "execute_result",
          "data": {
            "text/plain": [
              "1130"
            ]
          },
          "metadata": {
            "tags": []
          },
          "execution_count": 43
        }
      ]
    }
  ]
}